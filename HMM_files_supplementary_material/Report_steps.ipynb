{
 "cells": [
  {
   "cell_type": "markdown",
   "metadata": {
    "colab_type": "text",
    "id": "nwVnWAoXC_TT"
   },
   "source": [
    "# Getting the Data Set\n",
    "\n",
    "Before generating an HMM of the BPTI Kunitz domain is to acquire dataset of protein sequences containing the Kunitz domain. The dataset was acessed from the PDB. We **included** structures of the following properties:\n",
    "\n",
    "1.   **Resolution**: we have chosen structures with a resolution **in the range of 0 - 3 Å**. Structures with higher resolution would **compromise the reliability** of our model. The treashold of **3 Å** is chosen since it can model the interaction bonds and the **distance between two carbons** in the backbone. Hydrogen bonds are crucial for the formation of secondary structures and protein-protein interactions. The **lenghts** of hydrogen bonds depend on the **polar residues** that participate in the interaction which is why we use such a  variable range.\n",
    "\n",
    "2.   **PFAM domain**: we include only proteins that match with the PFAM ID PF00014, associated to Kunitz/Bovine pancreatic trypsin inhibitor (BPTI) domain.\n",
    "\n",
    "3.   **Length of polymer chain**: we include only proteins with a length below 70 aa. Thus we avoid proteins that include the domain in their sequences. We include **merely the domains themselves**. For this step it is critical to research the literature to be able to determine the usual length of this kind of domain.\n",
    "\n",
    "We could also add a filter to exclude mutated proteins - changed to increase stability for crystallization - or the study of pathological variances. In this analysis, we did however not filter for such special cases. Our set contained only few structures with engineered mutations which where in positions that should not compromise our research.\n",
    "\n",
    "**QUERY**: Resolution (Å) = [ 0 - 3 ] AND ( Annotation Identifier = \"PF00014\" AND Annotation Type = \"Pfam\" ) AND Total Number of Polymer Residues (All Deposited Polymer Chains) < 100"
   ]
  },
  {
   "cell_type": "markdown",
   "metadata": {
    "colab_type": "text",
    "id": "Ko1LACK-HeTJ"
   },
   "source": [
    "Setting these options in the Advanced Search of the PDB webpage we end up with 39 protein structures. After that we must download the list of proteins setting as Tabular Report **\"Sequence\"**. The command below extracts the protein ID, the chain and the sequence and create a FASTA format from sequences in PDB. Moreover, we filtered all the structures composed by a number of residues between 50 and 70. After this filtering process there should be 25 structures in the FASTA file.\n",
    "\n",
    "### Filterning for Sequences at Least 50 and Less than 70 Residues Long"
   ]
  },
  {
   "cell_type": "code",
   "execution_count": 9,
   "metadata": {
    "colab": {},
    "colab_type": "code",
    "id": "dZuODnR1Rtl0"
   },
   "outputs": [],
   "source": [
    "sed 's/\\, / /g' kunitz.csv | sed 's/\\\"//g' |awk -F ',' '{if($6>50 && $6<70) print \">\"$1\":\"$2\"\\n\"$5}' > kunitz_pdb.fasta"
   ]
  },
  {
   "cell_type": "code",
   "execution_count": 10,
   "metadata": {},
   "outputs": [
    {
     "name": "stdout",
     "output_type": "stream",
     "text": [
      "      25\n"
     ]
    }
   ],
   "source": [
    "grep \">\" kunitz_pdb.fasta | wc -l "
   ]
  },
  {
   "cell_type": "code",
   "execution_count": 2,
   "metadata": {},
   "outputs": [
    {
     "name": "stdout",
     "output_type": "stream",
     "text": [
      ">3OFW:A\n",
      "EAEASICSEPKKVGRCKGYFPRFYFDSETGKCTPFIYGGCGGNGNNFETLHQCRAICRLG\n",
      ">4PTI:A\n",
      "RPDFCLEPPYTGPCKARIIRYFYNAKAGLCQTFVYGGCRAKRNNFKSAEDCMRTCGGA\n",
      ">6Q61:A\n",
      "KDRPSLCDLPADSGSGTKAEKRIYYNSARKQCLRFDYTGQGGNENNFRRTYDCARTCLYTA\n",
      ">6PTI:A\n",
      "RPDFCLEPPYTGPCKARIIRYFYNAKAGLCQTFVYGGCRAKRNNFKSAEDCMRTCGGA\n",
      ">1QLQ:A\n",
      "RPDFCLEPPYAGACRARIIRYFYNAKAGLCQTFVYGGCRAKRNNFKSAEDCLRTCGGA\n",
      ">1BTI:A\n",
      "RPDFCLEPPYTGPCKARIIRYAYNAKAGLCQTFVYGGCRAKRNNFKSAEDCMRTCGGA\n",
      ">1G6X:A\n",
      "RPDFCLEPPYAGACRARIIRYFYNAKAGLCQTFVYGGCRAKRNNFKSAEDCLRTCGGA\n",
      ">5PTI:A\n",
      "RPDFCLEPPYTGPCKARIIRYFYNAKAGLCQTFVYGGCRAKRNNFKSAEDCMRTCGGA\n",
      ">5YV7:A\n",
      "WQPPWYCKEPVRIGSCKKQFSSFYFKWTAKKCLPFLFSGCGGNANRFQTIGECRKKCLGK\n",
      ">1NAG:A\n",
      "RPDFCLEPPYTGPCKARIIRYFYNAKAGLCQTFVYGGCRAKRGNFKSAEDCMRTCGGA\n",
      ">8PTI:A\n",
      "RPDFCLEPPYTGPCKARIIRYFYNAKAGLCQTFVGGGCRAKRNNFKSAEDCMRTCGGA\n",
      ">7PTI:A\n",
      "RPDFCLEPPYTGPCKARIIRYFYNAKAGLAQTFVYGGCRAKRNNFKSAEDAMRTCGGA\n",
      ">9PTI:A\n",
      "RPDFCLEPPYTGPCKARIIRYFYNAKAGLCQTFVYGGCRAKRNNFKSAEDCMRTCGGA\n",
      ">1DTX:A\n",
      "QPRRKLCILHRNPGRCYDKIPAFYYNQKKKQCERFDWSGCGGNSNRFKTIEECRRTCIG\n",
      ">1FAN:A\n",
      "RPDFCLEPPYTGPCKARIIRYFYNAKAGLCQTFVYGGCRAKRNNAKSAEDCMRTCGGA\n",
      ">1BPT:A\n",
      "RPDFCLEPPYTGPCKARIIRYFANAKAGLCQTFVYGGCRAKRNNFKSAEDCMRTCGGA\n",
      ">1BPI:A\n",
      "RPDFCLEPPYTGPCKARIIRYFYNAKAGLCQTFVYGGCRAKRNNFKSAEDCMRTCGGA\n",
      ">1K6U:A\n",
      "RPDFCLEPPYAGACRARIIRYFYNAKAGLCQTFVYGGCRAKRNNFKSAEDCLRTCGGA\n",
      ">1KNT:A\n",
      "ETDICKLPKDEGTCRDFILKWYYDPNTKSCARFWYGGCGGNENKFGSQKECEKVCAPV\n",
      ">1KTH:A\n",
      "ETDICKLPKDEGTCRDFILKWYYDPNTKSCARFWYGGCGGNENKFGSQKECEKVCAPV\n",
      ">2KNT:A\n",
      "ETDICKLPKDEGTCRDFILKWYYDPNTKSCARFWYGGCGGNENKFGSQKECEKVCAPV\n",
      ">2FK2:A\n",
      "EACKFLHQERMDVCETHLHWHTVAKETCSEKSTNLHDYGMLLPCGIDKFRGVEFVCCPL\n",
      ">2FK1:A\n",
      "EACKFLHQERMDVCETHLHWHTVAKETCSEKSTNLHDYGMLLPCGIDKFRGVEFVCCPL\n",
      ">2FJZ:A\n",
      "EACKFLHQERMDVCETHLHWHTVAKETCSEKSTNLHDYGMLLPCGIDKFRGVEFVCCPL\n",
      ">2FMA:A\n",
      "EACKFLHQERMDVCETHLHWHTVAKETCSEKSTNLHDYGMLLPCGIDKFRGVEFVCCPL\n"
     ]
    }
   ],
   "source": [
    "cat kunitz_pdb.fasta"
   ]
  },
  {
   "cell_type": "markdown",
   "metadata": {
    "colab_type": "text",
    "id": "wQeZEsBQd2ub"
   },
   "source": [
    "### Clustering the Sequences\n",
    "\n",
    "This command allows us to cluster sequences according to the sequence identity (-S) and the lenght of the coverage (-L). Write why we choose 99 and 0.99. There are 14 clusters but in one of them contains proteins of the APP **not the BPTI domain** (see second line of PF00014pdb.clust &rarr; 3rd cell below second line)"
   ]
  },
  {
   "cell_type": "code",
   "execution_count": 1,
   "metadata": {},
   "outputs": [
    {
     "name": "stdout",
     "output_type": "stream",
     "text": [
      "      25\n"
     ]
    }
   ],
   "source": [
    "grep \">\" kunitz_pdb.fasta | wc -l"
   ]
  },
  {
   "cell_type": "code",
   "execution_count": 4,
   "metadata": {
    "colab": {},
    "colab_type": "code",
    "id": "8cWV4hxleN7r"
   },
   "outputs": [
    {
     "name": "stdout",
     "output_type": "stream",
     "text": [
      "May 11, 2020 11:05 PM Start clustering of 25 queries\n"
     ]
    }
   ],
   "source": [
    "~/blast-2.2.26/bin/blastclust -i kunitz_pdb.fasta -o PF0014pdb.clust -S 99 -L 0.99"
   ]
  },
  {
   "cell_type": "code",
   "execution_count": 23,
   "metadata": {},
   "outputs": [
    {
     "name": "stdout",
     "output_type": "stream",
     "text": [
      "1BPI:A 4PTI:A 5PTI:A 6PTI:A 9PTI:A \n",
      "2FJZ:A 2FK1:A 2FK2:A 2FMA:A \n",
      "1G6X:A 1K6U:A 1QLQ:A \n",
      "1KNT:A 1KTH:A 2KNT:A \n",
      "6Q61:A \n",
      "3OFW:A \n",
      "5YV7:A \n",
      "1DTX:A \n",
      "1BPT:A \n",
      "1BTI:A \n",
      "1FAN:A \n",
      "1NAG:A \n",
      "7PTI:A \n",
      "8PTI:A \n"
     ]
    }
   ],
   "source": [
    "# check out how the file looks like:\n",
    "cat PF0014pdb.clust"
   ]
  },
  {
   "cell_type": "markdown",
   "metadata": {},
   "source": [
    "### Choosing the Most Representative or Best Structure of Each Cluster\n",
    "\n",
    "Now we have to choose the **best structure of each cluster**. So we have to check wich of the structures has the lowest (=best) resolution. We downlowaded the csv that includes the [resolution](https://www.rcsb.org/search?request=%7B%22query%22%3A%7B%22type%22%3A%22group%22%2C%22logical_operator%22%3A%22and%22%2C%22nodes%22%3A%5B%7B%22type%22%3A%22group%22%2C%22logical_operator%22%3A%22and%22%2C%22nodes%22%3A%5B%7B%22type%22%3A%22group%22%2C%22logical_operator%22%3A%22and%22%2C%22nodes%22%3A%5B%7B%22type%22%3A%22terminal%22%2C%22service%22%3A%22text%22%2C%22parameters%22%3A%7B%22operator%22%3A%22less_or_equal%22%2C%22negation%22%3Afalse%2C%22value%22%3A3%2C%22attribute%22%3A%22rcsb_entry_info.resolution_combined%22%7D%2C%22node_id%22%3A0%7D%2C%7B%22type%22%3A%22group%22%2C%22logical_operator%22%3A%22and%22%2C%22nodes%22%3A%5B%7B%22type%22%3A%22terminal%22%2C%22service%22%3A%22text%22%2C%22parameters%22%3A%7B%22attribute%22%3A%22rcsb_polymer_entity_annotation.annotation_id%22%2C%22negation%22%3Afalse%2C%22operator%22%3A%22exact_match%22%2C%22value%22%3A%22PF00014%22%7D%2C%22node_id%22%3A1%7D%2C%7B%22type%22%3A%22terminal%22%2C%22service%22%3A%22text%22%2C%22parameters%22%3A%7B%22attribute%22%3A%22rcsb_polymer_entity_annotation.type%22%2C%22operator%22%3A%22exact_match%22%2C%22value%22%3A%22Pfam%22%7D%2C%22node_id%22%3A2%7D%5D%2C%22label%22%3A%22nested-attribute%22%7D%2C%7B%22type%22%3A%22terminal%22%2C%22%22%3A%2275%22%2C%22service%22%3A%22text%22%2C%22parameters%22%3A%7B%22operator%22%3A%22less%22%2C%22negation%22%3Afalse%2C%22value%22%3A80%2C%22attribute%22%3A%22rcsb_entry_info.deposited_polymer_monomer_count%22%7D%2C%22node_id%22%3A3%7D%5D%7D%5D%2C%22label%22%3A%22text%22%7D%5D%2C%22label%22%3A%22query-builder%22%7D%2C%22return_type%22%3A%22entry%22%2C%22request_options%22%3A%7B%22pager%22%3A%7B%22start%22%3A0%2C%22rows%22%3A100%7D%2C%22scoring_strategy%22%3A%22combined%22%2C%22sort%22%3A%5B%7B%22sort_by%22%3A%22rcsb_entry_info.resolution_combined%22%2C%22direction%22%3A%22asc%22%7D%5D%7D%2C%22request_info%22%3A%7B%22src%22%3A%22ui%22%2C%22query_id%22%3A%22ad4cf4dde4c5e69228827549b896acb6%22%7D%7D) and write a script to filter for the sequence with the best resolution of **each cluster**. They are few - so it could also be done manually...\n",
    "\n",
    "### PDBe Fold Multiple Structure Alignment\n",
    "\n",
    "Once we found the **best of each cluster** (only one per cluster), we save them in a single .txt file and go to [PDBe fold](https://www.ebi.ac.uk/msd-srv/ssm/). \n",
    "Check the 'multiple' box and then choose 'List of PDB codes'.\n",
    "Upload the file and click submit query.\n",
    "\n",
    "Then check out the matrices:\n",
    "\n",
    "![](./imgs/1.png)\n",
    "\n",
    "The higher the Q-score the better the similarity. The Q-score depends also on the size of the structure that we align - in our case it is a short domain. \n",
    "\n",
    "![](./imgs/2.png)\n",
    "\n",
    "We examine the sequence id as well - there might be completely wrong seuquences in the set...\n",
    "\n",
    "![](./imgs/3.png)\n",
    "\n",
    "\n",
    "By scrutinizing the .fasta file of the MSA we are able to spot alignments which are **not meaningful**:\n"
   ]
  },
  {
   "cell_type": "code",
   "execution_count": 2,
   "metadata": {},
   "outputs": [
    {
     "name": "stdout",
     "output_type": "stream",
     "text": [
      ">PDB:5pti:A STRUCTURE OF BOVINE PANCREATIC TRYPSIN INHIBITOR. \n",
      "--rpdfcleppytgpckariiryfynakAGLCQTFV-YggcrakrnnfK---SAEDCMRTCGga------\n",
      "-----------------------\n",
      "\n",
      ">PDB:2fma:A STRUCTURE OF THE ALZHEIMER'S AMYLOID PRECURSOR PRO\n",
      "------------------------eackFLHQERMD-Vc---------EthlHWHTVAKETCsekstnlh\n",
      "dygmllpcgidkfrgvefvccpl\n",
      "\n",
      ">PDB:1g6x:A ULTRA HIGH RESOLUTION STRUCTURE OF BOVINE PANCREAT\n",
      "--rpdfcleppyagacrariiryfynakAGLCQTFV-YggcrakrnnfK---SAEDCLRTCGga------\n",
      "-----------------------\n",
      "\n",
      ">PDB:1kth:A THE ANISOTROPIC REFINEMENT OF KUNITZ TYPE DOMAIN C\n",
      "--etdicklpkdegtcrdfilkwyydpnTKSCARFW-YggcggnenkfG---SQKECEKVCApv------\n",
      "-----------------------\n",
      "\n",
      ">PDB:6q61:A PORE-MODULATING TOXINS EXPLOIT INHERENT SLOW INACT\n",
      "-drpslcdlpadsgsgtkaekriyynsaRKQCLRFD-YtgqggnennfR---RTYDCARTCLyt------\n",
      "-----------------------\n",
      "\n",
      ">PDB:3ofw:A CRYSTAL STRUCTURE OF RECOMBINANT KUNITZ TYPE SERIN\n",
      "--easicsepkkvgrckgyfprfyfdseTGKCTPFI-YggcggngnnfE---TLHQCRAICR--------\n",
      "-----------------------\n",
      "\n",
      ">PDB:5yv7:A RACEMIC X-RAY STRUCTURE OF CALCICLUDINE\n",
      "wqppwyckepvrigsckkqfssfyfkwtAKKCLPFL-FsgcggnanrfQ---TIGECRKKCLgk------\n",
      "-----------------------\n",
      "\n",
      ">PDB:1dtx:A CRYSTAL STRUCTURE OF ALPHA-DENDROTOXIN FROM THE GR\n",
      "eprrklcilhrnpgrcydkipafyynqkKKQCERFD-WsgcggnsnrfK---TIEECRRTCIg-------\n",
      "-----------------------\n",
      "\n",
      ">PDB:1bpt:A CREVICE-FORMING MUTANTS OF BPTI: CRYSTAL STRUCTURE\n",
      "--rpdfcleppytgpckariiryfanakAGLCQTFV-YggcrakrnnfK---SAEDCMRTCG--------\n",
      "-----------------------\n",
      "\n",
      ">PDB:1bti:A CREVICE-FORMING MUTANTS IN THE RIGID CORE OF BOVIN\n",
      "--rpdfcleppytgpckariiryaynakAGLCQTFV-YggcrakrnnfK---SAEDCMRTCGga------\n",
      "-----------------------\n",
      "\n",
      ">PDB:1fan:A CREVICE-FORMING MUTANTS IN THE RIGID CORE OF BOVIN\n",
      "--rpdfcleppytgpckariiryfynakAGLCQTFV-YggcrakrnnaK---SAEDCMRTCGga------\n",
      "-----------------------\n",
      "\n",
      ">PDB:1nag:A CREVICE-FORMING MUTANTS IN THE RIGID CORE OF BOVIN\n",
      "--rpdfcleppytgpckariiryfynakAGLCQTFV-YggcrakrgnfK---SAEDCMRTCG--------\n",
      "-----------------------\n",
      "\n",
      ">PDB:7pti:A STRUCTURAL EFFECTS INDUCED BY REMOVAL OF A DISULFI\n",
      "--rpdfcleppytgpckariiryfynakAGLAQTFV-YggcrakrnnfK---SAEDAMRTCGga------\n",
      "-----------------------\n",
      "\n",
      ">PDB:8pti:A CRYSTAL STRUCTURE OF A Y35G MUTANT OF BOVINE PANCR\n",
      "--rpdfcleppytgpckariiryfynakAGLCQTFVgGgcrak-rnnfK---SAEDCMRTCGga------\n",
      "-----------------------\n"
     ]
    }
   ],
   "source": [
    "cat aln_all_clusters.fasta.seq\n"
   ]
  },
  {
   "cell_type": "markdown",
   "metadata": {},
   "source": [
    "### One Sequence does NOT Contain BPTI Domain\n",
    "\n",
    "After inspecting the ``` aln_all_clusters.fasta.seq``` file, we found one seq that contains the **APP** but **not** the BPTI. This sequence ('2FMA') is responsible for the bad alignment which is why it must be removed. "
   ]
  },
  {
   "cell_type": "markdown",
   "metadata": {},
   "source": [
    "### Removing Sequences that Don't Fit\n",
    "\n",
    "We have to change the list of best clusters and remove 2FMA and re run the PDB fold with the updated list (```final_cluster_for_PDB_fold```). \n",
    "\n",
    "The new file contains a much better alignment :- see image below:\n",
    "\n",
    "* Redo the clustering without the APP cluster --> there are no changes in the clusters.\n",
    "* Show the HMM LOGO\n",
    "\n",
    "![](./imgs/4.png)\n",
    "\n",
    "redoing the clusterning with the BPTI only file:"
   ]
  },
  {
   "cell_type": "code",
   "execution_count": 20,
   "metadata": {},
   "outputs": [
    {
     "name": "stdout",
     "output_type": "stream",
     "text": [
      "May 10, 2020  5:09 PM Start clustering of 25 queries\n"
     ]
    }
   ],
   "source": [
    "~/blast-2.2.26/bin/blastclust -i kunitz_pdb.fasta -o PF0014pdb.clust -S 30"
   ]
  },
  {
   "cell_type": "code",
   "execution_count": 10,
   "metadata": {},
   "outputs": [
    {
     "name": "stdout",
     "output_type": "stream",
     "text": [
      "tmpseq_1 tmpseq_10 tmpseq_11 tmpseq_16 tmpseq_17 tmpseq_18 tmpseq_2 tmpseq_3 tmpseq_4 tmpseq_5 tmpseq_7 \n",
      "tmpseq_20 tmpseq_21 tmpseq_22 tmpseq_23 \n",
      "tmpseq_12 tmpseq_15 tmpseq_8 \n",
      "tmpseq_13 tmpseq_14 tmpseq_24 \n",
      "tmpseq_9 \n",
      "tmpseq_0 \n",
      "tmpseq_19 \n",
      "tmpseq_6 \n"
     ]
    }
   ],
   "source": [
    "# check again how the new clusters look like:\n",
    "cat seqfile.clust"
   ]
  },
  {
   "cell_type": "markdown",
   "metadata": {},
   "source": [
    "### Removing it from the File Used for Clustering aswell:\n",
    "first keeping one safety copy of the original ```file kunitz_pdb.fasta``` and only changeing that one\n",
    "\n",
    "``` cp kunitz_pdb.fasta bpti_only_pdb.fasta```\n",
    "\n",
    "``` head -42 bpti_only_pdb.fasta > only_bpti_pdb.fasta ``` this retaines only the sequences from line 1-42 the **4 APP seq are discared**.\n",
    "\n",
    "Deleted ```bpti_only_pdb.fasta``` to avoid confusion with the new shorter file.\n",
    "\n",
    "**``` final_cluster_for_PDB_fold ``` is the output of the second alignment with PDB_fold with only BPTI input**"
   ]
  },
  {
   "cell_type": "markdown",
   "metadata": {},
   "source": [
    "### 'Cleaning' the Data\n",
    "\n",
    "But first well turn all letters into capitals "
   ]
  },
  {
   "cell_type": "code",
   "execution_count": 5,
   "metadata": {},
   "outputs": [],
   "source": [
    "awk '{print toupper($1)}' newPDBfold_only_real_ones.fasta > bpti-kunitz-aln-clean.fasta \n"
   ]
  },
  {
   "cell_type": "code",
   "execution_count": 3,
   "metadata": {},
   "outputs": [
    {
     "name": "stdout",
     "output_type": "stream",
     "text": [
      ">PDB:5PTI:A\n",
      "--RPDFCLEPP-YTGPCKARIIRYFYNAKAGLCQTFVYGGCRA-KRNNFKSAEDCMRTCGGA\n",
      ">PDB:1G6X:A\n",
      "--RPDFCLEPP-YAGACRARIIRYFYNAKAGLCQTFVYGGCRA-KRNNFKSAEDCLRTCGGA\n",
      ">PDB:1KTH:A\n",
      "--ETDICKLPK-DEGTCRDFILKWYYDPNTKSCARFWYGGCGG-NENKFGSQKECEKVCAPV\n",
      ">PDB:6Q61:A\n",
      "-DRPSLCDLPA-DSGSGTKAEKRIYYNSARKQCLRFDYTGQGG-NENNFRRTYDCARTCLYT\n",
      ">PDB:3OFW:A\n",
      "--EASICSEPK-KVGRCKGYFPRFYFDSETGKCTPFIYGGCGG-NGNNFETLHQCRAICR--\n",
      ">PDB:5YV7:A\n",
      "WQPPWYCKEPV-RIGSCKKQFSSFYFKWTAKKCLPFLFSGCGG-NANRFQTIGECRKKCLGK\n",
      ">PDB:1DTX:A\n",
      "EPRRKLCILHR-NPGRCYDKIPAFYYNQKKKQCERFDWSGCGG-NSNRFKTIEECRRTCIG-\n",
      ">PDB:1BPT:A\n",
      "--RPDFCLEPP-YTGPCKARIIRYFANAKAGLCQTFVYGGCRA-KRNNFKSAEDCMRTCG--\n",
      ">PDB:1BTI:A\n",
      "--RPDFCLEPP-YTGPCKARIIRYAYNAKAGLCQTFVYGGCRA-KRNNFKSAEDCMRTCGGA\n",
      ">PDB:1FAN:A\n",
      "--RPDFCLEPP-YTGPCKARIIRYFYNAKAGLCQTFVYGGCRA-KRNNAKSAEDCMRTCGGA\n",
      ">PDB:1NAG:A\n",
      "--RPDFCLEPP-YTGPCKARIIRYFYNAKAGLCQTFVYGGCRA-KRGNFKSAEDCMRTCG--\n",
      ">PDB:7PTI:A\n",
      "--RPDFCLEPP-YTGPCKARIIRYFYNAKAGLAQTFVYGGCRA-KRNNFKSAEDAMRTCGGA\n",
      ">PDB:8PTI:A\n",
      "--RPDFCLEPPYT-GPCKARIIRYFYNAKAGLCQTFVGGGC-RAKRNNFKSAEDCMRTCGGA\n",
      "      13\n"
     ]
    }
   ],
   "source": [
    "cat bpti-kunitz-aln-clean.fasta\n",
    "cp bpti-kunitz-aln-clean.fasta kunitz_pdb_hmm_input.fasta #making copy with name that indicates \n",
    "#that I'll later use it for hmmer  \n",
    "\n",
    "grep '>' bpti-kunitz-aln-clean.fasta | wc -l # APP cluster was REMOVED it does not belong to the PF00014\n",
    "\n",
    "# 2FMA, 2FJZ, 2FK1, 2FK2, 1FAN removed"
   ]
  },
  {
   "cell_type": "markdown",
   "metadata": {},
   "source": [
    "### Generating a Profile Hidden Markov Model Based on Structural Alignment\n",
    "Now that we have a 'cleaned' seed file we will run the HMM build. This generates our HMM based on strucutral alignment\n",
    "\n",
    "```hmmbuild <outfile> <infile>```\n"
   ]
  },
  {
   "cell_type": "code",
   "execution_count": 7,
   "metadata": {},
   "outputs": [
    {
     "name": "stdout",
     "output_type": "stream",
     "text": [
      "# hmmbuild :: profile HMM construction from multiple sequence alignments\n",
      "# HMMER 3.3 (Nov 2019); http://hmmer.org/\n",
      "# Copyright (C) 2019 Howard Hughes Medical Institute.\n",
      "# Freely distributed under the BSD open source license.\n",
      "# - - - - - - - - - - - - - - - - - - - - - - - - - - - - - - - - - - - -\n",
      "# input alignment file:             bpti-kunitz-aln-clean.fasta\n",
      "# output HMM file:                  bpti-kunitz.hmm\n",
      "# - - - - - - - - - - - - - - - - - - - - - - - - - - - - - - - - - - - -\n",
      "\n",
      "# idx name                  nseq  alen  mlen eff_nseq re/pos description\n",
      "#---- -------------------- ----- ----- ----- -------- ------ -----------\n",
      "1     bpti-kunitz-aln-clean    13    62    58     1.72  0.961 \n",
      "\n",
      "# CPU time: 0.09u 0.01s 00:00:00.10 Elapsed: 00:00:00.29\n"
     ]
    }
   ],
   "source": [
    "#hmmbuild bpti-kunitz.hmm bpti-kunitz-aln-clean.fasta"
   ]
  },
  {
   "cell_type": "markdown",
   "metadata": {},
   "source": [
    "### Checking the Model\n",
    "\n",
    "Now we can see that the model is 58 matches (=lenght of our aln) and it has all the info about the positions of the transitons\n",
    "\n",
    "![](./imgs/5.png)"
   ]
  },
  {
   "cell_type": "markdown",
   "metadata": {
    "colab_type": "text",
    "id": "MT6f55O8f8kr"
   },
   "source": [
    "Extract the protein structure ID + chain from the first member of each cluster "
   ]
  },
  {
   "cell_type": "markdown",
   "metadata": {},
   "source": [
    "### Generating the Sequence Logo \n",
    "\n",
    "Go to [skylign.org](http://skylign.org/) and upload your  .hmmer file. And check the box 'information content all' \n",
    "\n",
    "![](./imgs/6.png)\n",
    "\n",
    "You can choose either \"A static image of the logo scaled to the theoretical maximum height.\" In my case that logo looks like this: \n",
    "\n",
    "![](./imgs/logo_scaled_to_max.png)\n",
    "\n",
    "Or \"A static image of the logo\" \n",
    "![](./imgs/static.png)\n",
    "\n",
    "By studying the seq logo - we can see that the 6 cysteins are there. The ones that are important for keeping the structure compact are there. Then there other sites that are potentially important for the function of the protein such as the tyrosines (Y). But the cysteins seem to be the most important ones.\n",
    "\n",
    "\n",
    "May include more options... We kept the hmm command  very basic we may include **more options**"
   ]
  },
  {
   "cell_type": "markdown",
   "metadata": {},
   "source": [
    "#### Questions\n",
    "\n",
    "Lorenzo: \"OK what about the performance.py script? My performance.py script is running and i botained as best values, both for train and test 10-11\" Prof Capriotti deems the value acceptable.\n"
   ]
  },
  {
   "cell_type": "markdown",
   "metadata": {
    "colab_type": "text",
    "id": "JFi4-bouPmJE"
   },
   "source": [
    "## Retrieving the Positive Set\n",
    "\n",
    "We have to create the **positive** and **negative** datasets. The positive dataset **includes all proteins** that **contain Kunitz** domains within their structures, while the **negative** dataset is composed of proteins that do **not include** it. The input of the advanced search is:\n",
    "* Cross-references > Family and domain databases > Pfam\n",
    " (PF00014)\n",
    "* Reviewed > Reviewed\n",
    "\n",
    "We retrieved **359** entries that contain the kunitz domain. \n",
    "\n"
   ]
  },
  {
   "cell_type": "code",
   "execution_count": 1,
   "metadata": {},
   "outputs": [
    {
     "name": "stdout",
     "output_type": "stream",
     "text": [
      "     359\n"
     ]
    }
   ],
   "source": [
    "grep '>' all_PF00014.fasta | wc -l | cat"
   ]
  },
  {
   "cell_type": "code",
   "execution_count": 6,
   "metadata": {},
   "outputs": [
    {
     "name": "stdout",
     "output_type": "stream",
     "text": [
      ">sp|Q95241|A4_SAISC Amyloid-beta A4 protein OS=Saimiri sciureus OX=9521 GN=APP PE=2 SV=1\n",
      "MLPGLALLLLAAWTARALEVPTDGNAGLLAEPQIAMFCGRLNMHMNVQNGKWDSDPSGTK\n",
      "TCIDTKEGILQYCQEVYPELQITNVVEANQPVTIQNWCKRDRKQCKTHPHIVIPYRCLVG\n",
      "EFVSDALLVPDKCKFLHQERMDVCETHLHWHTVAKETCSEKSTNLHDYGMLLPCGIDKFR\n",
      "GVEFVCCPLAEESDHVDSADAEEDDSDVWWGGADTDYADGSEDKVVEVAEEEEVAEVEEE\n",
      "EADDDEDDEDGDEVEEEAEEPYEEATERTTSIATTTTTTTESVEEVVREVCSEQAETGPC\n",
      "RAMISRWYFDVTEGKCAPFFYGGCGGNRNNFDTEEYCMAVCGSVIPTTAASTPDAVDKYL\n",
      "ETPGDENEHAHFQKAKERLEAKHRERMSQVMREWEEAERQAKNLPKADKKAVIQHFQEKV\n",
      "ESLEQEAANERQQLVETHMARVEAMLNDRRRLALENYITALQAVPPRPRHVFNMLKKYVR\n",
      "AEQKDRQHTLKHFEHVRMVDPKKAAQIRSQVMTHLRVIYERMNQSLSLLYNVPAVAEEIQ\n"
     ]
    }
   ],
   "source": [
    "head all_PF00014.fasta"
   ]
  },
  {
   "cell_type": "markdown",
   "metadata": {},
   "source": [
    "## Retrieving the Negative Set\n",
    "\n",
    "The **negative set** was retrieved from UniProt with the following query:\n",
    "* NOT Cross-references > Family and domain databases > Pfam\n",
    " (PF00014)\n",
    "* Reviewed > Reviewed\n",
    "* search term ```NOT database:(type:pfam pf00014) AND reviewed:yes```\n",
    "\n",
    "The search returned **561894** entries."
   ]
  },
  {
   "cell_type": "code",
   "execution_count": 11,
   "metadata": {},
   "outputs": [
    {
     "name": "stdout",
     "output_type": "stream",
     "text": [
      ">sp|Q4R8P0|ABHGA_MACFA Phosphatidylserine lipase ABHD16A OS=Macaca fascicularis OX=9541 GN=ABHD16A PE=2 SV=1\n",
      "MAKLLSCVLGPRLYKIYRERDSERAPASVPETPTAVTAPHSSSWDTYYQPRALEKHADSI\n",
      "LALASVFWSISYYSSPFAFFYLYRKGYLSLSKVVPFSHYAGTLLLLLAGVACLRGIGRWT\n",
      "NPQYRQFITILEATHRNQSSENKRQLANYNFDFRSWPVDFHWEEPSSRKESRGGPSRRGV\n",
      "ALLRPEPLHRGTADTLLNRVKKLPCQITSYLVAHTLGRRMLYPGSVYLLQKALMPVLLQG\n",
      "QARLVEECNGRRAKLLACDGNEIDTMFVDRRGTAQPQGQKLVICCEGNAGFYEVGCISTP\n",
      "LEAGYSVLGWNHPGFAGSTGVPFPQNEANAMDVVVQFAIHRLGFQPQDIIIYAWSIGGFT\n",
      "ATWAAMSYPDVSAVILDASFDDLVPLALKVMPDSWRGLVTRTVRQHLNLNNAEQLCRYLG\n",
      "PVLLIRRTKDEIITTTVPEDIMSNRGNDLLLKLLQHRYPRVMAEEGLQVVRQWLEASSQL\n",
      "EEASIYSRWEVEEDWCLSVLRSYQAEHGPDFPWSVGEDMSADGRRQLALFLARKHLHNFE\n"
     ]
    }
   ],
   "source": [
    "head NOT_PF00014.fasta "
   ]
  },
  {
   "cell_type": "code",
   "execution_count": 4,
   "metadata": {},
   "outputs": [
    {
     "name": "stdout",
     "output_type": "stream",
     "text": [
      "  561894\n"
     ]
    }
   ],
   "source": [
    "grep '>' NOT_PF00014.fasta | wc -l"
   ]
  },
  {
   "cell_type": "markdown",
   "metadata": {},
   "source": [
    "### Changing the Format of Positive and Negative Set\n",
    "\n",
    "This command is to change the header of the positive set we retrieved from uniprot:\n",
    "```awk if the substring($0,1,1)==\">\" ```  ...If substring of  $0(='whole line of arguments) from el 1 to el 1 (first char) == '>' \n",
    "\n",
    "```\n",
    "{split ($0,a,\"|\")     $0 (=whole line), defining **a** as my var and split on '|' **returns list** of elemets (that is containd in **var a**)\n",
    "```\n",
    "the colon indicates end of cmd\n",
    "\n",
    "```\n",
    "; <to start a new statement> print '>'a[2]} ``` ... # print > and element 2 of list  beware that indexing here starts at 1 (not 0) ... so if we are in the col that contains the id ('>') print \">\" and a[2] else just print the seq..."
   ]
  },
  {
   "cell_type": "code",
   "execution_count": 2,
   "metadata": {},
   "outputs": [],
   "source": [
    "awk '{if (substr($0,1,1)==\">\"){split($0,a,\"|\"); print \">\"a[2]} else {print $0}}' all_PF00014.fasta | less > positive_set.fasta\n"
   ]
  },
  {
   "cell_type": "code",
   "execution_count": 7,
   "metadata": {},
   "outputs": [
    {
     "name": "stdout",
     "output_type": "stream",
     "text": [
      ">Q95241\n",
      "MLPGLALLLLAAWTARALEVPTDGNAGLLAEPQIAMFCGRLNMHMNVQNGKWDSDPSGTK\n",
      "TCIDTKEGILQYCQEVYPELQITNVVEANQPVTIQNWCKRDRKQCKTHPHIVIPYRCLVG\n",
      "EFVSDALLVPDKCKFLHQERMDVCETHLHWHTVAKETCSEKSTNLHDYGMLLPCGIDKFR\n",
      "GVEFVCCPLAEESDHVDSADAEEDDSDVWWGGADTDYADGSEDKVVEVAEEEEVAEVEEE\n",
      "EADDDEDDEDGDEVEEEAEEPYEEATERTTSIATTTTTTTESVEEVVREVCSEQAETGPC\n",
      "RAMISRWYFDVTEGKCAPFFYGGCGGNRNNFDTEEYCMAVCGSVIPTTAASTPDAVDKYL\n",
      "ETPGDENEHAHFQKAKERLEAKHRERMSQVMREWEEAERQAKNLPKADKKAVIQHFQEKV\n",
      "ESLEQEAANERQQLVETHMARVEAMLNDRRRLALENYITALQAVPPRPRHVFNMLKKYVR\n",
      "AEQKDRQHTLKHFEHVRMVDPKKAAQIRSQVMTHLRVIYERMNQSLSLLYNVPAVAEEIQ\n"
     ]
    }
   ],
   "source": [
    "head positive_set.fasta"
   ]
  },
  {
   "cell_type": "code",
   "execution_count": 3,
   "metadata": {
    "colab": {},
    "colab_type": "code",
    "id": "A27Z0DGSaCQR"
   },
   "outputs": [],
   "source": [
    "awk '{if (substr($0,1,1)==\">\"){split($0,a,\"|\"); print \">\"a[2]} else {print $0}}' NOT_PF00014.fasta | less > negative_set.fasta\n"
   ]
  },
  {
   "cell_type": "code",
   "execution_count": 15,
   "metadata": {},
   "outputs": [
    {
     "name": "stdout",
     "output_type": "stream",
     "text": [
      ">Q4R8P0\n",
      "MAKLLSCVLGPRLYKIYRERDSERAPASVPETPTAVTAPHSSSWDTYYQPRALEKHADSI\n",
      "LALASVFWSISYYSSPFAFFYLYRKGYLSLSKVVPFSHYAGTLLLLLAGVACLRGIGRWT\n",
      "NPQYRQFITILEATHRNQSSENKRQLANYNFDFRSWPVDFHWEEPSSRKESRGGPSRRGV\n",
      "ALLRPEPLHRGTADTLLNRVKKLPCQITSYLVAHTLGRRMLYPGSVYLLQKALMPVLLQG\n",
      "QARLVEECNGRRAKLLACDGNEIDTMFVDRRGTAQPQGQKLVICCEGNAGFYEVGCISTP\n",
      "LEAGYSVLGWNHPGFAGSTGVPFPQNEANAMDVVVQFAIHRLGFQPQDIIIYAWSIGGFT\n",
      "ATWAAMSYPDVSAVILDASFDDLVPLALKVMPDSWRGLVTRTVRQHLNLNNAEQLCRYLG\n",
      "PVLLIRRTKDEIITTTVPEDIMSNRGNDLLLKLLQHRYPRVMAEEGLQVVRQWLEASSQL\n",
      "EEASIYSRWEVEEDWCLSVLRSYQAEHGPDFPWSVGEDMSADGRRQLALFLARKHLHNFE\n",
      "ATHCTPLPAQNFQMPWHL\n",
      ">P03949\n",
      "MGHSHSTGKEINDNELFTCEDPVFDQPVASPKSEISSKLAEEIERSKSPLILEVSPRTPD\n",
      "SVQMFRPTFDTFRPPNSDSSTFRGSQSREDLVACSSMNSVNNVHDMNTVSSSSSSSAPLF\n",
      "VALYDFHGVGEEQLSLRKGDQVRILGYNKNNEWCEARLYSTRKNDASNQRRLGEIGWVPS\n",
      "NFIAPYNSLDKYTWYHGKISRSDSEAILGSGITGSFLVRESETSIGQYTISVRHDGRVFH\n",
      "YRINVDNTEKMFITQEVKFRTLGELVHHHSVHADGLICLLMYPASKKDKGRGLFSLSPNA\n",
      "PDEWELDRSEIIMHNKLGGGQYGDVYEGYWKRHDCTIAVKALKEDAMPLHEFLAEAAIMK\n",
      "DLHHKNLVRLLGVCTHEAPFYIITEFMCNGNLLEYLRRTDKSLLPPIILVQMASQIASGM\n",
      "SYLEARHFIHRDLAARNCLVSEHNIVKIADFGLARFMKEDTYTAHAGAKFPIKWTAPEGL\n",
      "\n",
      "number of sequences in negative_set.fasta\n",
      "  561894\n"
     ]
    }
   ],
   "source": [
    "head -20 negative_set.fasta\n",
    "echo ''\n",
    "echo 'number of sequences in negative_set.fasta'\n",
    "grep \">\" negative_set.fasta | wc -l | cat"
   ]
  },
  {
   "cell_type": "markdown",
   "metadata": {
    "colab_type": "text",
    "id": "4u8zfkunaI65"
   },
   "source": [
    "### Creating DB and BLAST seach to Find Proteins Already Used in HMM Building\n",
    "\n",
    "(21.04.2020)\n",
    "\n",
    "* first we generate a database (format db) the positive set.\n",
    "* then we run BLAST on the 359 seqs (positive_set.fasta) with of the pdb and remove all sequences that have and E-value that is higher than a given threshold.\n",
    "\n",
    "We have to **remove** the sequences that were used for the **MSA for the positive**. Keeping them in the testing set would bias the results!!! So we transform the positive set into a database in order to blast the sequences from the MSA to them."
   ]
  },
  {
   "cell_type": "code",
   "execution_count": 19,
   "metadata": {},
   "outputs": [
    {
     "name": "stdout",
     "output_type": "stream",
     "text": [
      "     359\n"
     ]
    }
   ],
   "source": [
    "grep \">\" positive_set.fasta | wc -l"
   ]
  },
  {
   "cell_type": "code",
   "execution_count": null,
   "metadata": {},
   "outputs": [],
   "source": [
    "# all 359 BPTI sequences \n",
    "formatdb -i positive_set.fasta"
   ]
  },
  {
   "cell_type": "code",
   "execution_count": 5,
   "metadata": {
    "colab": {},
    "colab_type": "code",
    "id": "q3k8mIUKaRer"
   },
   "outputs": [],
   "source": [
    "# kunitz_pdb_hmm_input.fasta contains 13 structures\n",
    "blastpgp -i kunitz_pdb_hmm_input.fasta -d positive_set.fasta -m 8 -e 0.001 -o positive_set.bl8"
   ]
  },
  {
   "cell_type": "markdown",
   "metadata": {
    "colab": {},
    "colab_type": "code",
    "id": "fjTgT3EYhOLt"
   },
   "source": [
    "Now doing the same again but with all BPTI structures from the PDB to see if there is a difference between the outcome from above"
   ]
  },
  {
   "cell_type": "code",
   "execution_count": 3,
   "metadata": {},
   "outputs": [],
   "source": [
    "# only_bpti_pdb.fasta contains 21 structures\n",
    "blastpgp -i only_bpti_pdb.fasta -d positive_set.fasta -m 8 -e 0.001 -o positive_set_2.bl8"
   ]
  },
  {
   "cell_type": "code",
   "execution_count": 4,
   "metadata": {},
   "outputs": [
    {
     "name": "stdout",
     "output_type": "stream",
     "text": [
      "      13\n"
     ]
    }
   ],
   "source": [
    "# tail -10 kunitz_pdb_hmm_input.fasta\n",
    "grep \":\" kunitz_pdb_hmm_input.fasta | wc -l "
   ]
  },
  {
   "cell_type": "code",
   "execution_count": 12,
   "metadata": {},
   "outputs": [
    {
     "name": "stdout",
     "output_type": "stream",
     "text": [
      "PDB:8PTI:A\tQ868Z9\t30.19\t53\t37\t0\t3\t55\t1788\t1840\t3e-05\t36.2\n",
      "PDB:8PTI:A\tP00982\t41.82\t55\t32\t0\t3\t57\t3\t57\t4e-08\t45.4\n",
      "PDB:8PTI:A\tP36992\t39.22\t51\t31\t0\t5\t55\t236\t286\t4e-08\t45.4\n",
      "PDB:8PTI:A\tP82968\t37.74\t53\t33\t0\t3\t55\t142\t194\t4e-08\t45.1\n",
      "PDB:8PTI:A\tP0C5J5\t37.74\t53\t33\t0\t3\t55\t361\t413\t5e-08\t45.1\n",
      "PDB:8PTI:A\tD2Y488\t41.07\t56\t33\t0\t1\t56\t21\t76\t5e-08\t45.1\n",
      "PDB:8PTI:A\tB5KL29\t35.09\t57\t37\t0\t1\t57\t27\t83\t5e-08\t45.1\n",
      "PDB:8PTI:A\tP19859\t36.36\t55\t35\t0\t1\t55\t1\t55\t5e-08\t45.1\n",
      "PDB:8PTI:A\tP0DL86\t36.54\t52\t33\t0\t4\t55\t3\t54\t5e-08\t45.1\n",
      "PDB:8PTI:A\tB5L5Q1\t38.60\t57\t35\t0\t1\t57\t27\t83\t6e-08\t44.7\n",
      "PDB:8PTI:A\tD2Y490\t41.07\t56\t33\t0\t1\t56\t3\t58\t6e-08\t44.7\n",
      "PDB:8PTI:A\tB5KL27\t35.09\t57\t37\t0\t1\t57\t27\t83\t7e-08\t44.3\n",
      "PDB:8PTI:A\tP12111\t31.48\t54\t37\t0\t3\t56\t3110\t3163\t8e-08\t44.3\n",
      "PDB:8PTI:A\tP81162\t33.33\t54\t36\t0\t5\t58\t8\t61\t1e-07\t43.9\n",
      "PDB:8PTI:A\tP81906\t44.68\t47\t26\t0\t5\t51\t5\t51\t1e-07\t43.5\n",
      "PDB:8PTI:A\tG9I929\t36.21\t58\t36\t1\t1\t57\t27\t84\t1e-07\t43.5\n",
      "PDB:8PTI:A\tQ96NZ8\t39.62\t53\t32\t0\t3\t55\t357\t409\t1e-07\t43.5\n",
      "PDB:8PTI:A\tQ96NZ8\t30.43\t46\t32\t0\t11\t56\t307\t352\t8e-05\t34.3\n",
      "PDB:8PTI:A\tP0DJ49\t37.25\t51\t32\t0\t5\t55\t4\t54\t2e-07\t43.1\n",
      "PDB:8PTI:A\tB5KL28\t35.09\t57\t37\t0\t1\t57\t27\t83\t2e-07\t42.7\n"
     ]
    }
   ],
   "source": [
    "tail -20 positive_set.bl8"
   ]
  },
  {
   "cell_type": "markdown",
   "metadata": {
    "colab_type": "text",
    "id": "1akBsxTdhUtU"
   },
   "source": [
    "### Analyzing the BLAST Outfile\n",
    "\n",
    "\n",
    "Analyse the BLAST search \n",
    "\n",
    "and eliminate the proteins that have a sequence ID above a decided threashold. The threashold is chosen according to how rigid we want to be in eliminating similar sequences. As we want to keep the dataset as large as possible we decided to eliminate just the sequences that are 99% identical to the ones used for the HMM. We have retrieved 11 sequences with 10% sequence identity."
   ]
  },
  {
   "cell_type": "code",
   "execution_count": 19,
   "metadata": {
    "colab": {},
    "colab_type": "code",
    "id": "9O97361Bg1He"
   },
   "outputs": [
    {
     "name": "stdout",
     "output_type": "stream",
     "text": [
      "       4       4      44\n"
     ]
    }
   ],
   "source": [
    "# so these are the ones that are redundant\n",
    "awk '{if ($3>=100) print $1}' positive_set.bl8 | sort -u | wc\n"
   ]
  },
  {
   "cell_type": "markdown",
   "metadata": {
    "colab_type": "text",
    "id": "bI71zHUu7Qh_"
   },
   "source": [
    "In this way we extract the protein ID to eliminate and we add them in a file."
   ]
  },
  {
   "cell_type": "code",
   "execution_count": 11,
   "metadata": {
    "colab": {},
    "colab_type": "code",
    "id": "LWTol7FBdzkC"
   },
   "outputs": [],
   "source": [
    "awk '{if ($3>=100) print $2}' positive_set.bl8 | sort -u > IDs_of_eliminated.txt"
   ]
  },
  {
   "cell_type": "code",
   "execution_count": 12,
   "metadata": {},
   "outputs": [],
   "source": [
    "awk '{if ($3>=100) print $2}' positive_set_2.bl8 | sort -u > IDs_of_eliminated2.txt"
   ]
  },
  {
   "cell_type": "code",
   "execution_count": 13,
   "metadata": {},
   "outputs": [
    {
     "name": "stdout",
     "output_type": "stream",
     "text": [
      "P00974\n",
      "P12111\n",
      "P31713\n",
      "P81658\n"
     ]
    }
   ],
   "source": [
    "head IDs_of_eliminated.txt"
   ]
  },
  {
   "cell_type": "code",
   "execution_count": 15,
   "metadata": {},
   "outputs": [],
   "source": [
    "awk '{if ($3>=100) print $2}' positive_set.bl8 | sort -u > IDs_of_eliminated2.txt"
   ]
  },
  {
   "cell_type": "code",
   "execution_count": 17,
   "metadata": {},
   "outputs": [
    {
     "name": "stdout",
     "output_type": "stream",
     "text": [
      "P00974\n",
      "P12111\n",
      "P31713\n",
      "P81658\n"
     ]
    }
   ],
   "source": [
    "head IDs_of_eliminated2.txt"
   ]
  },
  {
   "cell_type": "markdown",
   "metadata": {},
   "source": [
    "So it doesnt make a difference weather you use the file of the best representative of the cluster of pdb structures ```kunitz_pdb_hmm_input.fasta``` or all pdb structures (except APP) ``` only_bpti_pdb.fasta ```\n"
   ]
  },
  {
   "cell_type": "markdown",
   "metadata": {
    "colab_type": "text",
    "id": "SCZZa2xfd4np"
   },
   "source": [
    "Then we use this script to eliminate the proteins that have a sequence  identity => 100%. The program takes as input the file and a list of protein IDs that will be ignored in the copy of the file."
   ]
  },
  {
   "cell_type": "code",
   "execution_count": null,
   "metadata": {
    "colab": {},
    "colab_type": "code",
    "id": "taW6gKCYldws"
   },
   "outputs": [],
   "source": [
    "#!/usr/bin/python\n",
    "import sys\n",
    "\n",
    "\n",
    "def get_ids(idfile):\n",
    "\tids = open(idfile).read().rstrip().split()\n",
    "\treturn ids\n",
    "\n",
    "def print_seq(ids, dbfile):\n",
    "\tcount = 0\n",
    "\twith open(dbfile,'r') as fdb:\t#with is better then just open\n",
    "\t\tfor line in fdb:\n",
    "\t\t\tif line[0] == '>':\n",
    "\t\t\t\t#pid=line.split('|')[1]\n",
    "\t\t\t\tpid = line[1:].rstrip()\n",
    "\t\t\tif pid not in ids:\n",
    "\t\t\t\tprint (line.rstrip())\n",
    "\n",
    "\n",
    "if __name__ == '__main__':\n",
    "\tidfile=sys.argv[1]\n",
    "\tdbfile = sys.argv[2]\n",
    "\tids = get_ids(idfile)\n",
    "\tprint_seq(ids, dbfile)\n"
   ]
  },
  {
   "cell_type": "code",
   "execution_count": 3,
   "metadata": {},
   "outputs": [
    {
     "name": "stdout",
     "output_type": "stream",
     "text": [
      "     359\n"
     ]
    }
   ],
   "source": [
    "grep '>' positive_set.fasta |wc -l"
   ]
  },
  {
   "cell_type": "code",
   "execution_count": 7,
   "metadata": {},
   "outputs": [],
   "source": [
    "#python extractSeqProject.py IDs_of_eliminated.txt positive_set.fasta > positives_without.fasta\n"
   ]
  },
  {
   "cell_type": "markdown",
   "metadata": {},
   "source": [
    "Now the 4 sequences were **removed**: "
   ]
  },
  {
   "cell_type": "code",
   "execution_count": 8,
   "metadata": {},
   "outputs": [
    {
     "name": "stdout",
     "output_type": "stream",
     "text": [
      "     355\n"
     ]
    }
   ],
   "source": [
    "grep '>' positives_without.fasta | wc -l |cat # he called it clean_positives or something similar."
   ]
  },
  {
   "cell_type": "markdown",
   "metadata": {
    "colab_type": "text",
    "id": "OQxUu_J4lmfd"
   },
   "source": [
    "# Splitting the Positive Dataset\n",
    "Now we split our positive dataset into two parts after having randomised the protein IDs. Then we check that there are not overlaps with the last command."
   ]
  },
  {
   "cell_type": "code",
   "execution_count": 18,
   "metadata": {
    "colab": {},
    "colab_type": "code",
    "id": "adPA0vdXo84b"
   },
   "outputs": [],
   "source": [
    "grep \">\" positives_without.fasta | sed 's/>//' | sort -R > random_positives.txt\n",
    "head -n 177 random_positives.txt > r1_positive.txt\n",
    "tail -n +178 random_positives.txt > r2_positive.txt\n",
    "#comm <(sort set_r1_positive.txt) <(sort set_r2_positive.txt)| awk -F '\\t' '{print $3}' |wc"
   ]
  },
  {
   "cell_type": "code",
   "execution_count": 19,
   "metadata": {},
   "outputs": [
    {
     "name": "stdout",
     "output_type": "stream",
     "text": [
      "     177 r1_positive.txt\n"
     ]
    }
   ],
   "source": [
    "wc -l r1_positive.txt"
   ]
  },
  {
   "cell_type": "code",
   "execution_count": 20,
   "metadata": {},
   "outputs": [
    {
     "name": "stdout",
     "output_type": "stream",
     "text": [
      "     178 r2_positive.txt\n"
     ]
    }
   ],
   "source": [
    "wc -l r2_positive.txt"
   ]
  },
  {
   "cell_type": "markdown",
   "metadata": {
    "colab_type": "text",
    "id": "kdbXpZHIpKNW"
   },
   "source": [
    "## Creating .fasta of r1_positive and r2_positive\n",
    "\n",
    "The dataset is not too large, so we can use the same (slow) script above to extract the sequences from the **positive** set using the list of IDs. Pay attenion **line 16** must be **modified** to: \n",
    "\n",
    "> if pid in ids:\n",
    "\n",
    "So only the protein in the list is selected but the other half is left."
   ]
  },
  {
   "cell_type": "code",
   "execution_count": 4,
   "metadata": {
    "colab": {},
    "colab_type": "code",
    "id": "16SUI-9Kq8FI"
   },
   "outputs": [],
   "source": [
    "python extractSeq2.py r1_positive.txt positives_without.fasta > r1_positive.fasta\n",
    "python extractSeq2.py r2_positive.txt positives_without.fasta > r2_positive.fasta"
   ]
  },
  {
   "cell_type": "code",
   "execution_count": 7,
   "metadata": {},
   "outputs": [
    {
     "name": "stdout",
     "output_type": "stream",
     "text": [
      ">Q95241\n",
      "MLPGLALLLLAAWTARALEVPTDGNAGLLAEPQIAMFCGRLNMHMNVQNGKWDSDPSGTK\n",
      "TCIDTKEGILQYCQEVYPELQITNVVEANQPVTIQNWCKRDRKQCKTHPHIVIPYRCLVG\n",
      "EFVSDALLVPDKCKFLHQERMDVCETHLHWHTVAKETCSEKSTNLHDYGMLLPCGIDKFR\n",
      "GVEFVCCPLAEESDHVDSADAEEDDSDVWWGGADTDYADGSEDKVVEVAEEEEVAEVEEE\n",
      "EADDDEDDEDGDEVEEEAEEPYEEATERTTSIATTTTTTTESVEEVVREVCSEQAETGPC\n",
      "RAMISRWYFDVTEGKCAPFFYGGCGGNRNNFDTEEYCMAVCGSVIPTTAASTPDAVDKYL\n",
      "ETPGDENEHAHFQKAKERLEAKHRERMSQVMREWEEAERQAKNLPKADKKAVIQHFQEKV\n",
      "ESLEQEAANERQQLVETHMARVEAMLNDRRRLALENYITALQAVPPRPRHVFNMLKKYVR\n",
      "AEQKDRQHTLKHFEHVRMVDPKKAAQIRSQVMTHLRVIYERMNQSLSLLYNVPAVAEEIQ\n",
      "     178\n"
     ]
    }
   ],
   "source": [
    "head r1_positive.fasta\n",
    "grep '>' r1_positive.fasta | wc -l\n"
   ]
  },
  {
   "cell_type": "code",
   "execution_count": 8,
   "metadata": {},
   "outputs": [
    {
     "name": "stdout",
     "output_type": "stream",
     "text": [
      ">Q5IS80\n",
      "MLPGLALLLLAAWTARALEVPTDGNAGLLAEPQIAMFCGRLNMHMNVQNGKWDSDPSGTK\n",
      "TCIDTKEGILQYCQEVYPELQITNVVEANQPVTIQNWCKRGRKQCKTHPHFVIPYRCLVG\n",
      "EFVSDALLVPDKCKFLHQERMDVCETHLHWHTVAKETCSEKSTNLHDYGMLLPCGIDKFR\n",
      "GVEFVCCPLAEESDNVDSADAEEDDSDVWWGGADTDYADGSEDKVVEVAEEEEVAEVEEE\n",
      "EADDDEDDEDGDEVEEEAEEPYEEATERTTSIATTTTTTTESVEEVVREVCSEQAETGPC\n",
      "RAMISRWYFDVTEGKCAPFFYGGCGGNRNNFDTEEYCMAVCGSVMSQSLLKTTQEPLARD\n",
      "PVKLPTTAASTPDAVDKYLETPGDENEHAHFQKAKERLEAKHRERMSQVMREWEEAERQA\n",
      "KNLPKADKKAVIQHFQEKVESLEQEAANERQQLVETHMARVEAMLNDRRRLALENYITAL\n",
      "QAVPPRPRHVFNMLKKYVRAEQKDRQHTLKHFEHVRMVDPKKAAQIRSQVMTHLRVIYER\n",
      "     178\n"
     ]
    }
   ],
   "source": [
    "head r2_positive.fasta\n",
    "grep '>' r1_positive.fasta | wc -l"
   ]
  },
  {
   "cell_type": "markdown",
   "metadata": {
    "colab_type": "text",
    "id": "HwwLsvmmqfzs"
   },
   "source": [
    "# Splitting the Negative Set\n",
    "\n",
    "We generate a file containing **only the protein ID** of all 561894 **negative** Swissprot entries: using a pipeline that takes \n",
    ",  is used to \n",
    "The negative dataset needs less analysis. From the FASTA file containing all the 561894 entries the headers were reduced to the protein ID using the first command below. Then we extracted the protein IDs and we sorted them randomly. We splited the list of IDs in two half. "
   ]
  },
  {
   "cell_type": "code",
   "execution_count": 1,
   "metadata": {},
   "outputs": [
    {
     "name": "stdout",
     "output_type": "stream",
     "text": [
      ">Q4R8P0\n",
      "MAKLLSCVLGPRLYKIYRERDSERAPASVPETPTAVTAPHSSSWDTYYQPRALEKHADSI\n",
      "LALASVFWSISYYSSPFAFFYLYRKGYLSLSKVVPFSHYAGTLLLLLAGVACLRGIGRWT\n",
      "NPQYRQFITILEATHRNQSSENKRQLANYNFDFRSWPVDFHWEEPSSRKESRGGPSRRGV\n",
      "ALLRPEPLHRGTADTLLNRVKKLPCQITSYLVAHTLGRRMLYPGSVYLLQKALMPVLLQG\n",
      "QARLVEECNGRRAKLLACDGNEIDTMFVDRRGTAQPQGQKLVICCEGNAGFYEVGCISTP\n",
      "LEAGYSVLGWNHPGFAGSTGVPFPQNEANAMDVVVQFAIHRLGFQPQDIIIYAWSIGGFT\n",
      "ATWAAMSYPDVSAVILDASFDDLVPLALKVMPDSWRGLVTRTVRQHLNLNNAEQLCRYLG\n",
      "PVLLIRRTKDEIITTTVPEDIMSNRGNDLLLKLLQHRYPRVMAEEGLQVVRQWLEASSQL\n",
      "EEASIYSRWEVEEDWCLSVLRSYQAEHGPDFPWSVGEDMSADGRRQLALFLARKHLHNFE\n",
      "  561894\n"
     ]
    }
   ],
   "source": [
    "head negative_set.fasta\n",
    "grep \">\" negative_set.fasta | wc -l"
   ]
  },
  {
   "cell_type": "raw",
   "metadata": {},
   "source": [
    "Confirming that the fasta contains **only the ID and the seuqence**\n",
    "\n",
    "561894/2=280947 so we need to generate two files each containing **280947** sequences. We can do this the same way as before with the positives. First we generate a **randomly** sorted .txt containing the seq ID **only** and then we split the .txt into 2 files.\n"
   ]
  },
  {
   "cell_type": "code",
   "execution_count": 2,
   "metadata": {
    "colab": {},
    "colab_type": "code",
    "id": "8bdTBHTkr73y"
   },
   "outputs": [],
   "source": [
    "grep \">\" negative_set.fasta | sed 's/>//' | sort -R > random.txt\n",
    "head -n 280947 random.txt > r1_negative_set.txt \n",
    "tail -n +280948 random.txt > r2_negative_set.txt"
   ]
  },
  {
   "cell_type": "code",
   "execution_count": 9,
   "metadata": {},
   "outputs": [
    {
     "name": "stdout",
     "output_type": "stream",
     "text": [
      "  280947 r1_negative_set.txt\n",
      "  280947 r2_negative_set.txt\n"
     ]
    }
   ],
   "source": [
    "#confirming it worked\n",
    "wc -l r1_negative_set.txt\n",
    "wc -l r2_negative_set.txt"
   ]
  },
  {
   "cell_type": "markdown",
   "metadata": {
    "colab_type": "text",
    "id": "zSRr4lIwtM0L"
   },
   "source": [
    "Extracting sequences from the protein IDs of such a large file would take too much time with the script we used for the positive ones. A better idea is to download pyfasta. After having installed pyfasta we can use these commands to extract the sequences:"
   ]
  },
  {
   "cell_type": "code",
   "execution_count": 12,
   "metadata": {
    "colab": {},
    "colab_type": "code",
    "id": "fHWjskk3tbuY"
   },
   "outputs": [],
   "source": [
    "#pip install pyfasta\n",
    "pyfasta extract --header --fasta negative_set.fasta --file r1_negative_set.txt > r1_negative.fasta\n",
    "pyfasta extract --header --fasta negative_set.fasta --file r2_negative_set.txt > r2_negative.fasta"
   ]
  },
  {
   "cell_type": "markdown",
   "metadata": {
    "colab_type": "text",
    "id": "rT0x1bzjtXey"
   },
   "source": [
    "The pyfasta extract command works exactly like the python program above, but it is faster as it previously organises the files and then computes the search. The command takes the FASTA file as input and another file containing the list of identifiers and it returns another file with the extracted sequences. \n"
   ]
  },
  {
   "cell_type": "markdown",
   "metadata": {
    "colab_type": "text",
    "id": "DodkiL4KliZK"
   },
   "source": [
    "echo 'Head r1: '\n",
    "head r1_negative.fasta\n",
    "echo ''\n",
    "echo 'Head r2: '\n",
    "head r2_negative.fasta"
   ]
  },
  {
   "cell_type": "markdown",
   "metadata": {},
   "source": [
    "# HMMSEARCH\n",
    "\n",
    "It takes as input an **hmmfile** and a fasta sequence input.\n",
    "\n",
    "To facilitate fileparsing and help the program to work in a more robust manner we suggests the following options:\n",
    "- --tblout <f>     : saves parseable table of per-sequence hits to file <f>\n",
    "- --noali          : don't output alignments, so output is smaller, because we only want the E-value for classification.\n",
    "- --max    : Turn all heuristic filters off (less speed, more power)"
   ]
  },
  {
   "cell_type": "code",
   "execution_count": 2,
   "metadata": {},
   "outputs": [
    {
     "name": "stdout",
     "output_type": "stream",
     "text": [
      "# hmmsearch :: search profile(s) against a sequence database\n",
      "# HMMER 3.3 (Nov 2019); http://hmmer.org/\n",
      "# Copyright (C) 2019 Howard Hughes Medical Institute.\n",
      "# Freely distributed under the BSD open source license.\n",
      "# - - - - - - - - - - - - - - - - - - - - - - - - - - - - - - - - - - - -\n",
      "Usage: hmmsearch [options] <hmmfile> <seqdb>\n",
      "\n",
      "Basic options:\n",
      "  -h : show brief help on version and usage\n",
      "\n",
      "Options directing output:\n",
      "  -o <f>           : direct output to file <f>, not stdout\n",
      "  -A <f>           : save multiple alignment of all hits to file <f>\n",
      "  --tblout <f>     : save parseable table of per-sequence hits to file <f>\n",
      "  --domtblout <f>  : save parseable table of per-domain hits to file <f>\n",
      "  --pfamtblout <f> : save table of hits and domains to file, in Pfam format <f>\n",
      "  --acc            : prefer accessions over names in output\n",
      "  --noali          : don't output alignments, so output is smaller\n",
      "  --notextw        : unlimit ASCII text output line width\n",
      "  --textw <n>      : set max width of ASCII text output lines  [120]  (n>=120)\n",
      "\n",
      "Options controlling reporting thresholds:\n",
      "  -E <x>     : report sequences <= this E-value threshold in output  [10.0]  (x>0)\n",
      "  -T <x>     : report sequences >= this score threshold in output\n",
      "  --domE <x> : report domains <= this E-value threshold in output  [10.0]  (x>0)\n",
      "  --domT <x> : report domains >= this score cutoff in output\n",
      "\n",
      "Options controlling inclusion (significance) thresholds:\n",
      "  --incE <x>    : consider sequences <= this E-value threshold as significant\n",
      "  --incT <x>    : consider sequences >= this score threshold as significant\n",
      "  --incdomE <x> : consider domains <= this E-value threshold as significant\n",
      "  --incdomT <x> : consider domains >= this score threshold as significant\n",
      "\n",
      "Options controlling model-specific thresholding:\n",
      "  --cut_ga : use profile's GA gathering cutoffs to set all thresholding\n",
      "  --cut_nc : use profile's NC noise cutoffs to set all thresholding\n",
      "  --cut_tc : use profile's TC trusted cutoffs to set all thresholding\n",
      "\n",
      "Options controlling acceleration heuristics:\n",
      "  --max    : Turn all heuristic filters off (less speed, more power)\n",
      "  --F1 <x> : Stage 1 (MSV) threshold: promote hits w/ P <= F1  [0.02]\n",
      "  --F2 <x> : Stage 2 (Vit) threshold: promote hits w/ P <= F2  [1e-3]\n",
      "  --F3 <x> : Stage 3 (Fwd) threshold: promote hits w/ P <= F3  [1e-5]\n",
      "  --nobias : turn off composition bias filter\n",
      "\n",
      "Other expert options:\n",
      "  --nonull2     : turn off biased composition score corrections\n",
      "  -Z <x>        : set # of comparisons done, for E-value calculation\n",
      "  --domZ <x>    : set # of significant seqs, for domain E-value calculation\n",
      "  --seed <n>    : set RNG seed to <n> (if 0: one-time arbitrary seed)  [42]\n",
      "  --tformat <s> : assert target <seqfile> is in format <s>: no autodetection\n",
      "  --cpu <n>     : number of parallel CPU workers to use for multithreads  [2]\n"
     ]
    }
   ],
   "source": [
    "hmmsearch -h | cat"
   ]
  },
  {
   "cell_type": "code",
   "execution_count": null,
   "metadata": {
    "colab": {},
    "colab_type": "code",
    "id": "myZrS9cb3tot"
   },
   "outputs": [],
   "source": [
    "# first positive set Training\n",
    "hmmsearch -Z 1 --noali --max --tblout r1_positive.hits bpti-kunitz.hmm r1_positive.fasta "
   ]
  },
  {
   "cell_type": "code",
   "execution_count": null,
   "metadata": {
    "colab": {},
    "colab_type": "code",
    "id": "pe7ViUjx4MhH"
   },
   "outputs": [],
   "source": [
    "# second positive Testing\n",
    "hmmsearch -Z 1 --noali --max --tblout r2_positive.hits bpti-kunitz.hmm r2_positive.fasta"
   ]
  },
  {
   "cell_type": "code",
   "execution_count": null,
   "metadata": {
    "colab": {},
    "colab_type": "code",
    "id": "XEbXtmQl4avn"
   },
   "outputs": [],
   "source": [
    "# second negative Training\n",
    "hmmsearch -Z 1 --noali --max --tblout r1_negative.hits bpti-kunitz.hmm r1_negative.fasta"
   ]
  },
  {
   "cell_type": "code",
   "execution_count": null,
   "metadata": {
    "colab": {},
    "colab_type": "code",
    "id": "-2ojcmzD4fp2"
   },
   "outputs": [],
   "source": [
    "# second negative  Testing\n",
    "hmmsearch -Z 1 --noali --max --tblout r2_negative.hits bpti-kunitz.hmm r2_negative.fasta"
   ]
  },
  {
   "cell_type": "markdown",
   "metadata": {
    "colab_type": "text",
    "id": "sHuglo6O_M1D"
   },
   "source": [
    "## Generating one file that contains only the evalue, the name of the sequence and the type of the sequence: \n",
    "\n",
    "This serves to find the optimal threshold to be able to distinguish between negatives (0) and positives (1) as classified by PFAM/Uniprot. So we extract:\n",
    "- the protein ID \\$1,  \n",
    "- E-value (of the single domain) from  \\$8\n",
    "\n",
    "And we add the lable 1 (pos) or 0 (neg) to the corresponding entries. \n",
    "\n",
    "#### positives:"
   ]
  },
  {
   "cell_type": "code",
   "execution_count": 46,
   "metadata": {
    "colab": {},
    "colab_type": "code",
    "id": "-60Ilurj_si-"
   },
   "outputs": [
    {
     "name": "stdout",
     "output_type": "stream",
     "text": [
      "The positives r1:\n",
      "Q868Z9 4.6e-21 1\n",
      "O76840 3e-22 1\n",
      "     178 r1_positive.out\n",
      "\n",
      "The positives r2:\n",
      "O54819 3.1e-25 1\n",
      "P10646 1.6e-24 1\n",
      "     177 r2_positive.out\n"
     ]
    }
   ],
   "source": [
    "grep -v \"^#\" r1_positive.hits | awk '{print $1,$8,1}'> r1_positive.out\n",
    "grep -v \"^#\" r2_positive.hits | awk '{print $1,$8,1}'> r2_positive.out\n",
    "echo \"The positives r1:\"\n",
    "head -2 r1_positive.out\n",
    "wc -l r1_positive.out\n",
    "\n",
    "echo ''\n",
    "echo \"The positives r2:\"\n",
    "head -2 r2_positive.out\n",
    "wc -l r2_positive.out\n"
   ]
  },
  {
   "cell_type": "markdown",
   "metadata": {},
   "source": [
    "#### negatives:"
   ]
  },
  {
   "cell_type": "code",
   "execution_count": 47,
   "metadata": {
    "colab": {},
    "colab_type": "code",
    "id": "TQq1sg50_h6F"
   },
   "outputs": [
    {
     "name": "stdout",
     "output_type": "stream",
     "text": [
      "The negatives r1:\n",
      "P0DJ63 3.9e-08 0\n",
      "P84555 9.2e-08 0\n",
      "  135429 r1_negative.out\n",
      "\n",
      "The negatives r2:\n",
      "G3LH89 4.2e-23 0\n",
      "P83605 4.6e-08 0\n",
      "  135945 r2_negative.out\n"
     ]
    }
   ],
   "source": [
    "# grep -v \"^#\" r1_negative.hits | awk '{print $1,$8,0}'> r1_negative.out\n",
    "# grep -v \"^#\" r2_negative.hits | awk '{print $1,$8,0}'> r2_negative.out\n",
    "echo 'The negatives r1:'\n",
    "head -2 r1_negative.out\n",
    "wc -l r1_negative.out\n",
    "\n",
    "echo ''\n",
    "echo 'The negatives r2:'\n",
    "head -2 r2_negative.out\n",
    "wc -l r2_negative.out"
   ]
  },
  {
   "cell_type": "markdown",
   "metadata": {},
   "source": [
    "### Recovering IDs with an E-value above 10\n",
    "\n",
    "Each file contains however only elements that had an e-value <= 10 \n",
    "Now we need to generate a file with the same layout [<id> <e-value of the single domain> <0 or 1>] containing the IDs of the proteins that were **above** the cut-off E-value of 10 and thus not reported in the ```rX_negative.out```.\n",
    "    \n",
    "This **obviously** does not need to be done with the positive set as none of the evalues returned are higher than 10 ;-)"
   ]
  },
  {
   "cell_type": "code",
   "execution_count": 3,
   "metadata": {},
   "outputs": [
    {
     "name": "stdout",
     "output_type": "stream",
     "text": [
      "  145518\n",
      "  145002\n"
     ]
    }
   ],
   "source": [
    "#comm <(grep \"^>\" r2_negative.fasta | sed 's/>//' | sort) <(awk '{print $1}' r2_negative.out | sort) | awk -F '\\t' '{if ($1!=\"\") print $1,10,0}' > missing_negative_set2.out\n",
    "#comm <(grep \"^>\" r1_negative.fasta | sed 's/>//' | sort) <(awk '{print $1}' r1_negative.out | sort) | awk -F '\\t' '{if ($1!=\"\") print $1,10,0}' > missing_negative_set1.out\n",
    "cat missing_negative_set1.out | wc -l\n",
    "cat missing_negative_set2.out | wc -l"
   ]
  },
  {
   "cell_type": "markdown",
   "metadata": {},
   "source": [
    "### Checking weather everything sums up and makes sense: remember the total amount of negative sequences downloaded was 561894!\n",
    "summing the ID's that were below the threashold with the IDs above the threashold:"
   ]
  },
  {
   "cell_type": "code",
   "execution_count": 34,
   "metadata": {
    "colab": {},
    "colab_type": "code",
    "id": "kfpH-Ta5_NHj"
   },
   "outputs": [
    {
     "name": "stdout",
     "output_type": "stream",
     "text": [
      "Negative Set 1\n",
      "head: total_negative_set2.out: No such file or directory\n",
      "  145518 missing_negative_set1.out\n",
      "  135429 r1_negative.out\n",
      "\n",
      "Negative Set 2\n",
      "  145002 missing_negative_set2.out\n",
      "  135945 r2_negative.out\n"
     ]
    }
   ],
   "source": [
    "echo \"Negative Set 1\"\n",
    "head -3 total_negative_set2.out\n",
    "wc -l missing_negative_set1.out\n",
    "wc -l r1_negative.out\n",
    "echo ''\n",
    "echo \"Negative Set 2\"\n",
    "wc -l missing_negative_set2.out\n",
    "wc -l r2_negative.out\n"
   ]
  },
  {
   "cell_type": "code",
   "execution_count": 37,
   "metadata": {},
   "outputs": [
    {
     "name": "stdout",
     "output_type": "stream",
     "text": [
      "Sum negative set 1:\n",
      "280947\n",
      "\n",
      "Sum negative set 2:\n",
      "280947\n",
      "\n",
      "Total negatives\n",
      "561894\n"
     ]
    }
   ],
   "source": [
    "echo 'Sum negative set 1:'\n",
    "expr 145518 + 135429 \n",
    "\n",
    "echo ''\n",
    "echo 'Sum negative set 2:'\n",
    "expr 145002 + 135945\n",
    "\n",
    "echo ''\n",
    "echo 'Total negatives'\n",
    "expr 280947 + 280947"
   ]
  },
  {
   "cell_type": "markdown",
   "metadata": {},
   "source": [
    "#### The sum checks out every thing should be alright\n",
    "\n",
    "Now we need to join the two files using cat"
   ]
  },
  {
   "cell_type": "code",
   "execution_count": 40,
   "metadata": {},
   "outputs": [
    {
     "name": "stdout",
     "output_type": "stream",
     "text": [
      "  280947 both_r1.out\n",
      "A0A009IHW8 10 0\n",
      "A0A023IWG2 10 0\n",
      "A0A023IWI8 10 0\n",
      "  280947 both_r2.out\n",
      "A0A023IWE1 10 0\n",
      "A0A023IWM4 10 0\n",
      "A0A023PXD3 10 0\n"
     ]
    }
   ],
   "source": [
    "cat missing_negative_set1.out r1_negative.out > both_r1.out\n",
    "cat missing_negative_set2.out r2_negative.out > both_r2.out\n",
    "wc -l both_r1.out\n",
    "head -3 both_r1.out\n",
    "wc -l both_r2.out\n",
    "head -3 both_r2.out"
   ]
  },
  {
   "cell_type": "markdown",
   "metadata": {
    "colab_type": "text",
    "id": "hlCwG8URMdwD"
   },
   "source": [
    "The py script below will be used to test the performance."
   ]
  },
  {
   "cell_type": "code",
   "execution_count": null,
   "metadata": {
    "colab": {},
    "colab_type": "code",
    "id": "Vn5ZOGYaMo1x"
   },
   "outputs": [],
   "source": [
    "#!/usr/bin/python\n",
    "import sys\n",
    "import math\n",
    "\n",
    "def get_hmm(filename):\n",
    "    ''' Input: file containing 3 columns: $1 contains UniprotID, \n",
    "    $2 E-vlaue (domain evalue) of the hmmsearch and $3 '0' negatives OR '1' positives.\n",
    "    It returns the f_list containing the best evalue and the kind of the the sequence (0 or 1) '''\n",
    "    f_list=[]\n",
    "    d={}\n",
    "    with open(filename) as f:\n",
    "        for line in f:\n",
    "            v=line.rstrip().split()\n",
    "            d[v[0]]=d.get(v[0],[])\n",
    "            d[v[0]].append([ float(v[1]),int(v[2]), v[0] ]) # eval, kind, ID\n",
    "            # print(d[v[0]])\n",
    "        for ids in d.keys():\n",
    "        # we might get many hits for one single uniprot ID but we \n",
    "        # only keep the one with the lowest e-value\n",
    "            d[ids].sort()\n",
    "            f_list.append(d[ids][0])\n",
    "        return f_list  # = data\n",
    "\n",
    "def get_conf_mtrx(data,threashold):\n",
    "    '''Calculates the confusion matrix from a list of lists (data) containing one list for each seuqence: containing: e-value,  kind: either 1 = positive or 0 = negative and ID. This file is used to calculate the confusion matrix. threashold = the selected threshold to calculate the values that are above and below the threshold [[TP, FP], [FN, TN]]'''\n",
    "    cm = [[0.0,0.0],[0.0,0.0]] #building zero matrix first\n",
    "    n = 0\n",
    "    m = 0\n",
    "    eval = 0\n",
    "    kind = 1\n",
    "    for i in data: # for every list in 'data'\n",
    "        if i[eval]<th and i[kind]==1: # lower than threshold and true positive, 1\n",
    "            cm[0][0] += 1\n",
    "        if i[eval]>=th and i[kind]==1: # false negative\n",
    "            cm[1][0] += 1\n",
    "            n +=1\n",
    "            if n < 10:\n",
    "                print(i[2], 'FN') # to save the ID  of the FN\n",
    "        if i[0]<th and i[1]==0: # true negative\n",
    "            cm[0][1] += 1\n",
    "            m += 1\n",
    "            if m < 10:\n",
    "                print(i[2], 'FP') # to save ID of the FP\n",
    "        if i[0]>=th and i[1] ==0:\n",
    "            cm[1][1] += 1\n",
    "    return cm\n",
    "\n",
    "def accuracy(m): \n",
    "    '''Takes the confusion matrix as input and calculates the accuracy\n",
    "    (TP + TN) / (TP + FP + FN + TN) '''\n",
    "    return float(m[0][0]+m[1][1])/(sum(m[0])+sum(m[1]))\n",
    "\n",
    "def matthew_cc(m):\n",
    "    '''Takes the confusion matrix as input and returns the Matthews correlation coefficient'''\n",
    "    d=(m[0][0]+m[1][0])*(m[0][0]+m[0][1])*(m[1][1]+m[1][0])*(m[1][1]+m[0][1])\n",
    "    return float((m[0][0]*m[1][1]-m[0][1]*m[1][0])/math.sqrt(d))\n",
    "\n",
    "def tpr(cm):\n",
    "    return cm[0][0]/(cm[0][0]+cm[1][0])\n",
    "\n",
    "def fpr(cm):\n",
    "    return cm[0][1]/(cm[0][1]+cm[1][1])\n",
    "\n",
    "def ppv(cm):\n",
    "    '''returns the positive predictive value = tp/ (tp + fp) = n of tp / all positive calls'''\n",
    "    return cm[0][0]/(cm[0][0]+cm[0][1])\n",
    "\n",
    "def npv(cm):\n",
    "    '''returns the positive predictive value = tn/ (tn + fn) = n of tn / all negative calls'''\n",
    "    return cm[1][1]/(cm[1][1]+cm[1][0])\n",
    "\n",
    "if __name__== \"__main__\":\n",
    "    filename=sys.argv[1]\n",
    "    #th=float(sys.argv[2])\n",
    "    data = get_hmm(filename)\n",
    "    for i in range(20): # provides 20 diff e-vla threasholds\n",
    "        th=10**-i  # initial threashold: th\n",
    "        cm= get_conf_mtrx(data,th) # takes eval and class (neg or pos)\n",
    "        print('Threshold:',th,'\\nACC:', accuracy(cm),'\\nMatthews:',matthew_cc(cm), \"\\nTPR:\", tpr(cm), '\\nFPR:', fpr(cm), '\\nPositive pred val:', ppv(cm), \"\\nThe Matrix:\", cm,\"\\n\")"
   ]
  },
  {
   "cell_type": "code",
   "execution_count": 4,
   "metadata": {
    "colab": {},
    "colab_type": "code",
    "id": "xMwWi0gmMeIb"
   },
   "outputs": [
    {
     "name": "stdout",
     "output_type": "stream",
     "text": [
      "P0DJ63 FP\n",
      "P84555 FP\n",
      "P85040 FP\n",
      "P36235 FP\n",
      "P71089 FP\n",
      "Q9PS05 FP\n",
      "P40500 FP\n",
      "Q91845 FP\n",
      "Q91571 FP\n",
      "Threshold: 1 \n",
      "ACC: 0.7162472209871054 \n",
      "Matthews: 0.03992851546858927 \n",
      "TPR: 1.0 \n",
      "FPR: 0.28393255667439055 \n",
      "Positive pred val: 0.002226447190673938 \n",
      "The Matrix: [[178.0, 79770.0], [0.0, 201177.0]] \n",
      "\n",
      "P0DJ63 FP\n",
      "P84555 FP\n",
      "P85040 FP\n",
      "P36235 FP\n",
      "P71089 FP\n",
      "Q9PS05 FP\n",
      "P40500 FP\n",
      "Q91845 FP\n",
      "Q91571 FP\n",
      "Threshold: 0.1 \n",
      "ACC: 0.9621378390395732 \n",
      "Matthews: 0.12579676409302057 \n",
      "TPR: 1.0 \n",
      "FPR: 0.03788614934489423 \n",
      "Positive pred val: 0.01644797634448346 \n",
      "The Matrix: [[178.0, 10644.0], [0.0, 270303.0]] \n",
      "\n",
      "P0DJ63 FP\n",
      "P84555 FP\n",
      "P85040 FP\n",
      "P36235 FP\n",
      "P71089 FP\n",
      "Q9PS05 FP\n",
      "P40500 FP\n",
      "Q91845 FP\n",
      "Q91571 FP\n",
      "Threshold: 0.01 \n",
      "ACC: 0.9958381502890173 \n",
      "Matthews: 0.36262593371279445 \n",
      "TPR: 1.0 \n",
      "FPR: 0.004164486540165939 \n",
      "Positive pred val: 0.13204747774480713 \n",
      "The Matrix: [[178.0, 1170.0], [0.0, 279777.0]] \n",
      "\n",
      "P0DJ63 FP\n",
      "P84555 FP\n",
      "P85040 FP\n",
      "P36235 FP\n",
      "P71089 FP\n",
      "Q9PS05 FP\n",
      "P40500 FP\n",
      "Q91845 FP\n",
      "Q91571 FP\n",
      "Threshold: 0.001 \n",
      "ACC: 0.9996905291240551 \n",
      "Matthews: 0.8194450015119672 \n",
      "TPR: 1.0 \n",
      "FPR: 0.00030966694785849287 \n",
      "Positive pred val: 0.6716981132075471 \n",
      "The Matrix: [[178.0, 87.0], [0.0, 280860.0]] \n",
      "\n",
      "P0DJ63 FP\n",
      "P84555 FP\n",
      "P85040 FP\n",
      "P36235 FP\n",
      "P71089 FP\n",
      "Q9PS05 FP\n",
      "P40500 FP\n",
      "Q91845 FP\n",
      "Q91571 FP\n",
      "Threshold: 0.0001 \n",
      "ACC: 0.9999217429968875 \n",
      "Matthews: 0.9433611753404847 \n",
      "TPR: 1.0 \n",
      "FPR: 7.830658451594073e-05 \n",
      "Positive pred val: 0.89 \n",
      "The Matrix: [[178.0, 22.0], [0.0, 280925.0]] \n",
      "\n",
      "P0DJ63 FP\n",
      "P84555 FP\n",
      "P85040 FP\n",
      "P36235 FP\n",
      "P71089 FP\n",
      "Q9PS05 FP\n",
      "D3GGZ8 FN\n",
      "Threshold: 1e-05 \n",
      "ACC: 0.9999751000444642 \n",
      "Matthews: 0.9806911530632914 \n",
      "TPR: 0.9943820224719101 \n",
      "FPR: 2.13563412316202e-05 \n",
      "Positive pred val: 0.9672131147540983 \n",
      "The Matrix: [[177.0, 6.0], [1.0, 280941.0]] \n",
      "\n",
      "P0DJ63 FP\n",
      "P84555 FP\n",
      "P85040 FP\n",
      "P36235 FP\n",
      "O62247 FN\n",
      "D3GGZ8 FN\n",
      "Threshold: 1e-06 \n",
      "ACC: 0.9999786571809693 \n",
      "Matthews: 0.9832449088087301 \n",
      "TPR: 0.9887640449438202 \n",
      "FPR: 1.4237560821080132e-05 \n",
      "Positive pred val: 0.9777777777777777 \n",
      "The Matrix: [[176.0, 4.0], [2.0, 280943.0]] \n",
      "\n",
      "P0DJ63 FP\n",
      "P84555 FP\n",
      "O62247 FN\n",
      "D3GGZ8 FN\n",
      "Threshold: 1e-07 \n",
      "ACC: 0.9999857714539796 \n",
      "Matthews: 0.9887569261634097 \n",
      "TPR: 0.9887640449438202 \n",
      "FPR: 7.118780410540066e-06 \n",
      "Positive pred val: 0.9887640449438202 \n",
      "The Matrix: [[176.0, 2.0], [2.0, 280945.0]] \n",
      "\n",
      "O62247 FN\n",
      "D3GGZ8 FN\n",
      "Threshold: 1e-08 \n",
      "ACC: 0.9999928857269897 \n",
      "Matthews: 0.9943626130340046 \n",
      "TPR: 0.9887640449438202 \n",
      "FPR: 0.0 \n",
      "Positive pred val: 1.0 \n",
      "The Matrix: [[176.0, 0.0], [2.0, 280947.0]] \n",
      "\n",
      "O62247 FN\n",
      "D3GGZ8 FN\n",
      "Threshold: 1e-09 \n",
      "ACC: 0.9999928857269897 \n",
      "Matthews: 0.9943626130340046 \n",
      "TPR: 0.9887640449438202 \n",
      "FPR: 0.0 \n",
      "Positive pred val: 1.0 \n",
      "The Matrix: [[176.0, 0.0], [2.0, 280947.0]] \n",
      "\n",
      "O62247 FN\n",
      "D3GGZ8 FN\n",
      "Threshold: 1e-10 \n",
      "ACC: 0.9999928857269897 \n",
      "Matthews: 0.9943626130340046 \n",
      "TPR: 0.9887640449438202 \n",
      "FPR: 0.0 \n",
      "Positive pred val: 1.0 \n",
      "The Matrix: [[176.0, 0.0], [2.0, 280947.0]] \n",
      "\n",
      "P86963 FN\n",
      "O62247 FN\n",
      "D3GGZ8 FN\n",
      "Threshold: 1e-11 \n",
      "ACC: 0.9999893285904846 \n",
      "Matthews: 0.991531930563198 \n",
      "TPR: 0.9831460674157303 \n",
      "FPR: 0.0 \n",
      "Positive pred val: 1.0 \n",
      "The Matrix: [[175.0, 0.0], [3.0, 280947.0]] \n",
      "\n",
      "P86963 FN\n",
      "O62247 FN\n",
      "D3GGZ8 FN\n",
      "Threshold: 1e-12 \n",
      "ACC: 0.9999893285904846 \n",
      "Matthews: 0.991531930563198 \n",
      "TPR: 0.9831460674157303 \n",
      "FPR: 0.0 \n",
      "Positive pred val: 1.0 \n",
      "The Matrix: [[175.0, 0.0], [3.0, 280947.0]] \n",
      "\n",
      "P86963 FN\n",
      "O62247 FN\n",
      "D3GGZ8 FN\n",
      "Threshold: 1e-13 \n",
      "ACC: 0.9999893285904846 \n",
      "Matthews: 0.991531930563198 \n",
      "TPR: 0.9831460674157303 \n",
      "FPR: 0.0 \n",
      "Positive pred val: 1.0 \n",
      "The Matrix: [[175.0, 0.0], [3.0, 280947.0]] \n",
      "\n",
      "H2A0N1 FN\n",
      "P0CAR0 FN\n",
      "P86963 FN\n",
      "O62247 FN\n",
      "D3GGZ8 FN\n",
      "Threshold: 1e-14 \n",
      "ACC: 0.9999822143174745 \n",
      "Matthews: 0.9858462434024425 \n",
      "TPR: 0.9719101123595506 \n",
      "FPR: 0.0 \n",
      "Positive pred val: 1.0 \n",
      "The Matrix: [[173.0, 0.0], [5.0, 280947.0]] \n",
      "\n",
      "H2A0N5 FN\n",
      "P86964 FN\n",
      "H2A0N1 FN\n",
      "P0CAR0 FN\n",
      "P86963 FN\n",
      "O62247 FN\n",
      "D3GGZ8 FN\n",
      "Threshold: 1e-15 \n",
      "ACC: 0.9999751000444642 \n",
      "Matthews: 0.9801276559716263 \n",
      "TPR: 0.9606741573033708 \n",
      "FPR: 0.0 \n",
      "Positive pred val: 1.0 \n",
      "The Matrix: [[171.0, 0.0], [7.0, 280947.0]] \n",
      "\n",
      "H2A0N5 FN\n",
      "P86964 FN\n",
      "H2A0N1 FN\n",
      "Q8AY46 FN\n",
      "Q8IUA0 FN\n",
      "P0CAR0 FN\n",
      "P86963 FN\n",
      "O62247 FN\n",
      "D3GGZ8 FN\n",
      "Threshold: 1e-16 \n",
      "ACC: 0.999967985771454 \n",
      "Matthews: 0.9743755889964324 \n",
      "TPR: 0.949438202247191 \n",
      "FPR: 0.0 \n",
      "Positive pred val: 1.0 \n",
      "The Matrix: [[169.0, 0.0], [9.0, 280947.0]] \n",
      "\n",
      "H2A0P0 FN\n",
      "H2A0N5 FN\n",
      "P86964 FN\n",
      "H2A0N1 FN\n",
      "Q8AY46 FN\n",
      "Q8IUA0 FN\n",
      "P0CAR0 FN\n",
      "P86963 FN\n",
      "O62247 FN\n",
      "Threshold: 1e-17 \n",
      "ACC: 0.9999644286349488 \n",
      "Matthews: 0.971486814974951 \n",
      "TPR: 0.9438202247191011 \n",
      "FPR: 0.0 \n",
      "Positive pred val: 1.0 \n",
      "The Matrix: [[168.0, 0.0], [10.0, 280947.0]] \n",
      "\n",
      "H2A0P0 FN\n",
      "H2A0N5 FN\n",
      "P86964 FN\n",
      "H2A0N1 FN\n",
      "P0DJ81 FN\n",
      "B5L5Q3 FN\n",
      "P00989 FN\n",
      "Q8AY45 FN\n",
      "Q75S50 FN\n",
      "Threshold: 1e-18 \n",
      "ACC: 0.9999430858159182 \n",
      "Matthews: 0.9539709279542518 \n",
      "TPR: 0.9101123595505618 \n",
      "FPR: 0.0 \n",
      "Positive pred val: 1.0 \n",
      "The Matrix: [[162.0, 0.0], [16.0, 280947.0]] \n",
      "\n",
      "P02760 FN\n",
      "Q64240 FN\n",
      "H2A0P0 FN\n",
      "H2A0N5 FN\n",
      "P86964 FN\n",
      "H2A0N1 FN\n",
      "D2Y2Q6 FN\n",
      "Q2UY09 FN\n",
      "D2Y2F3 FN\n",
      "Threshold: 1e-19 \n",
      "ACC: 0.9999146287238773 \n",
      "Matthews: 0.9301046383610124 \n",
      "TPR: 0.8651685393258427 \n",
      "FPR: 0.0 \n",
      "Positive pred val: 1.0 \n",
      "The Matrix: [[154.0, 0.0], [24.0, 280947.0]] \n",
      "\n"
     ]
    }
   ],
   "source": [
    "python performance.py <(cat both_r1.out r1_positive.out)"
   ]
  },
  {
   "cell_type": "code",
   "execution_count": 5,
   "metadata": {},
   "outputs": [
    {
     "name": "stdout",
     "output_type": "stream",
     "text": [
      "#!/usr/bin/python\n",
      "import sys\n",
      "import math\n",
      "\n",
      "def get_hmm(filename):\n",
      "    ''' Input: file containing 3 columns: $1 contains UniprotID, \n",
      "    $2 E-vlaue (domain evalue) of the hmmsearch and $3 '0' negatives OR '1' positives.\n",
      "    It returns the f_list containing the best evalue and the kind of the the sequence (0 or 1) '''\n",
      "    f_list=[]\n",
      "    d={}\n",
      "    with open(filename) as f:\n",
      "        for line in f:\n",
      "            v=line.rstrip().split()\n",
      "            d[v[0]]=d.get(v[0],[])\n",
      "            d[v[0]].append([ float(v[1]),int(v[2]), v[0] ]) # eval, kind, ID\n",
      "            # print(d[v[0]])\n",
      "        for ids in d.keys():\n",
      "        # we might get many hits for one single uniprot ID but we \n",
      "        # only keep the one with the lowest e-value\n",
      "            d[ids].sort()\n",
      "            f_list.append(d[ids][0])\n",
      "        return f_list  # = data\n",
      "\n",
      "def get_conf_mtrx(data,threashold):\n",
      "    '''Calculates the confusion matrix from a list of lists (data) containing one list for each seuqence: containing: e-value,  kind: either 1 = positive or 0 = negative and ID. This file is used to calculate the confusion matrix. threashold = the selected threshold to calculate the values that are above and below the threshold [[TP, FP], [FN, TN]]'''\n",
      "    cm = [[0.0,0.0],[0.0,0.0]] #building zero matrix first\n",
      "    n = 0\n",
      "    m = 0\n",
      "    eval = 0\n",
      "    kind = 1\n",
      "    for i in data: # for every list in 'data'\n",
      "        if i[eval]<th and i[kind]==1: # lower than threshold and true positive, 1\n",
      "            cm[0][0] += 1\n",
      "        if i[eval]>=th and i[kind]==1: # false negative\n",
      "            cm[1][0] += 1\n",
      "            n +=1\n",
      "            if n < 10:\n",
      "                print(i[2], 'FN') # to save the ID  of the FN\n",
      "        if i[0]<th and i[1]==0: # true negative\n",
      "            cm[0][1] += 1\n",
      "            m += 1\n",
      "            if m < 10:\n",
      "                print(i[2], 'FP') # to save ID of the FP\n",
      "        if i[0]>=th and i[1] ==0:\n",
      "            cm[1][1] += 1\n",
      "    return cm\n",
      "\n",
      "def accuracy(m): \n",
      "    '''Takes the confusion matrix as input and calculates the accuracy\n",
      "    (TP + TN) / (TP + FP + FN + TN) '''\n",
      "    return float(m[0][0]+m[1][1])/(sum(m[0])+sum(m[1]))\n",
      "\n",
      "def matthew_cc(m):\n",
      "    '''Takes the confusion matrix as input and returns the Matthews correlation coefficient'''\n",
      "    d=(m[0][0]+m[1][0])*(m[0][0]+m[0][1])*(m[1][1]+m[1][0])*(m[1][1]+m[0][1])\n",
      "    return float((m[0][0]*m[1][1]-m[0][1]*m[1][0])/math.sqrt(d))\n",
      "\n",
      "def tpr(cm):\n",
      "    return cm[0][0]/(cm[0][0]+cm[1][0])\n",
      "\n",
      "def fpr(cm):\n",
      "    return cm[0][1]/(cm[0][1]+cm[1][1])\n",
      "\n",
      "def ppv(cm):\n",
      "    '''returns the positive predictive value = tp/ (tp + fp) = n of tp / all positive calls'''\n",
      "    return cm[0][0]/(cm[0][0]+cm[0][1])\n",
      "\n",
      "def npv(cm):\n",
      "    '''returns the positive predictive value = tn/ (tn + fn) = n of tn / all negative calls'''\n",
      "    return cm[1][1]/(cm[1][1]+cm[1][0])\n",
      "\n",
      "if __name__== \"__main__\":\n",
      "    filename=sys.argv[1]\n",
      "    #th=float(sys.argv[2])\n",
      "    data = get_hmm(filename)\n",
      "    for i in range(20): # provides 20 diff e-vla threasholds\n",
      "        th=10**-i  # initial threashold: th\n",
      "        cm= get_conf_mtrx(data,th) # takes eval and class (neg or pos)\n",
      "        print('Threshold:',th,'\\nACC:', accuracy(cm),'\\nMatthews:',matthew_cc(cm), \"\\nTPR:\", tpr(cm), '\\nFPR:', fpr(cm), '\\nPositive pred val:', ppv(cm), \"\\nThe Matrix:\", cm,\"\\n\")"
     ]
    }
   ],
   "source": [
    "cat performance.py"
   ]
  },
  {
   "cell_type": "code",
   "execution_count": 6,
   "metadata": {
    "colab": {},
    "colab_type": "code",
    "id": "5Mw-hDWKMhRl"
   },
   "outputs": [
    {
     "name": "stdout",
     "output_type": "stream",
     "text": [
      "G3LH89 FP\n",
      "P83605 FP\n",
      "P85039 FP\n",
      "P56409 FP\n",
      "P84556 FP\n",
      "P0DM47 FP\n",
      "Q9FF80 FP\n",
      "Q91694 FP\n",
      "Q91736 FP\n",
      "Threshold: 1 \n",
      "ACC: 0.7160541255815939 \n",
      "Matthews: 0.0397976652837338 \n",
      "TPR: 1.0 \n",
      "FPR: 0.28412476374547513 \n",
      "Positive pred val: 0.0022124723440956986 \n",
      "The Matrix: [[177.0, 79824.0], [0.0, 201123.0]] \n",
      "\n",
      "G3LH89 FP\n",
      "P83605 FP\n",
      "P85039 FP\n",
      "P56409 FP\n",
      "P84556 FP\n",
      "P0DM47 FP\n",
      "Q9FF80 FP\n",
      "Q91694 FP\n",
      "Q91736 FP\n",
      "Threshold: 0.1 \n",
      "ACC: 0.9618246752322819 \n",
      "Matthews: 0.12492135595680638 \n",
      "TPR: 1.0 \n",
      "FPR: 0.038199375682957996 \n",
      "Positive pred val: 0.01622513520946008 \n",
      "The Matrix: [[177.0, 10732.0], [0.0, 270215.0]] \n",
      "\n",
      "G3LH89 FP\n",
      "P83605 FP\n",
      "P85039 FP\n",
      "P56409 FP\n",
      "P84556 FP\n",
      "P0DM47 FP\n",
      "Q9FF80 FP\n",
      "Q91694 FP\n",
      "Q91736 FP\n",
      "Threshold: 0.01 \n",
      "ACC: 0.9959661928543988 \n",
      "Matthews: 0.3666967253993352 \n",
      "TPR: 1.0 \n",
      "FPR: 0.004036348492776218 \n",
      "Positive pred val: 0.13501144164759726 \n",
      "The Matrix: [[177.0, 1134.0], [0.0, 279813.0]] \n",
      "\n",
      "G3LH89 FP\n",
      "P83605 FP\n",
      "P85039 FP\n",
      "P56409 FP\n",
      "P84556 FP\n",
      "P0DM47 FP\n",
      "Q9FF80 FP\n",
      "Q91694 FP\n",
      "Q91736 FP\n",
      "Threshold: 0.001 \n",
      "ACC: 0.9997545567080719 \n",
      "Matthews: 0.848136477473065 \n",
      "TPR: 1.0 \n",
      "FPR: 0.0002455979241636323 \n",
      "Positive pred val: 0.7195121951219512 \n",
      "The Matrix: [[177.0, 69.0], [0.0, 280878.0]] \n",
      "\n",
      "G3LH89 FP\n",
      "P83605 FP\n",
      "P85039 FP\n",
      "P56409 FP\n",
      "P84556 FP\n",
      "P0DM47 FP\n",
      "Q9FF80 FP\n",
      "Q91694 FP\n",
      "Q91736 FP\n",
      "Threshold: 0.0001 \n",
      "ACC: 0.9999395284643076 \n",
      "Matthews: 0.9551523055396415 \n",
      "TPR: 1.0 \n",
      "FPR: 6.0509633489590564e-05 \n",
      "Positive pred val: 0.9123711340206185 \n",
      "The Matrix: [[177.0, 17.0], [0.0, 280930.0]] \n",
      "\n",
      "G3LH89 FP\n",
      "P83605 FP\n",
      "P85039 FP\n",
      "P56409 FP\n",
      "P84556 FP\n",
      "P0DM47 FP\n",
      "Threshold: 1e-05 \n",
      "ACC: 0.9999786571050497 \n",
      "Matthews: 0.9834594341510869 \n",
      "TPR: 1.0 \n",
      "FPR: 2.13563412316202e-05 \n",
      "Positive pred val: 0.9672131147540983 \n",
      "The Matrix: [[177.0, 6.0], [0.0, 280941.0]] \n",
      "\n",
      "G3LH89 FP\n",
      "P83605 FP\n",
      "P85039 FP\n",
      "P56409 FP\n",
      "P84556 FP\n",
      "Threshold: 1e-06 \n",
      "ACC: 0.9999822142542081 \n",
      "Matthews: 0.9861592997602731 \n",
      "TPR: 1.0 \n",
      "FPR: 1.7796951026350167e-05 \n",
      "Positive pred val: 0.9725274725274725 \n",
      "The Matrix: [[177.0, 5.0], [0.0, 280942.0]] \n",
      "\n",
      "G3LH89 FP\n",
      "P83605 FP\n",
      "Threshold: 1e-07 \n",
      "ACC: 0.9999928857016832 \n",
      "Matthews: 0.9943941755669597 \n",
      "TPR: 1.0 \n",
      "FPR: 7.118780410540066e-06 \n",
      "Positive pred val: 0.9888268156424581 \n",
      "The Matrix: [[177.0, 2.0], [0.0, 280945.0]] \n",
      "\n",
      "G3LH89 FP\n",
      "Threshold: 1e-08 \n",
      "ACC: 0.9999964428508417 \n",
      "Matthews: 0.9971852802154066 \n",
      "TPR: 1.0 \n",
      "FPR: 3.559390205270033e-06 \n",
      "Positive pred val: 0.9943820224719101 \n",
      "The Matrix: [[177.0, 1.0], [0.0, 280946.0]] \n",
      "\n",
      "G3LH89 FP\n",
      "Threshold: 1e-09 \n",
      "ACC: 0.9999964428508417 \n",
      "Matthews: 0.9971852802154066 \n",
      "TPR: 1.0 \n",
      "FPR: 3.559390205270033e-06 \n",
      "Positive pred val: 0.9943820224719101 \n",
      "The Matrix: [[177.0, 1.0], [0.0, 280946.0]] \n",
      "\n",
      "G3LH89 FP\n",
      "Threshold: 1e-10 \n",
      "ACC: 0.9999964428508417 \n",
      "Matthews: 0.9971852802154066 \n",
      "TPR: 1.0 \n",
      "FPR: 3.559390205270033e-06 \n",
      "Positive pred val: 0.9943820224719101 \n",
      "The Matrix: [[177.0, 1.0], [0.0, 280946.0]] \n",
      "\n",
      "G3LH89 FP\n",
      "Q9BQY6 FN\n",
      "Q11101 FN\n",
      "Threshold: 1e-11 \n",
      "ACC: 0.9999893285525249 \n",
      "Matthews: 0.99150006085078 \n",
      "TPR: 0.9887005649717514 \n",
      "FPR: 3.559390205270033e-06 \n",
      "Positive pred val: 0.9943181818181818 \n",
      "The Matrix: [[175.0, 1.0], [2.0, 280946.0]] \n",
      "\n",
      "G3LH89 FP\n",
      "Q9BQY6 FN\n",
      "Q11101 FN\n",
      "Threshold: 1e-12 \n",
      "ACC: 0.9999893285525249 \n",
      "Matthews: 0.99150006085078 \n",
      "TPR: 0.9887005649717514 \n",
      "FPR: 3.559390205270033e-06 \n",
      "Positive pred val: 0.9943181818181818 \n",
      "The Matrix: [[175.0, 1.0], [2.0, 280946.0]] \n",
      "\n",
      "G3LH89 FP\n",
      "P0CH75 FN\n",
      "Q9BQY6 FN\n",
      "Q11101 FN\n",
      "Threshold: 1e-13 \n",
      "ACC: 0.9999857714033665 \n",
      "Matthews: 0.9886452234855595 \n",
      "TPR: 0.9830508474576272 \n",
      "FPR: 3.559390205270033e-06 \n",
      "Positive pred val: 0.9942857142857143 \n",
      "The Matrix: [[174.0, 1.0], [3.0, 280946.0]] \n",
      "\n",
      "G3LH89 FP\n",
      "P26226 FN\n",
      "P0CH75 FN\n",
      "Q9BQY6 FN\n",
      "Q11101 FN\n",
      "Threshold: 1e-14 \n",
      "ACC: 0.9999822142542081 \n",
      "Matthews: 0.9857821399921793 \n",
      "TPR: 0.9774011299435028 \n",
      "FPR: 3.559390205270033e-06 \n",
      "Positive pred val: 0.9942528735632183 \n",
      "The Matrix: [[173.0, 1.0], [4.0, 280946.0]] \n",
      "\n",
      "G3LH89 FP\n",
      "C0LNR2 FN\n",
      "G9I929 FN\n",
      "Q2ES49 FN\n",
      "P26226 FN\n",
      "P0CH75 FN\n",
      "Q9BQY6 FN\n",
      "Q11101 FN\n",
      "Threshold: 1e-15 \n",
      "ACC: 0.999971542806733 \n",
      "Matthews: 0.977142687038012 \n",
      "TPR: 0.96045197740113 \n",
      "FPR: 3.559390205270033e-06 \n",
      "Positive pred val: 0.9941520467836257 \n",
      "The Matrix: [[170.0, 1.0], [7.0, 280946.0]] \n",
      "\n",
      "G3LH89 FP\n",
      "Q7Z1K3 FN\n",
      "Q9W728 FN\n",
      "Q75S49 FN\n",
      "P00987 FN\n",
      "C0LNR2 FN\n",
      "G9I929 FN\n",
      "Q2ES49 FN\n",
      "P26226 FN\n",
      "P0CH75 FN\n",
      "Threshold: 1e-16 \n",
      "ACC: 0.9999573142100995 \n",
      "Matthews: 0.9655034768489065 \n",
      "TPR: 0.9378531073446328 \n",
      "FPR: 3.559390205270033e-06 \n",
      "Positive pred val: 0.9940119760479041 \n",
      "The Matrix: [[166.0, 1.0], [11.0, 280946.0]] \n",
      "\n",
      "G3LH89 FP\n",
      "B4ESA2 FN\n",
      "Q7Z1K3 FN\n",
      "Q9W728 FN\n",
      "Q75S49 FN\n",
      "P00987 FN\n",
      "C0LNR2 FN\n",
      "G9I929 FN\n",
      "Q2ES49 FN\n",
      "P26226 FN\n",
      "Threshold: 1e-17 \n",
      "ACC: 0.999953757060941 \n",
      "Matthews: 0.962571739463969 \n",
      "TPR: 0.9322033898305084 \n",
      "FPR: 3.559390205270033e-06 \n",
      "Positive pred val: 0.9939759036144579 \n",
      "The Matrix: [[165.0, 1.0], [12.0, 280946.0]] \n",
      "\n",
      "G3LH89 FP\n",
      "P36992 FN\n",
      "O73683 FN\n",
      "D2Y2G0 FN\n",
      "P0DMW8 FN\n",
      "Q1RPT0 FN\n",
      "D2Y2G2 FN\n",
      "P0DJ68 FN\n",
      "B4ESA2 FN\n",
      "Q7Z1K3 FN\n",
      "Threshold: 1e-18 \n",
      "ACC: 0.9999288570168324 \n",
      "Matthews: 0.9417947126468414 \n",
      "TPR: 0.8926553672316384 \n",
      "FPR: 3.559390205270033e-06 \n",
      "Positive pred val: 0.9937106918238994 \n",
      "The Matrix: [[158.0, 1.0], [19.0, 280946.0]] \n",
      "\n",
      "G3LH89 FP\n",
      "Q07456 FN\n",
      "P36992 FN\n",
      "P07481 FN\n",
      "P0DJ64 FN\n",
      "D2Y2F9 FN\n",
      "P0DJ65 FN\n",
      "Q6UDR6 FN\n",
      "O73683 FN\n",
      "D2Y2G0 FN\n",
      "Threshold: 1e-19 \n",
      "ACC: 0.9999075141218822 \n",
      "Matthews: 0.9236148143690402 \n",
      "TPR: 0.8587570621468926 \n",
      "FPR: 3.559390205270033e-06 \n",
      "Positive pred val: 0.9934640522875817 \n",
      "The Matrix: [[152.0, 1.0], [25.0, 280946.0]] \n",
      "\n"
     ]
    }
   ],
   "source": [
    " python performance.py <(cat both_r2.out r2_positive.out)"
   ]
  },
  {
   "cell_type": "code",
   "execution_count": 7,
   "metadata": {
    "colab_type": "text",
    "id": "FuKR9BEpMofG"
   },
   "outputs": [
    {
     "name": "stdout",
     "output_type": "stream",
     "text": [
      "G3LH89 FP\n",
      "P83605 FP\n",
      "P85039 FP\n",
      "P56409 FP\n",
      "P84556 FP\n",
      "P0DM47 FP\n",
      "Q9FF80 FP\n",
      "Q91694 FP\n",
      "Q91736 FP\n",
      "Threshold: 1 \n",
      "ACC: 0.7160541255815939 \n",
      "Matthews: 0.0397976652837338 \n",
      "TPR: 1.0 \n",
      "FPR: 0.28412476374547513 \n",
      "Positive pred val: 0.0022124723440956986 \n",
      "The Matrix: [[177.0, 79824.0], [0.0, 201123.0]] \n",
      "\n",
      "G3LH89 FP\n",
      "P83605 FP\n",
      "P85039 FP\n",
      "P56409 FP\n",
      "P84556 FP\n",
      "P0DM47 FP\n",
      "Q9FF80 FP\n",
      "Q91694 FP\n",
      "Q91736 FP\n",
      "Threshold: 0.1 \n",
      "ACC: 0.9618246752322819 \n",
      "Matthews: 0.12492135595680638 \n",
      "TPR: 1.0 \n",
      "FPR: 0.038199375682957996 \n",
      "Positive pred val: 0.01622513520946008 \n",
      "The Matrix: [[177.0, 10732.0], [0.0, 270215.0]] \n",
      "\n",
      "G3LH89 FP\n",
      "P83605 FP\n",
      "P85039 FP\n",
      "P56409 FP\n",
      "P84556 FP\n",
      "P0DM47 FP\n",
      "Q9FF80 FP\n",
      "Q91694 FP\n",
      "Q91736 FP\n",
      "Threshold: 0.01 \n",
      "ACC: 0.9959661928543988 \n",
      "Matthews: 0.3666967253993352 \n",
      "TPR: 1.0 \n",
      "FPR: 0.004036348492776218 \n",
      "Positive pred val: 0.13501144164759726 \n",
      "The Matrix: [[177.0, 1134.0], [0.0, 279813.0]] \n",
      "\n",
      "G3LH89 FP\n",
      "P83605 FP\n",
      "P85039 FP\n",
      "P56409 FP\n",
      "P84556 FP\n",
      "P0DM47 FP\n",
      "Q9FF80 FP\n",
      "Q91694 FP\n",
      "Q91736 FP\n",
      "Threshold: 0.001 \n",
      "ACC: 0.9997545567080719 \n",
      "Matthews: 0.848136477473065 \n",
      "TPR: 1.0 \n",
      "FPR: 0.0002455979241636323 \n",
      "Positive pred val: 0.7195121951219512 \n",
      "The Matrix: [[177.0, 69.0], [0.0, 280878.0]] \n",
      "\n",
      "G3LH89 FP\n",
      "P83605 FP\n",
      "P85039 FP\n",
      "P56409 FP\n",
      "P84556 FP\n",
      "P0DM47 FP\n",
      "Q9FF80 FP\n",
      "Q91694 FP\n",
      "Q91736 FP\n",
      "Threshold: 0.0001 \n",
      "ACC: 0.9999395284643076 \n",
      "Matthews: 0.9551523055396415 \n",
      "TPR: 1.0 \n",
      "FPR: 6.0509633489590564e-05 \n",
      "Positive pred val: 0.9123711340206185 \n",
      "The Matrix: [[177.0, 17.0], [0.0, 280930.0]] \n",
      "\n",
      "G3LH89 FP\n",
      "P83605 FP\n",
      "P85039 FP\n",
      "P56409 FP\n",
      "P84556 FP\n",
      "P0DM47 FP\n",
      "Threshold: 1e-05 \n",
      "ACC: 0.9999786571050497 \n",
      "Matthews: 0.9834594341510869 \n",
      "TPR: 1.0 \n",
      "FPR: 2.13563412316202e-05 \n",
      "Positive pred val: 0.9672131147540983 \n",
      "The Matrix: [[177.0, 6.0], [0.0, 280941.0]] \n",
      "\n",
      "G3LH89 FP\n",
      "P83605 FP\n",
      "P85039 FP\n",
      "P56409 FP\n",
      "P84556 FP\n",
      "Threshold: 1e-06 \n",
      "ACC: 0.9999822142542081 \n",
      "Matthews: 0.9861592997602731 \n",
      "TPR: 1.0 \n",
      "FPR: 1.7796951026350167e-05 \n",
      "Positive pred val: 0.9725274725274725 \n",
      "The Matrix: [[177.0, 5.0], [0.0, 280942.0]] \n",
      "\n",
      "G3LH89 FP\n",
      "P83605 FP\n",
      "Threshold: 1e-07 \n",
      "ACC: 0.9999928857016832 \n",
      "Matthews: 0.9943941755669597 \n",
      "TPR: 1.0 \n",
      "FPR: 7.118780410540066e-06 \n",
      "Positive pred val: 0.9888268156424581 \n",
      "The Matrix: [[177.0, 2.0], [0.0, 280945.0]] \n",
      "\n",
      "G3LH89 FP\n",
      "Threshold: 1e-08 \n",
      "ACC: 0.9999964428508417 \n",
      "Matthews: 0.9971852802154066 \n",
      "TPR: 1.0 \n",
      "FPR: 3.559390205270033e-06 \n",
      "Positive pred val: 0.9943820224719101 \n",
      "The Matrix: [[177.0, 1.0], [0.0, 280946.0]] \n",
      "\n",
      "G3LH89 FP\n",
      "Threshold: 1e-09 \n",
      "ACC: 0.9999964428508417 \n",
      "Matthews: 0.9971852802154066 \n",
      "TPR: 1.0 \n",
      "FPR: 3.559390205270033e-06 \n",
      "Positive pred val: 0.9943820224719101 \n",
      "The Matrix: [[177.0, 1.0], [0.0, 280946.0]] \n",
      "\n",
      "G3LH89 FP\n",
      "Threshold: 1e-10 \n",
      "ACC: 0.9999964428508417 \n",
      "Matthews: 0.9971852802154066 \n",
      "TPR: 1.0 \n",
      "FPR: 3.559390205270033e-06 \n",
      "Positive pred val: 0.9943820224719101 \n",
      "The Matrix: [[177.0, 1.0], [0.0, 280946.0]] \n",
      "\n",
      "G3LH89 FP\n",
      "Q9BQY6 FN\n",
      "Q11101 FN\n",
      "Threshold: 1e-11 \n",
      "ACC: 0.9999893285525249 \n",
      "Matthews: 0.99150006085078 \n",
      "TPR: 0.9887005649717514 \n",
      "FPR: 3.559390205270033e-06 \n",
      "Positive pred val: 0.9943181818181818 \n",
      "The Matrix: [[175.0, 1.0], [2.0, 280946.0]] \n",
      "\n",
      "G3LH89 FP\n",
      "Q9BQY6 FN\n",
      "Q11101 FN\n",
      "Threshold: 1e-12 \n",
      "ACC: 0.9999893285525249 \n",
      "Matthews: 0.99150006085078 \n",
      "TPR: 0.9887005649717514 \n",
      "FPR: 3.559390205270033e-06 \n",
      "Positive pred val: 0.9943181818181818 \n",
      "The Matrix: [[175.0, 1.0], [2.0, 280946.0]] \n",
      "\n",
      "G3LH89 FP\n",
      "P0CH75 FN\n",
      "Q9BQY6 FN\n",
      "Q11101 FN\n",
      "Threshold: 1e-13 \n",
      "ACC: 0.9999857714033665 \n",
      "Matthews: 0.9886452234855595 \n",
      "TPR: 0.9830508474576272 \n",
      "FPR: 3.559390205270033e-06 \n",
      "Positive pred val: 0.9942857142857143 \n",
      "The Matrix: [[174.0, 1.0], [3.0, 280946.0]] \n",
      "\n",
      "G3LH89 FP\n",
      "P26226 FN\n",
      "P0CH75 FN\n",
      "Q9BQY6 FN\n",
      "Q11101 FN\n",
      "Threshold: 1e-14 \n",
      "ACC: 0.9999822142542081 \n",
      "Matthews: 0.9857821399921793 \n",
      "TPR: 0.9774011299435028 \n",
      "FPR: 3.559390205270033e-06 \n",
      "Positive pred val: 0.9942528735632183 \n",
      "The Matrix: [[173.0, 1.0], [4.0, 280946.0]] \n",
      "\n",
      "G3LH89 FP\n",
      "C0LNR2 FN\n",
      "G9I929 FN\n",
      "Q2ES49 FN\n",
      "P26226 FN\n",
      "P0CH75 FN\n",
      "Q9BQY6 FN\n",
      "Q11101 FN\n",
      "Threshold: 1e-15 \n",
      "ACC: 0.999971542806733 \n",
      "Matthews: 0.977142687038012 \n",
      "TPR: 0.96045197740113 \n",
      "FPR: 3.559390205270033e-06 \n",
      "Positive pred val: 0.9941520467836257 \n",
      "The Matrix: [[170.0, 1.0], [7.0, 280946.0]] \n",
      "\n",
      "G3LH89 FP\n",
      "Q7Z1K3 FN\n",
      "Q9W728 FN\n",
      "Q75S49 FN\n",
      "P00987 FN\n",
      "C0LNR2 FN\n",
      "G9I929 FN\n",
      "Q2ES49 FN\n",
      "P26226 FN\n",
      "P0CH75 FN\n",
      "Threshold: 1e-16 \n",
      "ACC: 0.9999573142100995 \n",
      "Matthews: 0.9655034768489065 \n",
      "TPR: 0.9378531073446328 \n",
      "FPR: 3.559390205270033e-06 \n",
      "Positive pred val: 0.9940119760479041 \n",
      "The Matrix: [[166.0, 1.0], [11.0, 280946.0]] \n",
      "\n",
      "G3LH89 FP\n",
      "B4ESA2 FN\n",
      "Q7Z1K3 FN\n",
      "Q9W728 FN\n",
      "Q75S49 FN\n",
      "P00987 FN\n",
      "C0LNR2 FN\n",
      "G9I929 FN\n",
      "Q2ES49 FN\n",
      "P26226 FN\n",
      "Threshold: 1e-17 \n",
      "ACC: 0.999953757060941 \n",
      "Matthews: 0.962571739463969 \n",
      "TPR: 0.9322033898305084 \n",
      "FPR: 3.559390205270033e-06 \n",
      "Positive pred val: 0.9939759036144579 \n",
      "The Matrix: [[165.0, 1.0], [12.0, 280946.0]] \n",
      "\n",
      "G3LH89 FP\n",
      "P36992 FN\n",
      "O73683 FN\n",
      "D2Y2G0 FN\n",
      "P0DMW8 FN\n",
      "Q1RPT0 FN\n",
      "D2Y2G2 FN\n",
      "P0DJ68 FN\n",
      "B4ESA2 FN\n",
      "Q7Z1K3 FN\n",
      "Threshold: 1e-18 \n",
      "ACC: 0.9999288570168324 \n",
      "Matthews: 0.9417947126468414 \n",
      "TPR: 0.8926553672316384 \n",
      "FPR: 3.559390205270033e-06 \n",
      "Positive pred val: 0.9937106918238994 \n",
      "The Matrix: [[158.0, 1.0], [19.0, 280946.0]] \n",
      "\n",
      "G3LH89 FP\n",
      "Q07456 FN\n",
      "P36992 FN\n",
      "P07481 FN\n",
      "P0DJ64 FN\n",
      "D2Y2F9 FN\n",
      "P0DJ65 FN\n",
      "Q6UDR6 FN\n",
      "O73683 FN\n",
      "D2Y2G0 FN\n",
      "Threshold: 1e-19 \n",
      "ACC: 0.9999075141218822 \n",
      "Matthews: 0.9236148143690402 \n",
      "TPR: 0.8587570621468926 \n",
      "FPR: 3.559390205270033e-06 \n",
      "Positive pred val: 0.9934640522875817 \n",
      "The Matrix: [[152.0, 1.0], [25.0, 280946.0]] \n",
      "\n"
     ]
    }
   ],
   "source": [
    "python performance.py <(cat both_r2.out r2_positive.out)"
   ]
  }
 ],
 "metadata": {
  "colab": {
   "collapsed_sections": [],
   "name": "Copy of hhm_kunitz_domain.ipynb",
   "provenance": []
  },
  "kernelspec": {
   "display_name": "Bash",
   "language": "bash",
   "name": "bash"
  },
  "language_info": {
   "codemirror_mode": "shell",
   "file_extension": ".sh",
   "mimetype": "text/x-sh",
   "name": "bash"
  }
 },
 "nbformat": 4,
 "nbformat_minor": 2
}
