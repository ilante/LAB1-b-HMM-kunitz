{
 "cells": [
  {
   "cell_type": "markdown",
   "metadata": {},
   "source": [
    " Think of one human chromosome and the pos of the GCP island and calculate all the parameters that are important to define a HMM for gpc - islands.\n",
    " Let's start with where we can find the data. UCSC Golden path. \n",
    " \n",
    " Greg Wender...\n",
    " \n",
    " Some of the ppl who have been strongly invoved are Gene Meyers, and David Hussler.\n",
    " \n",
    " [Genome browser](www.genome.ucsc.edu) is the standard interfache where you can search for human genomes. But there is one part that is an ftp server.\n",
    " \n",
    " ![To be found in downloads](1.png)\n",
    " \n",
    " "
   ]
  },
  {
   "cell_type": "code",
   "execution_count": 1,
   "metadata": {},
   "outputs": [
    {
     "name": "stdout",
     "output_type": "stream",
     "text": [
      "Warning: Failed to set locale category LC_NUMERIC to en_NO.\n",
      "Warning: Failed to set locale category LC_TIME to en_NO.\n",
      "Warning: Failed to set locale category LC_COLLATE to en_NO.\n",
      "Warning: Failed to set locale category LC_MONETARY to en_NO.\n",
      "Warning: Failed to set locale category LC_MESSAGES to en_NO.\n",
      "--2020-05-02 22:42:07--  https://hgdownload.soe.ucsc.edu/goldenPath/hg38/chromosomes/chr21.fa.gz\n",
      "Resolving hgdownload.soe.ucsc.edu (hgdownload.soe.ucsc.edu)... 128.114.119.163\n",
      "Connecting to hgdownload.soe.ucsc.edu (hgdownload.soe.ucsc.edu)|128.114.119.163|:443... connected.\n",
      "HTTP request sent, awaiting response... 200 OK\n",
      "Length: 12709705 (12M) [application/x-gzip]\n",
      "Saving to: ‘chr21.fa.gz’\n",
      "\n",
      "chr21.fa.gz         100%[===================>]  12.12M  2.36MB/s    in 9.2s    \n",
      "\n",
      "2020-05-02 22:42:17 (1.32 MB/s) - ‘chr21.fa.gz’ saved [12709705/12709705]\n",
      "\n"
     ]
    }
   ],
   "source": [
    "!wget https://hgdownload.soe.ucsc.edu/goldenPath/hg38/chromosomes/chr21.fa.gz"
   ]
  },
  {
   "cell_type": "code",
   "execution_count": 2,
   "metadata": {},
   "outputs": [
    {
     "name": "stdout",
     "output_type": "stream",
     "text": [
      "L15L_02.4.2020.ipynb chr21.fa.gz\n"
     ]
    }
   ],
   "source": [
    "!ls"
   ]
  },
  {
   "cell_type": "code",
   "execution_count": 5,
   "metadata": {},
   "outputs": [
    {
     "name": "stdout",
     "output_type": "stream",
     "text": [
      "gunzip: can't stat: chr21.fa.gz (chr21.fa.gz.gz): No such file or directory\n"
     ]
    }
   ],
   "source": [
    "#unzip it\n",
    "!gunzip chr21.fa.gz"
   ]
  },
  {
   "cell_type": "code",
   "execution_count": 14,
   "metadata": {},
   "outputs": [
    {
     "name": "stdout",
     "output_type": "stream",
     "text": [
      "L15L_02.4.2020.ipynb  chr21.fa\n"
     ]
    }
   ],
   "source": [
    "ls"
   ]
  },
  {
   "cell_type": "markdown",
   "metadata": {},
   "source": [
    "N means unknown nucleotide - the part below shows the telomer"
   ]
  },
  {
   "cell_type": "code",
   "execution_count": 13,
   "metadata": {},
   "outputs": [
    {
     "name": "stdout",
     "output_type": "stream",
     "text": [
      ">chr21\n",
      "NNNNNNNNNNNNNNNNNNNNNNNNNNNNNNNNNNNNNNNNNNNNNNNNNN\n",
      "NNNNNNNNNNNNNNNNNNNNNNNNNNNNNNNNNNNNNNNNNNNNNNNNNN\n",
      "NNNNNNNNNNNNNNNNNNNNNNNNNNNNNNNNNNNNNNNNNNNNNNNNNN\n",
      "NNNNNNNNNNNNNNNNNNNNNNNNNNNNNNNNNNNNNNNNNNNNNNNNNN\n",
      "NNNNNNNNNNNNNNNNNNNNNNNNNNNNNNNNNNNNNNNNNNNNNNNNNN\n",
      "NNNNNNNNNNNNNNNNNNNNNNNNNNNNNNNNNNNNNNNNNNNNNNNNNN\n",
      "NNNNNNNNNNNNNNNNNNNNNNNNNNNNNNNNNNNNNNNNNNNNNNNNNN\n",
      "NNNNNNNNNNNNNNNNNNNNNNNNNNNNNNNNNNNNNNNNNNNNNNNNNN\n",
      "NNNNNNNNNNNNNNNNNNNNNNNNNNNNNNNNNNNNNNNNNNNNNNNNNN\n",
      "NNNNNNNNNNNNNNNNNNNNNNNNNNNNNNNNNNNNNNNNNNNNNNNNNN\n",
      "NNNNNNNNNNNNNNNNNNNNNNNNNNNNNNNNNNNNNNNNNNNNNNNNNN\n",
      "NNNNNNNNNNNNNNNNNNNNNNNNNNNNNNNNNNNNNNNNNNNNNNNNNN\n",
      "NNNNNNNNNNNNNNNNNNNNNNNNNNNNNNNNNNNNNNNNNNNNNNNNNN\n",
      "NNNNNNNNNNNNNNNNNNNNNNNNNNNNNNNNNNNNNNNNNNNNNNNNNN\n",
      "NNNNNNNNNNNNNNNNNNNNNNNNNNNNNNNNNNNNNNNNNNNNNNNNNN\n",
      "NNNNNNNNNNNNNNNNNNNNNNNNNNNNNNNNNNNNNNNNNNNNNNNNNN\n",
      "NNNNNNNNNNNNNNNNNNNNNNNNNNNNNNNNNNNNNNNNNNNNNNNNNN\n",
      "NNNNNNNNNNNNNNNNNNNNNNNNNNNNNNNNNNNNNNNNNNNNNNNNNN\n",
      "NNNNNNNNNNNNNNNNNNNNNNNNNNNNNNNNNNNNNNNNNNNNNNNNNN\n",
      "NNNNNNNNNNNNNNNNNNNNNNNNNNNNNNNNNNNNNNNNNNNNNNNNNN\n",
      "NNNNNNNNNNNNNNNNNNNNNNNNNNNNNNNNNNNNNNNNNNNNNNNNNN\n",
      "NNNNNNNNNNNNNNNNNNNNNNNNNNNNNNNNNNNNNNNNNNNNNNNNNN\n",
      "NNNNNNNNNNNNNNNNNNNNNNNNNNNNNNNNNNNNNNNNNNNNNNNNNN\n",
      "NNNNNNNNNNNNNNNNNNNNNNNNNNNNNNNNNNNNNNNNNNNNNNNNNN\n",
      "NNNNNNNNNNNNNNNNNNNNNNNNNNNNNNNNNNNNNNNNNNNNNNNNNN\n",
      "NNNNNNNNNNNNNNNNNNNNNNNNNNNNNNNNNNNNNNNNNNNNNNNNNN\n",
      "NNNNNNNNNNNNNNNNNNNNNNNNNNNNNNNNNNNNNNNNNNNNNNNNNN\n",
      "NNNNNNNNNNNNNNNNNNNNNNNNNNNNNNNNNNNNNNNNNNNNNNNNNN\n",
      "NNNNNNNNNNNNNNNNNNNNNNNNNNNNNNNNNNNNNNNNNNNNNNNNNN\n",
      "NNNNNNNNNNNNNNNNNNNNNNNNNNNNNNNNNNNNNNNNNNNNNNNNNN\n",
      "NNNNNNNNNNNNNNNNNNNNNNNNNNNNNNNNNNNNNNNNNNNNNNNNNN\n",
      "NNNNNNNNNNNNNNNNNNNNNNNNNNNNNNNNNNNNNNNNNNNNNNNNNN\n",
      "NNNNNNNNNNNNNNNNNNNNNNNNNNNNNNNNNNNNNNNNNNNNNNNNNN\n",
      "NNNNNNNNNNNNNNNNNNNNNNNNNNNNNNNNNNNNNNNNNNNNNNNNNN\n",
      "NNNNNNNNNNNNNNNNNNNNNNNNNNNNNNNNNNNNNNNNNNNNNNNNNN\n",
      "NNNNNNNNNNNNNNNNNNNNNNNNNNNNNNNNNNNNNNNNNNNNNNNNNN\n",
      "NNNNNNNNNNNNNNNNNNNNNNNNNNNNNNNNNNNNNNNNNNNNNNNNNN\n",
      "NNNNNNNNNNNNNNNNNNNNNNNNNNNNNNNNNNNNNNNNNNNNNNNNNN\n",
      "NNNNNNNNNNNNNNNNNNNNNNNNNNNNNNNNNNNNNNNNNNNNNNNNNN\n"
     ]
    }
   ],
   "source": [
    "!head -40 chr21.fa #lets check out the first 40 lines"
   ]
  },
  {
   "cell_type": "markdown",
   "metadata": {},
   "source": [
    "Now we'll wget a cpg island from \n",
    "\n",
    "![](2.png)"
   ]
  },
  {
   "cell_type": "code",
   "execution_count": 16,
   "metadata": {},
   "outputs": [
    {
     "name": "stdout",
     "output_type": "stream",
     "text": [
      "Warning: Failed to set locale category LC_NUMERIC to en_NO.\n",
      "Warning: Failed to set locale category LC_TIME to en_NO.\n",
      "Warning: Failed to set locale category LC_COLLATE to en_NO.\n",
      "Warning: Failed to set locale category LC_MONETARY to en_NO.\n",
      "Warning: Failed to set locale category LC_MESSAGES to en_NO.\n",
      "--2020-05-02 22:55:41--  https://hgdownload.soe.ucsc.edu/goldenPath/hg38/database/cpgIslandExt.txt.gz\n",
      "Resolving hgdownload.soe.ucsc.edu (hgdownload.soe.ucsc.edu)... 128.114.119.163\n",
      "Connecting to hgdownload.soe.ucsc.edu (hgdownload.soe.ucsc.edu)|128.114.119.163|:443... connected.\n",
      "HTTP request sent, awaiting response... 200 OK\n",
      "Length: 698279 (682K) [application/x-gzip]\n",
      "Saving to: ‘cpgIslandExt.txt.gz’\n",
      "\n",
      "cpgIslandExt.txt.gz 100%[===================>] 681.91K   273KB/s    in 2.5s    \n",
      "\n",
      "2020-05-02 22:55:44 (273 KB/s) - ‘cpgIslandExt.txt.gz’ saved [698279/698279]\n",
      "\n"
     ]
    }
   ],
   "source": [
    "! wget https://hgdownload.soe.ucsc.edu/goldenPath/hg38/database/cpgIslandExt.txt.gz"
   ]
  },
  {
   "cell_type": "code",
   "execution_count": 17,
   "metadata": {},
   "outputs": [
    {
     "name": "stdout",
     "output_type": "stream",
     "text": [
      "L15L_02.4.2020.ipynb  chr21.fa              cpgIslandExt.txt.gz\n"
     ]
    }
   ],
   "source": [
    "ls"
   ]
  },
  {
   "cell_type": "code",
   "execution_count": 18,
   "metadata": {},
   "outputs": [],
   "source": [
    "!gunzip cpgIslandExt.txt.gz"
   ]
  },
  {
   "cell_type": "code",
   "execution_count": 21,
   "metadata": {},
   "outputs": [
    {
     "name": "stdout",
     "output_type": "stream",
     "text": [
      "L15L_02.4.2020.ipynb  chr21.fa              cpgIslandExt.txt\n"
     ]
    }
   ],
   "source": [
    "ls"
   ]
  },
  {
   "cell_type": "markdown",
   "metadata": {},
   "source": [
    "Goldenpath is one of the references for the genomes along with ensembl and ncbi.\n",
    "This file contains the CpG regions. There are some  "
   ]
  },
  {
   "cell_type": "code",
   "execution_count": 20,
   "metadata": {},
   "outputs": [
    {
     "name": "stdout",
     "output_type": "stream",
     "text": [
      "585\tchr1\t28735\t29737\tCpG: 111\t1002\t111\t731\t22.2\t73\t0.85\n",
      "586\tchr1\t135124\t135563\tCpG: 30\t439\t30\t295\t13.7\t67.2\t0.64\n",
      "586\tchr1\t199251\t200121\tCpG: 104\t870\t104\t643\t23.9\t73.9\t0.89\n",
      "587\tchr1\t368792\t370063\tCpG: 99\t1271\t99\t777\t15.6\t61.1\t0.84\n",
      "587\tchr1\t381172\t382185\tCpG: 84\t1013\t84\t734\t16.6\t72.5\t0.64\n",
      "588\tchr1\t491107\t491546\tCpG: 29\t439\t29\t295\t13.2\t67.2\t0.62\n",
      "589\tchr1\t597839\t598734\tCpG: 94\t895\t94\t570\t21\t63.7\t1.04\n",
      "589\tchr1\t609358\t611269\tCpG: 171\t1911\t171\t1405\t17.9\t73.5\t0.67\n",
      "590\tchr1\t778604\t779167\tCpG: 60\t563\t60\t385\t21.3\t68.4\t0.92\n",
      "591\tchr1\t827036\t828065\tCpG: 111\t1029\t111\t657\t21.6\t63.8\t1.09\n",
      "591\tchr1\t853483\t853831\tCpG: 28\t348\t28\t192\t16.1\t55.2\t1.06\n",
      "591\tchr1\t866595\t866958\tCpG: 24\t363\t24\t243\t13.2\t66.9\t0.79\n",
      "591\tchr1\t869818\t870248\tCpG: 50\t430\t50\t316\t23.3\t73.5\t0.87\n",
      "591\tchr1\t904314\t905239\tCpG: 119\t925\t119\t693\t25.7\t74.9\t0.92\n",
      "591\tchr1\t908919\t910503\tCpG: 154\t1584\t154\t1106\t19.4\t69.8\t0.82\n",
      "592\tchr1\t919385\t919593\tCpG: 16\t208\t16\t140\t15.4\t67.3\t0.68\n",
      "592\tchr1\t923590\t926252\tCpG: 325\t2662\t325\t1919\t24.4\t72.1\t0.94\n",
      "592\tchr1\t933952\t934964\tCpG: 92\t1012\t92\t746\t18.2\t73.7\t0.88\n",
      "592\tchr1\t935577\t935956\tCpG: 27\t379\t27\t255\t14.2\t67.3\t0.63\n",
      "592\tchr1\t936259\t936492\tCpG: 20\t233\t20\t173\t17.2\t74.2\t0.63\n",
      "592\tchr1\t940225\t942983\tCpG: 254\t2758\t254\t1906\t18.4\t69.1\t0.77\n",
      "592\tchr1\t950976\t951222\tCpG: 18\t246\t18\t163\t14.6\t66.3\t0.67\n",
      "592\tchr1\t958933\t967274\tCpG: 616\t8341\t616\t5522\t14.8\t66.2\t0.67\n",
      "592\tchr1\t970916\t971158\tCpG: 23\t242\t23\t175\t19\t72.3\t0.74\n",
      "592\tchr1\t976046\t979425\tCpG: 248\t3379\t248\t2430\t14.7\t71.9\t0.62\n",
      "592\tchr1\t984346\t984547\tCpG: 15\t201\t15\t139\t14.9\t69.2\t0.63\n",
      "592\tchr1\t998007\t1002030\tCpG: 410\t4023\t410\t2687\t20.4\t66.8\t0.91\n",
      "592\tchr1\t1013290\t1013514\tCpG: 19\t224\t19\t138\t17\t61.6\t0.89\n",
      "592\tchr1\t1013949\t1014471\tCpG: 35\t522\t35\t344\t13.4\t65.9\t0.62\n",
      "592\tchr1\t1019388\t1020963\tCpG: 135\t1575\t135\t824\t17.1\t52.3\t1.26\n"
     ]
    }
   ],
   "source": [
    "! head -30 cpgIslandExt.txt"
   ]
  },
  {
   "cell_type": "markdown",
   "metadata": {},
   "source": [
    "I need to extract the information about the region that I'm looking for and see what the sequence is. I would look at the seq file, load all the seq in the memory and **try to match** the **region with the seq**. With large seq this approach is not feasible."
   ]
  },
  {
   "cell_type": "code",
   "execution_count": 3,
   "metadata": {},
   "outputs": [
    {
     "name": "stdout",
     "output_type": "stream",
     "text": [
      "     446    5352   27648\n"
     ]
    }
   ],
   "source": [
    "#grep -w looking for full words\n",
    "!grep -w chr21 cpgIslandExt.txt |wc "
   ]
  },
  {
   "cell_type": "code",
   "execution_count": null,
   "metadata": {},
   "outputs": [],
   "source": []
  },
  {
   "cell_type": "code",
   "execution_count": 1,
   "metadata": {},
   "outputs": [
    {
     "ename": "NameError",
     "evalue": "name 'get_seq' is not defined",
     "output_type": "error",
     "traceback": [
      "\u001b[0;31m---------------------------------------------------------------------------\u001b[0m",
      "\u001b[0;31mNameError\u001b[0m                                 Traceback (most recent call last)",
      "\u001b[0;32m<ipython-input-1-bb5038049457>\u001b[0m in \u001b[0;36m<module>\u001b[0;34m()\u001b[0m\n\u001b[1;32m     19\u001b[0m     \u001b[0mbedfile\u001b[0m\u001b[0;34m=\u001b[0m\u001b[0msys\u001b[0m\u001b[0;34m.\u001b[0m\u001b[0margv\u001b[0m\u001b[0;34m[\u001b[0m\u001b[0;36m1\u001b[0m\u001b[0;34m]\u001b[0m\u001b[0;34m\u001b[0m\u001b[0;34m\u001b[0m\u001b[0m\n\u001b[1;32m     20\u001b[0m     \u001b[0mseqfile\u001b[0m\u001b[0;34m=\u001b[0m\u001b[0msys\u001b[0m\u001b[0;34m.\u001b[0m\u001b[0margv\u001b[0m\u001b[0;34m[\u001b[0m\u001b[0;36m2\u001b[0m\u001b[0;34m]\u001b[0m\u001b[0;34m\u001b[0m\u001b[0;34m\u001b[0m\u001b[0m\n\u001b[0;32m---> 21\u001b[0;31m     \u001b[0mseq\u001b[0m\u001b[0;34m=\u001b[0m\u001b[0mget_seq\u001b[0m\u001b[0;34m(\u001b[0m\u001b[0mseqfile\u001b[0m\u001b[0;34m)\u001b[0m\u001b[0;34m\u001b[0m\u001b[0;34m\u001b[0m\u001b[0m\n\u001b[0m\u001b[1;32m     22\u001b[0m     \u001b[0mbed\u001b[0m\u001b[0;34m=\u001b[0m\u001b[0mget_ranges\u001b[0m\u001b[0;34m(\u001b[0m\u001b[0mbedfile\u001b[0m\u001b[0;34m)\u001b[0m\u001b[0;34m\u001b[0m\u001b[0;34m\u001b[0m\u001b[0m\n\u001b[1;32m     23\u001b[0m     \u001b[0mchr21\u001b[0m\u001b[0;34m=\u001b[0m\u001b[0mlen\u001b[0m\u001b[0;34m(\u001b[0m\u001b[0mseq\u001b[0m\u001b[0;34m)\u001b[0m\u001b[0;34m\u001b[0m\u001b[0;34m\u001b[0m\u001b[0m\n",
      "\u001b[0;31mNameError\u001b[0m: name 'get_seq' is not defined"
     ]
    }
   ],
   "source": [
    "#!/usr/bin/env   \n",
    "\n",
    "import sys\n",
    "\n",
    "def get_seq(seqfile):\n",
    "    seq=''\n",
    "    for line in open(seqfile):\n",
    "        if line[0] != '>' :seq=seq+line.rstrip()\n",
    "    return seq\n",
    "        \n",
    "def get_ranges(bedfile):\n",
    "    l=[]\n",
    "    for line in open(bedfile):\n",
    "        v=line.split()\n",
    "        l.append([v[1], int(v[2]), int(v[3])])\n",
    "    return l\n",
    "\n",
    "def match_seq(bed, seq): # go from beginning to the end of the ranges and got one by one and assign the ranges to gpc island\n",
    "    ''' Create a string that is as long as the chromosome with a chain of 'N' for the Non GCP regions and 'Y' for GCP regions.\n",
    "    We are trying to generate the same sequence oth the chromosome. To match the things on top of the other. So we start from\n",
    "    p0 wich is a No region and '''\n",
    "    s=''\n",
    "    n=len(bed)\n",
    "    p0=0 # we start from the initial pos 'like a cursor' - so this will move along the seq\n",
    "    for i in range(n): #in this case we dont check for the chomosome because we know allready where it is\n",
    "        s=s+(bed[i][1]-p0-1)*'N'\n",
    "        s=s+(bed[i][2]-bed[i][1])*'Y'\n",
    "        p0=bed[i][2]\n",
    "        print len(s)\n",
    "    s=s+(len(seq)-bed[i][2])*'N'\n",
    "    return s\n",
    "         \n",
    "if __name__ == '__main__': #makes your program executable even if it is a module with several files.\n",
    "    bedfile=sys.argv[1]\n",
    "    seqfile=sys.argv[2]\n",
    "    seq=get_seq(seqfile)\n",
    "    bed=get_ranges(bedfile)\n",
    "    chr21=len(seq)\n",
    "    nseq=match_seq(bed, seq)\n",
    "    print(len(nseq), len(seq)"
   ]
  },
  {
   "cell_type": "code",
   "execution_count": null,
   "metadata": {},
   "outputs": [],
   "source": [
    "when calling \n",
    "[](3.png)"
   ]
  },
  {
   "cell_type": "code",
   "execution_count": 27,
   "metadata": {},
   "outputs": [
    {
     "name": "stdout",
     "output_type": "stream",
     "text": [
      "python: can't open file 'gpc_model.py': [Errno 2] No such file or directory\n"
     ]
    }
   ],
   "source": [
    "python gpc_model.py "
   ]
  },
  {
   "cell_type": "code",
   "execution_count": null,
   "metadata": {},
   "outputs": [],
   "source": []
  },
  {
   "cell_type": "code",
   "execution_count": null,
   "metadata": {},
   "outputs": [],
   "source": []
  }
 ],
 "metadata": {
  "kernelspec": {
   "display_name": "Python 3",
   "language": "python",
   "name": "python3"
  },
  "language_info": {
   "codemirror_mode": {
    "name": "ipython",
    "version": 3
   },
   "file_extension": ".py",
   "mimetype": "text/x-python",
   "name": "python",
   "nbconvert_exporter": "python",
   "pygments_lexer": "ipython3",
   "version": "3.7.2"
  }
 },
 "nbformat": 4,
 "nbformat_minor": 2
}
