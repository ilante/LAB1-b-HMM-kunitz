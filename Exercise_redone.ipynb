{
 "cells": [
  {
   "cell_type": "markdown",
   "metadata": {},
   "source": [
    "# Exercise\n",
    "\n",
    "My step by step solutions enriched by [Saul's notes](https://drive.google.com/drive/folders/1EF6HW5NL9cM1hWLYa7bVL0bgMzEoqSBC)\n",
    "Build a *blast-based* method to predict the presence of BPTI/Kunitz domain\n",
    "in proteins available in SwissProt using the human proteins as a reference.\n",
    "* Select all Proteins in SwissProt with BPTI/Kunitz domain.\n",
    "* Separate human from non human proteins. Use the non human proteins\n",
    "as a positive in the testing set.\n",
    "* Generate a random set of negative of the same size of the positive set.\n",
    "* Remove both positives and negatives from SwissProt and perform the\n",
    "prediction based on the results of the blast search. \n",
    "\n",
    "checking the files we downloaded:"
   ]
  },
  {
   "cell_type": "markdown",
   "metadata": {},
   "source": [
    "## The idea:\n",
    "1. In swissprot: find all (human + non-human) Kunitz-containing proteins.\n",
    "2. use the **non-human** fraction as a **positive training set**\n",
    "3. Generate a **random** set of proteins as a negative set that has the same size as the positive set.\n",
    "4. Then remove the training set and do a prediction based on a Blast search."
   ]
  },
  {
   "cell_type": "markdown",
   "metadata": {},
   "source": [
    "1. **Find human and non-human Kunitz proteins in SwissProt**\n",
    "Searching all the human proteins in SwissProt containing the Kunitz domain.\n",
    "\n",
    "`reviewed:yes organism:\"Homo sapiens (Human) [9606]\" database:(type:pfam PF00014)`\n",
    "\n",
    "Retrieved 18 proteins. Download them in Fasta format."
   ]
  },
  {
   "cell_type": "code",
   "execution_count": 1,
   "metadata": {},
   "outputs": [
    {
     "name": "stdout",
     "output_type": "stream",
     "text": [
      "      18     200    1778\n"
     ]
    }
   ],
   "source": [
    "grep '>'  Human_PF00014.fasta |wc"
   ]
  },
  {
   "cell_type": "code",
   "execution_count": 2,
   "metadata": {},
   "outputs": [
    {
     "name": "stdout",
     "output_type": "stream",
     "text": [
      ">sp|Q06481|APLP2_HUMAN Amyloid-like protein 2 OS=Homo sapiens OX=9606 GN=APLP2 PE=1 SV=2\n",
      "MAATGTAAAAATGRLLLLLLVGLTAPALALAGYIEALAANAGTGFAVAEPQIAMFCGKLN\n",
      "MHVNIQTGKWEPDPTGTKSCFETKEEVLQYCQEMYPELQITNVMEANQRVSIDNWCRRDK\n",
      "KQCKSRFVTPFKCLVGEFVSDVLLVPEKCQFFHKERMEVCENHQHWHTVVKEACLTQGMT\n",
      "LYSYGMLLPCGVDQFHGTEYVCCPQTKIIGSVSKEEEEEDEEEEEEEDEEEDYDVYKSEF\n",
      "PTEADLEDFTEAAVDEDDEDEEEGEEVVEDRDYYYDTFKGDDYNEENPTEPGSDGTMSDK\n",
      "EITHDVKAVCSQEAMTGPCRAVMPRWYFDLSKGKCVRFIYGGCGGNRNNFESEDYCMAVC\n",
      "KAMIPPTPLPTNDVDVYFETSADDNEHARFQKAKEQLEIRHRNRMDRVKKEWEEAELQAK\n",
      "NLPKAERQTLIQHFQAMVKALEKEAASEKQQLVETHLARVEAMLNDRRRMALENYLAALQ\n",
      "SDPPRPHRILQALRRYVRAENKDRLHTIRHYQHVLAVDPEKAAQMKSQVMTHLHVIEERR\n"
     ]
    }
   ],
   "source": [
    "head Human_PF00014.fasta"
   ]
  },
  {
   "cell_type": "code",
   "execution_count": null,
   "metadata": {},
   "outputs": [],
   "source": []
  },
  {
   "cell_type": "markdown",
   "metadata": {},
   "source": [
    "Now I download all **non-Human** proteins that contain the **Kunitz Domain**: non human pf00014 file.\n",
    "\n",
    "`database:(type:pfam pf00014) NOT organism:\"Homo sapiens (Human) [9606]\" AND reviewed:yes`\n",
    "\n",
    "lets check how many sequences the fasta file contains."
   ]
  },
  {
   "cell_type": "code",
   "execution_count": 4,
   "metadata": {},
   "outputs": [
    {
     "name": "stdout",
     "output_type": "stream",
     "text": [
      "     341    3479   35934\n"
     ]
    }
   ],
   "source": [
    "grep '>' NotHuman_PF00014.fasta |wc"
   ]
  },
  {
   "cell_type": "code",
   "execution_count": 5,
   "metadata": {},
   "outputs": [
    {
     "name": "stdout",
     "output_type": "stream",
     "text": [
      ">sp|P08592|A4_RAT Amyloid-beta A4 protein OS=Rattus norvegicus OX=10116 GN=App PE=1 SV=2\n",
      "MLPSLALLLLAAWTVRALEVPTDGNAGLLAEPQIAMFCGKLNMHMNVQNGKWESDPSGTK\n",
      "TCIGTKEGILQYCQEVYPELQITNVVEANQPVTIQNWCKRGRKQCKTHTHIVIPYRCLVG\n",
      "EFVSDALLVPDKCKFLHQERMDVCETHLHWHTVAKETCSEKSTNLHDYGMLLPCGIDKFR\n",
      "GVEFVCCPLAEESDSIDSADAEEDDSDVWWGGADTDYADGGEDKVVEVAEEEEVADVEEE\n",
      "EAEDDEDVEDGDEVEEEAEEPYEEATERTTSIATTTTTTTESVEEVVREVCSEQAETGPC\n",
      "RAMISRWYFDVTEGKCAPFFYGGCGGNRNNFDTEEYCMAVCGSVSSQSLLKTTSEPLPQD\n",
      "PVKLPTTAASTPDAVDKYLETPGDENEHAHFQKAKERLEAKHRERMSQVMREWEEAERQA\n",
      "KNLPKADKKAVIQHFQEKVESLEQEAANERQQLVETHMARVEAMLNDRRRLALENYITAL\n",
      "QAVPPRPHHVFNMLKKYVRAEQKDRQHTLKHFEHVRMVDPKKAAQIRSQVMTHLRVIYER\n"
     ]
    }
   ],
   "source": [
    "head NotHuman_PF00014.fasta"
   ]
  },
  {
   "cell_type": "markdown",
   "metadata": {},
   "source": [
    "These two sets are used as a positives set. The `Human_PF00014.fasta` as training positive and the the `NotHuman_PF00014.fasta` as testing positive set. \n",
    "\n",
    "\n",
    "And then we need a set that are for the **negatives**. So a set that are only Human but NOT PF00014 kunitz this dataset contains more than 20 000.\n",
    "\n",
    "`NOT database:(type:pfam pf00014) AND organism:\"Homo sapiens (Human) [9606]\" AND reviewed:yes`"
   ]
  },
  {
   "cell_type": "code",
   "execution_count": 6,
   "metadata": {},
   "outputs": [
    {
     "name": "stdout",
     "output_type": "stream",
     "text": [
      "   20347  222853 2042133\n"
     ]
    }
   ],
   "source": [
    " grep '>' Human_NotPF00014.fasta |wc"
   ]
  },
  {
   "cell_type": "code",
   "execution_count": 7,
   "metadata": {},
   "outputs": [
    {
     "name": "stdout",
     "output_type": "stream",
     "text": [
      ">sp|Q8N8B7|TEANC_HUMAN Transcription elongation factor A N-terminal and central domain-containing protein OS=Homo sapiens OX=9606 GN=TCEANC PE=1 SV=2\n",
      "MSDKNQIAARASLIEQLMSKRNFEDLGNHLTELETIYVTKEHLQETDVVRAVYRVLKNCP\n",
      "SVALKKKAKCLLSKWKAVYKQTHSKARNSPKLFPVRGNKEENSGPSHDPSQNETLGICSS\n",
      "NSLSSQDVAKLSEMIVPENRAIQLKPKEEHFGDGDPESTGKRSSELLDPTTPMRTKCIEL\n",
      "LYAALTSSSTDQPKADLWQNFAREIEEHVFTLYSKNIKKYKTCIRSKVANLKNPRNSHLQ\n",
      "QNLLSGTTSPREFAEMTVMEMANKELKQLRASYTESCIQEHYLPQVIDGTQTNKIKCRRC\n",
      "EKYNCKVTVIDRGTLFLPSWVRNSNPDEQMMTYVICNECGEQWYHSKWVCW\n",
      ">sp|O75494|SRS10_HUMAN Serine/arginine-rich splicing factor 10 OS=Homo sapiens OX=9606 GN=SRSF10 PE=1 SV=1\n",
      "MSRYLRPPNTSLFVRNVADDTRSEDLRREFGRYGPIVDVYVPLDFYTRRPRGFAYVQFED\n",
      "VRDAEDALHNLDRKWICGRQIEIQFAQGDRKTPNQMKAKEGRNVYSSSRYDDYDRYRRSR\n"
     ]
    }
   ],
   "source": [
    "head Human_NotPF00014.fasta"
   ]
  },
  {
   "cell_type": "markdown",
   "metadata": {},
   "source": [
    "## Creating Training and Testing Sets\n",
    "\n",
    "1. Splitting the Human_NotPF00014.fasta File\n",
    "Now if you want to split the dataset into 2 parts. Lets take the first 10000:"
   ]
  },
  {
   "cell_type": "code",
   "execution_count": 8,
   "metadata": {},
   "outputs": [
    {
     "name": "stdout",
     "output_type": "stream",
     "text": [
      "   20347\n"
     ]
    }
   ],
   "source": [
    "grep '>' Human_NotPF00014.fasta |wc -l"
   ]
  },
  {
   "cell_type": "code",
   "execution_count": 7,
   "metadata": {},
   "outputs": [
    {
     "name": "stdout",
     "output_type": "stream",
     "text": [
      "   10000  109297 1005583\n"
     ]
    }
   ],
   "source": [
    " grep '>' Human_NotPF00014.fasta |head -n 10000 |wc"
   ]
  },
  {
   "cell_type": "markdown",
   "metadata": {},
   "source": [
    "Then we can find the 'name' or ID of the 10 000st sequence:\n",
    "By piping;\n",
    "\n",
    "`head -- display first lines of a file`\n",
    "`SYNOPSIS\n",
    "     head [-n count | -c bytes] [file ...]`\n",
    "\n",
    "`DESCRIPTION\n",
    "     This filter displays the first count lines or bytes of each of the specified files, or\n",
    "     of the standard input if no files are specified.  If count is omitted it defaults to\n",
    "     10.` \n",
    "`tail -- display the last part of a file`\n",
    "` -n number`\n",
    "\n",
    "So we pipe the head of - n 10000 into | tail -n 1. That way we get the last of the list."
   ]
  },
  {
   "cell_type": "code",
   "execution_count": 8,
   "metadata": {},
   "outputs": [
    {
     "name": "stdout",
     "output_type": "stream",
     "text": [
      ">sp|O95081|AGFG2_HUMAN Arf-GAP domain and FG repeat-containing protein 2 OS=Homo sapiens OX=9606 GN=AGFG2 PE=1 SV=2\n"
     ]
    }
   ],
   "source": [
    "grep '>' Human_NotPF00014.fasta |head -n 10000 |tail -n 1"
   ]
  },
  {
   "cell_type": "markdown",
   "metadata": {},
   "source": [
    "Now that we have the name of the 10000st seq - we want to find the in which line number it is located."
   ]
  },
  {
   "cell_type": "code",
   "execution_count": 9,
   "metadata": {},
   "outputs": [
    {
     "name": "stdout",
     "output_type": "stream",
     "text": [
      "109065:>sp|O95081|AGFG2_HUMAN Arf-GAP domain and FG repeat-containing protein 2 OS=Homo sapiens OX=9606 GN=AGFG2 PE=1 SV=2\n"
     ]
    }
   ],
   "source": [
    "grep -n O95081 Human_NotPF00014.fasta "
   ]
  },
  {
   "cell_type": "markdown",
   "metadata": {},
   "source": [
    "The sequence is found in the line `109065`. We can also retrieve the 10th line after the match:"
   ]
  },
  {
   "cell_type": "code",
   "execution_count": 11,
   "metadata": {},
   "outputs": [
    {
     "name": "stdout",
     "output_type": "stream",
     "text": [
      "109065:>sp|O95081|AGFG2_HUMAN Arf-GAP domain and FG repeat-containing protein 2 OS=Homo sapiens OX=9606 GN=AGFG2 PE=1 SV=2\n",
      "109066-MVMAAKKGPGPGGGVSGGKAEAEAASEVWCRRVRELGGCSQAGNRHCFECAQRGVTYVDI\n",
      "109067-TVGSFVCTTCSGLLRGLNPPHRVKSISMTTFTEPEVVFLQSRGNEVCRKIWLGLFDARTS\n",
      "109068-LVPDSRDPQKVKEFLQEKYEKKRWYVPPDQVKGPTYTKGSASTPVQGSIPEGKPLRTLLG\n",
      "109069-DPAPSLSVAASTSSQPVSQSHARTSQARSTQPPPHSSVKKASTDLLADIGGDPFAAPQMA\n",
      "109070-PAFAAFPAFGGQTPSQGGFANFDAFSSGPSSSVFGSLPPAGQASFQAQPTPAGSSQGTPF\n",
      "109071-GATPLAPASQPNSLADVGSFLGPGVPAAGVPSSLFGMAGQVPPLQSVTMGGGGGSSTGLA\n",
      "109072-FGAFTNPFTAPAAQSPLPSTNPFQPNGLAPGPGFGMSSAGPGFPQAVPPTGAFASSFPAP\n",
      "109073-LFPPQTPLVQQQNGSSFGDLGSAKLGQRPLSQPAGISTNPFMTGPSSSPFASKPPTTNPF\n",
      "109074-L\n",
      "109075->sp|P32970|CD70_HUMAN CD70 antigen OS=Homo sapiens OX=9606 GN=CD70 PE=1 SV=2\n"
     ]
    }
   ],
   "source": [
    "grep -n -A 10 O95081 Human_NotPF00014.fasta #|less"
   ]
  },
  {
   "cell_type": "markdown",
   "metadata": {},
   "source": [
    "Knowing that one entry 'spans over' 10 lines - line one being the identifier and the remaining ones the sequence, we also know that we have to add 9 lines in order to 'keep' the whole sequence. As not to trucate it keeping only line one of it. The last line shold therefore be 109074.\n",
    "\n",
    "(Or an easier way to approach it would have been to access sequence 100001 and find the number of the previous line...)\n",
    "\n",
    "To check again that we calculated it right and we will obtain the entire seq of the sp|095081 we use head again: "
   ]
  },
  {
   "cell_type": "code",
   "execution_count": 12,
   "metadata": {},
   "outputs": [
    {
     "name": "stdout",
     "output_type": "stream",
     "text": [
      ">sp|O95081|AGFG2_HUMAN Arf-GAP domain and FG repeat-containing protein 2 OS=Homo sapiens OX=9606 GN=AGFG2 PE=1 SV=2\n",
      "MVMAAKKGPGPGGGVSGGKAEAEAASEVWCRRVRELGGCSQAGNRHCFECAQRGVTYVDI\n",
      "TVGSFVCTTCSGLLRGLNPPHRVKSISMTTFTEPEVVFLQSRGNEVCRKIWLGLFDARTS\n",
      "LVPDSRDPQKVKEFLQEKYEKKRWYVPPDQVKGPTYTKGSASTPVQGSIPEGKPLRTLLG\n",
      "DPAPSLSVAASTSSQPVSQSHARTSQARSTQPPPHSSVKKASTDLLADIGGDPFAAPQMA\n",
      "PAFAAFPAFGGQTPSQGGFANFDAFSSGPSSSVFGSLPPAGQASFQAQPTPAGSSQGTPF\n",
      "GATPLAPASQPNSLADVGSFLGPGVPAAGVPSSLFGMAGQVPPLQSVTMGGGGGSSTGLA\n",
      "FGAFTNPFTAPAAQSPLPSTNPFQPNGLAPGPGFGMSSAGPGFPQAVPPTGAFASSFPAP\n",
      "LFPPQTPLVQQQNGSSFGDLGSAKLGQRPLSQPAGISTNPFMTGPSSSPFASKPPTTNPF\n",
      "L\n"
     ]
    }
   ],
   "source": [
    "head -n 109074 Human_NotPF00014.fasta |tail -n 10"
   ]
  },
  {
   "cell_type": "markdown",
   "metadata": {},
   "source": [
    "This way we have reconfirmed that the index of the last line we plan to grab is correct. Now we will save the sto of the following cmd to Humand_NotPF00014_Training.\n",
    "\n",
    "### Now we actually split the set into 2:\n",
    "in the outcome we want to keep\n",
    "\n",
    "* 10000 proteins in the Training set - goes until line 109074\n",
    "* 10347 in the Testing set - starts at line 109075\n",
    "\n",
    "Generating the **Training set** :"
   ]
  },
  {
   "cell_type": "code",
   "execution_count": 13,
   "metadata": {},
   "outputs": [],
   "source": [
    "head -n 109074 Human_NotPF00014.fasta > Human_NotPF00014_Training.fasta"
   ]
  },
  {
   "cell_type": "markdown",
   "metadata": {},
   "source": [
    "Then we select the remaining ones as the **Testing set** by just modifying the cmd:"
   ]
  },
  {
   "cell_type": "code",
   "execution_count": 17,
   "metadata": {},
   "outputs": [],
   "source": [
    "tail -n +109075 Human_NotPF00014.fasta > Human_NotPF00014_Testing.fasta"
   ]
  },
  {
   "cell_type": "markdown",
   "metadata": {},
   "source": [
    "As always now we check weather the the files 'look' as we expect them to look:"
   ]
  },
  {
   "cell_type": "code",
   "execution_count": 18,
   "metadata": {},
   "outputs": [
    {
     "name": "stdout",
     "output_type": "stream",
     "text": [
      "   10000\n"
     ]
    }
   ],
   "source": [
    "grep '^>' Human_NotPF00014_Training.fasta |wc -l"
   ]
  },
  {
   "cell_type": "code",
   "execution_count": 19,
   "metadata": {},
   "outputs": [
    {
     "name": "stdout",
     "output_type": "stream",
     "text": [
      "   10347\n"
     ]
    }
   ],
   "source": [
    "grep '^>' Human_NotPF00014_Testing.fasta |wc -l"
   ]
  },
  {
   "cell_type": "markdown",
   "metadata": {},
   "source": [
    "Prof Capriotti actually used:\n",
    "\n",
    "`grep '>' Human_NotPF00014_Testing.fasta |wc\n",
    "   10347  113556 1036550`\n",
    "   \n"
   ]
  },
  {
   "cell_type": "markdown",
   "metadata": {},
   "source": [
    "### Training and testing for the positives"
   ]
  },
  {
   "cell_type": "code",
   "execution_count": 18,
   "metadata": {},
   "outputs": [],
   "source": [
    "# cat NotHuman_PF00014.fasta "
   ]
  },
  {
   "cell_type": "code",
   "execution_count": 8,
   "metadata": {},
   "outputs": [
    {
     "name": "stdout",
     "output_type": "stream",
     "text": [
      "     341    3479   35934\n"
     ]
    }
   ],
   "source": [
    "grep '>' NotHuman_PF00014.fasta |wc"
   ]
  },
  {
   "cell_type": "markdown",
   "metadata": {},
   "source": [
    "Find Uniport id of the 171th seq:"
   ]
  },
  {
   "cell_type": "code",
   "execution_count": 10,
   "metadata": {},
   "outputs": [
    {
     "name": "stdout",
     "output_type": "stream",
     "text": [
      ">sp|Q29428|TKDP1_SHEEP Trophoblast Kunitz domain protein 1 OS=Ovis aries OX=9940 GN=TKDP1 PE=2 SV=1\n"
     ]
    }
   ],
   "source": [
    "grep '>' NotHuman_PF00014.fasta |head -n 171 |tail -n 1"
   ]
  },
  {
   "cell_type": "markdown",
   "metadata": {},
   "source": [
    "Find the last line of the seq by looking at that part in the file:\n",
    "Last line of seq Q29428 is 928. So I will split the file here."
   ]
  },
  {
   "cell_type": "code",
   "execution_count": 7,
   "metadata": {},
   "outputs": [
    {
     "name": "stdout",
     "output_type": "stream",
     "text": [
      "923:>sp|Q29428|TKDP1_SHEEP Trophoblast Kunitz domain protein 1 OS=Ovis aries OX=9940 GN=TKDP1 PE=2 SV=1\n",
      "924-MRQLCLSTALLFLLVILVDSTPLNIYHIQDEGLETSHRRGPEKRSVIDVVSGIINGVATG\n",
      "925-TKIIEKGAGILTGLAEIITKAIKGQVMISRIQFDNHTLEELPTLQLEYSTLSEENNGLKT\n",
      "926-SHRRGLEKRSVTDVVTSIINGVATGTKIIEKGAGILTGLAEIITKAIKGQVMISGIQFDN\n",
      "927-HTLEEYQTLKIEYSTLSEENKASKPALCLEPKVTGDCNATMTRYFYNTQTGLCEQFVYTG\n",
      "928-CEGNGNNFENLEDCMKTCSQEAGSL\n",
      "929->sp|Q9D263|SPIT4_MOUSE Kunitz-type protease inhibitor 4 OS=Mus musculus OX=10090 GN=Spint4 PE=2 SV=1\n",
      "930-MKPTKLGFLLGLSLLCSLSPPVLSGVERLANYLCKDYNDPCLLDVEPGSCYEVHFRFFYN\n",
      "931-QTAKQCQIFLFTGCNGNLNNFKLKIDCDVTCHETYKNPPLPSGDKRKRSLRALATKNLAT\n",
      "932-DWRLTTLQPGRLRQTERKETLLQRARRESRRQPLARHHT\n",
      "933->sp|B5L5R4|IVBI4_NOTSC Tigerin-4 OS=Notechis scutatus scutatus OX=70142 PE=3 SV=1\n",
      "934-MSSGGLLLLLGLLTLWAELTPVSSKDRPKFCELPADSGPCRGILRAFYYHPVHRTCQMFI\n"
     ]
    }
   ],
   "source": [
    "grep -n -A 11 Q29428 NotHuman_PF00014.fasta |cat"
   ]
  },
  {
   "cell_type": "code",
   "execution_count": null,
   "metadata": {},
   "outputs": [],
   "source": []
  },
  {
   "cell_type": "markdown",
   "metadata": {},
   "source": [
    "Another way to find the right line to split on."
   ]
  },
  {
   "cell_type": "code",
   "execution_count": 15,
   "metadata": {},
   "outputs": [
    {
     "name": "stdout",
     "output_type": "stream",
     "text": [
      "923:>sp|Q29428|TKDP1_SHEEP Trophoblast Kunitz domain protein 1 OS=Ovis aries OX=9940 GN=TKDP1 PE=2 SV=1\n",
      "929:>sp|Q9D263|SPIT4_MOUSE Kunitz-type protease inhibitor 4 OS=Mus musculus OX=10090 GN=Spint4 PE=2 SV=1\n"
     ]
    }
   ],
   "source": [
    "grep '>' NotHuman_PF00014.fasta -m 171 -n|tail -1\n",
    "grep '>' NotHuman_PF00014.fasta -m 172 -n| tail -1"
   ]
  },
  {
   "cell_type": "markdown",
   "metadata": {},
   "source": [
    "### Splitting the positive not humansset into 2:\n",
    "in the outcome we want to keep\n",
    "\n",
    "* 171 proteins in the Training set - goes until line 928\n",
    "* 170 in the Testing set - starts at line 929\n",
    "\n",
    "Generating the **Training set** :"
   ]
  },
  {
   "cell_type": "code",
   "execution_count": 17,
   "metadata": {},
   "outputs": [
    {
     "name": "stdout",
     "output_type": "stream",
     "text": [
      ">sp|Q29428|TKDP1_SHEEP Trophoblast Kunitz domain protein 1 OS=Ovis aries OX=9940 GN=TKDP1 PE=2 SV=1\n",
      ">sp|Q9D263|SPIT4_MOUSE Kunitz-type protease inhibitor 4 OS=Mus musculus OX=10090 GN=Spint4 PE=2 SV=1\n"
     ]
    }
   ],
   "source": [
    "head -n 928 NotHuman_PF00014.fasta  > NotHuman_PF00014_Training.fasta\n",
    "tail  -n +929 NotHuman_PF00014.fasta  > NotHuman_PF00014_Testing.fasta\n",
    "grep \">\" NotHuman_PF00014_Training.fasta|tail -1\n",
    "cat NotHuman_PF00014_Testing.fasta|head -1"
   ]
  },
  {
   "cell_type": "markdown",
   "metadata": {},
   "source": [
    "## Creating the BLAST database\n",
    "\n",
    "For the human proteins set with the new version of BLAST\n",
    "Now we have to format the Database:\n",
    "If you want to format a database\n",
    "The DB now uses as a reference the human BPTI domain. `formatdb -i <file name> -p T`\n",
    "\n",
    "Problem on my machine the formatdb is deprecated... instead I had to use:\n",
    "\n",
    "See: https://www.ncbi.nlm.nih.gov/books/NBK279690/ "
   ]
  },
  {
   "cell_type": "code",
   "execution_count": 10,
   "metadata": {},
   "outputs": [],
   "source": [
    "#makeblastdb -in Human_PF00014.fasta -taxid 9606 -dbtype prot"
   ]
  },
  {
   "cell_type": "code",
   "execution_count": 11,
   "metadata": {},
   "outputs": [
    {
     "name": "stdout",
     "output_type": "stream",
     "text": [
      "\n",
      "\n",
      "Building a new DB, current time: 04/21/2020 15:47:52\n",
      "New DB name:   /Users/ila/01-Unibo/2_LAB1_2nd/capriotti/repkunitz/Human_PF00014.fasta\n",
      "New DB title:  Human_PF00014.fasta\n",
      "Sequence type: Protein\n",
      "Deleted existing Protein BLAST database named /Users/ila/01-Unibo/2_LAB1_2nd/capriotti/repkunitz/Human_PF00014.fasta\n",
      "Keep MBits: T\n",
      "Maximum file size: 1000000000B\n",
      "Adding sequences from FASTA; added 18 sequences in 0.0606122 seconds.\n"
     ]
    }
   ],
   "source": [
    "#makeblastdb -in Human_PF00014.fasta -dbtype prot"
   ]
  },
  {
   "cell_type": "markdown",
   "metadata": {},
   "source": [
    "`Building a new DB, current time: 04/16/2020 18:24:24\n",
    "New DB name:   /Users/ila/01-Unibo/2_LAB1_2nd/capriotti/repkunitz/Human_PF00014.fasta\n",
    "New DB title:  Human_PF00014.fasta\n",
    "Sequence type: Protein\n",
    "Keep MBits: T\n",
    "Maximum file size: 1000000000B\n",
    "Adding sequences from FASTA; added 18 sequences in 0.0149059 seconds.`"
   ]
  },
  {
   "cell_type": "code",
   "execution_count": 12,
   "metadata": {},
   "outputs": [
    {
     "name": "stdout",
     "output_type": "stream",
     "text": [
      "Exercise_Report.ipynb           Human_PF00014.fasta.phr\n",
      "Human_NotPF00014.fasta          Human_PF00014.fasta.pin\n",
      "Human_NotPF00014_Testing.fasta  Human_PF00014.fasta.psq\n",
      "Human_NotPF00014_Training.bl6   NotHuman_PF00014.bl6\n",
      "Human_NotPF00014_Training.fasta NotHuman_PF00014.bl6.best\n",
      "Human_PF00014.bl6               NotHuman_PF00014.fasta\n",
      "Human_PF00014.bl8               \u001b[1m\u001b[34mbl8\u001b[39;49m\u001b[0m\n",
      "Human_PF00014.fasta             kunitz_meeting.rtf\n"
     ]
    }
   ],
   "source": [
    "ls"
   ]
  },
  {
   "cell_type": "markdown",
   "metadata": {},
   "source": [
    "`ila@Immanuelas-Air:~/01-Unibo/2_LAB1_2nd/capriotti/repkunitz$ ls\n",
    "13L_lab1-15-04_all.mp4          Human_PF00014.fasta             NotHuman_PF00014.fasta\n",
    "Human_NotPF00014.fasta          Human_PF00014.fasta.phr         ncbi-blast-2.2.26+.dmg\n",
    "Human_NotPF00014_Testing.fasta  Human_PF00014.fasta.pin         not_not.fasta\n",
    "Human_NotPF00014_Training.fasta Human_PF00014.fasta.psq`"
   ]
  },
  {
   "cell_type": "markdown",
   "metadata": {},
   "source": [
    "Now just to check, we will do the blast of the \n",
    "human proteins against the Human proteins just as a consistency test. The evalue was increased just to see what happenes.\n",
    "`#replacing blastpgp from version 2.2.26 (legacy) -i = -query, -d = -db, -o = -out, -m = -outfmt. `\n"
   ]
  },
  {
   "cell_type": "code",
   "execution_count": 33,
   "metadata": {},
   "outputs": [],
   "source": [
    "# outfmt 6 is the Tabular form\n",
    "#psiblast -query Human_PF00014.fasta -db Human_PF00014.fasta -out Human_PF00014.bl6 -outfmt 6\n",
    "blastp -query Human_PF00014.fasta -db Human_PF00014.fasta -out autotest.bltab -outfmt 6 -evalue 1000 # -m 8 of the old version7\n",
    "blastp -query Human_PF00014.fasta -db Human_PF00014.fasta -out Human_PF00014.bl6 -outfmt 6 -evalue 1000 #"
   ]
  },
  {
   "cell_type": "markdown",
   "metadata": {},
   "source": [
    "The output was redirected into the `Human_PF00014.bl6` file\n",
    "looking like that:"
   ]
  },
  {
   "cell_type": "code",
   "execution_count": 32,
   "metadata": {},
   "outputs": [
    {
     "name": "stdout",
     "output_type": "stream",
     "text": [
      "sp|Q06481|APLP2_HUMAN\tsp|Q06481|APLP2_HUMAN\t100.000\t763\t0\t0\t1\t763\t1\t763\t0.0\t1590\n",
      "sp|Q06481|APLP2_HUMAN\tsp|P05067|A4_HUMAN\t51.111\t495\t178\t11\t313\t762\t294\t769\t1.73e-155\t463\n",
      "sp|Q06481|APLP2_HUMAN\tsp|O43291|SPIT2_HUMAN\t41.667\t84\t47\t1\t288\t369\t111\t194\t8.02e-21\t84.0\n",
      "sp|Q06481|APLP2_HUMAN\tsp|O43291|SPIT2_HUMAN\t40.625\t64\t34\t2\t298\t360\t28\t88\t2.75e-14\t64.7\n",
      "sp|Q06481|APLP2_HUMAN\tsp|O43291|SPIT2_HUMAN\t25.806\t31\t19\t1\t108\t134\t154\t184\t169\t15.8\n",
      "sp|Q06481|APLP2_HUMAN\tsp|O43291|SPIT2_HUMAN\t62.500\t8\t3\t0\t539\t546\t225\t232\t307\t15.0\n",
      "sp|Q06481|APLP2_HUMAN\tsp|O43291|SPIT2_HUMAN\t33.333\t18\t10\t1\t193\t210\t125\t140\t932\t13.5\n",
      "sp|Q06481|APLP2_HUMAN\tsp|P49223|SPIT3_HUMAN\t47.170\t53\t28\t0\t309\t361\t35\t87\t5.02e-16\t65.1\n",
      "sp|Q06481|APLP2_HUMAN\tsp|P49223|SPIT3_HUMAN\t29.412\t17\t12\t0\t76\t92\t71\t87\t171\t15.4\n",
      "sp|Q06481|APLP2_HUMAN\tsp|P49223|SPIT3_HUMAN\t80.000\t5\t1\t0\t621\t625\t39\t43\t362\t14.2\n"
     ]
    }
   ],
   "source": [
    "head Human_PF00014.bl6"
   ]
  },
  {
   "cell_type": "markdown",
   "metadata": {},
   "source": [
    "Both top and bottom show lines for which the first 2 cols are equal which means that they are matching against them selves."
   ]
  },
  {
   "cell_type": "code",
   "execution_count": 31,
   "metadata": {},
   "outputs": [
    {
     "name": "stdout",
     "output_type": "stream",
     "text": [
      "sp|Q06481|APLP2_HUMAN\tsp|Q06481|APLP2_HUMAN\t100.000\t763\t0\t0\t1\t763\t1\t763\t0.0\t1590\n",
      "sp|P05067|A4_HUMAN\tsp|P05067|A4_HUMAN\t100.000\t770\t0\t0\t1\t770\t1\t770\t0.0\t1610\n",
      "sp|Q02388|CO7A1_HUMAN\tsp|Q02388|CO7A1_HUMAN\t100.000\t2944\t0\t0\t1\t2944\t1\t2944\t0.0\t5494\n",
      "sp|P12111|CO6A3_HUMAN\tsp|P12111|CO6A3_HUMAN\t100.000\t3177\t0\t0\t1\t3177\t1\t3177\t0.0\t6455\n",
      "sp|P02760|AMBP_HUMAN\tsp|P02760|AMBP_HUMAN\t100.000\t352\t0\t0\t1\t352\t1\t352\t0.0\t734\n",
      "sp|O95925|EPPI_HUMAN\tsp|O95925|EPPI_HUMAN\t100.000\t133\t0\t0\t1\t133\t1\t133\t8.42e-100\t274\n",
      "sp|P10646|TFPI1_HUMAN\tsp|P10646|TFPI1_HUMAN\t100.000\t304\t0\t0\t1\t304\t1\t304\t0.0\t630\n",
      "sp|O43278|SPIT1_HUMAN\tsp|O43278|SPIT1_HUMAN\t100.000\t529\t0\t0\t1\t529\t1\t529\t0.0\t1099\n",
      "sp|O43291|SPIT2_HUMAN\tsp|O43291|SPIT2_HUMAN\t100.000\t252\t0\t0\t1\t252\t1\t252\t0.0\t521\n",
      "sp|P48307|TFPI2_HUMAN\tsp|P48307|TFPI2_HUMAN\t100.000\t235\t0\t0\t1\t235\t1\t235\t2.53e-180\t486\n",
      "sp|Q8TEU8|WFKN2_HUMAN\tsp|Q8TEU8|WFKN2_HUMAN\t100.000\t576\t0\t0\t1\t576\t1\t576\t0.0\t1199\n",
      "sp|Q2UY09|COSA1_HUMAN\tsp|Q2UY09|COSA1_HUMAN\t100.000\t1125\t0\t0\t1\t1125\t1\t1125\t0.0\t2187\n",
      "sp|Q96NZ8|WFKN1_HUMAN\tsp|Q96NZ8|WFKN1_HUMAN\t100.000\t548\t0\t0\t1\t548\t1\t548\t0.0\t1112\n",
      "sp|O95428|PPN_HUMAN\tsp|O95428|PPN_HUMAN\t100.000\t1278\t0\t0\t1\t1278\t1\t1278\t0.0\t2586\n",
      "sp|Q9BQY6|WFDC6_HUMAN\tsp|Q9BQY6|WFDC6_HUMAN\t100.000\t131\t0\t0\t1\t131\t1\t131\t1.27e-98\t270\n",
      "sp|Q8IUA0|WFDC8_HUMAN\tsp|Q8IUA0|WFDC8_HUMAN\t100.000\t241\t0\t0\t1\t241\t1\t241\t0.0\t492\n",
      "sp|P49223|SPIT3_HUMAN\tsp|P49223|SPIT3_HUMAN\t100.000\t89\t0\t0\t1\t89\t1\t89\t4.67e-65\t182\n",
      "sp|Q6UDR6|SPIT4_HUMAN\tsp|Q6UDR6|SPIT4_HUMAN\t100.000\t99\t0\t0\t1\t99\t1\t99\t2.56e-72\t201\n"
     ]
    }
   ],
   "source": [
    "awk '{if ($1 == $2) print $0}' autotest.bltab "
   ]
  },
  {
   "cell_type": "code",
   "execution_count": null,
   "metadata": {},
   "outputs": [],
   "source": [
    "# sp|Q06481|APLP2_HUMAN   sp|Q06481|APLP2_HUMAN   100.000 763     0       0       1       763     1       763     0.0     1590\n",
    "# sp|Q06481|APLP2_HUMAN   sp|P05067|A4_HUMAN      51.111  495     178     11      313     762     294     769     1.73e-155       463\n",
    "# sp|Q06481|APLP2_HUMAN   sp|O43291|SPIT2_HUMAN   41.667  84      47      1       288     369     111     194     8.02e-21        84.0\n",
    "# sp|Q06481|APLP2_HUMAN   sp|O43291|SPIT2_HUMAN   40.625  64      34      2       298     360     28      88      2.75e-14        64.7\n",
    "# sp|Q06481|APLP2_HUMAN   sp|P49223|SPIT3_HUMAN   47.170  53      28      0       309     361     35      87      5.02e-16        65.1"
   ]
  },
  {
   "cell_type": "markdown",
   "metadata": {},
   "source": [
    "The 11th column shows the e-value. To find the highest (=worst) e-value we use reverse sort by 11th column. `-nrk n- number, r- reverse, k- column`"
   ]
  },
  {
   "cell_type": "code",
   "execution_count": 19,
   "metadata": {},
   "outputs": [
    {
     "name": "stdout",
     "output_type": "stream",
     "text": [
      "sp|Q9BQY6|WFDC6_HUMAN\tsp|Q02388|CO7A1_HUMAN\t48.000\t25\t11\t2\t12\t35\t2315\t2338\t10.0\t16.9\n",
      "sp|P10646|TFPI1_HUMAN\tsp|P12111|CO6A3_HUMAN\t45.098\t51\t28\t0\t217\t267\t3112\t3162\t9.99e-12\t56.6\n",
      "sp|P02760|AMBP_HUMAN\tsp|Q9BQY6|WFDC6_HUMAN\t59.259\t27\t11\t0\t256\t282\t102\t128\t9.98e-06\t35.8\n",
      "sp|O95428|PPN_HUMAN\tsp|P02760|AMBP_HUMAN\t38.462\t52\t32\t0\t754\t805\t231\t282\t9.96e-10\t52.4\n",
      "sp|Q8TEU8|WFKN2_HUMAN\tsp|O43278|SPIT1_HUMAN\t54.545\t44\t20\t0\t393\t436\t398\t441\t9.95e-11\t54.7\n",
      "sp|Q02388|CO7A1_HUMAN\tsp|P12111|CO6A3_HUMAN\t23.721\t215\t149\t8\t1025\t1233\t12\t217\t9.92e-06\t41.6\n",
      "sp|Q96NZ8|WFKN1_HUMAN\tsp|P10646|TFPI1_HUMAN\t29.545\t132\t59\t1\t313\t410\t137\t268\t9.91e-16\t68.9\n",
      "sp|P12111|CO6A3_HUMAN\tsp|Q2UY09|COSA1_HUMAN\t24.828\t145\t96\t3\t1639\t1778\t798\t934\t9.90e-06\t41.6\n",
      "sp|Q8IUA0|WFDC8_HUMAN\tsp|P12111|CO6A3_HUMAN\t66.667\t6\t2\t0\t153\t158\t2395\t2400\t9.8\t18.1\n",
      "sp|P12111|CO6A3_HUMAN\tsp|Q8TEU8|WFKN2_HUMAN\t28.788\t66\t47\t0\t2897\t2962\t266\t331\t9.8\t21.9\n"
     ]
    }
   ],
   "source": [
    "sort -nrk 11 Human_PF00014.bl8 |head #|less"
   ]
  },
  {
   "cell_type": "markdown",
   "metadata": {},
   "source": [
    "We see the worst value belongs to Q9BQY6"
   ]
  },
  {
   "cell_type": "code",
   "execution_count": null,
   "metadata": {},
   "outputs": [],
   "source": [
    "#sp|Q9BQY6|WFDC6_HUMAN   sp|Q02388|CO7A1_HUMAN   48.000  25      11      2       12      35      2315    2338    10.0    16.9"
   ]
  },
  {
   "cell_type": "markdown",
   "metadata": {},
   "source": [
    "We can also change the evalue to 1000 to play:"
   ]
  },
  {
   "cell_type": "code",
   "execution_count": 20,
   "metadata": {},
   "outputs": [],
   "source": [
    "blastp -query Human_PF00014.fasta -db Human_PF00014.fasta -out Human_PF00014.bl6 -outfmt 6 -evalue 1000"
   ]
  },
  {
   "cell_type": "code",
   "execution_count": 21,
   "metadata": {},
   "outputs": [
    {
     "name": "stdout",
     "output_type": "stream",
     "text": [
      "sp|P48307|TFPI2_HUMAN\tsp|P05067|A4_HUMAN\t27.273\t11\t8\t0\t154\t164\t551\t561\t999\t11.5\n",
      "sp|P05067|A4_HUMAN\tsp|P12111|CO6A3_HUMAN\t22.222\t45\t33\t1\t251\t295\t1752\t1794\t999\t13.5\n",
      "sp|O95925|EPPI_HUMAN\tsp|O43278|SPIT1_HUMAN\t30.000\t10\t7\t0\t56\t65\t432\t441\t999\t10.8\n",
      "sp|Q8TEU8|WFKN2_HUMAN\tsp|Q02388|CO7A1_HUMAN\t37.500\t16\t10\t0\t97\t112\t2341\t2356\t998\t13.1\n",
      "sp|Q2UY09|COSA1_HUMAN\tsp|Q02388|CO7A1_HUMAN\t54.545\t11\t5\t0\t495\t505\t932\t942\t998\t13.9\n",
      "sp|Q2UY09|COSA1_HUMAN\tsp|P12111|CO6A3_HUMAN\t50.000\t10\t5\t0\t279\t288\t134\t143\t998\t13.9\n",
      "sp|Q02388|CO7A1_HUMAN\tsp|P49223|SPIT3_HUMAN\t38.462\t13\t8\t0\t1425\t1437\t32\t44\t998\t15.0\n",
      "sp|P48307|TFPI2_HUMAN\tsp|P02760|AMBP_HUMAN\t23.810\t21\t16\t0\t164\t184\t72\t92\t997\t11.5\n",
      "sp|O43291|SPIT2_HUMAN\tsp|O95428|PPN_HUMAN\t40.000\t15\t9\t0\t60\t74\t178\t192\t996\t11.5\n",
      "sp|P12111|CO6A3_HUMAN\tsp|O95428|PPN_HUMAN\t71.429\t7\t2\t0\t2160\t2166\t983\t989\t995\t15.4\n"
     ]
    }
   ],
   "source": [
    "#sort -nrk 11 Human_PF00014.bl8 |less\n",
    "sort -nrk 11 Human_PF00014.bl6 |head"
   ]
  },
  {
   "cell_type": "markdown",
   "metadata": {},
   "source": [
    "Now you see that "
   ]
  },
  {
   "cell_type": "code",
   "execution_count": null,
   "metadata": {},
   "outputs": [],
   "source": [
    "#sp|P48307|TFPI2_HUMAN   sp|P05067|A4_HUMAN      27.273  11      8       0       154     164     551     561     999     11.5"
   ]
  },
  {
   "cell_type": "markdown",
   "metadata": {},
   "source": [
    "This gives us information of the range of e-values we may get. \n",
    "\n",
    "If we are not interested in the full matches. We can use awk to check for the id's \n",
    "With the cmd below we get all the complete matches."
   ]
  },
  {
   "cell_type": "code",
   "execution_count": 22,
   "metadata": {},
   "outputs": [
    {
     "name": "stdout",
     "output_type": "stream",
     "text": [
      "sp|Q06481|APLP2_HUMAN\tsp|Q06481|APLP2_HUMAN\t100.000\t763\t0\t0\t1\t763\t1\t763\t0.0\t1590\n",
      "sp|P05067|A4_HUMAN\tsp|P05067|A4_HUMAN\t100.000\t770\t0\t0\t1\t770\t1\t770\t0.0\t1610\n",
      "sp|Q02388|CO7A1_HUMAN\tsp|Q02388|CO7A1_HUMAN\t100.000\t2944\t0\t0\t1\t2944\t1\t2944\t0.0\t5494\n",
      "sp|P12111|CO6A3_HUMAN\tsp|P12111|CO6A3_HUMAN\t100.000\t3177\t0\t0\t1\t3177\t1\t3177\t0.0\t6455\n",
      "sp|P02760|AMBP_HUMAN\tsp|P02760|AMBP_HUMAN\t100.000\t352\t0\t0\t1\t352\t1\t352\t0.0\t734\n",
      "sp|O95925|EPPI_HUMAN\tsp|O95925|EPPI_HUMAN\t100.000\t133\t0\t0\t1\t133\t1\t133\t8.42e-100\t274\n",
      "sp|P10646|TFPI1_HUMAN\tsp|P10646|TFPI1_HUMAN\t100.000\t304\t0\t0\t1\t304\t1\t304\t0.0\t630\n",
      "sp|O43278|SPIT1_HUMAN\tsp|O43278|SPIT1_HUMAN\t100.000\t529\t0\t0\t1\t529\t1\t529\t0.0\t1099\n",
      "sp|O43291|SPIT2_HUMAN\tsp|O43291|SPIT2_HUMAN\t100.000\t252\t0\t0\t1\t252\t1\t252\t0.0\t521\n",
      "sp|P48307|TFPI2_HUMAN\tsp|P48307|TFPI2_HUMAN\t100.000\t235\t0\t0\t1\t235\t1\t235\t2.53e-180\t486\n",
      "sp|Q8TEU8|WFKN2_HUMAN\tsp|Q8TEU8|WFKN2_HUMAN\t100.000\t576\t0\t0\t1\t576\t1\t576\t0.0\t1199\n",
      "sp|Q2UY09|COSA1_HUMAN\tsp|Q2UY09|COSA1_HUMAN\t100.000\t1125\t0\t0\t1\t1125\t1\t1125\t0.0\t2187\n",
      "sp|Q96NZ8|WFKN1_HUMAN\tsp|Q96NZ8|WFKN1_HUMAN\t100.000\t548\t0\t0\t1\t548\t1\t548\t0.0\t1112\n",
      "sp|O95428|PPN_HUMAN\tsp|O95428|PPN_HUMAN\t100.000\t1278\t0\t0\t1\t1278\t1\t1278\t0.0\t2586\n",
      "sp|Q9BQY6|WFDC6_HUMAN\tsp|Q9BQY6|WFDC6_HUMAN\t100.000\t131\t0\t0\t1\t131\t1\t131\t1.27e-98\t270\n",
      "sp|Q8IUA0|WFDC8_HUMAN\tsp|Q8IUA0|WFDC8_HUMAN\t100.000\t241\t0\t0\t1\t241\t1\t241\t0.0\t492\n",
      "sp|P49223|SPIT3_HUMAN\tsp|P49223|SPIT3_HUMAN\t100.000\t89\t0\t0\t1\t89\t1\t89\t4.67e-65\t182\n",
      "sp|Q6UDR6|SPIT4_HUMAN\tsp|Q6UDR6|SPIT4_HUMAN\t100.000\t99\t0\t0\t1\t99\t1\t99\t2.56e-72\t201\n"
     ]
    }
   ],
   "source": [
    "awk '{if($1 == $2)print $0}' Human_PF00014.bl6\n",
    "#if the first index of a line is equal to the second, print the whole line ($0_)"
   ]
  },
  {
   "cell_type": "code",
   "execution_count": 23,
   "metadata": {},
   "outputs": [
    {
     "name": "stdout",
     "output_type": "stream",
     "text": [
      "sp|P48307|TFPI2_HUMAN\tsp|P05067|A4_HUMAN\t27.273\t11\t8\t0\t154\t164\t551\t561\t999\t11.5\n",
      "sp|P05067|A4_HUMAN\tsp|P12111|CO6A3_HUMAN\t22.222\t45\t33\t1\t251\t295\t1752\t1794\t999\t13.5\n",
      "sp|O95925|EPPI_HUMAN\tsp|O43278|SPIT1_HUMAN\t30.000\t10\t7\t0\t56\t65\t432\t441\t999\t10.8\n",
      "sp|Q8TEU8|WFKN2_HUMAN\tsp|Q02388|CO7A1_HUMAN\t37.500\t16\t10\t0\t97\t112\t2341\t2356\t998\t13.1\n",
      "sp|Q2UY09|COSA1_HUMAN\tsp|Q02388|CO7A1_HUMAN\t54.545\t11\t5\t0\t495\t505\t932\t942\t998\t13.9\n",
      "sp|Q2UY09|COSA1_HUMAN\tsp|P12111|CO6A3_HUMAN\t50.000\t10\t5\t0\t279\t288\t134\t143\t998\t13.9\n",
      "sp|Q02388|CO7A1_HUMAN\tsp|P49223|SPIT3_HUMAN\t38.462\t13\t8\t0\t1425\t1437\t32\t44\t998\t15.0\n",
      "sp|P48307|TFPI2_HUMAN\tsp|P02760|AMBP_HUMAN\t23.810\t21\t16\t0\t164\t184\t72\t92\t997\t11.5\n",
      "sp|O43291|SPIT2_HUMAN\tsp|O95428|PPN_HUMAN\t40.000\t15\t9\t0\t60\t74\t178\t192\t996\t11.5\n",
      "sp|P12111|CO6A3_HUMAN\tsp|O95428|PPN_HUMAN\t71.429\t7\t2\t0\t2160\t2166\t983\t989\t995\t15.4\n"
     ]
    }
   ],
   "source": [
    "sort -grk 11 autotest.bltab|head"
   ]
  },
  {
   "cell_type": "markdown",
   "metadata": {},
   "source": [
    "These are obviously the 18 proteins we have in our dataset."
   ]
  },
  {
   "cell_type": "code",
   "execution_count": 24,
   "metadata": {},
   "outputs": [
    {
     "name": "stdout",
     "output_type": "stream",
     "text": [
      "      18     216    1468\n"
     ]
    }
   ],
   "source": [
    "awk '{if ($1 == $2)print $0}' Human_PF00014.bl6 |wc\n",
    "#       18     216    1468"
   ]
  },
  {
   "cell_type": "markdown",
   "metadata": {},
   "source": [
    "But we rather want to know what happened with the negatives. So lets blast the negatives."
   ]
  },
  {
   "cell_type": "code",
   "execution_count": 25,
   "metadata": {},
   "outputs": [],
   "source": [
    "blastp -query Human_NotPF00014.fasta -db Human_PF00014.fasta -out Human_NotPF00014_Training.bl6 -outfmt 6"
   ]
  },
  {
   "cell_type": "markdown",
   "metadata": {},
   "source": [
    "We can less the file *.bl6\n",
    "At this point we want to know the best hit between the negative, that are not Kunitz/BPTI and the Human Kunitz/BPTI. \n",
    "Now we sort the output to find the sequence with the lowest e-value in the 11th column."
   ]
  },
  {
   "cell_type": "code",
   "execution_count": null,
   "metadata": {},
   "outputs": [],
   "source": [
    "#sort -gk 11 Human_NotPF00014_Training.bl8 |less"
   ]
  },
  {
   "cell_type": "markdown",
   "metadata": {},
   "source": [
    "Now we see something interesting here: there are 2 seq that we have retrieved from a Uniprot search that are not classified as Human BPTI but they have an e-value that is zero.\n",
    "The first col is Human non BPTI and the second col is Human BPTI that we have in our dataset.\n"
   ]
  },
  {
   "cell_type": "code",
   "execution_count": null,
   "metadata": {},
   "outputs": [],
   "source": [
    "sp|A6NMZ7|CO6A6_HUMAN   sp|P12111|CO6A3_HUMAN   32.023  2239    1310    43      27      2138    639     2792    0.0     1013\n",
    "sp|A8TX70|CO6A5_HUMAN   sp|P12111|CO6A3_HUMAN   31.051  2235    1320    51      30      2130    639     2786    0.0     927"
   ]
  },
  {
   "cell_type": "markdown",
   "metadata": {},
   "source": [
    "This means probably that those two (CO6A6_HUMAN, CO6A5_HUMAN) have a domain that is \n",
    "extremely similar to BPTI and has not yet been annotated by pfam.\n",
    "\n",
    "Then there are many other hits that have an evalue of 10^-3 :\n",
    "This number is also a possible threshold for selecting **homologues**\n",
    "\n",
    "`\n",
    "sp|A6NMZ7|CO6A6_HUMAN   sp|P12111|CO6A3_HUMAN   32.023  2239    1310    43      27      2138    639     2792    0.0     1013\n",
    "sp|A8TX70|CO6A5_HUMAN   sp|P12111|CO6A3_HUMAN   31.051  2235    1320    51      30      2130    639     2786    0.0     927\n",
    "sp|A0A075B6J6|LV322_HUMAN       sp|O95428|PPN_HUMAN     25.926  81      40      2       29      108     1053    1114    0.001   28.5\n",
    "sp|A0A075B6J6|LV322_HUMAN       sp|O95428|PPN_HUMAN     33.750  80      35      4       29      108     919     980     0.001   28.5\n",
    "sp|A0A075B6T6|TVAL2_HUMAN       sp|O95428|PPN_HUMAN     30.556  72      40      3       32      94      1142    1212    0.001   28.5\n",
    "sp|A0A0J9YXQ4|PMA6E_HUMAN       sp|Q02388|CO7A1_HUMAN   30.182  275     119     8       86      293     2379    2647    0.001   32.3\n",
    "sp|A0A1B0GUY1|MRCOL_HUMAN       sp|Q02388|CO7A1_HUMAN   25.397  189     126     5       106     282     2248    2433    0.001   31.2\n",
    "sp|A0A1B0GUY1|MRCOL_HUMAN       sp|Q02388|CO7A1_HUMAN   33.333  51      34      0       206     256     1294    1344    0.001   31.2\n",
    "sp|A2VEC9|SSPO_HUMAN    sp|O95428|PPN_HUMAN     36.585  82      41      4       2510    2584    313     390     0.001   35.8\n",
    "sp|A6NDA9|LRIT2_HUMAN   sp|Q02388|CO7A1_HUMAN   30.851  94      59      4       359     452     864     951     0.001   32.0\n",
    "sp|A6NF34|ANTRL_HUMAN   sp|Q02388|CO7A1_HUMAN   29.787  94      58      4       172     262     1157    1245    0.001   32.7\n",
    "sp|B2RNN3|C1T9B_HUMAN   sp|Q02388|CO7A1_HUMAN   39.796  98      35      3       71      156     1296    1381    0.001   31.2\n",
    "sp|O14498|ISLR_HUMAN    sp|O95428|PPN_HUMAN     29.630  54      38      0       294     347     1169    1222    0.001   31.6\n",
    "sp|O15232|MATN3_HUMAN   sp|Q02388|CO7A1_HUMAN   23.529  136     98      4       102     234     1072    1204    0.001   32.0\n",
    "sp|O15394|NCAM2_HUMAN   sp|O95428|PPN_HUMAN     23.333  210     96      8       222     382     921     1114    0.001   32.7\n",
    "sp|O60271|JIP4_HUMAN    sp|P12111|CO6A3_HUMAN   25.000  88      63      1       487     574     1346    1430    0.001   33.9\n",
    "sp|O60500|NPHN_HUMAN    sp|Q96NZ8|WFKN1_HUMAN   27.381  84      56      3       740     820     186     267     0.001   33.5\n",
    "sp|O60575|ISK4_HUMAN    sp|Q8TEU8|WFKN2_HUMAN   40.909  22      13      0       46      67      138     159     0.001   27.7\n",
    "sp|O60575|ISK4_HUMAN    sp|Q96NZ8|WFKN1_HUMAN   40.909  22      13      0       46      67      120     141     0.001   27.7\n",
    "sp|O75056|SDC3_HUMAN    sp|O95428|PPN_HUMAN     64.706  17      6       0       405     421     1186    1202    0.001   31.6\n",
    "sp|O75096|LRP4_HUMAN    sp|O43278|SPIT1_HUMAN   40.000  35      21      0       231     265     335     369     0.001   33.9\n",
    "`"
   ]
  },
  {
   "cell_type": "code",
   "execution_count": null,
   "metadata": {},
   "outputs": [],
   "source": [
    "sort -gk 11 Human_NotPF00014_Training.bl6 |head -n 2 |awk '{print $1,$2,$11}"
   ]
  },
  {
   "cell_type": "markdown",
   "metadata": {},
   "source": [
    "Now we may see that there are many non BPTI/Kunitz proteins that get a low e-value. Moving to the training set we can now rund blast on both the positive and the negative sets."
   ]
  },
  {
   "cell_type": "code",
   "execution_count": 3,
   "metadata": {},
   "outputs": [],
   "source": [
    "# Run on positive testing set\n",
    "# psiblast -query NotHuman_PF00014.fasta -db Human_PF00014.fasta -out NotHuman_PF00014.bl8\n",
    "# didnt work on my version\n",
    "# blastp -in FASTAIN -db DATABASE - out OUTFILE.bl6 -outfmt 6\n",
    "blastp -query Human_PF00014.fasta -db Human_PF00014.fasta -out Human_PF00014.bl6 -outfmt 6"
   ]
  },
  {
   "cell_type": "code",
   "execution_count": 1,
   "metadata": {},
   "outputs": [
    {
     "name": "stdout",
     "output_type": "stream",
     "text": [
      "     835\n"
     ]
    }
   ],
   "source": [
    "cat Human_PF00014.bl6 |wc -l"
   ]
  },
  {
   "cell_type": "markdown",
   "metadata": {},
   "source": [
    "`NotHuman_PF00014.bl8` contains the alignment of all non-human PF00014 proteins against the Human PF00014 sequences contained in `Human_PF00014.fasta`\n",
    "\n",
    "Now we will run the same also for the human testing."
   ]
  },
  {
   "cell_type": "code",
   "execution_count": 1,
   "metadata": {},
   "outputs": [],
   "source": [
    "blastp -query NotHuman_PF00014.fasta -db Human_PF00014.fasta -out NotHuman_PF00014.bl6 -outfmt 6"
   ]
  },
  {
   "cell_type": "code",
   "execution_count": 2,
   "metadata": {},
   "outputs": [
    {
     "name": "stdout",
     "output_type": "stream",
     "text": [
      "  114207\n"
     ]
    }
   ],
   "source": [
    "cat Human_NotPF00014_2Training.bl6 |wc -l"
   ]
  },
  {
   "cell_type": "markdown",
   "metadata": {},
   "source": [
    "`Human_NotPF00014_Testing.bl8` contains the alignment of the 1,000 sequences (Training set) of all human proteins `not belonging to PF00014` against the ones belonging to PF00014 family.\n"
   ]
  },
  {
   "cell_type": "markdown",
   "metadata": {},
   "source": [
    "We need first to rank the output on the posotive set of non Human BPTI/Kunitz proteins. To do so we grep based on the identifiers and select the mathch with lowest e-value."
   ]
  },
  {
   "cell_type": "code",
   "execution_count": null,
   "metadata": {},
   "outputs": [],
   "source": [
    "# idk what he wants but this doesnt work for me:\n",
    "#for i in `awk '{print $1}' NotHuman_PF00014.bl8 |sort -u ` ; do grep $i NotHuman_PF00014.bl8 |sort -gk 11 |head -n 1 ; done > NotHuman_PF00014.bl6.best"
   ]
  },
  {
   "cell_type": "markdown",
   "metadata": {},
   "source": [
    "Let's select an e-value of 0.001 as a classification threshold for the classification of BPTI/kunitz proteins. Accorddin to this assumption we calculated the number of proteins with maximu e-value below that threshold. "
   ]
  },
  {
   "cell_type": "markdown",
   "metadata": {},
   "source": [
    "# Training\n",
    "## Positive Training set\n",
    "\n",
    "Now BLAST the positive training set not human but Kunitz:\n",
    "Since it is slow I will comment it.\n",
    "\n",
    "Then I sort it by the best E-value and print the first proteins few proteins via |head"
   ]
  },
  {
   "cell_type": "code",
   "execution_count": 29,
   "metadata": {},
   "outputs": [],
   "source": [
    "#blastp -query NotHuman_PF00014.fasta -db Human_PF00014.fasta -out positive_training_test.bl6 -outfmt 6"
   ]
  },
  {
   "cell_type": "code",
   "execution_count": 30,
   "metadata": {},
   "outputs": [
    {
     "name": "stdout",
     "output_type": "stream",
     "text": [
      "sp|P81906|ISPI2_GALME\tsp|O95428|PPN_HUMAN\t38.462\t13\t8\t0\t29\t41\t718\t730\t10.0\t15.0\n",
      "sp|Q9DA01|EPPI_MOUSE\tsp|Q8IUA0|WFDC8_HUMAN\t42.857\t98\t56\t0\t30\t127\t48\t145\t9.99e-23\t81.3\n",
      "sp|P15943|APLP2_RAT\tsp|P10646|TFPI1_HUMAN\t40.385\t52\t31\t0\t311\t362\t124\t175\t9.99e-09\t48.1\n",
      "sp|C0HJF4|VKT2_HETCR\tsp|O95428|PPN_HUMAN\t41.509\t53\t31\t0\t4\t56\t754\t806\t9.99e-13\t51.6\n",
      "sp|B6RLX2|VKTCT_OPHHA\tsp|P02760|AMBP_HUMAN\t43.137\t51\t29\t0\t31\t81\t287\t337\t9.99e-11\t47.4\n",
      "sp|B5L5Q1|VKT7_PSETT\tsp|O43278|SPIT1_HUMAN\t32.812\t64\t43\t0\t18\t81\t237\t300\t9.99e-09\t41.6\n",
      "sp|Q8AY44|VKTH7_BUNCA\tsp|P05067|A4_HUMAN\t34.783\t46\t30\t0\t36\t81\t296\t341\t9.98e-10\t44.7\n",
      "sp|Q75S50|VKTH3_BUNCA\tsp|P05067|A4_HUMAN\t34.783\t46\t30\t0\t36\t81\t296\t341\t9.98e-10\t44.7\n",
      "sp|P62757|IATR_SHEEP\tsp|O43278|SPIT1_HUMAN\t46.809\t47\t25\t0\t12\t58\t398\t444\t9.98e-11\t48.9\n",
      "sp|P62756|IATR_CAPHI\tsp|O43278|SPIT1_HUMAN\t46.809\t47\t25\t0\t12\t58\t398\t444\t9.98e-11\t48.9\n"
     ]
    }
   ],
   "source": [
    "sort -nrk 11 positive_training_test.bl6 |head\n"
   ]
  },
  {
   "cell_type": "code",
   "execution_count": 35,
   "metadata": {},
   "outputs": [
    {
     "name": "stdout",
     "output_type": "stream",
     "text": [
      "sp|P00978|AMBP_BOVIN\tsp|P02760|AMBP_HUMAN\t77.273\t352\t80\t0\t1\t352\t1\t352\t0.0\t561\n",
      "sp|P04366|AMBP_PIG\tsp|P02760|AMBP_HUMAN\t80.655\t336\t65\t0\t2\t337\t17\t352\t0.0\t581\n",
      "sp|P08592|A4_RAT\tsp|P05067|A4_HUMAN\t96.883\t770\t24\t0\t1\t770\t1\t770\t0.0\t1557\n",
      "sp|P08592|A4_RAT\tsp|Q06481|APLP2_HUMAN\t49.873\t790\t320\t17\t3\t769\t26\t762\t0.0\t716\n",
      "sp|P0C5J5|WFKN1_RAT\tsp|Q8TEU8|WFKN2_HUMAN\t56.691\t538\t209\t8\t31\t550\t41\t572\t0.0\t607\n",
      "sp|P0C5J5|WFKN1_RAT\tsp|Q96NZ8|WFKN1_HUMAN\t87.992\t533\t63\t1\t20\t552\t17\t548\t0.0\t939\n",
      "sp|P12023|A4_MOUSE\tsp|P05067|A4_HUMAN\t96.623\t770\t26\t0\t1\t770\t1\t770\t0.0\t1551\n",
      "sp|P12023|A4_MOUSE\tsp|Q06481|APLP2_HUMAN\t50.253\t790\t317\t17\t3\t769\t26\t762\t0.0\t721\n",
      "sp|P15943|APLP2_RAT\tsp|Q06481|APLP2_HUMAN\t92.318\t742\t51\t2\t26\t765\t26\t763\t0.0\t1340\n",
      "sp|P15989|CO6A3_CHICK\tsp|P12111|CO6A3_HUMAN\t65.153\t2884\t977\t11\t1\t2873\t1\t2867\t0.0\t3726\n"
     ]
    }
   ],
   "source": [
    "sort -gk 11 positive_training_test.bl6 |head"
   ]
  },
  {
   "cell_type": "markdown",
   "metadata": {},
   "source": [
    "For each protein in the query, Saul wants to find the best E-value possible. He created an awk array with the first column as index, so to collapse duplicates and store the best E-value. I output an identical bltab file but filtered to have just the best match for each sequence. The filtered output contains 341 alignments, which is the same number of the number of unique indentifiers in the original file."
   ]
  },
  {
   "cell_type": "code",
   "execution_count": 37,
   "metadata": {},
   "outputs": [],
   "source": [
    "cat positive_training_test.bl6|awk \\\n",
    "'{\\\n",
    "query=$1;\\\n",
    "if (!(query in out) || $11 < evalue[query])\\\n",
    "    {evalue[query]=$11; out[query]=$0}\\\n",
    "}\\\n",
    "END{for(key in out){print out[key]}}'\\\n",
    "> positive_training_test_topscores.bl6"
   ]
  },
  {
   "cell_type": "code",
   "execution_count": 38,
   "metadata": {},
   "outputs": [
    {
     "name": "stdout",
     "output_type": "stream",
     "text": [
      "sp|D3GGZ8|BLI5_HAECO\tsp|Q2UY09|COSA1_HUMAN\t23.944\t71\t41\t4\t125\t191\t1062\t1123\t0.045\t25.0\n",
      "sp|O62247|BLI5_CAEEL\tsp|Q96NZ8|WFKN1_HUMAN\t29.167\t72\t48\t2\t115\t184\t339\t409\t2.44e-04\t32.0\n",
      "sp|Q11101|YL15_CAEEL\tsp|P05067|A4_HUMAN\t37.500\t40\t25\t0\t38\t77\t305\t344\t1.85e-07\t41.2\n",
      "sp|P86963|KCP2_PINMA\tsp|P12111|CO6A3_HUMAN\t36.207\t58\t30\t2\t98\t153\t3112\t3164\t1.33e-07\t43.9\n",
      "sp|P0CAR0|VKTG1_MICPY\tsp|P12111|CO6A3_HUMAN\t44.828\t29\t16\t0\t6\t34\t3112\t3140\t6.47e-08\t37.0\n",
      "sp|P0CH75|VKT25_CYRHA\tsp|P12111|CO6A3_HUMAN\t44.118\t34\t17\t1\t2\t33\t3110\t3143\t1.01e-09\t42.0\n",
      "sp|Q2ES49|VKT2_DABRR\tsp|P10646|TFPI1_HUMAN\t38.596\t57\t35\t0\t25\t81\t119\t175\t6.96e-10\t44.7\n",
      "sp|G9I929|VKTA_MICTN\tsp|P10646|TFPI1_HUMAN\t35.484\t62\t35\t2\t24\t83\t118\t176\t6.31e-10\t45.1\n",
      "sp|C0LNR2|VKT_VESBI\tsp|O95428|PPN_HUMAN\t38.710\t62\t33\t2\t20\t76\t743\t804\t9.51e-11\t47.0\n",
      "sp|Q7Z1K3|ANIS1_ANISI\tsp|Q02388|CO7A1_HUMAN\t41.558\t77\t34\t4\t28\t101\t2876\t2944\t5.74e-11\t52.0\n",
      "     341 positive_training_test_topscores.bl6\n",
      "     341\n"
     ]
    }
   ],
   "source": [
    "cat positive_training_test_topscores.bl6|sort -rgk 11|head # worst best scores for each sequence\n",
    "wc -l positive_training_test_topscores.bl6\n",
    "cat positive_training_test_topscores.bl6|awk '{print $1}'|sort -u|wc -l #number of unique queries in the original BLAST output"
   ]
  },
  {
   "cell_type": "markdown",
   "metadata": {},
   "source": [
    "## Summary of positive training\n",
    "The worst top score for a sequence in the positive training set is 0.045, followed by e-04 and e-07.\n",
    "In total I have 341 unique sequences in the query."
   ]
  },
  {
   "cell_type": "markdown",
   "metadata": {},
   "source": [
    "## Negative training set\n",
    "Now I BLAST the negative training set (human not Kunitz training).\n",
    "It is slow, don't run just for fun. This is why I am commenting it.\n",
    "I sort by best E-value and print the first proteins.\n",
    "I need to set an high E-value threshold otherwise I don't get an hit for all the sequences.\n",
    "However, even with a 1000 thershold I am still missing 2 sequences (9998 unique hits).\n",
    "I will never be able to compute with an higher threshold."
   ]
  },
  {
   "cell_type": "code",
   "execution_count": 41,
   "metadata": {},
   "outputs": [],
   "source": [
    "blastp -query Human_NotPF00014_Training.fasta -db Human_PF00014.fasta -out negative_training.bl6 -outfmt 6 -evalue 100 "
   ]
  },
  {
   "cell_type": "markdown",
   "metadata": {},
   "source": [
    "The first 2 sequences are strange. They have 0 E-value and their names seem to be really similar.\n",
    "\n",
    "For each protein in the query, I want to find the best E-value possible. I create an awk array with the first column as index, so to collapse duplicates and store the best E-value. I output an identical bltab file but filtered to have just the best match for each sequence. The filtered output contains 9998 alignments, which is the same number of the number of unique indentifiers in the original file."
   ]
  },
  {
   "cell_type": "code",
   "execution_count": null,
   "metadata": {},
   "outputs": [],
   "source": [
    "cat negative_training.bl6|awk \\\n",
    "'{\\\n",
    "query=$1;\\\n",
    "if (!(query in out) || $11 < evalue[query])\\\n",
    "    {evalue[query]=$11; out[query]=$0}\\\n",
    "}\\\n",
    "END{for(key in out){print out[key]}}'\\\n",
    "> negative_training_topscores.bltab"
   ]
  }
 ],
 "metadata": {
  "kernelspec": {
   "display_name": "Bash",
   "language": "bash",
   "name": "bash"
  },
  "language_info": {
   "codemirror_mode": "shell",
   "file_extension": ".sh",
   "mimetype": "text/x-sh",
   "name": "bash"
  }
 },
 "nbformat": 4,
 "nbformat_minor": 2
}
