{
 "cells": [
  {
   "cell_type": "markdown",
   "metadata": {},
   "source": [
    "# Exercise\n",
    "\n",
    "Build a *blast-based* method to predict the presence of BPTI/Kunitz domain\n",
    "in proteins available in SwissProt using the human proteins as a reference.\n",
    "• Select all Proteins in SwissProt with BPTI/Kunitz domain.\n",
    "• Separate human from non human proteins. Use the non human proteins\n",
    "as a positive in the testing set.\n",
    "• Generate a random set of negative of the same size of the positive set.\n",
    "• Remove both positives and negatives from SwissProt and perform the\n",
    "prediction based on the results of the blast search. \n",
    "\n",
    "checking the files we downloaded:"
   ]
  },
  {
   "cell_type": "code",
   "execution_count": 4,
   "metadata": {},
   "outputs": [
    {
     "name": "stdout",
     "output_type": "stream",
     "text": [
      "      18     200    1778\n"
     ]
    }
   ],
   "source": [
    "grep '>'  Human_PF00014.fasta |wc"
   ]
  },
  {
   "cell_type": "markdown",
   "metadata": {},
   "source": [
    "      Then we have collected a non human pf00014 file lets check how many sequences it contains."
   ]
  },
  {
   "cell_type": "code",
   "execution_count": 5,
   "metadata": {},
   "outputs": [
    {
     "name": "stdout",
     "output_type": "stream",
     "text": [
      "     341    3479   35934\n"
     ]
    }
   ],
   "source": [
    "grep '>' NotHuman_PF00014.fasta |wc"
   ]
  },
  {
   "cell_type": "markdown",
   "metadata": {},
   "source": [
    "These two sets are used as a positives set. The `Human_PF00014.fasta` as training positive and the the `NotHuman_PF00014.fasta` as testing positive set. And then we have a set that are the negatives. So a set that are only Human but NOT PF00014 kunitz this dataset contains more than 20 000."
   ]
  },
  {
   "cell_type": "code",
   "execution_count": 6,
   "metadata": {},
   "outputs": [
    {
     "name": "stdout",
     "output_type": "stream",
     "text": [
      "   20347  222853 2042133\n"
     ]
    }
   ],
   "source": [
    " grep '>' Human_NotPF00014.fasta |wc"
   ]
  },
  {
   "cell_type": "markdown",
   "metadata": {},
   "source": [
    "Now if you want to split the dataset into 2 parts. Lets take the first 1000.000:"
   ]
  },
  {
   "cell_type": "code",
   "execution_count": 7,
   "metadata": {},
   "outputs": [
    {
     "name": "stdout",
     "output_type": "stream",
     "text": [
      "   10000  109297 1005583\n"
     ]
    }
   ],
   "source": [
    " grep '>' Human_NotPF00014.fasta |head -n 10000 |wc"
   ]
  },
  {
   "cell_type": "markdown",
   "metadata": {},
   "source": [
    "Then we can find the 'name' or ID of the 100 000st sequence:\n",
    "By piping;\n",
    "\n",
    "`head -- display first lines of a file`\n",
    "`SYNOPSIS\n",
    "     head [-n count | -c bytes] [file ...]`\n",
    "\n",
    "`DESCRIPTION\n",
    "     This filter displays the first count lines or bytes of each of the specified files, or\n",
    "     of the standard input if no files are specified.  If count is omitted it defaults to\n",
    "     10.` \n",
    "`tail -- display the last part of a file`\n",
    "` -n number`\n",
    "\n",
    "So we pipe the head of - n 10000 into | tail -n 1. That way we get the last of the list."
   ]
  },
  {
   "cell_type": "code",
   "execution_count": 8,
   "metadata": {},
   "outputs": [
    {
     "name": "stdout",
     "output_type": "stream",
     "text": [
      ">sp|O95081|AGFG2_HUMAN Arf-GAP domain and FG repeat-containing protein 2 OS=Homo sapiens OX=9606 GN=AGFG2 PE=1 SV=2\n"
     ]
    }
   ],
   "source": [
    "grep '>' Human_NotPF00014.fasta |head -n 10000 |tail -n 1"
   ]
  },
  {
   "cell_type": "markdown",
   "metadata": {},
   "source": [
    "Now that we have the name of the 10000st seq - we want to find the in which line number it is located."
   ]
  },
  {
   "cell_type": "code",
   "execution_count": 9,
   "metadata": {},
   "outputs": [
    {
     "name": "stdout",
     "output_type": "stream",
     "text": [
      "109065:>sp|O95081|AGFG2_HUMAN Arf-GAP domain and FG repeat-containing protein 2 OS=Homo sapiens OX=9606 GN=AGFG2 PE=1 SV=2\n"
     ]
    }
   ],
   "source": [
    "grep -n O95081 Human_NotPF00014.fasta "
   ]
  },
  {
   "cell_type": "markdown",
   "metadata": {},
   "source": [
    "The sequence is found in the line `109065`. We can also retrieve the 10th line after the match:"
   ]
  },
  {
   "cell_type": "code",
   "execution_count": 11,
   "metadata": {},
   "outputs": [
    {
     "name": "stdout",
     "output_type": "stream",
     "text": [
      "109065:>sp|O95081|AGFG2_HUMAN Arf-GAP domain and FG repeat-containing protein 2 OS=Homo sapiens OX=9606 GN=AGFG2 PE=1 SV=2\n",
      "109066-MVMAAKKGPGPGGGVSGGKAEAEAASEVWCRRVRELGGCSQAGNRHCFECAQRGVTYVDI\n",
      "109067-TVGSFVCTTCSGLLRGLNPPHRVKSISMTTFTEPEVVFLQSRGNEVCRKIWLGLFDARTS\n",
      "109068-LVPDSRDPQKVKEFLQEKYEKKRWYVPPDQVKGPTYTKGSASTPVQGSIPEGKPLRTLLG\n",
      "109069-DPAPSLSVAASTSSQPVSQSHARTSQARSTQPPPHSSVKKASTDLLADIGGDPFAAPQMA\n",
      "109070-PAFAAFPAFGGQTPSQGGFANFDAFSSGPSSSVFGSLPPAGQASFQAQPTPAGSSQGTPF\n",
      "109071-GATPLAPASQPNSLADVGSFLGPGVPAAGVPSSLFGMAGQVPPLQSVTMGGGGGSSTGLA\n",
      "109072-FGAFTNPFTAPAAQSPLPSTNPFQPNGLAPGPGFGMSSAGPGFPQAVPPTGAFASSFPAP\n",
      "109073-LFPPQTPLVQQQNGSSFGDLGSAKLGQRPLSQPAGISTNPFMTGPSSSPFASKPPTTNPF\n",
      "109074-L\n",
      "109075->sp|P32970|CD70_HUMAN CD70 antigen OS=Homo sapiens OX=9606 GN=CD70 PE=1 SV=2\n"
     ]
    }
   ],
   "source": [
    "grep -n -A 10 O95081 Human_NotPF00014.fasta #|less"
   ]
  },
  {
   "cell_type": "markdown",
   "metadata": {},
   "source": [
    "Knowing that one entry 'spans over' 10 lines - line one being the identifier and the remaining ones the sequence, we also know that we have to add 9 lines in order to 'keep' the whole sequence. As not to trucate it keeping only line one of it. The last line shold therefore be 109074.\n",
    "\n",
    "(Or an easier way to approach it would have been to access sequence 100001 and find the number of the previous line...)\n",
    "\n",
    "To check again that we calculated it right and we will obtain the entire seq of the sp|095081 we use head again: "
   ]
  },
  {
   "cell_type": "code",
   "execution_count": 12,
   "metadata": {},
   "outputs": [
    {
     "name": "stdout",
     "output_type": "stream",
     "text": [
      ">sp|O95081|AGFG2_HUMAN Arf-GAP domain and FG repeat-containing protein 2 OS=Homo sapiens OX=9606 GN=AGFG2 PE=1 SV=2\n",
      "MVMAAKKGPGPGGGVSGGKAEAEAASEVWCRRVRELGGCSQAGNRHCFECAQRGVTYVDI\n",
      "TVGSFVCTTCSGLLRGLNPPHRVKSISMTTFTEPEVVFLQSRGNEVCRKIWLGLFDARTS\n",
      "LVPDSRDPQKVKEFLQEKYEKKRWYVPPDQVKGPTYTKGSASTPVQGSIPEGKPLRTLLG\n",
      "DPAPSLSVAASTSSQPVSQSHARTSQARSTQPPPHSSVKKASTDLLADIGGDPFAAPQMA\n",
      "PAFAAFPAFGGQTPSQGGFANFDAFSSGPSSSVFGSLPPAGQASFQAQPTPAGSSQGTPF\n",
      "GATPLAPASQPNSLADVGSFLGPGVPAAGVPSSLFGMAGQVPPLQSVTMGGGGGSSTGLA\n",
      "FGAFTNPFTAPAAQSPLPSTNPFQPNGLAPGPGFGMSSAGPGFPQAVPPTGAFASSFPAP\n",
      "LFPPQTPLVQQQNGSSFGDLGSAKLGQRPLSQPAGISTNPFMTGPSSSPFASKPPTTNPF\n",
      "L\n"
     ]
    }
   ],
   "source": [
    "head -n 109074 Human_NotPF00014.fasta |tail -n 10"
   ]
  },
  {
   "cell_type": "markdown",
   "metadata": {},
   "source": [
    "This way we have reconfirmed that the index of the last line we plan to grab is correct. Now we will save the sto of the following cmd to Humand_NotPF00014_Training."
   ]
  },
  {
   "cell_type": "code",
   "execution_count": 13,
   "metadata": {},
   "outputs": [],
   "source": [
    "head -n 109074 Human_NotPF00014.fasta > Human_NotPF00014_Training.fasta"
   ]
  },
  {
   "cell_type": "markdown",
   "metadata": {},
   "source": [
    "Then we select the remaining ones as the Test set by just modifying the cmd:"
   ]
  },
  {
   "cell_type": "code",
   "execution_count": 17,
   "metadata": {},
   "outputs": [],
   "source": [
    "tail -n +109075 Human_NotPF00014.fasta > Human_NotPF00014_Testing.fasta"
   ]
  },
  {
   "cell_type": "markdown",
   "metadata": {},
   "source": [
    "As always now we check weather the the files 'look' as we expect them to look:"
   ]
  },
  {
   "cell_type": "code",
   "execution_count": 18,
   "metadata": {},
   "outputs": [
    {
     "name": "stdout",
     "output_type": "stream",
     "text": [
      "   10000\n"
     ]
    }
   ],
   "source": [
    "grep '^>' Human_NotPF00014_Training.fasta |wc -l"
   ]
  },
  {
   "cell_type": "code",
   "execution_count": 19,
   "metadata": {},
   "outputs": [
    {
     "name": "stdout",
     "output_type": "stream",
     "text": [
      "   10347\n"
     ]
    }
   ],
   "source": [
    "grep '^>' Human_NotPF00014_Testing.fasta |wc -l"
   ]
  },
  {
   "cell_type": "markdown",
   "metadata": {},
   "source": [
    "Prof Capriotti actually used:\n",
    "\n",
    "`grep '>' Human_NotPF00014_Testing.fasta |wc\n",
    "   10347  113556 1036550`"
   ]
  },
  {
   "cell_type": "markdown",
   "metadata": {},
   "source": [
    "Now we have already formatted the Database:\n",
    "If you want to format a database\n",
    "The DB now uses as a reference the human BPTI domain. `formatdb -i <file name> -p T`\n",
    "\n",
    "Problem on my machine the formatdb is deprecated... instead I had to use:\n",
    "\n",
    "See: https://www.ncbi.nlm.nih.gov/books/NBK279690/"
   ]
  },
  {
   "cell_type": "code",
   "execution_count": null,
   "metadata": {},
   "outputs": [],
   "source": [
    "makeblastdb -in Human_PF00014.fasta -taxid 9606 -dbtype prot"
   ]
  },
  {
   "cell_type": "markdown",
   "metadata": {},
   "source": [
    "`Building a new DB, current time: 04/16/2020 18:24:24\n",
    "New DB name:   /Users/ila/01-Unibo/2_LAB1_2nd/capriotti/repkunitz/Human_PF00014.fasta\n",
    "New DB title:  Human_PF00014.fasta\n",
    "Sequence type: Protein\n",
    "Keep MBits: T\n",
    "Maximum file size: 1000000000B\n",
    "Adding sequences from FASTA; added 18 sequences in 0.0149059 seconds.`"
   ]
  },
  {
   "cell_type": "code",
   "execution_count": 20,
   "metadata": {},
   "outputs": [
    {
     "name": "stdout",
     "output_type": "stream",
     "text": [
      "15L-lab1-17-04_p2.mkv.zip       NotHuman_PF00014.bl6\n",
      "Human_NotPF00014.fasta          NotHuman_PF00014.bl6.best\n",
      "Human_NotPF00014_Testing.fasta  NotHuman_PF00014.fasta\n",
      "Human_NotPF00014_Training.fasta Untitled.ipynb\n",
      "Human_PF00014.bl6               \u001b[1m\u001b[34mbl8\u001b[39;49m\u001b[0m\n",
      "Human_PF00014.fasta             kunitz_meeting.rtf\n",
      "Human_PF00014.fasta.phr         ncbi-blast-2.2.26+.dmg\n",
      "Human_PF00014.fasta.pin         not_not.fasta\n",
      "Human_PF00014.fasta.psq\n"
     ]
    }
   ],
   "source": [
    "ls"
   ]
  },
  {
   "cell_type": "markdown",
   "metadata": {},
   "source": [
    "`ila@Immanuelas-Air:~/01-Unibo/2_LAB1_2nd/capriotti/repkunitz$ ls\n",
    "13L_lab1-15-04_all.mp4          Human_PF00014.fasta             NotHuman_PF00014.fasta\n",
    "Human_NotPF00014.fasta          Human_PF00014.fasta.phr         ncbi-blast-2.2.26+.dmg\n",
    "Human_NotPF00014_Testing.fasta  Human_PF00014.fasta.pin         not_not.fasta\n",
    "Human_NotPF00014_Training.fasta Human_PF00014.fasta.psq`"
   ]
  },
  {
   "cell_type": "markdown",
   "metadata": {},
   "source": [
    "Now just to check, we will do the blast of the \n",
    "human proteins against the Human proteins just as a consistency test.\n",
    "`#replacing blastpgp from version 2.2.26 (legacy) -i = -query, -d = -db, -o = -out, -m = -outfmt. `\n"
   ]
  },
  {
   "cell_type": "code",
   "execution_count": 22,
   "metadata": {},
   "outputs": [],
   "source": [
    "# outfmt 6 is the Tabular form\n",
    "psiblast -query Human_PF00014.fasta -db Human_PF00014.fasta -out Human_PF00014.bl6 -outfmt 6"
   ]
  },
  {
   "cell_type": "markdown",
   "metadata": {},
   "source": [
    "The output was redirected into the `Human_PF00014.bl6` file\n",
    "looking like that:"
   ]
  },
  {
   "cell_type": "code",
   "execution_count": 24,
   "metadata": {},
   "outputs": [
    {
     "name": "stdout",
     "output_type": "stream",
     "text": [
      "sp|Q06481|APLP2_HUMAN\tsp|Q06481|APLP2_HUMAN\t100.000\t763\t0\t0\t1\t763\t1\t763\t0.0\t1590\n",
      "sp|Q06481|APLP2_HUMAN\tsp|P05067|A4_HUMAN\t51.111\t495\t178\t11\t313\t762\t294\t769\t1.73e-155\t463\n",
      "sp|Q06481|APLP2_HUMAN\tsp|O43291|SPIT2_HUMAN\t41.667\t84\t47\t1\t288\t369\t111\t194\t8.02e-21\t84.0\n",
      "sp|Q06481|APLP2_HUMAN\tsp|O43291|SPIT2_HUMAN\t40.625\t64\t34\t2\t298\t360\t28\t88\t2.75e-14\t64.7\n",
      "sp|Q06481|APLP2_HUMAN\tsp|P49223|SPIT3_HUMAN\t47.170\t53\t28\t0\t309\t361\t35\t87\t5.02e-16\t65.1\n",
      "sp|Q06481|APLP2_HUMAN\tsp|O95925|EPPI_HUMAN\t45.283\t53\t29\t0\t309\t361\t76\t128\t2.48e-14\t62.0\n",
      "sp|Q06481|APLP2_HUMAN\tsp|Q8TEU8|WFKN2_HUMAN\t50.943\t53\t26\t0\t308\t360\t384\t436\t3.64e-14\t66.2\n",
      "sp|Q06481|APLP2_HUMAN\tsp|Q8TEU8|WFKN2_HUMAN\t41.667\t36\t21\t0\t325\t360\t343\t378\t2.85e-06\t40.8\n",
      "sp|Q06481|APLP2_HUMAN\tsp|Q8TEU8|WFKN2_HUMAN\t26.271\t118\t62\t6\t597\t691\t188\t303\t0.88\t23.1\n",
      "sp|Q06481|APLP2_HUMAN\tsp|O95428|PPN_HUMAN\t31.298\t131\t82\t2\t289\t417\t733\t857\t4.17e-13\t63.5\n"
     ]
    }
   ],
   "source": [
    "head Human_PF00014.bl6"
   ]
  },
  {
   "cell_type": "code",
   "execution_count": null,
   "metadata": {},
   "outputs": [],
   "source": [
    "# sp|Q06481|APLP2_HUMAN   sp|Q06481|APLP2_HUMAN   100.000 763     0       0       1       763     1       763     0.0     1590\n",
    "# sp|Q06481|APLP2_HUMAN   sp|P05067|A4_HUMAN      51.111  495     178     11      313     762     294     769     1.73e-155       463\n",
    "# sp|Q06481|APLP2_HUMAN   sp|O43291|SPIT2_HUMAN   41.667  84      47      1       288     369     111     194     8.02e-21        84.0\n",
    "# sp|Q06481|APLP2_HUMAN   sp|O43291|SPIT2_HUMAN   40.625  64      34      2       298     360     28      88      2.75e-14        64.7\n",
    "# sp|Q06481|APLP2_HUMAN   sp|P49223|SPIT3_HUMAN   47.170  53      28      0       309     361     35      87      5.02e-16        65.1"
   ]
  },
  {
   "cell_type": "markdown",
   "metadata": {},
   "source": [
    "The 11th column shows the e-value. To find the highest (=worst) e-value we use reverse sort by 11th column. `-nrk n- number, r- reverse, k- column`"
   ]
  },
  {
   "cell_type": "code",
   "execution_count": 25,
   "metadata": {},
   "outputs": [
    {
     "name": "stdout",
     "output_type": "stream",
     "text": [
      "sp|Q9BQY6|WFDC6_HUMAN\tsp|Q02388|CO7A1_HUMAN\t48.000\t25\t11\t2\t12\t35\t2315\t2338\t10.0\t16.9\n",
      "sp|P10646|TFPI1_HUMAN\tsp|P12111|CO6A3_HUMAN\t45.098\t51\t28\t0\t217\t267\t3112\t3162\t9.99e-12\t56.6\n",
      "sp|P02760|AMBP_HUMAN\tsp|Q9BQY6|WFDC6_HUMAN\t59.259\t27\t11\t0\t256\t282\t102\t128\t9.98e-06\t35.8\n",
      "sp|O95428|PPN_HUMAN\tsp|P02760|AMBP_HUMAN\t38.462\t52\t32\t0\t754\t805\t231\t282\t9.96e-10\t52.4\n",
      "sp|Q8TEU8|WFKN2_HUMAN\tsp|O43278|SPIT1_HUMAN\t54.545\t44\t20\t0\t393\t436\t398\t441\t9.95e-11\t54.7\n",
      "sp|Q02388|CO7A1_HUMAN\tsp|P12111|CO6A3_HUMAN\t23.721\t215\t149\t8\t1025\t1233\t12\t217\t9.92e-06\t41.6\n",
      "sp|Q96NZ8|WFKN1_HUMAN\tsp|P10646|TFPI1_HUMAN\t29.545\t132\t59\t1\t313\t410\t137\t268\t9.91e-16\t68.9\n",
      "sp|P12111|CO6A3_HUMAN\tsp|Q2UY09|COSA1_HUMAN\t24.828\t145\t96\t3\t1639\t1778\t798\t934\t9.90e-06\t41.6\n",
      "sp|Q8IUA0|WFDC8_HUMAN\tsp|P12111|CO6A3_HUMAN\t66.667\t6\t2\t0\t153\t158\t2395\t2400\t9.8\t18.1\n",
      "sp|P12111|CO6A3_HUMAN\tsp|Q8TEU8|WFKN2_HUMAN\t28.788\t66\t47\t0\t2897\t2962\t266\t331\t9.8\t21.9\n"
     ]
    }
   ],
   "source": [
    "sort -nrk 11 Human_PF00014.bl8 |head #|less"
   ]
  },
  {
   "cell_type": "markdown",
   "metadata": {},
   "source": [
    "We see the worst value belongs to Q9BQY6"
   ]
  },
  {
   "cell_type": "code",
   "execution_count": null,
   "metadata": {},
   "outputs": [],
   "source": [
    "#sp|Q9BQY6|WFDC6_HUMAN   sp|Q02388|CO7A1_HUMAN   48.000  25      11      2       12      35      2315    2338    10.0    16.9"
   ]
  },
  {
   "cell_type": "markdown",
   "metadata": {},
   "source": [
    "We can also change the evalue to 1000:"
   ]
  },
  {
   "cell_type": "code",
   "execution_count": 26,
   "metadata": {},
   "outputs": [],
   "source": [
    "blastp -query Human_PF00014.fasta -db Human_PF00014.fasta -out Human_PF00014.bl6 -outfmt 6 -evalue 1000"
   ]
  },
  {
   "cell_type": "code",
   "execution_count": 37,
   "metadata": {},
   "outputs": [
    {
     "name": "stdout",
     "output_type": "stream",
     "text": [
      "sp|Q9BQY6|WFDC6_HUMAN\tsp|Q02388|CO7A1_HUMAN\t48.000\t25\t11\t2\t12\t35\t2315\t2338\t10.0\t16.9\n",
      "sp|P10646|TFPI1_HUMAN\tsp|P12111|CO6A3_HUMAN\t45.098\t51\t28\t0\t217\t267\t3112\t3162\t9.99e-12\t56.6\n",
      "sp|P02760|AMBP_HUMAN\tsp|Q9BQY6|WFDC6_HUMAN\t59.259\t27\t11\t0\t256\t282\t102\t128\t9.98e-06\t35.8\n",
      "sp|O95428|PPN_HUMAN\tsp|P02760|AMBP_HUMAN\t38.462\t52\t32\t0\t754\t805\t231\t282\t9.96e-10\t52.4\n",
      "sp|Q8TEU8|WFKN2_HUMAN\tsp|O43278|SPIT1_HUMAN\t54.545\t44\t20\t0\t393\t436\t398\t441\t9.95e-11\t54.7\n",
      "sp|Q02388|CO7A1_HUMAN\tsp|P12111|CO6A3_HUMAN\t23.721\t215\t149\t8\t1025\t1233\t12\t217\t9.92e-06\t41.6\n",
      "sp|Q96NZ8|WFKN1_HUMAN\tsp|P10646|TFPI1_HUMAN\t29.545\t132\t59\t1\t313\t410\t137\t268\t9.91e-16\t68.9\n",
      "sp|P12111|CO6A3_HUMAN\tsp|Q2UY09|COSA1_HUMAN\t24.828\t145\t96\t3\t1639\t1778\t798\t934\t9.90e-06\t41.6\n",
      "sp|Q8IUA0|WFDC8_HUMAN\tsp|P12111|CO6A3_HUMAN\t66.667\t6\t2\t0\t153\t158\t2395\t2400\t9.8\t18.1\n",
      "sp|P12111|CO6A3_HUMAN\tsp|Q8TEU8|WFKN2_HUMAN\t28.788\t66\t47\t0\t2897\t2962\t266\t331\t9.8\t21.9\n"
     ]
    }
   ],
   "source": [
    "#sort -nrk 11 Human_PF00014.bl8 |less\n",
    "sort -nrk 11 Human_PF00014.bl8 |head"
   ]
  },
  {
   "cell_type": "markdown",
   "metadata": {},
   "source": [
    "Now you see that "
   ]
  },
  {
   "cell_type": "code",
   "execution_count": null,
   "metadata": {},
   "outputs": [],
   "source": [
    "#sp|P48307|TFPI2_HUMAN   sp|P05067|A4_HUMAN      27.273  11      8       0       154     164     551     561     999     11.5"
   ]
  },
  {
   "cell_type": "markdown",
   "metadata": {},
   "source": [
    "This gives us information of the range of e-values we may get. \n",
    "\n",
    "If we are not interested in the full matches. We can use awk to check for the id's \n",
    "With the cmd below we get all the complete matches."
   ]
  },
  {
   "cell_type": "code",
   "execution_count": null,
   "metadata": {},
   "outputs": [],
   "source": [
    "#awk '{if($1 == $2)print $0}' Human_PF00014.bl8 |less\n",
    "#if the first index of a line is equal to the second, print the whole line ($0_)"
   ]
  },
  {
   "cell_type": "code",
   "execution_count": null,
   "metadata": {},
   "outputs": [],
   "source": [
    "`\n",
    "sp|Q06481|APLP2_HUMAN   sp|Q06481|APLP2_HUMAN   100.000 763     0       0       1       763     1       763     0.0     1590\n",
    "sp|P05067|A4_HUMAN      sp|P05067|A4_HUMAN      100.000 770     0       0       1       770     1       770     0.0     1610\n",
    "sp|Q02388|CO7A1_HUMAN   sp|Q02388|CO7A1_HUMAN   100.000 2944    0       0       1       2944    1       2944    0.0     5494\n",
    "sp|P12111|CO6A3_HUMAN   sp|P12111|CO6A3_HUMAN   100.000 3177    0       0       1       3177    1       3177    0.0     6455\n",
    "sp|P02760|AMBP_HUMAN    sp|P02760|AMBP_HUMAN    100.000 352     0       0       1       352     1       352     0.0     734\n",
    "sp|O95925|EPPI_HUMAN    sp|O95925|EPPI_HUMAN    100.000 133     0       0       1       133     1       133     8.42e-100       274\n",
    "sp|P10646|TFPI1_HUMAN   sp|P10646|TFPI1_HUMAN   100.000 304     0       0       1       304     1       304     0.0     630\n",
    "sp|O43278|SPIT1_HUMAN   sp|O43278|SPIT1_HUMAN   100.000 529     0       0       1       529     1       529     0.0     1099\n",
    "sp|O43291|SPIT2_HUMAN   sp|O43291|SPIT2_HUMAN   100.000 252     0       0       1       252     1       252     0.0     521\n",
    "sp|P48307|TFPI2_HUMAN   sp|P48307|TFPI2_HUMAN   100.000 235     0       0       1       235     1       235     2.53e-180       486\n",
    "sp|Q8TEU8|WFKN2_HUMAN   sp|Q8TEU8|WFKN2_HUMAN   100.000 576     0       0       1       576     1       576     0.0     1199\n",
    "sp|Q2UY09|COSA1_HUMAN   sp|Q2UY09|COSA1_HUMAN   100.000 1125    0       0       1       1125    1       1125    0.0     2187\n",
    "sp|Q96NZ8|WFKN1_HUMAN   sp|Q96NZ8|WFKN1_HUMAN   100.000 548     0       0       1       548     1       548     0.0     1112\n",
    "sp|O95428|PPN_HUMAN     sp|O95428|PPN_HUMAN     100.000 1278    0       0       1       1278    1       1278    0.0     2586\n",
    "sp|Q9BQY6|WFDC6_HUMAN   sp|Q9BQY6|WFDC6_HUMAN   100.000 131     0       0       1       131     1       131     1.27e-98        270\n",
    "sp|Q8IUA0|WFDC8_HUMAN   sp|Q8IUA0|WFDC8_HUMAN   100.000 241     0       0       1       241     1       241     0.0     492\n",
    "sp|P49223|SPIT3_HUMAN   sp|P49223|SPIT3_HUMAN   100.000 89      0       0       1       89      1       89      4.67e-65        182\n",
    "sp|Q6UDR6|SPIT4_HUMAN   sp|Q6UDR6|SPIT4_HUMAN   100.000 99      0       0       1       99      1       99      2.56e-72        201\n",
    "(END)\n",
    "`"
   ]
  },
  {
   "cell_type": "markdown",
   "metadata": {},
   "source": [
    "These are obviously the 18 proteins we have in our dataset."
   ]
  },
  {
   "cell_type": "code",
   "execution_count": 38,
   "metadata": {},
   "outputs": [
    {
     "name": "stdout",
     "output_type": "stream",
     "text": [
      "      18     216    1468\n"
     ]
    }
   ],
   "source": [
    "awk '{if ($1 == $2)print $0}' Human_PF00014.bl8 |wc\n",
    "#       18     216    1468"
   ]
  },
  {
   "cell_type": "markdown",
   "metadata": {},
   "source": [
    "But we rather want to know what happened with the negatives. So lets blast the negatives."
   ]
  },
  {
   "cell_type": "code",
   "execution_count": 39,
   "metadata": {},
   "outputs": [],
   "source": [
    "psiblast -query Human_NotPF00014.fasta -db Human_PF00014.fasta -out Human_NotPF00014_Training.bl6 -outfmt 6"
   ]
  },
  {
   "cell_type": "markdown",
   "metadata": {},
   "source": [
    "We can less the file *.bl6\n",
    "At this point we want to know the best hit between the negative, that are not Kunitz/BPTI and the Human Kunitz/BPTI. \n",
    "Now we sort the output to find the sequence with the lowest e-value in the 11th column."
   ]
  },
  {
   "cell_type": "code",
   "execution_count": null,
   "metadata": {},
   "outputs": [],
   "source": [
    "#sort -gk 11 Human_NotPF00014_Training.bl8 |less"
   ]
  },
  {
   "cell_type": "markdown",
   "metadata": {},
   "source": [
    "Now we see something interesting here: there are 2 seq that we have retrieved from a Uniprot search that are not classified as Human BPTI but they have an e-value that is zero.\n",
    "The first col is Human non BPTI and the second col is Human BPTI that we have in our dataset.\n"
   ]
  },
  {
   "cell_type": "code",
   "execution_count": null,
   "metadata": {},
   "outputs": [],
   "source": [
    "sp|A6NMZ7|CO6A6_HUMAN   sp|P12111|CO6A3_HUMAN   32.023  2239    1310    43      27      2138    639     2792    0.0     1013\n",
    "sp|A8TX70|CO6A5_HUMAN   sp|P12111|CO6A3_HUMAN   31.051  2235    1320    51      30      2130    639     2786    0.0     927"
   ]
  },
  {
   "cell_type": "markdown",
   "metadata": {},
   "source": [
    "This means probably that those two (CO6A6_HUMAN, CO6A5_HUMAN) have a domain that is \n",
    "extremely similar to BPTI and has not yet been annotated by pfam.\n",
    "\n",
    "Then there are many other hits that have an evalue of 10^-3 :\n",
    "This number is also a possible threshold for selecting **homologues**\n",
    "\n",
    "`\n",
    "sp|A6NMZ7|CO6A6_HUMAN   sp|P12111|CO6A3_HUMAN   32.023  2239    1310    43      27      2138    639     2792    0.0     1013\n",
    "sp|A8TX70|CO6A5_HUMAN   sp|P12111|CO6A3_HUMAN   31.051  2235    1320    51      30      2130    639     2786    0.0     927\n",
    "sp|A0A075B6J6|LV322_HUMAN       sp|O95428|PPN_HUMAN     25.926  81      40      2       29      108     1053    1114    0.001   28.5\n",
    "sp|A0A075B6J6|LV322_HUMAN       sp|O95428|PPN_HUMAN     33.750  80      35      4       29      108     919     980     0.001   28.5\n",
    "sp|A0A075B6T6|TVAL2_HUMAN       sp|O95428|PPN_HUMAN     30.556  72      40      3       32      94      1142    1212    0.001   28.5\n",
    "sp|A0A0J9YXQ4|PMA6E_HUMAN       sp|Q02388|CO7A1_HUMAN   30.182  275     119     8       86      293     2379    2647    0.001   32.3\n",
    "sp|A0A1B0GUY1|MRCOL_HUMAN       sp|Q02388|CO7A1_HUMAN   25.397  189     126     5       106     282     2248    2433    0.001   31.2\n",
    "sp|A0A1B0GUY1|MRCOL_HUMAN       sp|Q02388|CO7A1_HUMAN   33.333  51      34      0       206     256     1294    1344    0.001   31.2\n",
    "sp|A2VEC9|SSPO_HUMAN    sp|O95428|PPN_HUMAN     36.585  82      41      4       2510    2584    313     390     0.001   35.8\n",
    "sp|A6NDA9|LRIT2_HUMAN   sp|Q02388|CO7A1_HUMAN   30.851  94      59      4       359     452     864     951     0.001   32.0\n",
    "sp|A6NF34|ANTRL_HUMAN   sp|Q02388|CO7A1_HUMAN   29.787  94      58      4       172     262     1157    1245    0.001   32.7\n",
    "sp|B2RNN3|C1T9B_HUMAN   sp|Q02388|CO7A1_HUMAN   39.796  98      35      3       71      156     1296    1381    0.001   31.2\n",
    "sp|O14498|ISLR_HUMAN    sp|O95428|PPN_HUMAN     29.630  54      38      0       294     347     1169    1222    0.001   31.6\n",
    "sp|O15232|MATN3_HUMAN   sp|Q02388|CO7A1_HUMAN   23.529  136     98      4       102     234     1072    1204    0.001   32.0\n",
    "sp|O15394|NCAM2_HUMAN   sp|O95428|PPN_HUMAN     23.333  210     96      8       222     382     921     1114    0.001   32.7\n",
    "sp|O60271|JIP4_HUMAN    sp|P12111|CO6A3_HUMAN   25.000  88      63      1       487     574     1346    1430    0.001   33.9\n",
    "sp|O60500|NPHN_HUMAN    sp|Q96NZ8|WFKN1_HUMAN   27.381  84      56      3       740     820     186     267     0.001   33.5\n",
    "sp|O60575|ISK4_HUMAN    sp|Q8TEU8|WFKN2_HUMAN   40.909  22      13      0       46      67      138     159     0.001   27.7\n",
    "sp|O60575|ISK4_HUMAN    sp|Q96NZ8|WFKN1_HUMAN   40.909  22      13      0       46      67      120     141     0.001   27.7\n",
    "sp|O75056|SDC3_HUMAN    sp|O95428|PPN_HUMAN     64.706  17      6       0       405     421     1186    1202    0.001   31.6\n",
    "sp|O75096|LRP4_HUMAN    sp|O43278|SPIT1_HUMAN   40.000  35      21      0       231     265     335     369     0.001   33.9\n",
    "`"
   ]
  },
  {
   "cell_type": "code",
   "execution_count": null,
   "metadata": {},
   "outputs": [],
   "source": [
    "sort -gk 11 Human_NotPF00014_Training.bl8 |head -n 2 |awk '{print $1,$2,$11}"
   ]
  },
  {
   "cell_type": "markdown",
   "metadata": {},
   "source": [
    "Now we may see that there are many non BPTI/Kunitz proteins that get a low e-value. Moving to the training set we can now rund blast on both the positive and the negative sets."
   ]
  },
  {
   "cell_type": "code",
   "execution_count": 3,
   "metadata": {},
   "outputs": [],
   "source": [
    "# Run on positive testing set\n",
    "# psiblast -query NotHuman_PF00014.fasta -db Human_PF00014.fasta -out NotHuman_PF00014.bl8\n",
    "# didnt work on my version\n",
    "# blastp -in FASTAIN -db DATABASE - out OUTFILE.bl6 -outfmt 6\n",
    "blastp -query Human_PF00014.fasta -db Human_PF00014.fasta -out Human_PF00014.bl6 -outfmt 6"
   ]
  },
  {
   "cell_type": "code",
   "execution_count": 1,
   "metadata": {},
   "outputs": [
    {
     "name": "stdout",
     "output_type": "stream",
     "text": [
      "     835\n"
     ]
    }
   ],
   "source": [
    "cat Human_PF00014.bl6 |wc -l"
   ]
  },
  {
   "cell_type": "markdown",
   "metadata": {},
   "source": [
    "`NotHuman_PF00014.bl8` contains the alignment of all non-human PF00014 proteins against the Human PF00014 sequences contained in `Human_PF00014.fasta`\n",
    "\n",
    "Now we will run the same also for the human testing."
   ]
  },
  {
   "cell_type": "code",
   "execution_count": 1,
   "metadata": {},
   "outputs": [],
   "source": [
    "blastp -query NotHuman_PF00014.fasta -db Human_PF00014.fasta -out NotHuman_PF00014.bl6 -outfmt 6"
   ]
  },
  {
   "cell_type": "code",
   "execution_count": 2,
   "metadata": {},
   "outputs": [
    {
     "name": "stdout",
     "output_type": "stream",
     "text": [
      "  114207\n"
     ]
    }
   ],
   "source": [
    "cat Human_NotPF00014_2Training.bl6 |wc -l"
   ]
  },
  {
   "cell_type": "markdown",
   "metadata": {},
   "source": [
    "`Human_NotPF00014_Testing.bl8` contains the alignment of the 1,000 sequences (Training set) of all human proteins `not belonging to PF00014` against the ones belonging to PF00014 family.\n"
   ]
  },
  {
   "cell_type": "markdown",
   "metadata": {},
   "source": [
    "We need first to rank the output on the posotive set of non Human BPTI/Kunitz proteins. To do so we grep based on the identifiers and select the mathch with lowest e-value."
   ]
  },
  {
   "cell_type": "code",
   "execution_count": null,
   "metadata": {},
   "outputs": [],
   "source": [
    "# idk what he wants but this doenst work for me:\n",
    "for i in `awk '{print $1}' NotHuman_PF00014.bl8 |sort -u ` ; do grep $i NotHuman_PF00014.bl8 |sort -gk 11 |head -n 1 ; done > NotHuman_PF00014.bl6.best"
   ]
  },
  {
   "cell_type": "markdown",
   "metadata": {},
   "source": [
    "Let's select an e-value of 0.001 as a classification threshold for the classification of BPTI/kunitz proteins. Accorddin to this assumption we calculated the number of proteins with maximu e-value below that threshold. "
   ]
  },
  {
   "cell_type": "code",
   "execution_count": null,
   "metadata": {},
   "outputs": [],
   "source": []
  },
  {
   "cell_type": "code",
   "execution_count": null,
   "metadata": {},
   "outputs": [],
   "source": []
  }
 ],
 "metadata": {
  "kernelspec": {
   "display_name": "Bash",
   "language": "bash",
   "name": "bash"
  },
  "language_info": {
   "codemirror_mode": "shell",
   "file_extension": ".sh",
   "mimetype": "text/x-sh",
   "name": "bash"
  }
 },
 "nbformat": 4,
 "nbformat_minor": 2
}
