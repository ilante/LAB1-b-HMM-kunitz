{
 "cells": [
  {
   "cell_type": "markdown",
   "metadata": {},
   "source": [
    "# Exercise\n",
    "\n",
    "My step by step solutions enriched by [Saul's notes](https://drive.google.com/drive/folders/1EF6HW5NL9cM1hWLYa7bVL0bgMzEoqSBC)\n",
    "Build a *blast-based* method to predict the presence of BPTI/Kunitz domain\n",
    "in proteins available in SwissProt using the human proteins as a reference.\n",
    "* Select all Proteins in SwissProt with BPTI/Kunitz domain.\n",
    "* Separate human from non human proteins. Use the non human proteins\n",
    "as a positive in the testing set.\n",
    "* Generate a random set of negative of the same size of the positive set.\n",
    "* Remove both positives and negatives from SwissProt and perform the\n",
    "prediction based on the results of the blast search. \n",
    "\n",
    "checking the files we downloaded:"
   ]
  },
  {
   "cell_type": "markdown",
   "metadata": {},
   "source": [
    "## The idea:\n",
    "1. In swissprot: find all (human + non-human) Kunitz-containing proteins.\n",
    "2. use the **non-human** fraction as a **positive training set**\n",
    "3. Generate a **random** set of proteins as a negative set that has the same size as the positive set.\n",
    "4. Then remove the training set and do a prediction based on a Blast search."
   ]
  },
  {
   "cell_type": "markdown",
   "metadata": {},
   "source": [
    "1. **Find human and non-human Kunitz proteins in SwissProt**\n",
    "Searching all the human proteins in SwissProt containing the Kunitz domain.\n",
    "\n",
    "`reviewed:yes organism:\"Homo sapiens (Human) [9606]\" database:(type:pfam PF00014)`\n",
    "\n",
    "Retrieved 18 proteins. Download them in Fasta format."
   ]
  },
  {
   "cell_type": "code",
   "execution_count": 1,
   "metadata": {},
   "outputs": [
    {
     "name": "stdout",
     "output_type": "stream",
     "text": [
      "      18     200    1778\n"
     ]
    }
   ],
   "source": [
    "grep '>'  Human_PF00014.fasta |wc"
   ]
  },
  {
   "cell_type": "code",
   "execution_count": 2,
   "metadata": {},
   "outputs": [
    {
     "name": "stdout",
     "output_type": "stream",
     "text": [
      ">sp|Q06481|APLP2_HUMAN Amyloid-like protein 2 OS=Homo sapiens OX=9606 GN=APLP2 PE=1 SV=2\n",
      "MAATGTAAAAATGRLLLLLLVGLTAPALALAGYIEALAANAGTGFAVAEPQIAMFCGKLN\n",
      "MHVNIQTGKWEPDPTGTKSCFETKEEVLQYCQEMYPELQITNVMEANQRVSIDNWCRRDK\n",
      "KQCKSRFVTPFKCLVGEFVSDVLLVPEKCQFFHKERMEVCENHQHWHTVVKEACLTQGMT\n",
      "LYSYGMLLPCGVDQFHGTEYVCCPQTKIIGSVSKEEEEEDEEEEEEEDEEEDYDVYKSEF\n",
      "PTEADLEDFTEAAVDEDDEDEEEGEEVVEDRDYYYDTFKGDDYNEENPTEPGSDGTMSDK\n",
      "EITHDVKAVCSQEAMTGPCRAVMPRWYFDLSKGKCVRFIYGGCGGNRNNFESEDYCMAVC\n",
      "KAMIPPTPLPTNDVDVYFETSADDNEHARFQKAKEQLEIRHRNRMDRVKKEWEEAELQAK\n",
      "NLPKAERQTLIQHFQAMVKALEKEAASEKQQLVETHLARVEAMLNDRRRMALENYLAALQ\n",
      "SDPPRPHRILQALRRYVRAENKDRLHTIRHYQHVLAVDPEKAAQMKSQVMTHLHVIEERR\n"
     ]
    }
   ],
   "source": [
    "head Human_PF00014.fasta"
   ]
  },
  {
   "cell_type": "code",
   "execution_count": null,
   "metadata": {},
   "outputs": [],
   "source": []
  },
  {
   "cell_type": "markdown",
   "metadata": {},
   "source": [
    "Now I download all **non-Human** proteins that contain the **Kunitz Domain**: non human pf00014 file.\n",
    "\n",
    "`database:(type:pfam pf00014) NOT organism:\"Homo sapiens (Human) [9606]\" AND reviewed:yes`\n",
    "\n",
    "lets check how many sequences the fasta file contains."
   ]
  },
  {
   "cell_type": "code",
   "execution_count": 4,
   "metadata": {},
   "outputs": [
    {
     "name": "stdout",
     "output_type": "stream",
     "text": [
      "     341    3479   35934\n"
     ]
    }
   ],
   "source": [
    "grep '>' NotHuman_PF00014.fasta |wc"
   ]
  },
  {
   "cell_type": "code",
   "execution_count": 5,
   "metadata": {},
   "outputs": [
    {
     "name": "stdout",
     "output_type": "stream",
     "text": [
      ">sp|P08592|A4_RAT Amyloid-beta A4 protein OS=Rattus norvegicus OX=10116 GN=App PE=1 SV=2\n",
      "MLPSLALLLLAAWTVRALEVPTDGNAGLLAEPQIAMFCGKLNMHMNVQNGKWESDPSGTK\n",
      "TCIGTKEGILQYCQEVYPELQITNVVEANQPVTIQNWCKRGRKQCKTHTHIVIPYRCLVG\n",
      "EFVSDALLVPDKCKFLHQERMDVCETHLHWHTVAKETCSEKSTNLHDYGMLLPCGIDKFR\n",
      "GVEFVCCPLAEESDSIDSADAEEDDSDVWWGGADTDYADGGEDKVVEVAEEEEVADVEEE\n",
      "EAEDDEDVEDGDEVEEEAEEPYEEATERTTSIATTTTTTTESVEEVVREVCSEQAETGPC\n",
      "RAMISRWYFDVTEGKCAPFFYGGCGGNRNNFDTEEYCMAVCGSVSSQSLLKTTSEPLPQD\n",
      "PVKLPTTAASTPDAVDKYLETPGDENEHAHFQKAKERLEAKHRERMSQVMREWEEAERQA\n",
      "KNLPKADKKAVIQHFQEKVESLEQEAANERQQLVETHMARVEAMLNDRRRLALENYITAL\n",
      "QAVPPRPHHVFNMLKKYVRAEQKDRQHTLKHFEHVRMVDPKKAAQIRSQVMTHLRVIYER\n"
     ]
    }
   ],
   "source": [
    "head NotHuman_PF00014.fasta"
   ]
  },
  {
   "cell_type": "markdown",
   "metadata": {},
   "source": [
    "These two sets are used as a positives set. The `Human_PF00014.fasta` as training positive and the the `NotHuman_PF00014.fasta` as testing positive set. \n",
    "\n",
    "\n",
    "And then we need a set that are for the **negatives**. So a set that are only Human but NOT PF00014 kunitz this dataset contains more than 20 000.\n",
    "\n",
    "`NOT database:(type:pfam pf00014) AND organism:\"Homo sapiens (Human) [9606]\" AND reviewed:yes`"
   ]
  },
  {
   "cell_type": "code",
   "execution_count": 6,
   "metadata": {},
   "outputs": [
    {
     "name": "stdout",
     "output_type": "stream",
     "text": [
      "   20347  222853 2042133\n"
     ]
    }
   ],
   "source": [
    " grep '>' Human_NotPF00014.fasta |wc"
   ]
  },
  {
   "cell_type": "code",
   "execution_count": 7,
   "metadata": {},
   "outputs": [
    {
     "name": "stdout",
     "output_type": "stream",
     "text": [
      ">sp|Q8N8B7|TEANC_HUMAN Transcription elongation factor A N-terminal and central domain-containing protein OS=Homo sapiens OX=9606 GN=TCEANC PE=1 SV=2\n",
      "MSDKNQIAARASLIEQLMSKRNFEDLGNHLTELETIYVTKEHLQETDVVRAVYRVLKNCP\n",
      "SVALKKKAKCLLSKWKAVYKQTHSKARNSPKLFPVRGNKEENSGPSHDPSQNETLGICSS\n",
      "NSLSSQDVAKLSEMIVPENRAIQLKPKEEHFGDGDPESTGKRSSELLDPTTPMRTKCIEL\n",
      "LYAALTSSSTDQPKADLWQNFAREIEEHVFTLYSKNIKKYKTCIRSKVANLKNPRNSHLQ\n",
      "QNLLSGTTSPREFAEMTVMEMANKELKQLRASYTESCIQEHYLPQVIDGTQTNKIKCRRC\n",
      "EKYNCKVTVIDRGTLFLPSWVRNSNPDEQMMTYVICNECGEQWYHSKWVCW\n",
      ">sp|O75494|SRS10_HUMAN Serine/arginine-rich splicing factor 10 OS=Homo sapiens OX=9606 GN=SRSF10 PE=1 SV=1\n",
      "MSRYLRPPNTSLFVRNVADDTRSEDLRREFGRYGPIVDVYVPLDFYTRRPRGFAYVQFED\n",
      "VRDAEDALHNLDRKWICGRQIEIQFAQGDRKTPNQMKAKEGRNVYSSSRYDDYDRYRRSR\n"
     ]
    }
   ],
   "source": [
    "head Human_NotPF00014.fasta"
   ]
  },
  {
   "cell_type": "markdown",
   "metadata": {},
   "source": [
    "## Creating Training and Testing Sets\n",
    "\n",
    "1. Splitting the Human_NotPF00014.fasta File\n",
    "Now if you want to split the dataset into 2 parts. Lets take the first 10000:"
   ]
  },
  {
   "cell_type": "code",
   "execution_count": 8,
   "metadata": {},
   "outputs": [
    {
     "name": "stdout",
     "output_type": "stream",
     "text": [
      "   20347\n"
     ]
    }
   ],
   "source": [
    "grep '>' Human_NotPF00014.fasta |wc -l"
   ]
  },
  {
   "cell_type": "code",
   "execution_count": 7,
   "metadata": {},
   "outputs": [
    {
     "name": "stdout",
     "output_type": "stream",
     "text": [
      "   10000  109297 1005583\n"
     ]
    }
   ],
   "source": [
    " grep '>' Human_NotPF00014.fasta |head -n 10000 |wc"
   ]
  },
  {
   "cell_type": "markdown",
   "metadata": {},
   "source": [
    "Then we can find the 'name' or ID of the 10 000st sequence:\n",
    "By piping;\n",
    "\n",
    "`head -- display first lines of a file`\n",
    "`SYNOPSIS\n",
    "     head [-n count | -c bytes] [file ...]`\n",
    "\n",
    "`DESCRIPTION\n",
    "     This filter displays the first count lines or bytes of each of the specified files, or\n",
    "     of the standard input if no files are specified.  If count is omitted it defaults to\n",
    "     10.` \n",
    "`tail -- display the last part of a file`\n",
    "` -n number`\n",
    "\n",
    "So we pipe the head of - n 10000 into | tail -n 1. That way we get the last of the list."
   ]
  },
  {
   "cell_type": "code",
   "execution_count": 8,
   "metadata": {},
   "outputs": [
    {
     "name": "stdout",
     "output_type": "stream",
     "text": [
      ">sp|O95081|AGFG2_HUMAN Arf-GAP domain and FG repeat-containing protein 2 OS=Homo sapiens OX=9606 GN=AGFG2 PE=1 SV=2\n"
     ]
    }
   ],
   "source": [
    "grep '>' Human_NotPF00014.fasta |head -n 10000 |tail -n 1"
   ]
  },
  {
   "cell_type": "markdown",
   "metadata": {},
   "source": [
    "Now that we have the name of the 10000st seq - we want to find the in which line number it is located."
   ]
  },
  {
   "cell_type": "code",
   "execution_count": 9,
   "metadata": {},
   "outputs": [
    {
     "name": "stdout",
     "output_type": "stream",
     "text": [
      "109065:>sp|O95081|AGFG2_HUMAN Arf-GAP domain and FG repeat-containing protein 2 OS=Homo sapiens OX=9606 GN=AGFG2 PE=1 SV=2\n"
     ]
    }
   ],
   "source": [
    "grep -n O95081 Human_NotPF00014.fasta "
   ]
  },
  {
   "cell_type": "markdown",
   "metadata": {},
   "source": [
    "The sequence is found in the line `109065`. We can also retrieve the 10th line after the match:"
   ]
  },
  {
   "cell_type": "code",
   "execution_count": 11,
   "metadata": {},
   "outputs": [
    {
     "name": "stdout",
     "output_type": "stream",
     "text": [
      "109065:>sp|O95081|AGFG2_HUMAN Arf-GAP domain and FG repeat-containing protein 2 OS=Homo sapiens OX=9606 GN=AGFG2 PE=1 SV=2\n",
      "109066-MVMAAKKGPGPGGGVSGGKAEAEAASEVWCRRVRELGGCSQAGNRHCFECAQRGVTYVDI\n",
      "109067-TVGSFVCTTCSGLLRGLNPPHRVKSISMTTFTEPEVVFLQSRGNEVCRKIWLGLFDARTS\n",
      "109068-LVPDSRDPQKVKEFLQEKYEKKRWYVPPDQVKGPTYTKGSASTPVQGSIPEGKPLRTLLG\n",
      "109069-DPAPSLSVAASTSSQPVSQSHARTSQARSTQPPPHSSVKKASTDLLADIGGDPFAAPQMA\n",
      "109070-PAFAAFPAFGGQTPSQGGFANFDAFSSGPSSSVFGSLPPAGQASFQAQPTPAGSSQGTPF\n",
      "109071-GATPLAPASQPNSLADVGSFLGPGVPAAGVPSSLFGMAGQVPPLQSVTMGGGGGSSTGLA\n",
      "109072-FGAFTNPFTAPAAQSPLPSTNPFQPNGLAPGPGFGMSSAGPGFPQAVPPTGAFASSFPAP\n",
      "109073-LFPPQTPLVQQQNGSSFGDLGSAKLGQRPLSQPAGISTNPFMTGPSSSPFASKPPTTNPF\n",
      "109074-L\n",
      "109075->sp|P32970|CD70_HUMAN CD70 antigen OS=Homo sapiens OX=9606 GN=CD70 PE=1 SV=2\n"
     ]
    }
   ],
   "source": [
    "grep -n -A 10 O95081 Human_NotPF00014.fasta #|less"
   ]
  },
  {
   "cell_type": "markdown",
   "metadata": {},
   "source": [
    "Knowing that one entry 'spans over' 10 lines - line one being the identifier and the remaining ones the sequence, we also know that we have to add 9 lines in order to 'keep' the whole sequence. As not to trucate it keeping only line one of it. The last line shold therefore be 109074.\n",
    "\n",
    "(Or an easier way to approach it would have been to access sequence 100001 and find the number of the previous line...)\n",
    "\n",
    "To check again that we calculated it right and we will obtain the entire seq of the sp|095081 we use head again: "
   ]
  },
  {
   "cell_type": "code",
   "execution_count": 12,
   "metadata": {},
   "outputs": [
    {
     "name": "stdout",
     "output_type": "stream",
     "text": [
      ">sp|O95081|AGFG2_HUMAN Arf-GAP domain and FG repeat-containing protein 2 OS=Homo sapiens OX=9606 GN=AGFG2 PE=1 SV=2\n",
      "MVMAAKKGPGPGGGVSGGKAEAEAASEVWCRRVRELGGCSQAGNRHCFECAQRGVTYVDI\n",
      "TVGSFVCTTCSGLLRGLNPPHRVKSISMTTFTEPEVVFLQSRGNEVCRKIWLGLFDARTS\n",
      "LVPDSRDPQKVKEFLQEKYEKKRWYVPPDQVKGPTYTKGSASTPVQGSIPEGKPLRTLLG\n",
      "DPAPSLSVAASTSSQPVSQSHARTSQARSTQPPPHSSVKKASTDLLADIGGDPFAAPQMA\n",
      "PAFAAFPAFGGQTPSQGGFANFDAFSSGPSSSVFGSLPPAGQASFQAQPTPAGSSQGTPF\n",
      "GATPLAPASQPNSLADVGSFLGPGVPAAGVPSSLFGMAGQVPPLQSVTMGGGGGSSTGLA\n",
      "FGAFTNPFTAPAAQSPLPSTNPFQPNGLAPGPGFGMSSAGPGFPQAVPPTGAFASSFPAP\n",
      "LFPPQTPLVQQQNGSSFGDLGSAKLGQRPLSQPAGISTNPFMTGPSSSPFASKPPTTNPF\n",
      "L\n"
     ]
    }
   ],
   "source": [
    "head -n 109074 Human_NotPF00014.fasta |tail -n 10"
   ]
  },
  {
   "cell_type": "markdown",
   "metadata": {},
   "source": [
    "This way we have reconfirmed that the index of the last line we plan to grab is correct. Now we will save the sto of the following cmd to Humand_NotPF00014_Training.\n",
    "\n",
    "### Now we actually split the set into 2:\n",
    "in the outcome we want to keep\n",
    "\n",
    "* 10000 proteins in the Training set - goes until line 109074\n",
    "* 10347 in the Testing set - starts at line 109075\n",
    "\n",
    "Generating the **Training set** :"
   ]
  },
  {
   "cell_type": "code",
   "execution_count": 13,
   "metadata": {},
   "outputs": [],
   "source": [
    "head -n 109074 Human_NotPF00014.fasta > Human_NotPF00014_Training.fasta"
   ]
  },
  {
   "cell_type": "markdown",
   "metadata": {},
   "source": [
    "Then we select the remaining ones as the **Testing set** by just modifying the cmd:"
   ]
  },
  {
   "cell_type": "code",
   "execution_count": 17,
   "metadata": {},
   "outputs": [],
   "source": [
    "tail -n +109075 Human_NotPF00014.fasta > Human_NotPF00014_Testing.fasta"
   ]
  },
  {
   "cell_type": "markdown",
   "metadata": {},
   "source": [
    "As always now we check weather the the files 'look' as we expect them to look:"
   ]
  },
  {
   "cell_type": "code",
   "execution_count": 18,
   "metadata": {},
   "outputs": [
    {
     "name": "stdout",
     "output_type": "stream",
     "text": [
      "   10000\n"
     ]
    }
   ],
   "source": [
    "grep '^>' Human_NotPF00014_Training.fasta |wc -l"
   ]
  },
  {
   "cell_type": "code",
   "execution_count": 19,
   "metadata": {},
   "outputs": [
    {
     "name": "stdout",
     "output_type": "stream",
     "text": [
      "   10347\n"
     ]
    }
   ],
   "source": [
    "grep '^>' Human_NotPF00014_Testing.fasta |wc -l"
   ]
  },
  {
   "cell_type": "markdown",
   "metadata": {},
   "source": [
    "Prof Capriotti actually used:\n",
    "\n",
    "`grep '>' Human_NotPF00014_Testing.fasta |wc\n",
    "   10347  113556 1036550`\n",
    "   \n"
   ]
  },
  {
   "cell_type": "markdown",
   "metadata": {},
   "source": [
    "### Training and testing for the positives"
   ]
  },
  {
   "cell_type": "code",
   "execution_count": 18,
   "metadata": {},
   "outputs": [],
   "source": [
    "# cat NotHuman_PF00014.fasta "
   ]
  },
  {
   "cell_type": "code",
   "execution_count": 8,
   "metadata": {},
   "outputs": [
    {
     "name": "stdout",
     "output_type": "stream",
     "text": [
      "     341    3479   35934\n"
     ]
    }
   ],
   "source": [
    "grep '>' NotHuman_PF00014.fasta |wc"
   ]
  },
  {
   "cell_type": "markdown",
   "metadata": {},
   "source": [
    "Find Uniport id of the 171th seq:"
   ]
  },
  {
   "cell_type": "code",
   "execution_count": 10,
   "metadata": {},
   "outputs": [
    {
     "name": "stdout",
     "output_type": "stream",
     "text": [
      ">sp|Q29428|TKDP1_SHEEP Trophoblast Kunitz domain protein 1 OS=Ovis aries OX=9940 GN=TKDP1 PE=2 SV=1\n"
     ]
    }
   ],
   "source": [
    "grep '>' NotHuman_PF00014.fasta |head -n 171 |tail -n 1"
   ]
  },
  {
   "cell_type": "markdown",
   "metadata": {},
   "source": [
    "Find the last line of the seq by looking at that part in the file:\n",
    "Last line of seq Q29428 is 928. So I will split the file here."
   ]
  },
  {
   "cell_type": "code",
   "execution_count": 7,
   "metadata": {},
   "outputs": [
    {
     "name": "stdout",
     "output_type": "stream",
     "text": [
      "923:>sp|Q29428|TKDP1_SHEEP Trophoblast Kunitz domain protein 1 OS=Ovis aries OX=9940 GN=TKDP1 PE=2 SV=1\n",
      "924-MRQLCLSTALLFLLVILVDSTPLNIYHIQDEGLETSHRRGPEKRSVIDVVSGIINGVATG\n",
      "925-TKIIEKGAGILTGLAEIITKAIKGQVMISRIQFDNHTLEELPTLQLEYSTLSEENNGLKT\n",
      "926-SHRRGLEKRSVTDVVTSIINGVATGTKIIEKGAGILTGLAEIITKAIKGQVMISGIQFDN\n",
      "927-HTLEEYQTLKIEYSTLSEENKASKPALCLEPKVTGDCNATMTRYFYNTQTGLCEQFVYTG\n",
      "928-CEGNGNNFENLEDCMKTCSQEAGSL\n",
      "929->sp|Q9D263|SPIT4_MOUSE Kunitz-type protease inhibitor 4 OS=Mus musculus OX=10090 GN=Spint4 PE=2 SV=1\n",
      "930-MKPTKLGFLLGLSLLCSLSPPVLSGVERLANYLCKDYNDPCLLDVEPGSCYEVHFRFFYN\n",
      "931-QTAKQCQIFLFTGCNGNLNNFKLKIDCDVTCHETYKNPPLPSGDKRKRSLRALATKNLAT\n",
      "932-DWRLTTLQPGRLRQTERKETLLQRARRESRRQPLARHHT\n",
      "933->sp|B5L5R4|IVBI4_NOTSC Tigerin-4 OS=Notechis scutatus scutatus OX=70142 PE=3 SV=1\n",
      "934-MSSGGLLLLLGLLTLWAELTPVSSKDRPKFCELPADSGPCRGILRAFYYHPVHRTCQMFI\n"
     ]
    }
   ],
   "source": [
    "grep -n -A 11 Q29428 NotHuman_PF00014.fasta |cat"
   ]
  },
  {
   "cell_type": "code",
   "execution_count": null,
   "metadata": {},
   "outputs": [],
   "source": []
  },
  {
   "cell_type": "markdown",
   "metadata": {},
   "source": [
    "Another way to find the right line to split on."
   ]
  },
  {
   "cell_type": "code",
   "execution_count": 15,
   "metadata": {},
   "outputs": [
    {
     "name": "stdout",
     "output_type": "stream",
     "text": [
      "923:>sp|Q29428|TKDP1_SHEEP Trophoblast Kunitz domain protein 1 OS=Ovis aries OX=9940 GN=TKDP1 PE=2 SV=1\n",
      "929:>sp|Q9D263|SPIT4_MOUSE Kunitz-type protease inhibitor 4 OS=Mus musculus OX=10090 GN=Spint4 PE=2 SV=1\n"
     ]
    }
   ],
   "source": [
    "grep '>' NotHuman_PF00014.fasta -m 171 -n|tail -1\n",
    "grep '>' NotHuman_PF00014.fasta -m 172 -n| tail -1"
   ]
  },
  {
   "cell_type": "markdown",
   "metadata": {},
   "source": [
    "### Splitting the positive not humansset into 2:\n",
    "in the outcome we want to keep\n",
    "\n",
    "* 171 proteins in the Training set - goes until line 928\n",
    "* 170 in the Testing set - starts at line 929\n",
    "\n",
    "Generating the **Training set** :"
   ]
  },
  {
   "cell_type": "code",
   "execution_count": 17,
   "metadata": {},
   "outputs": [
    {
     "name": "stdout",
     "output_type": "stream",
     "text": [
      ">sp|Q29428|TKDP1_SHEEP Trophoblast Kunitz domain protein 1 OS=Ovis aries OX=9940 GN=TKDP1 PE=2 SV=1\n",
      ">sp|Q9D263|SPIT4_MOUSE Kunitz-type protease inhibitor 4 OS=Mus musculus OX=10090 GN=Spint4 PE=2 SV=1\n"
     ]
    }
   ],
   "source": [
    "head -n 928 NotHuman_PF00014.fasta  > NotHuman_PF00014_Training.fasta\n",
    "tail  -n +929 NotHuman_PF00014.fasta  > NotHuman_PF00014_Testing.fasta\n",
    "grep \">\" NotHuman_PF00014_Training.fasta|tail -1\n",
    "cat NotHuman_PF00014_Testing.fasta|head -1"
   ]
  },
  {
   "cell_type": "markdown",
   "metadata": {},
   "source": [
    "## Creating the BLAST database\n",
    "\n",
    "For the human proteins set with the new version of BLAST\n",
    "Now we have to format the Database:\n",
    "If you want to format a database\n",
    "The DB now uses as a reference the human BPTI domain. `formatdb -i <file name> -p T`\n",
    "\n",
    "Problem on my machine the formatdb is deprecated... instead I had to use:\n",
    "\n",
    "See: https://www.ncbi.nlm.nih.gov/books/NBK279690/ "
   ]
  },
  {
   "cell_type": "code",
   "execution_count": 10,
   "metadata": {},
   "outputs": [],
   "source": [
    "#makeblastdb -in Human_PF00014.fasta -taxid 9606 -dbtype prot"
   ]
  },
  {
   "cell_type": "code",
   "execution_count": 11,
   "metadata": {},
   "outputs": [
    {
     "name": "stdout",
     "output_type": "stream",
     "text": [
      "\n",
      "\n",
      "Building a new DB, current time: 04/21/2020 15:47:52\n",
      "New DB name:   /Users/ila/01-Unibo/2_LAB1_2nd/capriotti/repkunitz/Human_PF00014.fasta\n",
      "New DB title:  Human_PF00014.fasta\n",
      "Sequence type: Protein\n",
      "Deleted existing Protein BLAST database named /Users/ila/01-Unibo/2_LAB1_2nd/capriotti/repkunitz/Human_PF00014.fasta\n",
      "Keep MBits: T\n",
      "Maximum file size: 1000000000B\n",
      "Adding sequences from FASTA; added 18 sequences in 0.0606122 seconds.\n"
     ]
    }
   ],
   "source": [
    "#makeblastdb -in Human_PF00014.fasta -dbtype prot"
   ]
  },
  {
   "cell_type": "markdown",
   "metadata": {},
   "source": [
    "`Building a new DB, current time: 04/16/2020 18:24:24\n",
    "New DB name:   /Users/ila/01-Unibo/2_LAB1_2nd/capriotti/repkunitz/Human_PF00014.fasta\n",
    "New DB title:  Human_PF00014.fasta\n",
    "Sequence type: Protein\n",
    "Keep MBits: T\n",
    "Maximum file size: 1000000000B\n",
    "Adding sequences from FASTA; added 18 sequences in 0.0149059 seconds.`"
   ]
  },
  {
   "cell_type": "code",
   "execution_count": 12,
   "metadata": {},
   "outputs": [
    {
     "name": "stdout",
     "output_type": "stream",
     "text": [
      "Exercise_Report.ipynb           Human_PF00014.fasta.phr\n",
      "Human_NotPF00014.fasta          Human_PF00014.fasta.pin\n",
      "Human_NotPF00014_Testing.fasta  Human_PF00014.fasta.psq\n",
      "Human_NotPF00014_Training.bl6   NotHuman_PF00014.bl6\n",
      "Human_NotPF00014_Training.fasta NotHuman_PF00014.bl6.best\n",
      "Human_PF00014.bl6               NotHuman_PF00014.fasta\n",
      "Human_PF00014.bl8               \u001b[1m\u001b[34mbl8\u001b[39;49m\u001b[0m\n",
      "Human_PF00014.fasta             kunitz_meeting.rtf\n"
     ]
    }
   ],
   "source": [
    "ls"
   ]
  },
  {
   "cell_type": "markdown",
   "metadata": {},
   "source": [
    "`ila@Immanuelas-Air:~/01-Unibo/2_LAB1_2nd/capriotti/repkunitz$ ls\n",
    "13L_lab1-15-04_all.mp4          Human_PF00014.fasta             NotHuman_PF00014.fasta\n",
    "Human_NotPF00014.fasta          Human_PF00014.fasta.phr         ncbi-blast-2.2.26+.dmg\n",
    "Human_NotPF00014_Testing.fasta  Human_PF00014.fasta.pin         not_not.fasta\n",
    "Human_NotPF00014_Training.fasta Human_PF00014.fasta.psq`"
   ]
  },
  {
   "cell_type": "markdown",
   "metadata": {},
   "source": [
    "Now just to check, we will do the blast of the \n",
    "human proteins against the Human proteins just as a consistency test. The evalue was increased just to see what happenes.\n",
    "`#replacing blastpgp from version 2.2.26 (legacy) -i = -query, -d = -db, -o = -out, -m = -outfmt. `\n"
   ]
  },
  {
   "cell_type": "code",
   "execution_count": 33,
   "metadata": {},
   "outputs": [],
   "source": [
    "# outfmt 6 is the Tabular form\n",
    "#psiblast -query Human_PF00014.fasta -db Human_PF00014.fasta -out Human_PF00014.bl6 -outfmt 6\n",
    "blastp -query Human_PF00014.fasta -db Human_PF00014.fasta -out autotest.bltab -outfmt 6 -evalue 1000 # -m 8 of the old version7\n",
    "blastp -query Human_PF00014.fasta -db Human_PF00014.fasta -out Human_PF00014.bl6 -outfmt 6 -evalue 1000 #"
   ]
  },
  {
   "cell_type": "markdown",
   "metadata": {},
   "source": [
    "The output was redirected into the `Human_PF00014.bl6` file\n",
    "looking like that:"
   ]
  },
  {
   "cell_type": "code",
   "execution_count": 32,
   "metadata": {},
   "outputs": [
    {
     "name": "stdout",
     "output_type": "stream",
     "text": [
      "sp|Q06481|APLP2_HUMAN\tsp|Q06481|APLP2_HUMAN\t100.000\t763\t0\t0\t1\t763\t1\t763\t0.0\t1590\n",
      "sp|Q06481|APLP2_HUMAN\tsp|P05067|A4_HUMAN\t51.111\t495\t178\t11\t313\t762\t294\t769\t1.73e-155\t463\n",
      "sp|Q06481|APLP2_HUMAN\tsp|O43291|SPIT2_HUMAN\t41.667\t84\t47\t1\t288\t369\t111\t194\t8.02e-21\t84.0\n",
      "sp|Q06481|APLP2_HUMAN\tsp|O43291|SPIT2_HUMAN\t40.625\t64\t34\t2\t298\t360\t28\t88\t2.75e-14\t64.7\n",
      "sp|Q06481|APLP2_HUMAN\tsp|O43291|SPIT2_HUMAN\t25.806\t31\t19\t1\t108\t134\t154\t184\t169\t15.8\n",
      "sp|Q06481|APLP2_HUMAN\tsp|O43291|SPIT2_HUMAN\t62.500\t8\t3\t0\t539\t546\t225\t232\t307\t15.0\n",
      "sp|Q06481|APLP2_HUMAN\tsp|O43291|SPIT2_HUMAN\t33.333\t18\t10\t1\t193\t210\t125\t140\t932\t13.5\n",
      "sp|Q06481|APLP2_HUMAN\tsp|P49223|SPIT3_HUMAN\t47.170\t53\t28\t0\t309\t361\t35\t87\t5.02e-16\t65.1\n",
      "sp|Q06481|APLP2_HUMAN\tsp|P49223|SPIT3_HUMAN\t29.412\t17\t12\t0\t76\t92\t71\t87\t171\t15.4\n",
      "sp|Q06481|APLP2_HUMAN\tsp|P49223|SPIT3_HUMAN\t80.000\t5\t1\t0\t621\t625\t39\t43\t362\t14.2\n"
     ]
    }
   ],
   "source": [
    "head Human_PF00014.bl6"
   ]
  },
  {
   "cell_type": "markdown",
   "metadata": {},
   "source": [
    "Both top and bottom show lines for which the first 2 cols are equal which means that they are matching against them selves."
   ]
  },
  {
   "cell_type": "code",
   "execution_count": 31,
   "metadata": {},
   "outputs": [
    {
     "name": "stdout",
     "output_type": "stream",
     "text": [
      "sp|Q06481|APLP2_HUMAN\tsp|Q06481|APLP2_HUMAN\t100.000\t763\t0\t0\t1\t763\t1\t763\t0.0\t1590\n",
      "sp|P05067|A4_HUMAN\tsp|P05067|A4_HUMAN\t100.000\t770\t0\t0\t1\t770\t1\t770\t0.0\t1610\n",
      "sp|Q02388|CO7A1_HUMAN\tsp|Q02388|CO7A1_HUMAN\t100.000\t2944\t0\t0\t1\t2944\t1\t2944\t0.0\t5494\n",
      "sp|P12111|CO6A3_HUMAN\tsp|P12111|CO6A3_HUMAN\t100.000\t3177\t0\t0\t1\t3177\t1\t3177\t0.0\t6455\n",
      "sp|P02760|AMBP_HUMAN\tsp|P02760|AMBP_HUMAN\t100.000\t352\t0\t0\t1\t352\t1\t352\t0.0\t734\n",
      "sp|O95925|EPPI_HUMAN\tsp|O95925|EPPI_HUMAN\t100.000\t133\t0\t0\t1\t133\t1\t133\t8.42e-100\t274\n",
      "sp|P10646|TFPI1_HUMAN\tsp|P10646|TFPI1_HUMAN\t100.000\t304\t0\t0\t1\t304\t1\t304\t0.0\t630\n",
      "sp|O43278|SPIT1_HUMAN\tsp|O43278|SPIT1_HUMAN\t100.000\t529\t0\t0\t1\t529\t1\t529\t0.0\t1099\n",
      "sp|O43291|SPIT2_HUMAN\tsp|O43291|SPIT2_HUMAN\t100.000\t252\t0\t0\t1\t252\t1\t252\t0.0\t521\n",
      "sp|P48307|TFPI2_HUMAN\tsp|P48307|TFPI2_HUMAN\t100.000\t235\t0\t0\t1\t235\t1\t235\t2.53e-180\t486\n",
      "sp|Q8TEU8|WFKN2_HUMAN\tsp|Q8TEU8|WFKN2_HUMAN\t100.000\t576\t0\t0\t1\t576\t1\t576\t0.0\t1199\n",
      "sp|Q2UY09|COSA1_HUMAN\tsp|Q2UY09|COSA1_HUMAN\t100.000\t1125\t0\t0\t1\t1125\t1\t1125\t0.0\t2187\n",
      "sp|Q96NZ8|WFKN1_HUMAN\tsp|Q96NZ8|WFKN1_HUMAN\t100.000\t548\t0\t0\t1\t548\t1\t548\t0.0\t1112\n",
      "sp|O95428|PPN_HUMAN\tsp|O95428|PPN_HUMAN\t100.000\t1278\t0\t0\t1\t1278\t1\t1278\t0.0\t2586\n",
      "sp|Q9BQY6|WFDC6_HUMAN\tsp|Q9BQY6|WFDC6_HUMAN\t100.000\t131\t0\t0\t1\t131\t1\t131\t1.27e-98\t270\n",
      "sp|Q8IUA0|WFDC8_HUMAN\tsp|Q8IUA0|WFDC8_HUMAN\t100.000\t241\t0\t0\t1\t241\t1\t241\t0.0\t492\n",
      "sp|P49223|SPIT3_HUMAN\tsp|P49223|SPIT3_HUMAN\t100.000\t89\t0\t0\t1\t89\t1\t89\t4.67e-65\t182\n",
      "sp|Q6UDR6|SPIT4_HUMAN\tsp|Q6UDR6|SPIT4_HUMAN\t100.000\t99\t0\t0\t1\t99\t1\t99\t2.56e-72\t201\n"
     ]
    }
   ],
   "source": [
    "awk '{if ($1 == $2) print $0}' autotest.bltab "
   ]
  },
  {
   "cell_type": "code",
   "execution_count": null,
   "metadata": {},
   "outputs": [],
   "source": [
    "# sp|Q06481|APLP2_HUMAN   sp|Q06481|APLP2_HUMAN   100.000 763     0       0       1       763     1       763     0.0     1590\n",
    "# sp|Q06481|APLP2_HUMAN   sp|P05067|A4_HUMAN      51.111  495     178     11      313     762     294     769     1.73e-155       463\n",
    "# sp|Q06481|APLP2_HUMAN   sp|O43291|SPIT2_HUMAN   41.667  84      47      1       288     369     111     194     8.02e-21        84.0\n",
    "# sp|Q06481|APLP2_HUMAN   sp|O43291|SPIT2_HUMAN   40.625  64      34      2       298     360     28      88      2.75e-14        64.7\n",
    "# sp|Q06481|APLP2_HUMAN   sp|P49223|SPIT3_HUMAN   47.170  53      28      0       309     361     35      87      5.02e-16        65.1"
   ]
  },
  {
   "cell_type": "markdown",
   "metadata": {},
   "source": [
    "The 11th column shows the e-value. To find the highest (=worst) e-value we use reverse sort by 11th column. `-nrk n- number, r- reverse, k- column`"
   ]
  },
  {
   "cell_type": "code",
   "execution_count": 19,
   "metadata": {},
   "outputs": [
    {
     "name": "stdout",
     "output_type": "stream",
     "text": [
      "sp|Q9BQY6|WFDC6_HUMAN\tsp|Q02388|CO7A1_HUMAN\t48.000\t25\t11\t2\t12\t35\t2315\t2338\t10.0\t16.9\n",
      "sp|P10646|TFPI1_HUMAN\tsp|P12111|CO6A3_HUMAN\t45.098\t51\t28\t0\t217\t267\t3112\t3162\t9.99e-12\t56.6\n",
      "sp|P02760|AMBP_HUMAN\tsp|Q9BQY6|WFDC6_HUMAN\t59.259\t27\t11\t0\t256\t282\t102\t128\t9.98e-06\t35.8\n",
      "sp|O95428|PPN_HUMAN\tsp|P02760|AMBP_HUMAN\t38.462\t52\t32\t0\t754\t805\t231\t282\t9.96e-10\t52.4\n",
      "sp|Q8TEU8|WFKN2_HUMAN\tsp|O43278|SPIT1_HUMAN\t54.545\t44\t20\t0\t393\t436\t398\t441\t9.95e-11\t54.7\n",
      "sp|Q02388|CO7A1_HUMAN\tsp|P12111|CO6A3_HUMAN\t23.721\t215\t149\t8\t1025\t1233\t12\t217\t9.92e-06\t41.6\n",
      "sp|Q96NZ8|WFKN1_HUMAN\tsp|P10646|TFPI1_HUMAN\t29.545\t132\t59\t1\t313\t410\t137\t268\t9.91e-16\t68.9\n",
      "sp|P12111|CO6A3_HUMAN\tsp|Q2UY09|COSA1_HUMAN\t24.828\t145\t96\t3\t1639\t1778\t798\t934\t9.90e-06\t41.6\n",
      "sp|Q8IUA0|WFDC8_HUMAN\tsp|P12111|CO6A3_HUMAN\t66.667\t6\t2\t0\t153\t158\t2395\t2400\t9.8\t18.1\n",
      "sp|P12111|CO6A3_HUMAN\tsp|Q8TEU8|WFKN2_HUMAN\t28.788\t66\t47\t0\t2897\t2962\t266\t331\t9.8\t21.9\n"
     ]
    }
   ],
   "source": [
    "sort -nrk 11 Human_PF00014.bl8 |head #|less"
   ]
  },
  {
   "cell_type": "markdown",
   "metadata": {},
   "source": [
    "We see the worst value belongs to Q9BQY6"
   ]
  },
  {
   "cell_type": "code",
   "execution_count": null,
   "metadata": {},
   "outputs": [],
   "source": [
    "#sp|Q9BQY6|WFDC6_HUMAN   sp|Q02388|CO7A1_HUMAN   48.000  25      11      2       12      35      2315    2338    10.0    16.9"
   ]
  },
  {
   "cell_type": "markdown",
   "metadata": {},
   "source": [
    "We can also change the evalue to 1000 to play:"
   ]
  },
  {
   "cell_type": "code",
   "execution_count": 20,
   "metadata": {},
   "outputs": [],
   "source": [
    "blastp -query Human_PF00014.fasta -db Human_PF00014.fasta -out Human_PF00014.bl6 -outfmt 6 -evalue 1000"
   ]
  },
  {
   "cell_type": "code",
   "execution_count": 21,
   "metadata": {},
   "outputs": [
    {
     "name": "stdout",
     "output_type": "stream",
     "text": [
      "sp|P48307|TFPI2_HUMAN\tsp|P05067|A4_HUMAN\t27.273\t11\t8\t0\t154\t164\t551\t561\t999\t11.5\n",
      "sp|P05067|A4_HUMAN\tsp|P12111|CO6A3_HUMAN\t22.222\t45\t33\t1\t251\t295\t1752\t1794\t999\t13.5\n",
      "sp|O95925|EPPI_HUMAN\tsp|O43278|SPIT1_HUMAN\t30.000\t10\t7\t0\t56\t65\t432\t441\t999\t10.8\n",
      "sp|Q8TEU8|WFKN2_HUMAN\tsp|Q02388|CO7A1_HUMAN\t37.500\t16\t10\t0\t97\t112\t2341\t2356\t998\t13.1\n",
      "sp|Q2UY09|COSA1_HUMAN\tsp|Q02388|CO7A1_HUMAN\t54.545\t11\t5\t0\t495\t505\t932\t942\t998\t13.9\n",
      "sp|Q2UY09|COSA1_HUMAN\tsp|P12111|CO6A3_HUMAN\t50.000\t10\t5\t0\t279\t288\t134\t143\t998\t13.9\n",
      "sp|Q02388|CO7A1_HUMAN\tsp|P49223|SPIT3_HUMAN\t38.462\t13\t8\t0\t1425\t1437\t32\t44\t998\t15.0\n",
      "sp|P48307|TFPI2_HUMAN\tsp|P02760|AMBP_HUMAN\t23.810\t21\t16\t0\t164\t184\t72\t92\t997\t11.5\n",
      "sp|O43291|SPIT2_HUMAN\tsp|O95428|PPN_HUMAN\t40.000\t15\t9\t0\t60\t74\t178\t192\t996\t11.5\n",
      "sp|P12111|CO6A3_HUMAN\tsp|O95428|PPN_HUMAN\t71.429\t7\t2\t0\t2160\t2166\t983\t989\t995\t15.4\n"
     ]
    }
   ],
   "source": [
    "#sort -nrk 11 Human_PF00014.bl8 |less\n",
    "sort -nrk 11 Human_PF00014.bl6 |head"
   ]
  },
  {
   "cell_type": "markdown",
   "metadata": {},
   "source": [
    "Now you see that "
   ]
  },
  {
   "cell_type": "code",
   "execution_count": null,
   "metadata": {},
   "outputs": [],
   "source": [
    "#sp|P48307|TFPI2_HUMAN   sp|P05067|A4_HUMAN      27.273  11      8       0       154     164     551     561     999     11.5"
   ]
  },
  {
   "cell_type": "markdown",
   "metadata": {},
   "source": [
    "This gives us information of the range of e-values we may get. \n",
    "\n",
    "If we are not interested in the full matches. We can use awk to check for the id's \n",
    "With the cmd below we get all the complete matches."
   ]
  },
  {
   "cell_type": "code",
   "execution_count": 22,
   "metadata": {},
   "outputs": [
    {
     "name": "stdout",
     "output_type": "stream",
     "text": [
      "sp|Q06481|APLP2_HUMAN\tsp|Q06481|APLP2_HUMAN\t100.000\t763\t0\t0\t1\t763\t1\t763\t0.0\t1590\n",
      "sp|P05067|A4_HUMAN\tsp|P05067|A4_HUMAN\t100.000\t770\t0\t0\t1\t770\t1\t770\t0.0\t1610\n",
      "sp|Q02388|CO7A1_HUMAN\tsp|Q02388|CO7A1_HUMAN\t100.000\t2944\t0\t0\t1\t2944\t1\t2944\t0.0\t5494\n",
      "sp|P12111|CO6A3_HUMAN\tsp|P12111|CO6A3_HUMAN\t100.000\t3177\t0\t0\t1\t3177\t1\t3177\t0.0\t6455\n",
      "sp|P02760|AMBP_HUMAN\tsp|P02760|AMBP_HUMAN\t100.000\t352\t0\t0\t1\t352\t1\t352\t0.0\t734\n",
      "sp|O95925|EPPI_HUMAN\tsp|O95925|EPPI_HUMAN\t100.000\t133\t0\t0\t1\t133\t1\t133\t8.42e-100\t274\n",
      "sp|P10646|TFPI1_HUMAN\tsp|P10646|TFPI1_HUMAN\t100.000\t304\t0\t0\t1\t304\t1\t304\t0.0\t630\n",
      "sp|O43278|SPIT1_HUMAN\tsp|O43278|SPIT1_HUMAN\t100.000\t529\t0\t0\t1\t529\t1\t529\t0.0\t1099\n",
      "sp|O43291|SPIT2_HUMAN\tsp|O43291|SPIT2_HUMAN\t100.000\t252\t0\t0\t1\t252\t1\t252\t0.0\t521\n",
      "sp|P48307|TFPI2_HUMAN\tsp|P48307|TFPI2_HUMAN\t100.000\t235\t0\t0\t1\t235\t1\t235\t2.53e-180\t486\n",
      "sp|Q8TEU8|WFKN2_HUMAN\tsp|Q8TEU8|WFKN2_HUMAN\t100.000\t576\t0\t0\t1\t576\t1\t576\t0.0\t1199\n",
      "sp|Q2UY09|COSA1_HUMAN\tsp|Q2UY09|COSA1_HUMAN\t100.000\t1125\t0\t0\t1\t1125\t1\t1125\t0.0\t2187\n",
      "sp|Q96NZ8|WFKN1_HUMAN\tsp|Q96NZ8|WFKN1_HUMAN\t100.000\t548\t0\t0\t1\t548\t1\t548\t0.0\t1112\n",
      "sp|O95428|PPN_HUMAN\tsp|O95428|PPN_HUMAN\t100.000\t1278\t0\t0\t1\t1278\t1\t1278\t0.0\t2586\n",
      "sp|Q9BQY6|WFDC6_HUMAN\tsp|Q9BQY6|WFDC6_HUMAN\t100.000\t131\t0\t0\t1\t131\t1\t131\t1.27e-98\t270\n",
      "sp|Q8IUA0|WFDC8_HUMAN\tsp|Q8IUA0|WFDC8_HUMAN\t100.000\t241\t0\t0\t1\t241\t1\t241\t0.0\t492\n",
      "sp|P49223|SPIT3_HUMAN\tsp|P49223|SPIT3_HUMAN\t100.000\t89\t0\t0\t1\t89\t1\t89\t4.67e-65\t182\n",
      "sp|Q6UDR6|SPIT4_HUMAN\tsp|Q6UDR6|SPIT4_HUMAN\t100.000\t99\t0\t0\t1\t99\t1\t99\t2.56e-72\t201\n"
     ]
    }
   ],
   "source": [
    "awk '{if($1 == $2)print $0}' Human_PF00014.bl6\n",
    "#if the first index of a line is equal to the second, print the whole line ($0_)"
   ]
  },
  {
   "cell_type": "code",
   "execution_count": 23,
   "metadata": {},
   "outputs": [
    {
     "name": "stdout",
     "output_type": "stream",
     "text": [
      "sp|P48307|TFPI2_HUMAN\tsp|P05067|A4_HUMAN\t27.273\t11\t8\t0\t154\t164\t551\t561\t999\t11.5\n",
      "sp|P05067|A4_HUMAN\tsp|P12111|CO6A3_HUMAN\t22.222\t45\t33\t1\t251\t295\t1752\t1794\t999\t13.5\n",
      "sp|O95925|EPPI_HUMAN\tsp|O43278|SPIT1_HUMAN\t30.000\t10\t7\t0\t56\t65\t432\t441\t999\t10.8\n",
      "sp|Q8TEU8|WFKN2_HUMAN\tsp|Q02388|CO7A1_HUMAN\t37.500\t16\t10\t0\t97\t112\t2341\t2356\t998\t13.1\n",
      "sp|Q2UY09|COSA1_HUMAN\tsp|Q02388|CO7A1_HUMAN\t54.545\t11\t5\t0\t495\t505\t932\t942\t998\t13.9\n",
      "sp|Q2UY09|COSA1_HUMAN\tsp|P12111|CO6A3_HUMAN\t50.000\t10\t5\t0\t279\t288\t134\t143\t998\t13.9\n",
      "sp|Q02388|CO7A1_HUMAN\tsp|P49223|SPIT3_HUMAN\t38.462\t13\t8\t0\t1425\t1437\t32\t44\t998\t15.0\n",
      "sp|P48307|TFPI2_HUMAN\tsp|P02760|AMBP_HUMAN\t23.810\t21\t16\t0\t164\t184\t72\t92\t997\t11.5\n",
      "sp|O43291|SPIT2_HUMAN\tsp|O95428|PPN_HUMAN\t40.000\t15\t9\t0\t60\t74\t178\t192\t996\t11.5\n",
      "sp|P12111|CO6A3_HUMAN\tsp|O95428|PPN_HUMAN\t71.429\t7\t2\t0\t2160\t2166\t983\t989\t995\t15.4\n"
     ]
    }
   ],
   "source": [
    "sort -grk 11 autotest.bltab|head"
   ]
  },
  {
   "cell_type": "markdown",
   "metadata": {},
   "source": [
    "These are obviously the 18 proteins we have in our dataset."
   ]
  },
  {
   "cell_type": "code",
   "execution_count": 24,
   "metadata": {},
   "outputs": [
    {
     "name": "stdout",
     "output_type": "stream",
     "text": [
      "      18     216    1468\n"
     ]
    }
   ],
   "source": [
    "awk '{if ($1 == $2)print $0}' Human_PF00014.bl6 |wc\n",
    "#       18     216    1468"
   ]
  },
  {
   "cell_type": "markdown",
   "metadata": {},
   "source": [
    "But we rather want to know what happened with the negatives. So lets blast the negatives."
   ]
  },
  {
   "cell_type": "code",
   "execution_count": 25,
   "metadata": {},
   "outputs": [],
   "source": [
    "blastp -query Human_NotPF00014.fasta -db Human_PF00014.fasta -out Human_NotPF00014_Training.bl6 -outfmt 6"
   ]
  },
  {
   "cell_type": "markdown",
   "metadata": {},
   "source": [
    "We can less the file *.bl6\n",
    "At this point we want to know the best hit between the negative, that are not Kunitz/BPTI and the Human Kunitz/BPTI. \n",
    "Now we sort the output to find the sequence with the lowest e-value in the 11th column."
   ]
  },
  {
   "cell_type": "code",
   "execution_count": null,
   "metadata": {},
   "outputs": [],
   "source": [
    "#sort -gk 11 Human_NotPF00014_Training.bl8 |less"
   ]
  },
  {
   "cell_type": "markdown",
   "metadata": {},
   "source": [
    "Now we see something interesting here: there are 2 seq that we have retrieved from a Uniprot search that are not classified as Human BPTI but they have an e-value that is zero.\n",
    "The first col is Human non BPTI and the second col is Human BPTI that we have in our dataset.\n"
   ]
  },
  {
   "cell_type": "code",
   "execution_count": null,
   "metadata": {},
   "outputs": [],
   "source": [
    "sp|A6NMZ7|CO6A6_HUMAN   sp|P12111|CO6A3_HUMAN   32.023  2239    1310    43      27      2138    639     2792    0.0     1013\n",
    "sp|A8TX70|CO6A5_HUMAN   sp|P12111|CO6A3_HUMAN   31.051  2235    1320    51      30      2130    639     2786    0.0     927"
   ]
  },
  {
   "cell_type": "markdown",
   "metadata": {},
   "source": [
    "This means probably that those two (CO6A6_HUMAN, CO6A5_HUMAN) have a domain that is \n",
    "extremely similar to BPTI and has not yet been annotated by pfam.\n",
    "\n",
    "Then there are many other hits that have an evalue of 10^-3 :\n",
    "This number is also a possible threshold for selecting **homologues**\n",
    "\n",
    "`\n",
    "sp|A6NMZ7|CO6A6_HUMAN   sp|P12111|CO6A3_HUMAN   32.023  2239    1310    43      27      2138    639     2792    0.0     1013\n",
    "sp|A8TX70|CO6A5_HUMAN   sp|P12111|CO6A3_HUMAN   31.051  2235    1320    51      30      2130    639     2786    0.0     927\n",
    "sp|A0A075B6J6|LV322_HUMAN       sp|O95428|PPN_HUMAN     25.926  81      40      2       29      108     1053    1114    0.001   28.5\n",
    "sp|A0A075B6J6|LV322_HUMAN       sp|O95428|PPN_HUMAN     33.750  80      35      4       29      108     919     980     0.001   28.5\n",
    "sp|A0A075B6T6|TVAL2_HUMAN       sp|O95428|PPN_HUMAN     30.556  72      40      3       32      94      1142    1212    0.001   28.5\n",
    "sp|A0A0J9YXQ4|PMA6E_HUMAN       sp|Q02388|CO7A1_HUMAN   30.182  275     119     8       86      293     2379    2647    0.001   32.3\n",
    "sp|A0A1B0GUY1|MRCOL_HUMAN       sp|Q02388|CO7A1_HUMAN   25.397  189     126     5       106     282     2248    2433    0.001   31.2\n",
    "sp|A0A1B0GUY1|MRCOL_HUMAN       sp|Q02388|CO7A1_HUMAN   33.333  51      34      0       206     256     1294    1344    0.001   31.2\n",
    "sp|A2VEC9|SSPO_HUMAN    sp|O95428|PPN_HUMAN     36.585  82      41      4       2510    2584    313     390     0.001   35.8\n",
    "sp|A6NDA9|LRIT2_HUMAN   sp|Q02388|CO7A1_HUMAN   30.851  94      59      4       359     452     864     951     0.001   32.0\n",
    "sp|A6NF34|ANTRL_HUMAN   sp|Q02388|CO7A1_HUMAN   29.787  94      58      4       172     262     1157    1245    0.001   32.7\n",
    "sp|B2RNN3|C1T9B_HUMAN   sp|Q02388|CO7A1_HUMAN   39.796  98      35      3       71      156     1296    1381    0.001   31.2\n",
    "sp|O14498|ISLR_HUMAN    sp|O95428|PPN_HUMAN     29.630  54      38      0       294     347     1169    1222    0.001   31.6\n",
    "sp|O15232|MATN3_HUMAN   sp|Q02388|CO7A1_HUMAN   23.529  136     98      4       102     234     1072    1204    0.001   32.0\n",
    "sp|O15394|NCAM2_HUMAN   sp|O95428|PPN_HUMAN     23.333  210     96      8       222     382     921     1114    0.001   32.7\n",
    "sp|O60271|JIP4_HUMAN    sp|P12111|CO6A3_HUMAN   25.000  88      63      1       487     574     1346    1430    0.001   33.9\n",
    "sp|O60500|NPHN_HUMAN    sp|Q96NZ8|WFKN1_HUMAN   27.381  84      56      3       740     820     186     267     0.001   33.5\n",
    "sp|O60575|ISK4_HUMAN    sp|Q8TEU8|WFKN2_HUMAN   40.909  22      13      0       46      67      138     159     0.001   27.7\n",
    "sp|O60575|ISK4_HUMAN    sp|Q96NZ8|WFKN1_HUMAN   40.909  22      13      0       46      67      120     141     0.001   27.7\n",
    "sp|O75056|SDC3_HUMAN    sp|O95428|PPN_HUMAN     64.706  17      6       0       405     421     1186    1202    0.001   31.6\n",
    "sp|O75096|LRP4_HUMAN    sp|O43278|SPIT1_HUMAN   40.000  35      21      0       231     265     335     369     0.001   33.9\n",
    "`"
   ]
  },
  {
   "cell_type": "code",
   "execution_count": null,
   "metadata": {},
   "outputs": [],
   "source": [
    "sort -gk 11 Human_NotPF00014_Training.bl6 |head -n 2 |awk '{print $1,$2,$11}"
   ]
  },
  {
   "cell_type": "markdown",
   "metadata": {},
   "source": [
    "Now we may see that there are many non BPTI/Kunitz proteins that get a low e-value. Moving to the training set we can now rund blast on both the positive and the negative sets."
   ]
  },
  {
   "cell_type": "code",
   "execution_count": 3,
   "metadata": {},
   "outputs": [],
   "source": [
    "# Run on positive testing set\n",
    "# psiblast -query NotHuman_PF00014.fasta -db Human_PF00014.fasta -out NotHuman_PF00014.bl8\n",
    "# didnt work on my version\n",
    "# blastp -in FASTAIN -db DATABASE - out OUTFILE.bl6 -outfmt 6\n",
    "blastp -query Human_PF00014.fasta -db Human_PF00014.fasta -out Human_PF00014.bl6 -outfmt 6"
   ]
  },
  {
   "cell_type": "code",
   "execution_count": 1,
   "metadata": {},
   "outputs": [
    {
     "name": "stdout",
     "output_type": "stream",
     "text": [
      "     835\n"
     ]
    }
   ],
   "source": [
    "cat Human_PF00014.bl6 |wc -l"
   ]
  },
  {
   "cell_type": "markdown",
   "metadata": {},
   "source": [
    "`NotHuman_PF00014.bl8` contains the alignment of all non-human PF00014 proteins against the Human PF00014 sequences contained in `Human_PF00014.fasta`\n",
    "\n",
    "Now we will run the same also for the human testing."
   ]
  },
  {
   "cell_type": "code",
   "execution_count": 1,
   "metadata": {},
   "outputs": [],
   "source": [
    "blastp -query NotHuman_PF00014.fasta -db Human_PF00014.fasta -out NotHuman_PF00014.bl6 -outfmt 6"
   ]
  },
  {
   "cell_type": "code",
   "execution_count": 2,
   "metadata": {},
   "outputs": [
    {
     "name": "stdout",
     "output_type": "stream",
     "text": [
      "  114207\n"
     ]
    }
   ],
   "source": [
    "cat Human_NotPF00014_2Training.bl6 |wc -l"
   ]
  },
  {
   "cell_type": "markdown",
   "metadata": {},
   "source": [
    "`Human_NotPF00014_Testing.bl8` contains the alignment of the 1,000 sequences (Training set) of all human proteins `not belonging to PF00014` against the ones belonging to PF00014 family.\n"
   ]
  },
  {
   "cell_type": "markdown",
   "metadata": {},
   "source": [
    "We need first to rank the output on the posotive set of non Human BPTI/Kunitz proteins. To do so we grep based on the identifiers and select the mathch with lowest e-value."
   ]
  },
  {
   "cell_type": "code",
   "execution_count": null,
   "metadata": {},
   "outputs": [],
   "source": [
    "# idk what he wants but this doesnt work for me:\n",
    "#for i in `awk '{print $1}' NotHuman_PF00014.bl8 |sort -u ` ; do grep $i NotHuman_PF00014.bl8 |sort -gk 11 |head -n 1 ; done > NotHuman_PF00014.bl6.best"
   ]
  },
  {
   "cell_type": "markdown",
   "metadata": {},
   "source": [
    "Let's select an e-value of 0.001 as a classification threshold for the classification of BPTI/kunitz proteins. Accorddin to this assumption we calculated the number of proteins with maximu e-value below that threshold. "
   ]
  },
  {
   "cell_type": "markdown",
   "metadata": {},
   "source": [
    "# Training\n",
    "## Positive Training set\n",
    "\n",
    "Now BLAST the positive training set not human but Kunitz:\n",
    "Since it is slow I will comment it.\n",
    "\n",
    "Then I sort it by the best E-value and print the first proteins few proteins via |head"
   ]
  },
  {
   "cell_type": "code",
   "execution_count": 29,
   "metadata": {},
   "outputs": [],
   "source": [
    "#blastp -query NotHuman_PF00014.fasta -db Human_PF00014.fasta -out positive_training_test.bl6 -outfmt 6"
   ]
  },
  {
   "cell_type": "code",
   "execution_count": 30,
   "metadata": {},
   "outputs": [
    {
     "name": "stdout",
     "output_type": "stream",
     "text": [
      "sp|P81906|ISPI2_GALME\tsp|O95428|PPN_HUMAN\t38.462\t13\t8\t0\t29\t41\t718\t730\t10.0\t15.0\n",
      "sp|Q9DA01|EPPI_MOUSE\tsp|Q8IUA0|WFDC8_HUMAN\t42.857\t98\t56\t0\t30\t127\t48\t145\t9.99e-23\t81.3\n",
      "sp|P15943|APLP2_RAT\tsp|P10646|TFPI1_HUMAN\t40.385\t52\t31\t0\t311\t362\t124\t175\t9.99e-09\t48.1\n",
      "sp|C0HJF4|VKT2_HETCR\tsp|O95428|PPN_HUMAN\t41.509\t53\t31\t0\t4\t56\t754\t806\t9.99e-13\t51.6\n",
      "sp|B6RLX2|VKTCT_OPHHA\tsp|P02760|AMBP_HUMAN\t43.137\t51\t29\t0\t31\t81\t287\t337\t9.99e-11\t47.4\n",
      "sp|B5L5Q1|VKT7_PSETT\tsp|O43278|SPIT1_HUMAN\t32.812\t64\t43\t0\t18\t81\t237\t300\t9.99e-09\t41.6\n",
      "sp|Q8AY44|VKTH7_BUNCA\tsp|P05067|A4_HUMAN\t34.783\t46\t30\t0\t36\t81\t296\t341\t9.98e-10\t44.7\n",
      "sp|Q75S50|VKTH3_BUNCA\tsp|P05067|A4_HUMAN\t34.783\t46\t30\t0\t36\t81\t296\t341\t9.98e-10\t44.7\n",
      "sp|P62757|IATR_SHEEP\tsp|O43278|SPIT1_HUMAN\t46.809\t47\t25\t0\t12\t58\t398\t444\t9.98e-11\t48.9\n",
      "sp|P62756|IATR_CAPHI\tsp|O43278|SPIT1_HUMAN\t46.809\t47\t25\t0\t12\t58\t398\t444\t9.98e-11\t48.9\n"
     ]
    }
   ],
   "source": [
    "sort -nrk 11 positive_training_test.bl6 |head\n"
   ]
  },
  {
   "cell_type": "code",
   "execution_count": 35,
   "metadata": {},
   "outputs": [
    {
     "name": "stdout",
     "output_type": "stream",
     "text": [
      "sp|P00978|AMBP_BOVIN\tsp|P02760|AMBP_HUMAN\t77.273\t352\t80\t0\t1\t352\t1\t352\t0.0\t561\n",
      "sp|P04366|AMBP_PIG\tsp|P02760|AMBP_HUMAN\t80.655\t336\t65\t0\t2\t337\t17\t352\t0.0\t581\n",
      "sp|P08592|A4_RAT\tsp|P05067|A4_HUMAN\t96.883\t770\t24\t0\t1\t770\t1\t770\t0.0\t1557\n",
      "sp|P08592|A4_RAT\tsp|Q06481|APLP2_HUMAN\t49.873\t790\t320\t17\t3\t769\t26\t762\t0.0\t716\n",
      "sp|P0C5J5|WFKN1_RAT\tsp|Q8TEU8|WFKN2_HUMAN\t56.691\t538\t209\t8\t31\t550\t41\t572\t0.0\t607\n",
      "sp|P0C5J5|WFKN1_RAT\tsp|Q96NZ8|WFKN1_HUMAN\t87.992\t533\t63\t1\t20\t552\t17\t548\t0.0\t939\n",
      "sp|P12023|A4_MOUSE\tsp|P05067|A4_HUMAN\t96.623\t770\t26\t0\t1\t770\t1\t770\t0.0\t1551\n",
      "sp|P12023|A4_MOUSE\tsp|Q06481|APLP2_HUMAN\t50.253\t790\t317\t17\t3\t769\t26\t762\t0.0\t721\n",
      "sp|P15943|APLP2_RAT\tsp|Q06481|APLP2_HUMAN\t92.318\t742\t51\t2\t26\t765\t26\t763\t0.0\t1340\n",
      "sp|P15989|CO6A3_CHICK\tsp|P12111|CO6A3_HUMAN\t65.153\t2884\t977\t11\t1\t2873\t1\t2867\t0.0\t3726\n"
     ]
    }
   ],
   "source": [
    "sort -gk 11 positive_training_test.bl6 |head"
   ]
  },
  {
   "cell_type": "markdown",
   "metadata": {},
   "source": [
    "For each protein in the query, Saul wants to find the best E-value possible. He created an awk array with the first column as index, so to collapse duplicates and store the best E-value. I output an identical bltab file but filtered to have just the best match for each sequence. The filtered output contains 341 alignments, which is the same number of the number of unique indentifiers in the original file."
   ]
  },
  {
   "cell_type": "code",
   "execution_count": 37,
   "metadata": {},
   "outputs": [],
   "source": [
    "cat positive_training_test.bl6|awk \\\n",
    "'{\\\n",
    "query=$1;\\\n",
    "if (!(query in out) || $11 < evalue[query])\\\n",
    "    {evalue[query]=$11; out[query]=$0}\\\n",
    "}\\\n",
    "END{for(key in out){print out[key]}}'\\\n",
    "> positive_training_test_topscores.bl6"
   ]
  },
  {
   "cell_type": "code",
   "execution_count": 38,
   "metadata": {},
   "outputs": [
    {
     "name": "stdout",
     "output_type": "stream",
     "text": [
      "sp|D3GGZ8|BLI5_HAECO\tsp|Q2UY09|COSA1_HUMAN\t23.944\t71\t41\t4\t125\t191\t1062\t1123\t0.045\t25.0\n",
      "sp|O62247|BLI5_CAEEL\tsp|Q96NZ8|WFKN1_HUMAN\t29.167\t72\t48\t2\t115\t184\t339\t409\t2.44e-04\t32.0\n",
      "sp|Q11101|YL15_CAEEL\tsp|P05067|A4_HUMAN\t37.500\t40\t25\t0\t38\t77\t305\t344\t1.85e-07\t41.2\n",
      "sp|P86963|KCP2_PINMA\tsp|P12111|CO6A3_HUMAN\t36.207\t58\t30\t2\t98\t153\t3112\t3164\t1.33e-07\t43.9\n",
      "sp|P0CAR0|VKTG1_MICPY\tsp|P12111|CO6A3_HUMAN\t44.828\t29\t16\t0\t6\t34\t3112\t3140\t6.47e-08\t37.0\n",
      "sp|P0CH75|VKT25_CYRHA\tsp|P12111|CO6A3_HUMAN\t44.118\t34\t17\t1\t2\t33\t3110\t3143\t1.01e-09\t42.0\n",
      "sp|Q2ES49|VKT2_DABRR\tsp|P10646|TFPI1_HUMAN\t38.596\t57\t35\t0\t25\t81\t119\t175\t6.96e-10\t44.7\n",
      "sp|G9I929|VKTA_MICTN\tsp|P10646|TFPI1_HUMAN\t35.484\t62\t35\t2\t24\t83\t118\t176\t6.31e-10\t45.1\n",
      "sp|C0LNR2|VKT_VESBI\tsp|O95428|PPN_HUMAN\t38.710\t62\t33\t2\t20\t76\t743\t804\t9.51e-11\t47.0\n",
      "sp|Q7Z1K3|ANIS1_ANISI\tsp|Q02388|CO7A1_HUMAN\t41.558\t77\t34\t4\t28\t101\t2876\t2944\t5.74e-11\t52.0\n",
      "     341 positive_training_test_topscores.bl6\n",
      "     341\n"
     ]
    }
   ],
   "source": [
    "cat positive_training_test_topscores.bl6|sort -rgk 11|head # worst best scores for each sequence\n",
    "wc -l positive_training_test_topscores.bl6\n",
    "cat positive_training_test_topscores.bl6|awk '{print $1}'|sort -u|wc -l #number of unique queries in the original BLAST output"
   ]
  },
  {
   "cell_type": "markdown",
   "metadata": {},
   "source": [
    "### Summary of positive training\n",
    "The worst top score for a sequence in the positive training set is 0.045, followed by 2.44e-04 and 1.85e-07 (see above line 1-3)\n",
    "In total there are 341 unique sequences in the query."
   ]
  },
  {
   "cell_type": "markdown",
   "metadata": {},
   "source": [
    "## Negative training set\n",
    "Now I BLAST the negative training set (human not Kunitz training).\n",
    "It is slow, don't run just for fun. This is why I am commenting it.\n",
    "I sort by best E-value and print the first proteins.\n",
    "I need to set an high E-value threshold otherwise I don't get an hit for all the sequences.\n",
    "However, even with a 1000 thershold I am still missing 2 sequences (9998 unique hits).\n",
    "I will never be able to compute with an higher threshold."
   ]
  },
  {
   "cell_type": "code",
   "execution_count": 5,
   "metadata": {},
   "outputs": [],
   "source": [
    "#!blastp -query Human_NotPF00014_Training.fasta -db Human_PF00014.fasta -out negative_training.bl6 -outfmt 6 -evalue 100 "
   ]
  },
  {
   "cell_type": "code",
   "execution_count": 7,
   "metadata": {},
   "outputs": [
    {
     "name": "stdout",
     "output_type": "stream",
     "text": [
      "sp|A6NMZ7|CO6A6_HUMAN\tsp|P12111|CO6A3_HUMAN\t32.954\t2282\t1363\t40\t27\t2221\t639\t2840\t0.0\t1042\n",
      "sp|A8TX70|CO6A5_HUMAN\tsp|P12111|CO6A3_HUMAN\t31.051\t2235\t1320\t51\t30\t2130\t639\t2786\t0.0\t927\n",
      "sp|A6NMZ7|CO6A6_HUMAN\tsp|P12111|CO6A3_HUMAN\t28.559\t1194\t795\t25\t26\t1181\t38\t1211\t5.81e-140\t480\n",
      "sp|P51693|APLP1_HUMAN\tsp|Q06481|APLP2_HUMAN\t35.109\t732\t350\t19\t37\t648\t34\t760\t3.59e-126\t383\n",
      "sp|A8TX70|CO6A5_HUMAN\tsp|P12111|CO6A3_HUMAN\t27.288\t1180\t802\t28\t29\t1172\t38\t1197\t2.94e-121\t421\n",
      "sp|A6NMZ7|CO6A6_HUMAN\tsp|P12111|CO6A3_HUMAN\t28.182\t1100\t704\t31\t226\t1272\t36\t1102\t2.43e-110\t385\n",
      "sp|Q9UKP5|ATS6_HUMAN\tsp|O95428|PPN_HUMAN\t40.202\t495\t274\t11\t561\t1045\t29\t511\t2.62e-108\t359\n",
      "sp|Q8TE60|ATS18_HUMAN\tsp|O95428|PPN_HUMAN\t36.842\t532\t306\t11\t592\t1115\t29\t538\t1.04e-102\t345\n",
      "sp|Q9H324|ATS10_HUMAN\tsp|O95428|PPN_HUMAN\t37.996\t529\t306\t12\t550\t1064\t29\t549\t6.93e-99\t332\n",
      "sp|Q8TE57|ATS16_HUMAN\tsp|O95428|PPN_HUMAN\t36.684\t567\t320\t16\t589\t1133\t29\t578\t5.59e-96\t326\n",
      "sort: Broken pipe\n"
     ]
    }
   ],
   "source": [
    "!sort -gk 11 negative_training.bl6|head"
   ]
  },
  {
   "cell_type": "markdown",
   "metadata": {},
   "source": [
    "The first 2 sequences are strange. They have 0 E-value and their names seem to be really similar.\n",
    "\n",
    "For each protein in the query, I want to find the best E-value possible. I create an awk array with the first column as index, so to collapse duplicates and store the best E-value. I output an identical bltab file but filtered to have just the best match for each sequence. The filtered output contains 9998 alignments, which is the same number of the number of unique indentifiers in the original file."
   ]
  },
  {
   "cell_type": "code",
   "execution_count": 3,
   "metadata": {},
   "outputs": [],
   "source": [
    "!cat negative_training.bl6|awk \\\n",
    "'{\\\n",
    "query=$1;\\\n",
    "if (!(query in out) || $11 < evalue[query])\\\n",
    "    {evalue[query]=$11; out[query]=$0}\\\n",
    "}\\\n",
    "END{for(key in out){print out[key]}}'\\\n",
    "> negative_training_topscores.bltab"
   ]
  },
  {
   "cell_type": "code",
   "execution_count": 24,
   "metadata": {},
   "outputs": [
    {
     "name": "stdout",
     "output_type": "stream",
     "text": [
      "sp|A6NMZ7|CO6A6_HUMAN\tsp|P12111|CO6A3_HUMAN\t32.954\t2282\t1363\t40\t27\t2221\t639\t2840\t0.0\t1042\n",
      "sp|A8TX70|CO6A5_HUMAN\tsp|P12111|CO6A3_HUMAN\t31.051\t2235\t1320\t51\t30\t2130\t639\t2786\t0.0\t927\n",
      "sp|P51693|APLP1_HUMAN\tsp|Q06481|APLP2_HUMAN\t35.109\t732\t350\t19\t37\t648\t34\t760\t3.59e-126\t383\n",
      "sp|Q9UKP5|ATS6_HUMAN\tsp|O95428|PPN_HUMAN\t40.202\t495\t274\t11\t561\t1045\t29\t511\t2.62e-108\t359\n",
      "sp|Q8TE60|ATS18_HUMAN\tsp|O95428|PPN_HUMAN\t36.842\t532\t306\t11\t592\t1115\t29\t538\t1.04e-102\t345\n",
      "sp|Q9H324|ATS10_HUMAN\tsp|O95428|PPN_HUMAN\t37.996\t529\t306\t12\t550\t1064\t29\t549\t6.93e-99\t332\n",
      "sp|Q8TE57|ATS16_HUMAN\tsp|O95428|PPN_HUMAN\t36.684\t567\t320\t16\t589\t1133\t29\t578\t5.59e-96\t326\n",
      "sp|Q05707|COEA1_HUMAN\tsp|Q02388|CO7A1_HUMAN\t30.752\t891\t550\t26\t148\t1019\t28\t870\t4.38e-94\t330\n",
      "sp|Q99715|COCA1_HUMAN\tsp|Q02388|CO7A1_HUMAN\t30.604\t1026\t643\t34\t1192\t2180\t31\t1024\t7.58e-92\t325\n",
      "sp|Q9UKP4|ATS7_HUMAN\tsp|O95428|PPN_HUMAN\t41.761\t443\t233\t13\t541\t974\t29\t455\t9.88e-89\t308\n",
      "sort: Broken pipe\n",
      "    9998 negative_training_topscores.bltab\n",
      "    9998\n"
     ]
    }
   ],
   "source": [
    "!cat negative_training_topscores.bltab|sort -gk 11|head # best E-values of the negatives\n",
    "!wc -l negative_training_topscores.bltab\n",
    "!cat negative_training.bl6 |awk '{print $1}'|sort -u |wc -l #number of unique queries in the original BLAST output"
   ]
  },
  {
   "cell_type": "markdown",
   "metadata": {},
   "source": [
    "### Summary of Negative Training\n",
    "The top score for a sequence in the negative training set is 0, and there are many scores around e-100."
   ]
  },
  {
   "cell_type": "markdown",
   "metadata": {},
   "source": [
    "# Finding The Best Threshold\n",
    "Now I have to play with the E-value thresholds on the positive set to see how many **true positives** can be found at different thresholds. I work with the ```topscores``` files so that it is quicker. I need to find the **best alignment** for each sequence. I use ```awk ``` for filtering. By setting 10 as a threshold I get all the 341 proteins, while setting 0.001 I get 340 of them, loosing the one with E-value of 0.045. \n",
    "\n",
    "The **only meaningful value** is the one **below** the E-value threshold, not above. This is because I can have as many hits as I want above! However, If I take the best for each sequence the total number of hits is the same af the number of sequences, so I can also use the above-threshold value.\n",
    "\n",
    "???\n",
    "\n",
    "## In the Positive Set:"
   ]
  },
  {
   "cell_type": "code",
   "execution_count": 10,
   "metadata": {},
   "outputs": [
    {
     "name": "stdout",
     "output_type": "stream",
     "text": [
      "sp|D3GGZ8|BLI5_HAECO\tsp|Q2UY09|COSA1_HUMAN\t23.944\t71\t41\t4\t125\t191\t1062\t1123\t0.045\t25.0\n",
      "sp|O62247|BLI5_CAEEL\tsp|Q96NZ8|WFKN1_HUMAN\t29.167\t72\t48\t2\t115\t184\t339\t409\t2.44e-04\t32.0\n",
      "sp|Q11101|YL15_CAEEL\tsp|P05067|A4_HUMAN\t37.500\t40\t25\t0\t38\t77\t305\t344\t1.85e-07\t41.2\n",
      "sp|P86963|KCP2_PINMA\tsp|P12111|CO6A3_HUMAN\t36.207\t58\t30\t2\t98\t153\t3112\t3164\t1.33e-07\t43.9\n",
      "sp|P0CAR0|VKTG1_MICPY\tsp|P12111|CO6A3_HUMAN\t44.828\t29\t16\t0\t6\t34\t3112\t3140\t6.47e-08\t37.0\n",
      "sp|P0CH75|VKT25_CYRHA\tsp|P12111|CO6A3_HUMAN\t44.118\t34\t17\t1\t2\t33\t3110\t3143\t1.01e-09\t42.0\n",
      "sp|Q2ES49|VKT2_DABRR\tsp|P10646|TFPI1_HUMAN\t38.596\t57\t35\t0\t25\t81\t119\t175\t6.96e-10\t44.7\n",
      "sp|G9I929|VKTA_MICTN\tsp|P10646|TFPI1_HUMAN\t35.484\t62\t35\t2\t24\t83\t118\t176\t6.31e-10\t45.1\n",
      "sp|C0LNR2|VKT_VESBI\tsp|O95428|PPN_HUMAN\t38.710\t62\t33\t2\t20\t76\t743\t804\t9.51e-11\t47.0\n",
      "sp|Q7Z1K3|ANIS1_ANISI\tsp|Q02388|CO7A1_HUMAN\t41.558\t77\t34\t4\t28\t101\t2876\t2944\t5.74e-11\t52.0\n",
      "     341   29315\n"
     ]
    }
   ],
   "source": [
    "!cat positive_training_test_topscores.bl6|awk '{if ($11<10) print $0}'|sort -rgk 11|head\n",
    "!cat positive_training_test_topscores.bl6|awk '{if ($11<10) print $0}'|wc -l"
   ]
  },
  {
   "cell_type": "code",
   "execution_count": 14,
   "metadata": {},
   "outputs": [
    {
     "name": "stdout",
     "output_type": "stream",
     "text": [
      "sp|O62247|BLI5_CAEEL\tsp|Q96NZ8|WFKN1_HUMAN\t29.167\t72\t48\t2\t115\t184\t339\t409\t2.44e-04\t32.0\n",
      "sp|Q11101|YL15_CAEEL\tsp|P05067|A4_HUMAN\t37.500\t40\t25\t0\t38\t77\t305\t344\t1.85e-07\t41.2\n",
      "sp|P86963|KCP2_PINMA\tsp|P12111|CO6A3_HUMAN\t36.207\t58\t30\t2\t98\t153\t3112\t3164\t1.33e-07\t43.9\n",
      "sp|P0CAR0|VKTG1_MICPY\tsp|P12111|CO6A3_HUMAN\t44.828\t29\t16\t0\t6\t34\t3112\t3140\t6.47e-08\t37.0\n",
      "sp|P0CH75|VKT25_CYRHA\tsp|P12111|CO6A3_HUMAN\t44.118\t34\t17\t1\t2\t33\t3110\t3143\t1.01e-09\t42.0\n",
      "sp|Q2ES49|VKT2_DABRR\tsp|P10646|TFPI1_HUMAN\t38.596\t57\t35\t0\t25\t81\t119\t175\t6.96e-10\t44.7\n",
      "sp|G9I929|VKTA_MICTN\tsp|P10646|TFPI1_HUMAN\t35.484\t62\t35\t2\t24\t83\t118\t176\t6.31e-10\t45.1\n",
      "sp|C0LNR2|VKT_VESBI\tsp|O95428|PPN_HUMAN\t38.710\t62\t33\t2\t20\t76\t743\t804\t9.51e-11\t47.0\n",
      "sp|Q7Z1K3|ANIS1_ANISI\tsp|Q02388|CO7A1_HUMAN\t41.558\t77\t34\t4\t28\t101\t2876\t2944\t5.74e-11\t52.0\n",
      "sp|P0DMW9|VKT34_ACTEQ\tsp|O43291|SPIT2_HUMAN\t51.429\t35\t17\t0\t3\t37\t35\t69\t1.39e-11\t47.4\n",
      "     340\n"
     ]
    }
   ],
   "source": [
    "!cat positive_training_test_topscores.bl6|awk '{if ($11<1e-03) print $0}'|sort -rgk 11|head\n",
    "!cat positive_training_test_topscores.bl6|awk '{if ($11<1e-03) print $0}'|wc -l"
   ]
  },
  {
   "cell_type": "markdown",
   "metadata": {},
   "source": [
    "## In the Negatie Set:"
   ]
  },
  {
   "cell_type": "markdown",
   "metadata": {},
   "source": [
    "How many proteins have an E-vlaue that is lower than the threshold - it has to be the **lowest possible** threashold."
   ]
  },
  {
   "cell_type": "code",
   "execution_count": 16,
   "metadata": {},
   "outputs": [
    {
     "name": "stdout",
     "output_type": "stream",
     "text": [
      "sp|A6NMZ7|CO6A6_HUMAN\tsp|P12111|CO6A3_HUMAN\t32.954\t2282\t1363\t40\t27\t2221\t639\t2840\t0.0\t1042\n",
      "sp|A8TX70|CO6A5_HUMAN\tsp|P12111|CO6A3_HUMAN\t31.051\t2235\t1320\t51\t30\t2130\t639\t2786\t0.0\t927\n",
      "sp|P51693|APLP1_HUMAN\tsp|Q06481|APLP2_HUMAN\t35.109\t732\t350\t19\t37\t648\t34\t760\t3.59e-126\t383\n",
      "sp|Q9UKP5|ATS6_HUMAN\tsp|O95428|PPN_HUMAN\t40.202\t495\t274\t11\t561\t1045\t29\t511\t2.62e-108\t359\n",
      "sp|Q8TE60|ATS18_HUMAN\tsp|O95428|PPN_HUMAN\t36.842\t532\t306\t11\t592\t1115\t29\t538\t1.04e-102\t345\n",
      "sp|Q9H324|ATS10_HUMAN\tsp|O95428|PPN_HUMAN\t37.996\t529\t306\t12\t550\t1064\t29\t549\t6.93e-99\t332\n",
      "sp|Q8TE57|ATS16_HUMAN\tsp|O95428|PPN_HUMAN\t36.684\t567\t320\t16\t589\t1133\t29\t578\t5.59e-96\t326\n",
      "sp|Q05707|COEA1_HUMAN\tsp|Q02388|CO7A1_HUMAN\t30.752\t891\t550\t26\t148\t1019\t28\t870\t4.38e-94\t330\n",
      "sp|Q99715|COCA1_HUMAN\tsp|Q02388|CO7A1_HUMAN\t30.604\t1026\t643\t34\t1192\t2180\t31\t1024\t7.58e-92\t325\n",
      "sp|Q9UKP4|ATS7_HUMAN\tsp|O95428|PPN_HUMAN\t41.761\t443\t233\t13\t541\t974\t29\t455\t9.88e-89\t308\n",
      "       0\n"
     ]
    }
   ],
   "source": [
    "!cat negative_training_topscores.bltab |awk '{if($11<1e-03) print $0}' |sort -gk 11 |head\n",
    "!cat negative_training_topscores.bltab |awk '{if($11<1e-03)}' |wc -l"
   ]
  },
  {
   "cell_type": "markdown",
   "metadata": {},
   "source": [
    "Now its time to play with the differnet threasholds and see what happenes to the numbers of\n",
    "- true positives\n",
    "- true negatives\n",
    "- false negatives\n",
    "- false positives\n",
    "\n",
    "If the threashold is too high: all true **positives are found**, but all **true negatives** are **not** found."
   ]
  },
  {
   "cell_type": "code",
   "execution_count": 51,
   "metadata": {},
   "outputs": [
    {
     "name": "stdout",
     "output_type": "stream",
     "text": [
      "     341\n",
      "       0\n",
      "       0\n",
      "    9998\n"
     ]
    }
   ],
   "source": [
    "%%bash\n",
    "THRESHOLD=10000\n",
    "cat positive_training_test_topscores.bl6|awk -v x=$THRESHOLD '{if ($11<=x) print $0}'|wc -l #true positives\n",
    "cat negative_training_topscores.bltab|awk -v x=$THRESHOLD '{if ($11>=x) print $0}'|wc -l #true negatives\n",
    "cat positive_training_test_topscores.bl6|awk -v x=$THRESHOLD '{if ($11>x) print $0}'|wc -l #false negatives\n",
    "cat negative_training_topscores.bltab|awk -v x=$THRESHOLD '{if ($11<x) print $0}'|wc -l #false positives-2"
   ]
  },
  {
   "cell_type": "code",
   "execution_count": 53,
   "metadata": {},
   "outputs": [
    {
     "name": "stdout",
     "output_type": "stream",
     "text": [
      "       0\n",
      "    9998\n",
      "     341\n",
      "       0\n"
     ]
    }
   ],
   "source": [
    "%%bash\n",
    "THRESHOLD=-1\n",
    "cat positive_training_test_topscores.bl6|awk -v x=$THRESHOLD '{if ($11<=x) print $0}'|wc -l #true positives\n",
    "cat negative_training_topscores.bltab|awk -v x=$THRESHOLD '{if ($11>=x) print $0}'|wc -l #true negatives\n",
    "cat positive_training_test_topscores.bl6|awk -v x=$THRESHOLD '{if ($11>x) print $0}'|wc -l #false negatives\n",
    "cat negative_training_topscores.bltab|awk -v x=$THRESHOLD '{if ($11<x) print $0}'|wc -l #false positives-2"
   ]
  },
  {
   "cell_type": "markdown",
   "metadata": {},
   "source": [
    "Now the threashold is too low: I found all the true negatives bot none of the true positives."
   ]
  },
  {
   "cell_type": "code",
   "execution_count": 55,
   "metadata": {},
   "outputs": [
    {
     "name": "stdout",
     "output_type": "stream",
     "text": [
      "     340\n",
      "    9697\n",
      "       1\n",
      "     301\n"
     ]
    }
   ],
   "source": [
    "%%bash\n",
    "THRESHOLD=1e-03\n",
    "cat positive_training_test_topscores.bl6|awk -v x=$THRESHOLD '{if ($11<=x) print $0}'|wc -l #true positives\n",
    "cat negative_training_topscores.bltab|awk -v x=$THRESHOLD '{if ($11>=x) print $0}'|wc -l #true negatives-2\n",
    "cat positive_training_test_topscores.bl6|awk -v x=$THRESHOLD '{if ($11>x) print $0}'|wc -l #false negatives\n",
    "cat negative_training_topscores.bltab|awk -v x=$THRESHOLD '{if ($11<x) print $0}'|wc -l #false positives\n",
    "# I'm off by 1 should be 302 not 301 ???"
   ]
  },
  {
   "cell_type": "markdown",
   "metadata": {},
   "source": [
    "## Confusion matrix, Matthews correlation coefficient, and Accuracy\n",
    "\n",
    "In python\n",
    "\n",
    "#### Preprocessing\n",
    "defining input files:"
   ]
  },
  {
   "cell_type": "code",
   "execution_count": 25,
   "metadata": {},
   "outputs": [],
   "source": [
    "# positive training set which is also the testing set in our case since we didn't have enough proteins.\n",
    "p_train_path = './positive_training_test_topscores.bl6'\n",
    "# the negative training set\n",
    "n_train_path = \"./negative_training_topscores.bltab\""
   ]
  },
  {
   "cell_type": "markdown",
   "metadata": {},
   "source": [
    "Using pandas to create a datafram from the filepath and then call it on the inputs."
   ]
  },
  {
   "cell_type": "code",
   "execution_count": 28,
   "metadata": {},
   "outputs": [],
   "source": [
    "import pandas as pd\n",
    "\n",
    "def get_blasttab_df(blasttab_path):\n",
    "    with open(blasttab_path) as blasttab_file:\n",
    "        blasttab_df = pd.read_csv(blasttab_file, sep='\\s+', header=None)\n",
    "    return blasttab_df\n",
    "\n",
    "p_train_df = get_blasttab_df(p_train_path)\n",
    "n_train_df = get_blasttab_df(n_train_path)"
   ]
  },
  {
   "cell_type": "code",
   "execution_count": 56,
   "metadata": {},
   "outputs": [
    {
     "data": {
      "text/html": [
       "<div>\n",
       "<style scoped>\n",
       "    .dataframe tbody tr th:only-of-type {\n",
       "        vertical-align: middle;\n",
       "    }\n",
       "\n",
       "    .dataframe tbody tr th {\n",
       "        vertical-align: top;\n",
       "    }\n",
       "\n",
       "    .dataframe thead th {\n",
       "        text-align: right;\n",
       "    }\n",
       "</style>\n",
       "<table border=\"1\" class=\"dataframe\">\n",
       "  <thead>\n",
       "    <tr style=\"text-align: right;\">\n",
       "      <th></th>\n",
       "      <th>0</th>\n",
       "      <th>1</th>\n",
       "      <th>2</th>\n",
       "      <th>3</th>\n",
       "      <th>4</th>\n",
       "      <th>5</th>\n",
       "      <th>6</th>\n",
       "      <th>7</th>\n",
       "      <th>8</th>\n",
       "      <th>9</th>\n",
       "      <th>10</th>\n",
       "      <th>11</th>\n",
       "    </tr>\n",
       "  </thead>\n",
       "  <tbody>\n",
       "    <tr>\n",
       "      <th>0</th>\n",
       "      <td>sp|D2Y489|VKT1B_CONCL</td>\n",
       "      <td>sp|Q8TEU8|WFKN2_HUMAN</td>\n",
       "      <td>50.980</td>\n",
       "      <td>51</td>\n",
       "      <td>25</td>\n",
       "      <td>0</td>\n",
       "      <td>7</td>\n",
       "      <td>57</td>\n",
       "      <td>386</td>\n",
       "      <td>436</td>\n",
       "      <td>5.590000e-16</td>\n",
       "      <td>60.8</td>\n",
       "    </tr>\n",
       "    <tr>\n",
       "      <th>1</th>\n",
       "      <td>sp|P0C8W3|VKT11_HOFGE</td>\n",
       "      <td>sp|P49223|SPIT3_HUMAN</td>\n",
       "      <td>51.923</td>\n",
       "      <td>52</td>\n",
       "      <td>25</td>\n",
       "      <td>0</td>\n",
       "      <td>29</td>\n",
       "      <td>80</td>\n",
       "      <td>36</td>\n",
       "      <td>87</td>\n",
       "      <td>5.030000e-18</td>\n",
       "      <td>63.9</td>\n",
       "    </tr>\n",
       "    <tr>\n",
       "      <th>2</th>\n",
       "      <td>sp|C1IC53|VKT4_WALAE</td>\n",
       "      <td>sp|P12111|CO6A3_HUMAN</td>\n",
       "      <td>45.098</td>\n",
       "      <td>51</td>\n",
       "      <td>28</td>\n",
       "      <td>0</td>\n",
       "      <td>31</td>\n",
       "      <td>81</td>\n",
       "      <td>3112</td>\n",
       "      <td>3162</td>\n",
       "      <td>1.860000e-17</td>\n",
       "      <td>66.6</td>\n",
       "    </tr>\n",
       "    <tr>\n",
       "      <th>3</th>\n",
       "      <td>sp|P00984|VKTE_DENPO</td>\n",
       "      <td>sp|P10646|TFPI1_HUMAN</td>\n",
       "      <td>44.444</td>\n",
       "      <td>54</td>\n",
       "      <td>30</td>\n",
       "      <td>0</td>\n",
       "      <td>5</td>\n",
       "      <td>58</td>\n",
       "      <td>52</td>\n",
       "      <td>105</td>\n",
       "      <td>1.170000e-16</td>\n",
       "      <td>62.8</td>\n",
       "    </tr>\n",
       "    <tr>\n",
       "      <th>4</th>\n",
       "      <td>sp|Q2ES48|VKT3_DABRR</td>\n",
       "      <td>sp|P10646|TFPI1_HUMAN</td>\n",
       "      <td>44.828</td>\n",
       "      <td>58</td>\n",
       "      <td>32</td>\n",
       "      <td>0</td>\n",
       "      <td>25</td>\n",
       "      <td>82</td>\n",
       "      <td>119</td>\n",
       "      <td>176</td>\n",
       "      <td>6.740000e-18</td>\n",
       "      <td>67.4</td>\n",
       "    </tr>\n",
       "    <tr>\n",
       "      <th>5</th>\n",
       "      <td>sp|P82968|MCPI_MELCP</td>\n",
       "      <td>sp|Q06481|APLP2_HUMAN</td>\n",
       "      <td>44.156</td>\n",
       "      <td>77</td>\n",
       "      <td>40</td>\n",
       "      <td>1</td>\n",
       "      <td>118</td>\n",
       "      <td>194</td>\n",
       "      <td>287</td>\n",
       "      <td>360</td>\n",
       "      <td>4.030000e-17</td>\n",
       "      <td>70.1</td>\n",
       "    </tr>\n",
       "    <tr>\n",
       "      <th>6</th>\n",
       "      <td>sp|P0DN06|VKT1A_ANEVI</td>\n",
       "      <td>sp|O43291|SPIT2_HUMAN</td>\n",
       "      <td>46.377</td>\n",
       "      <td>69</td>\n",
       "      <td>37</td>\n",
       "      <td>0</td>\n",
       "      <td>10</td>\n",
       "      <td>78</td>\n",
       "      <td>27</td>\n",
       "      <td>95</td>\n",
       "      <td>2.910000e-19</td>\n",
       "      <td>70.1</td>\n",
       "    </tr>\n",
       "    <tr>\n",
       "      <th>7</th>\n",
       "      <td>sp|P81129|VKT2_STIHL</td>\n",
       "      <td>sp|Q06481|APLP2_HUMAN</td>\n",
       "      <td>50.909</td>\n",
       "      <td>55</td>\n",
       "      <td>27</td>\n",
       "      <td>0</td>\n",
       "      <td>1</td>\n",
       "      <td>55</td>\n",
       "      <td>308</td>\n",
       "      <td>362</td>\n",
       "      <td>5.310000e-20</td>\n",
       "      <td>72.0</td>\n",
       "    </tr>\n",
       "    <tr>\n",
       "      <th>8</th>\n",
       "      <td>sp|Q7YRQ8|TFPI2_BOVIN</td>\n",
       "      <td>sp|P48307|TFPI2_HUMAN</td>\n",
       "      <td>70.464</td>\n",
       "      <td>237</td>\n",
       "      <td>65</td>\n",
       "      <td>3</td>\n",
       "      <td>1</td>\n",
       "      <td>234</td>\n",
       "      <td>1</td>\n",
       "      <td>235</td>\n",
       "      <td>1.450000e-109</td>\n",
       "      <td>306.0</td>\n",
       "    </tr>\n",
       "    <tr>\n",
       "      <th>9</th>\n",
       "      <td>sp|B5KL38|VKT1_AUSSU</td>\n",
       "      <td>sp|P12111|CO6A3_HUMAN</td>\n",
       "      <td>46.296</td>\n",
       "      <td>54</td>\n",
       "      <td>29</td>\n",
       "      <td>0</td>\n",
       "      <td>29</td>\n",
       "      <td>82</td>\n",
       "      <td>3110</td>\n",
       "      <td>3163</td>\n",
       "      <td>9.760000e-17</td>\n",
       "      <td>64.3</td>\n",
       "    </tr>\n",
       "    <tr>\n",
       "      <th>10</th>\n",
       "      <td>sp|A6MFL1|VKT1_DEMVE</td>\n",
       "      <td>sp|P12111|CO6A3_HUMAN</td>\n",
       "      <td>42.593</td>\n",
       "      <td>54</td>\n",
       "      <td>31</td>\n",
       "      <td>0</td>\n",
       "      <td>29</td>\n",
       "      <td>82</td>\n",
       "      <td>3110</td>\n",
       "      <td>3163</td>\n",
       "      <td>5.710000e-17</td>\n",
       "      <td>65.1</td>\n",
       "    </tr>\n",
       "    <tr>\n",
       "      <th>11</th>\n",
       "      <td>sp|P0DJ67|VKT34_CYRHA</td>\n",
       "      <td>sp|P12111|CO6A3_HUMAN</td>\n",
       "      <td>44.000</td>\n",
       "      <td>75</td>\n",
       "      <td>35</td>\n",
       "      <td>2</td>\n",
       "      <td>14</td>\n",
       "      <td>86</td>\n",
       "      <td>3094</td>\n",
       "      <td>3163</td>\n",
       "      <td>5.010000e-18</td>\n",
       "      <td>68.2</td>\n",
       "    </tr>\n",
       "    <tr>\n",
       "      <th>12</th>\n",
       "      <td>sp|D2Y2G2|VKTK1_CYRHA</td>\n",
       "      <td>sp|P12111|CO6A3_HUMAN</td>\n",
       "      <td>42.667</td>\n",
       "      <td>75</td>\n",
       "      <td>36</td>\n",
       "      <td>2</td>\n",
       "      <td>14</td>\n",
       "      <td>86</td>\n",
       "      <td>3094</td>\n",
       "      <td>3163</td>\n",
       "      <td>7.830000e-17</td>\n",
       "      <td>65.1</td>\n",
       "    </tr>\n",
       "    <tr>\n",
       "      <th>13</th>\n",
       "      <td>sp|O54819|TFPI1_MOUSE</td>\n",
       "      <td>sp|P10646|TFPI1_HUMAN</td>\n",
       "      <td>59.310</td>\n",
       "      <td>290</td>\n",
       "      <td>102</td>\n",
       "      <td>4</td>\n",
       "      <td>1</td>\n",
       "      <td>286</td>\n",
       "      <td>1</td>\n",
       "      <td>278</td>\n",
       "      <td>1.500000e-117</td>\n",
       "      <td>332.0</td>\n",
       "    </tr>\n",
       "    <tr>\n",
       "      <th>14</th>\n",
       "      <td>sp|Q60559|AMBP_MESAU</td>\n",
       "      <td>sp|P02760|AMBP_HUMAN</td>\n",
       "      <td>77.644</td>\n",
       "      <td>331</td>\n",
       "      <td>73</td>\n",
       "      <td>1</td>\n",
       "      <td>19</td>\n",
       "      <td>348</td>\n",
       "      <td>19</td>\n",
       "      <td>349</td>\n",
       "      <td>0.000000e+00</td>\n",
       "      <td>550.0</td>\n",
       "    </tr>\n",
       "    <tr>\n",
       "      <th>15</th>\n",
       "      <td>sp|A8Y7N9|VKTC6_DABSI</td>\n",
       "      <td>sp|P10646|TFPI1_HUMAN</td>\n",
       "      <td>49.123</td>\n",
       "      <td>57</td>\n",
       "      <td>29</td>\n",
       "      <td>0</td>\n",
       "      <td>25</td>\n",
       "      <td>81</td>\n",
       "      <td>119</td>\n",
       "      <td>175</td>\n",
       "      <td>1.290000e-18</td>\n",
       "      <td>69.7</td>\n",
       "    </tr>\n",
       "    <tr>\n",
       "      <th>16</th>\n",
       "      <td>sp|C0HJU7|VKT6_HETCR</td>\n",
       "      <td>sp|Q06481|APLP2_HUMAN</td>\n",
       "      <td>48.214</td>\n",
       "      <td>56</td>\n",
       "      <td>29</td>\n",
       "      <td>0</td>\n",
       "      <td>1</td>\n",
       "      <td>56</td>\n",
       "      <td>307</td>\n",
       "      <td>362</td>\n",
       "      <td>1.930000e-20</td>\n",
       "      <td>73.6</td>\n",
       "    </tr>\n",
       "    <tr>\n",
       "      <th>17</th>\n",
       "      <td>sp|C0HJU6|VKT5_HETCR</td>\n",
       "      <td>sp|Q06481|APLP2_HUMAN</td>\n",
       "      <td>46.429</td>\n",
       "      <td>56</td>\n",
       "      <td>30</td>\n",
       "      <td>0</td>\n",
       "      <td>1</td>\n",
       "      <td>56</td>\n",
       "      <td>307</td>\n",
       "      <td>362</td>\n",
       "      <td>5.180000e-20</td>\n",
       "      <td>72.4</td>\n",
       "    </tr>\n",
       "    <tr>\n",
       "      <th>18</th>\n",
       "      <td>sp|B5KL40|VKT3_AUSSU</td>\n",
       "      <td>sp|P10646|TFPI1_HUMAN</td>\n",
       "      <td>41.538</td>\n",
       "      <td>65</td>\n",
       "      <td>38</td>\n",
       "      <td>0</td>\n",
       "      <td>17</td>\n",
       "      <td>81</td>\n",
       "      <td>111</td>\n",
       "      <td>175</td>\n",
       "      <td>8.610000e-17</td>\n",
       "      <td>64.3</td>\n",
       "    </tr>\n",
       "    <tr>\n",
       "      <th>19</th>\n",
       "      <td>sp|Q6ITB4|VKT2_OXYMI</td>\n",
       "      <td>sp|P12111|CO6A3_HUMAN</td>\n",
       "      <td>50.000</td>\n",
       "      <td>54</td>\n",
       "      <td>27</td>\n",
       "      <td>0</td>\n",
       "      <td>29</td>\n",
       "      <td>82</td>\n",
       "      <td>3110</td>\n",
       "      <td>3163</td>\n",
       "      <td>2.160000e-18</td>\n",
       "      <td>68.9</td>\n",
       "    </tr>\n",
       "    <tr>\n",
       "      <th>20</th>\n",
       "      <td>sp|P07481|ISC3_BOMMO</td>\n",
       "      <td>sp|P10646|TFPI1_HUMAN</td>\n",
       "      <td>56.522</td>\n",
       "      <td>46</td>\n",
       "      <td>20</td>\n",
       "      <td>0</td>\n",
       "      <td>16</td>\n",
       "      <td>61</td>\n",
       "      <td>130</td>\n",
       "      <td>175</td>\n",
       "      <td>2.770000e-14</td>\n",
       "      <td>56.2</td>\n",
       "    </tr>\n",
       "    <tr>\n",
       "      <th>21</th>\n",
       "      <td>sp|P15943|APLP2_RAT</td>\n",
       "      <td>sp|Q06481|APLP2_HUMAN</td>\n",
       "      <td>92.318</td>\n",
       "      <td>742</td>\n",
       "      <td>51</td>\n",
       "      <td>2</td>\n",
       "      <td>26</td>\n",
       "      <td>765</td>\n",
       "      <td>26</td>\n",
       "      <td>763</td>\n",
       "      <td>0.000000e+00</td>\n",
       "      <td>1340.0</td>\n",
       "    </tr>\n",
       "    <tr>\n",
       "      <th>22</th>\n",
       "      <td>sp|P0DJ46|VKT21_LYCMC</td>\n",
       "      <td>sp|O43291|SPIT2_HUMAN</td>\n",
       "      <td>50.000</td>\n",
       "      <td>52</td>\n",
       "      <td>26</td>\n",
       "      <td>0</td>\n",
       "      <td>25</td>\n",
       "      <td>76</td>\n",
       "      <td>38</td>\n",
       "      <td>89</td>\n",
       "      <td>2.190000e-16</td>\n",
       "      <td>62.4</td>\n",
       "    </tr>\n",
       "    <tr>\n",
       "      <th>23</th>\n",
       "      <td>sp|Q8AY46|VKTHB_BUNCA</td>\n",
       "      <td>sp|Q2UY09|COSA1_HUMAN</td>\n",
       "      <td>38.095</td>\n",
       "      <td>63</td>\n",
       "      <td>38</td>\n",
       "      <td>1</td>\n",
       "      <td>20</td>\n",
       "      <td>82</td>\n",
       "      <td>1062</td>\n",
       "      <td>1123</td>\n",
       "      <td>1.440000e-12</td>\n",
       "      <td>52.8</td>\n",
       "    </tr>\n",
       "    <tr>\n",
       "      <th>24</th>\n",
       "      <td>sp|B5KL29|VKT3_OXYSC</td>\n",
       "      <td>sp|P12111|CO6A3_HUMAN</td>\n",
       "      <td>48.077</td>\n",
       "      <td>52</td>\n",
       "      <td>27</td>\n",
       "      <td>0</td>\n",
       "      <td>31</td>\n",
       "      <td>82</td>\n",
       "      <td>3112</td>\n",
       "      <td>3163</td>\n",
       "      <td>6.230000e-17</td>\n",
       "      <td>65.1</td>\n",
       "    </tr>\n",
       "    <tr>\n",
       "      <th>25</th>\n",
       "      <td>sp|P84875|PCPI_SABMA</td>\n",
       "      <td>sp|P10646|TFPI1_HUMAN</td>\n",
       "      <td>33.333</td>\n",
       "      <td>216</td>\n",
       "      <td>92</td>\n",
       "      <td>2</td>\n",
       "      <td>2</td>\n",
       "      <td>165</td>\n",
       "      <td>52</td>\n",
       "      <td>267</td>\n",
       "      <td>5.730000e-37</td>\n",
       "      <td>121.0</td>\n",
       "    </tr>\n",
       "    <tr>\n",
       "      <th>26</th>\n",
       "      <td>sp|O62845|ELAC_MACEU</td>\n",
       "      <td>sp|P12111|CO6A3_HUMAN</td>\n",
       "      <td>39.683</td>\n",
       "      <td>63</td>\n",
       "      <td>38</td>\n",
       "      <td>0</td>\n",
       "      <td>11</td>\n",
       "      <td>73</td>\n",
       "      <td>3100</td>\n",
       "      <td>3162</td>\n",
       "      <td>2.070000e-15</td>\n",
       "      <td>60.5</td>\n",
       "    </tr>\n",
       "    <tr>\n",
       "      <th>27</th>\n",
       "      <td>sp|P0DJ68|VKT45_CYRHA</td>\n",
       "      <td>sp|P12111|CO6A3_HUMAN</td>\n",
       "      <td>42.667</td>\n",
       "      <td>75</td>\n",
       "      <td>36</td>\n",
       "      <td>2</td>\n",
       "      <td>14</td>\n",
       "      <td>86</td>\n",
       "      <td>3094</td>\n",
       "      <td>3163</td>\n",
       "      <td>7.830000e-17</td>\n",
       "      <td>65.1</td>\n",
       "    </tr>\n",
       "    <tr>\n",
       "      <th>28</th>\n",
       "      <td>sp|Q75S49|VKTH4_BUNCA</td>\n",
       "      <td>sp|Q2UY09|COSA1_HUMAN</td>\n",
       "      <td>37.097</td>\n",
       "      <td>62</td>\n",
       "      <td>38</td>\n",
       "      <td>1</td>\n",
       "      <td>20</td>\n",
       "      <td>81</td>\n",
       "      <td>1063</td>\n",
       "      <td>1123</td>\n",
       "      <td>7.000000e-12</td>\n",
       "      <td>50.4</td>\n",
       "    </tr>\n",
       "    <tr>\n",
       "      <th>29</th>\n",
       "      <td>sp|C1IC52|VKT2_WALAE</td>\n",
       "      <td>sp|P12111|CO6A3_HUMAN</td>\n",
       "      <td>44.231</td>\n",
       "      <td>52</td>\n",
       "      <td>29</td>\n",
       "      <td>0</td>\n",
       "      <td>28</td>\n",
       "      <td>79</td>\n",
       "      <td>3111</td>\n",
       "      <td>3162</td>\n",
       "      <td>6.990000e-18</td>\n",
       "      <td>67.4</td>\n",
       "    </tr>\n",
       "    <tr>\n",
       "      <th>...</th>\n",
       "      <td>...</td>\n",
       "      <td>...</td>\n",
       "      <td>...</td>\n",
       "      <td>...</td>\n",
       "      <td>...</td>\n",
       "      <td>...</td>\n",
       "      <td>...</td>\n",
       "      <td>...</td>\n",
       "      <td>...</td>\n",
       "      <td>...</td>\n",
       "      <td>...</td>\n",
       "      <td>...</td>\n",
       "    </tr>\n",
       "    <tr>\n",
       "      <th>311</th>\n",
       "      <td>sp|B2ZBB9|VKTG6_CYRSC</td>\n",
       "      <td>sp|P12111|CO6A3_HUMAN</td>\n",
       "      <td>44.000</td>\n",
       "      <td>75</td>\n",
       "      <td>35</td>\n",
       "      <td>2</td>\n",
       "      <td>14</td>\n",
       "      <td>86</td>\n",
       "      <td>3094</td>\n",
       "      <td>3163</td>\n",
       "      <td>1.410000e-17</td>\n",
       "      <td>67.0</td>\n",
       "    </tr>\n",
       "    <tr>\n",
       "      <th>312</th>\n",
       "      <td>sp|P0DN08|VKT53_ANEVI</td>\n",
       "      <td>sp|Q06481|APLP2_HUMAN</td>\n",
       "      <td>43.333</td>\n",
       "      <td>60</td>\n",
       "      <td>34</td>\n",
       "      <td>0</td>\n",
       "      <td>12</td>\n",
       "      <td>71</td>\n",
       "      <td>301</td>\n",
       "      <td>360</td>\n",
       "      <td>3.210000e-19</td>\n",
       "      <td>71.2</td>\n",
       "    </tr>\n",
       "    <tr>\n",
       "      <th>313</th>\n",
       "      <td>sp|P0DN17|VKTD_ANEVI</td>\n",
       "      <td>sp|O43291|SPIT2_HUMAN</td>\n",
       "      <td>46.377</td>\n",
       "      <td>69</td>\n",
       "      <td>37</td>\n",
       "      <td>0</td>\n",
       "      <td>10</td>\n",
       "      <td>78</td>\n",
       "      <td>27</td>\n",
       "      <td>95</td>\n",
       "      <td>3.330000e-18</td>\n",
       "      <td>67.4</td>\n",
       "    </tr>\n",
       "    <tr>\n",
       "      <th>314</th>\n",
       "      <td>sp|F8J2F4|VKT16_DRYCN</td>\n",
       "      <td>sp|P12111|CO6A3_HUMAN</td>\n",
       "      <td>44.444</td>\n",
       "      <td>54</td>\n",
       "      <td>30</td>\n",
       "      <td>0</td>\n",
       "      <td>29</td>\n",
       "      <td>82</td>\n",
       "      <td>3110</td>\n",
       "      <td>3163</td>\n",
       "      <td>7.070000e-17</td>\n",
       "      <td>64.7</td>\n",
       "    </tr>\n",
       "    <tr>\n",
       "      <th>315</th>\n",
       "      <td>sp|P0DN19|VKTF_ANEVI</td>\n",
       "      <td>sp|P48307|TFPI2_HUMAN</td>\n",
       "      <td>56.863</td>\n",
       "      <td>51</td>\n",
       "      <td>22</td>\n",
       "      <td>0</td>\n",
       "      <td>11</td>\n",
       "      <td>61</td>\n",
       "      <td>36</td>\n",
       "      <td>86</td>\n",
       "      <td>2.050000e-18</td>\n",
       "      <td>67.4</td>\n",
       "    </tr>\n",
       "    <tr>\n",
       "      <th>316</th>\n",
       "      <td>sp|Q64240|AMBP_RAT</td>\n",
       "      <td>sp|P02760|AMBP_HUMAN</td>\n",
       "      <td>76.577</td>\n",
       "      <td>333</td>\n",
       "      <td>77</td>\n",
       "      <td>1</td>\n",
       "      <td>17</td>\n",
       "      <td>348</td>\n",
       "      <td>17</td>\n",
       "      <td>349</td>\n",
       "      <td>0.000000e+00</td>\n",
       "      <td>547.0</td>\n",
       "    </tr>\n",
       "    <tr>\n",
       "      <th>317</th>\n",
       "      <td>sp|P0DN18|VKTE_ANEVI</td>\n",
       "      <td>sp|P12111|CO6A3_HUMAN</td>\n",
       "      <td>50.000</td>\n",
       "      <td>52</td>\n",
       "      <td>26</td>\n",
       "      <td>0</td>\n",
       "      <td>21</td>\n",
       "      <td>72</td>\n",
       "      <td>3112</td>\n",
       "      <td>3163</td>\n",
       "      <td>3.820000e-18</td>\n",
       "      <td>68.2</td>\n",
       "    </tr>\n",
       "    <tr>\n",
       "      <th>318</th>\n",
       "      <td>sp|Q8WPI2|BOOH2_RHIMP</td>\n",
       "      <td>sp|P10646|TFPI1_HUMAN</td>\n",
       "      <td>44.094</td>\n",
       "      <td>127</td>\n",
       "      <td>68</td>\n",
       "      <td>1</td>\n",
       "      <td>18</td>\n",
       "      <td>141</td>\n",
       "      <td>51</td>\n",
       "      <td>177</td>\n",
       "      <td>8.400000e-33</td>\n",
       "      <td>109.0</td>\n",
       "    </tr>\n",
       "    <tr>\n",
       "      <th>319</th>\n",
       "      <td>sp|P0DN20|VKTG_ANEVI</td>\n",
       "      <td>sp|O43291|SPIT2_HUMAN</td>\n",
       "      <td>44.928</td>\n",
       "      <td>69</td>\n",
       "      <td>38</td>\n",
       "      <td>0</td>\n",
       "      <td>8</td>\n",
       "      <td>76</td>\n",
       "      <td>27</td>\n",
       "      <td>95</td>\n",
       "      <td>2.330000e-19</td>\n",
       "      <td>70.5</td>\n",
       "    </tr>\n",
       "    <tr>\n",
       "      <th>320</th>\n",
       "      <td>sp|Q7TQN3|WFKN2_MOUSE</td>\n",
       "      <td>sp|Q8TEU8|WFKN2_HUMAN</td>\n",
       "      <td>91.493</td>\n",
       "      <td>576</td>\n",
       "      <td>44</td>\n",
       "      <td>1</td>\n",
       "      <td>1</td>\n",
       "      <td>571</td>\n",
       "      <td>1</td>\n",
       "      <td>576</td>\n",
       "      <td>0.000000e+00</td>\n",
       "      <td>1080.0</td>\n",
       "    </tr>\n",
       "    <tr>\n",
       "      <th>321</th>\n",
       "      <td>sp|P0DMJ2|VKT3C_ACTEQ</td>\n",
       "      <td>sp|P48307|TFPI2_HUMAN</td>\n",
       "      <td>54.717</td>\n",
       "      <td>53</td>\n",
       "      <td>24</td>\n",
       "      <td>0</td>\n",
       "      <td>5</td>\n",
       "      <td>57</td>\n",
       "      <td>34</td>\n",
       "      <td>86</td>\n",
       "      <td>7.370000e-18</td>\n",
       "      <td>65.1</td>\n",
       "    </tr>\n",
       "    <tr>\n",
       "      <th>322</th>\n",
       "      <td>sp|B4ESA3|VKT2L_BUNMU</td>\n",
       "      <td>sp|P10646|TFPI1_HUMAN</td>\n",
       "      <td>43.103</td>\n",
       "      <td>58</td>\n",
       "      <td>33</td>\n",
       "      <td>0</td>\n",
       "      <td>24</td>\n",
       "      <td>81</td>\n",
       "      <td>118</td>\n",
       "      <td>175</td>\n",
       "      <td>2.450000e-16</td>\n",
       "      <td>62.8</td>\n",
       "    </tr>\n",
       "    <tr>\n",
       "      <th>323</th>\n",
       "      <td>sp|B2ZBB6|VKT11_CYRSC</td>\n",
       "      <td>sp|P12111|CO6A3_HUMAN</td>\n",
       "      <td>43.836</td>\n",
       "      <td>73</td>\n",
       "      <td>33</td>\n",
       "      <td>2</td>\n",
       "      <td>16</td>\n",
       "      <td>86</td>\n",
       "      <td>3097</td>\n",
       "      <td>3163</td>\n",
       "      <td>1.140000e-18</td>\n",
       "      <td>70.1</td>\n",
       "    </tr>\n",
       "    <tr>\n",
       "      <th>324</th>\n",
       "      <td>sp|Q5ZPJ7|VKT_NAJAT</td>\n",
       "      <td>sp|Q2UY09|COSA1_HUMAN</td>\n",
       "      <td>42.857</td>\n",
       "      <td>63</td>\n",
       "      <td>33</td>\n",
       "      <td>2</td>\n",
       "      <td>20</td>\n",
       "      <td>80</td>\n",
       "      <td>1062</td>\n",
       "      <td>1123</td>\n",
       "      <td>1.640000e-14</td>\n",
       "      <td>57.8</td>\n",
       "    </tr>\n",
       "    <tr>\n",
       "      <th>325</th>\n",
       "      <td>sp|P00994|ISIK_HELPO</td>\n",
       "      <td>sp|P10646|TFPI1_HUMAN</td>\n",
       "      <td>46.296</td>\n",
       "      <td>54</td>\n",
       "      <td>29</td>\n",
       "      <td>0</td>\n",
       "      <td>5</td>\n",
       "      <td>58</td>\n",
       "      <td>52</td>\n",
       "      <td>105</td>\n",
       "      <td>1.430000e-17</td>\n",
       "      <td>65.1</td>\n",
       "    </tr>\n",
       "    <tr>\n",
       "      <th>326</th>\n",
       "      <td>sp|P00982|VKTHD_DENAN</td>\n",
       "      <td>sp|P12111|CO6A3_HUMAN</td>\n",
       "      <td>45.098</td>\n",
       "      <td>51</td>\n",
       "      <td>28</td>\n",
       "      <td>0</td>\n",
       "      <td>5</td>\n",
       "      <td>55</td>\n",
       "      <td>3112</td>\n",
       "      <td>3162</td>\n",
       "      <td>1.990000e-14</td>\n",
       "      <td>56.6</td>\n",
       "    </tr>\n",
       "    <tr>\n",
       "      <th>327</th>\n",
       "      <td>sp|C0HJF3|VKT3_HETCR</td>\n",
       "      <td>sp|Q06481|APLP2_HUMAN</td>\n",
       "      <td>49.091</td>\n",
       "      <td>55</td>\n",
       "      <td>28</td>\n",
       "      <td>0</td>\n",
       "      <td>2</td>\n",
       "      <td>56</td>\n",
       "      <td>308</td>\n",
       "      <td>362</td>\n",
       "      <td>8.520000e-20</td>\n",
       "      <td>71.6</td>\n",
       "    </tr>\n",
       "    <tr>\n",
       "      <th>328</th>\n",
       "      <td>sp|B5KL28|VKT4_OXYMI</td>\n",
       "      <td>sp|P12111|CO6A3_HUMAN</td>\n",
       "      <td>46.154</td>\n",
       "      <td>52</td>\n",
       "      <td>28</td>\n",
       "      <td>0</td>\n",
       "      <td>31</td>\n",
       "      <td>82</td>\n",
       "      <td>3112</td>\n",
       "      <td>3163</td>\n",
       "      <td>8.350000e-16</td>\n",
       "      <td>61.6</td>\n",
       "    </tr>\n",
       "    <tr>\n",
       "      <th>329</th>\n",
       "      <td>sp|B5KL27|VKT3_OXYMI</td>\n",
       "      <td>sp|P12111|CO6A3_HUMAN</td>\n",
       "      <td>48.077</td>\n",
       "      <td>52</td>\n",
       "      <td>27</td>\n",
       "      <td>0</td>\n",
       "      <td>31</td>\n",
       "      <td>82</td>\n",
       "      <td>3112</td>\n",
       "      <td>3163</td>\n",
       "      <td>7.650000e-17</td>\n",
       "      <td>64.7</td>\n",
       "    </tr>\n",
       "    <tr>\n",
       "      <th>330</th>\n",
       "      <td>sp|P0CH75|VKT25_CYRHA</td>\n",
       "      <td>sp|P12111|CO6A3_HUMAN</td>\n",
       "      <td>44.118</td>\n",
       "      <td>34</td>\n",
       "      <td>17</td>\n",
       "      <td>1</td>\n",
       "      <td>2</td>\n",
       "      <td>33</td>\n",
       "      <td>3110</td>\n",
       "      <td>3143</td>\n",
       "      <td>1.010000e-09</td>\n",
       "      <td>42.0</td>\n",
       "    </tr>\n",
       "    <tr>\n",
       "      <th>331</th>\n",
       "      <td>sp|Q9TWG0|VKT1_ANESU</td>\n",
       "      <td>sp|P48307|TFPI2_HUMAN</td>\n",
       "      <td>56.863</td>\n",
       "      <td>51</td>\n",
       "      <td>22</td>\n",
       "      <td>0</td>\n",
       "      <td>5</td>\n",
       "      <td>55</td>\n",
       "      <td>36</td>\n",
       "      <td>86</td>\n",
       "      <td>4.620000e-19</td>\n",
       "      <td>68.6</td>\n",
       "    </tr>\n",
       "    <tr>\n",
       "      <th>332</th>\n",
       "      <td>sp|C0HK72|VKT1_HETMG</td>\n",
       "      <td>sp|Q06481|APLP2_HUMAN</td>\n",
       "      <td>48.214</td>\n",
       "      <td>56</td>\n",
       "      <td>29</td>\n",
       "      <td>0</td>\n",
       "      <td>1</td>\n",
       "      <td>56</td>\n",
       "      <td>307</td>\n",
       "      <td>362</td>\n",
       "      <td>1.930000e-20</td>\n",
       "      <td>73.6</td>\n",
       "    </tr>\n",
       "    <tr>\n",
       "      <th>333</th>\n",
       "      <td>sp|F8J2F3|VKT28_DRYCN</td>\n",
       "      <td>sp|P10646|TFPI1_HUMAN</td>\n",
       "      <td>52.830</td>\n",
       "      <td>53</td>\n",
       "      <td>25</td>\n",
       "      <td>0</td>\n",
       "      <td>30</td>\n",
       "      <td>82</td>\n",
       "      <td>53</td>\n",
       "      <td>105</td>\n",
       "      <td>1.740000e-18</td>\n",
       "      <td>68.9</td>\n",
       "    </tr>\n",
       "    <tr>\n",
       "      <th>334</th>\n",
       "      <td>sp|C0HK73|VKT2_HETMG</td>\n",
       "      <td>sp|Q06481|APLP2_HUMAN</td>\n",
       "      <td>49.091</td>\n",
       "      <td>55</td>\n",
       "      <td>28</td>\n",
       "      <td>0</td>\n",
       "      <td>2</td>\n",
       "      <td>56</td>\n",
       "      <td>308</td>\n",
       "      <td>362</td>\n",
       "      <td>9.210000e-20</td>\n",
       "      <td>71.6</td>\n",
       "    </tr>\n",
       "    <tr>\n",
       "      <th>335</th>\n",
       "      <td>sp|Q5IS80|A4_PANTR</td>\n",
       "      <td>sp|P05067|A4_HUMAN</td>\n",
       "      <td>99.870</td>\n",
       "      <td>770</td>\n",
       "      <td>1</td>\n",
       "      <td>0</td>\n",
       "      <td>1</td>\n",
       "      <td>770</td>\n",
       "      <td>1</td>\n",
       "      <td>770</td>\n",
       "      <td>0.000000e+00</td>\n",
       "      <td>1608.0</td>\n",
       "    </tr>\n",
       "    <tr>\n",
       "      <th>336</th>\n",
       "      <td>sp|C0HK74|VKT3_HETMG</td>\n",
       "      <td>sp|Q06481|APLP2_HUMAN</td>\n",
       "      <td>52.727</td>\n",
       "      <td>55</td>\n",
       "      <td>26</td>\n",
       "      <td>0</td>\n",
       "      <td>2</td>\n",
       "      <td>56</td>\n",
       "      <td>308</td>\n",
       "      <td>362</td>\n",
       "      <td>4.310000e-21</td>\n",
       "      <td>75.5</td>\n",
       "    </tr>\n",
       "    <tr>\n",
       "      <th>337</th>\n",
       "      <td>sp|P83609|BMTIA_RHIMP</td>\n",
       "      <td>sp|P02760|AMBP_HUMAN</td>\n",
       "      <td>36.283</td>\n",
       "      <td>113</td>\n",
       "      <td>66</td>\n",
       "      <td>2</td>\n",
       "      <td>9</td>\n",
       "      <td>120</td>\n",
       "      <td>230</td>\n",
       "      <td>337</td>\n",
       "      <td>7.270000e-24</td>\n",
       "      <td>85.5</td>\n",
       "    </tr>\n",
       "    <tr>\n",
       "      <th>338</th>\n",
       "      <td>sp|P00987|VKTH1_BUNMU</td>\n",
       "      <td>sp|Q2UY09|COSA1_HUMAN</td>\n",
       "      <td>37.097</td>\n",
       "      <td>62</td>\n",
       "      <td>38</td>\n",
       "      <td>1</td>\n",
       "      <td>21</td>\n",
       "      <td>82</td>\n",
       "      <td>1063</td>\n",
       "      <td>1123</td>\n",
       "      <td>4.640000e-12</td>\n",
       "      <td>51.2</td>\n",
       "    </tr>\n",
       "    <tr>\n",
       "      <th>339</th>\n",
       "      <td>sp|D3GGZ8|BLI5_HAECO</td>\n",
       "      <td>sp|Q2UY09|COSA1_HUMAN</td>\n",
       "      <td>23.944</td>\n",
       "      <td>71</td>\n",
       "      <td>41</td>\n",
       "      <td>4</td>\n",
       "      <td>125</td>\n",
       "      <td>191</td>\n",
       "      <td>1062</td>\n",
       "      <td>1123</td>\n",
       "      <td>4.500000e-02</td>\n",
       "      <td>25.0</td>\n",
       "    </tr>\n",
       "    <tr>\n",
       "      <th>340</th>\n",
       "      <td>sp|Q63870|CO7A1_MOUSE</td>\n",
       "      <td>sp|Q02388|CO7A1_HUMAN</td>\n",
       "      <td>84.061</td>\n",
       "      <td>2955</td>\n",
       "      <td>447</td>\n",
       "      <td>8</td>\n",
       "      <td>1</td>\n",
       "      <td>2944</td>\n",
       "      <td>1</td>\n",
       "      <td>2942</td>\n",
       "      <td>0.000000e+00</td>\n",
       "      <td>3939.0</td>\n",
       "    </tr>\n",
       "  </tbody>\n",
       "</table>\n",
       "<p>341 rows × 12 columns</p>\n",
       "</div>"
      ],
      "text/plain": [
       "                        0                      1       2     3    4   5    6   \\\n",
       "0    sp|D2Y489|VKT1B_CONCL  sp|Q8TEU8|WFKN2_HUMAN  50.980    51   25   0    7   \n",
       "1    sp|P0C8W3|VKT11_HOFGE  sp|P49223|SPIT3_HUMAN  51.923    52   25   0   29   \n",
       "2     sp|C1IC53|VKT4_WALAE  sp|P12111|CO6A3_HUMAN  45.098    51   28   0   31   \n",
       "3     sp|P00984|VKTE_DENPO  sp|P10646|TFPI1_HUMAN  44.444    54   30   0    5   \n",
       "4     sp|Q2ES48|VKT3_DABRR  sp|P10646|TFPI1_HUMAN  44.828    58   32   0   25   \n",
       "5     sp|P82968|MCPI_MELCP  sp|Q06481|APLP2_HUMAN  44.156    77   40   1  118   \n",
       "6    sp|P0DN06|VKT1A_ANEVI  sp|O43291|SPIT2_HUMAN  46.377    69   37   0   10   \n",
       "7     sp|P81129|VKT2_STIHL  sp|Q06481|APLP2_HUMAN  50.909    55   27   0    1   \n",
       "8    sp|Q7YRQ8|TFPI2_BOVIN  sp|P48307|TFPI2_HUMAN  70.464   237   65   3    1   \n",
       "9     sp|B5KL38|VKT1_AUSSU  sp|P12111|CO6A3_HUMAN  46.296    54   29   0   29   \n",
       "10    sp|A6MFL1|VKT1_DEMVE  sp|P12111|CO6A3_HUMAN  42.593    54   31   0   29   \n",
       "11   sp|P0DJ67|VKT34_CYRHA  sp|P12111|CO6A3_HUMAN  44.000    75   35   2   14   \n",
       "12   sp|D2Y2G2|VKTK1_CYRHA  sp|P12111|CO6A3_HUMAN  42.667    75   36   2   14   \n",
       "13   sp|O54819|TFPI1_MOUSE  sp|P10646|TFPI1_HUMAN  59.310   290  102   4    1   \n",
       "14    sp|Q60559|AMBP_MESAU   sp|P02760|AMBP_HUMAN  77.644   331   73   1   19   \n",
       "15   sp|A8Y7N9|VKTC6_DABSI  sp|P10646|TFPI1_HUMAN  49.123    57   29   0   25   \n",
       "16    sp|C0HJU7|VKT6_HETCR  sp|Q06481|APLP2_HUMAN  48.214    56   29   0    1   \n",
       "17    sp|C0HJU6|VKT5_HETCR  sp|Q06481|APLP2_HUMAN  46.429    56   30   0    1   \n",
       "18    sp|B5KL40|VKT3_AUSSU  sp|P10646|TFPI1_HUMAN  41.538    65   38   0   17   \n",
       "19    sp|Q6ITB4|VKT2_OXYMI  sp|P12111|CO6A3_HUMAN  50.000    54   27   0   29   \n",
       "20    sp|P07481|ISC3_BOMMO  sp|P10646|TFPI1_HUMAN  56.522    46   20   0   16   \n",
       "21     sp|P15943|APLP2_RAT  sp|Q06481|APLP2_HUMAN  92.318   742   51   2   26   \n",
       "22   sp|P0DJ46|VKT21_LYCMC  sp|O43291|SPIT2_HUMAN  50.000    52   26   0   25   \n",
       "23   sp|Q8AY46|VKTHB_BUNCA  sp|Q2UY09|COSA1_HUMAN  38.095    63   38   1   20   \n",
       "24    sp|B5KL29|VKT3_OXYSC  sp|P12111|CO6A3_HUMAN  48.077    52   27   0   31   \n",
       "25    sp|P84875|PCPI_SABMA  sp|P10646|TFPI1_HUMAN  33.333   216   92   2    2   \n",
       "26    sp|O62845|ELAC_MACEU  sp|P12111|CO6A3_HUMAN  39.683    63   38   0   11   \n",
       "27   sp|P0DJ68|VKT45_CYRHA  sp|P12111|CO6A3_HUMAN  42.667    75   36   2   14   \n",
       "28   sp|Q75S49|VKTH4_BUNCA  sp|Q2UY09|COSA1_HUMAN  37.097    62   38   1   20   \n",
       "29    sp|C1IC52|VKT2_WALAE  sp|P12111|CO6A3_HUMAN  44.231    52   29   0   28   \n",
       "..                     ...                    ...     ...   ...  ...  ..  ...   \n",
       "311  sp|B2ZBB9|VKTG6_CYRSC  sp|P12111|CO6A3_HUMAN  44.000    75   35   2   14   \n",
       "312  sp|P0DN08|VKT53_ANEVI  sp|Q06481|APLP2_HUMAN  43.333    60   34   0   12   \n",
       "313   sp|P0DN17|VKTD_ANEVI  sp|O43291|SPIT2_HUMAN  46.377    69   37   0   10   \n",
       "314  sp|F8J2F4|VKT16_DRYCN  sp|P12111|CO6A3_HUMAN  44.444    54   30   0   29   \n",
       "315   sp|P0DN19|VKTF_ANEVI  sp|P48307|TFPI2_HUMAN  56.863    51   22   0   11   \n",
       "316     sp|Q64240|AMBP_RAT   sp|P02760|AMBP_HUMAN  76.577   333   77   1   17   \n",
       "317   sp|P0DN18|VKTE_ANEVI  sp|P12111|CO6A3_HUMAN  50.000    52   26   0   21   \n",
       "318  sp|Q8WPI2|BOOH2_RHIMP  sp|P10646|TFPI1_HUMAN  44.094   127   68   1   18   \n",
       "319   sp|P0DN20|VKTG_ANEVI  sp|O43291|SPIT2_HUMAN  44.928    69   38   0    8   \n",
       "320  sp|Q7TQN3|WFKN2_MOUSE  sp|Q8TEU8|WFKN2_HUMAN  91.493   576   44   1    1   \n",
       "321  sp|P0DMJ2|VKT3C_ACTEQ  sp|P48307|TFPI2_HUMAN  54.717    53   24   0    5   \n",
       "322  sp|B4ESA3|VKT2L_BUNMU  sp|P10646|TFPI1_HUMAN  43.103    58   33   0   24   \n",
       "323  sp|B2ZBB6|VKT11_CYRSC  sp|P12111|CO6A3_HUMAN  43.836    73   33   2   16   \n",
       "324    sp|Q5ZPJ7|VKT_NAJAT  sp|Q2UY09|COSA1_HUMAN  42.857    63   33   2   20   \n",
       "325   sp|P00994|ISIK_HELPO  sp|P10646|TFPI1_HUMAN  46.296    54   29   0    5   \n",
       "326  sp|P00982|VKTHD_DENAN  sp|P12111|CO6A3_HUMAN  45.098    51   28   0    5   \n",
       "327   sp|C0HJF3|VKT3_HETCR  sp|Q06481|APLP2_HUMAN  49.091    55   28   0    2   \n",
       "328   sp|B5KL28|VKT4_OXYMI  sp|P12111|CO6A3_HUMAN  46.154    52   28   0   31   \n",
       "329   sp|B5KL27|VKT3_OXYMI  sp|P12111|CO6A3_HUMAN  48.077    52   27   0   31   \n",
       "330  sp|P0CH75|VKT25_CYRHA  sp|P12111|CO6A3_HUMAN  44.118    34   17   1    2   \n",
       "331   sp|Q9TWG0|VKT1_ANESU  sp|P48307|TFPI2_HUMAN  56.863    51   22   0    5   \n",
       "332   sp|C0HK72|VKT1_HETMG  sp|Q06481|APLP2_HUMAN  48.214    56   29   0    1   \n",
       "333  sp|F8J2F3|VKT28_DRYCN  sp|P10646|TFPI1_HUMAN  52.830    53   25   0   30   \n",
       "334   sp|C0HK73|VKT2_HETMG  sp|Q06481|APLP2_HUMAN  49.091    55   28   0    2   \n",
       "335     sp|Q5IS80|A4_PANTR     sp|P05067|A4_HUMAN  99.870   770    1   0    1   \n",
       "336   sp|C0HK74|VKT3_HETMG  sp|Q06481|APLP2_HUMAN  52.727    55   26   0    2   \n",
       "337  sp|P83609|BMTIA_RHIMP   sp|P02760|AMBP_HUMAN  36.283   113   66   2    9   \n",
       "338  sp|P00987|VKTH1_BUNMU  sp|Q2UY09|COSA1_HUMAN  37.097    62   38   1   21   \n",
       "339   sp|D3GGZ8|BLI5_HAECO  sp|Q2UY09|COSA1_HUMAN  23.944    71   41   4  125   \n",
       "340  sp|Q63870|CO7A1_MOUSE  sp|Q02388|CO7A1_HUMAN  84.061  2955  447   8    1   \n",
       "\n",
       "       7     8     9              10      11  \n",
       "0      57   386   436   5.590000e-16    60.8  \n",
       "1      80    36    87   5.030000e-18    63.9  \n",
       "2      81  3112  3162   1.860000e-17    66.6  \n",
       "3      58    52   105   1.170000e-16    62.8  \n",
       "4      82   119   176   6.740000e-18    67.4  \n",
       "5     194   287   360   4.030000e-17    70.1  \n",
       "6      78    27    95   2.910000e-19    70.1  \n",
       "7      55   308   362   5.310000e-20    72.0  \n",
       "8     234     1   235  1.450000e-109   306.0  \n",
       "9      82  3110  3163   9.760000e-17    64.3  \n",
       "10     82  3110  3163   5.710000e-17    65.1  \n",
       "11     86  3094  3163   5.010000e-18    68.2  \n",
       "12     86  3094  3163   7.830000e-17    65.1  \n",
       "13    286     1   278  1.500000e-117   332.0  \n",
       "14    348    19   349   0.000000e+00   550.0  \n",
       "15     81   119   175   1.290000e-18    69.7  \n",
       "16     56   307   362   1.930000e-20    73.6  \n",
       "17     56   307   362   5.180000e-20    72.4  \n",
       "18     81   111   175   8.610000e-17    64.3  \n",
       "19     82  3110  3163   2.160000e-18    68.9  \n",
       "20     61   130   175   2.770000e-14    56.2  \n",
       "21    765    26   763   0.000000e+00  1340.0  \n",
       "22     76    38    89   2.190000e-16    62.4  \n",
       "23     82  1062  1123   1.440000e-12    52.8  \n",
       "24     82  3112  3163   6.230000e-17    65.1  \n",
       "25    165    52   267   5.730000e-37   121.0  \n",
       "26     73  3100  3162   2.070000e-15    60.5  \n",
       "27     86  3094  3163   7.830000e-17    65.1  \n",
       "28     81  1063  1123   7.000000e-12    50.4  \n",
       "29     79  3111  3162   6.990000e-18    67.4  \n",
       "..    ...   ...   ...            ...     ...  \n",
       "311    86  3094  3163   1.410000e-17    67.0  \n",
       "312    71   301   360   3.210000e-19    71.2  \n",
       "313    78    27    95   3.330000e-18    67.4  \n",
       "314    82  3110  3163   7.070000e-17    64.7  \n",
       "315    61    36    86   2.050000e-18    67.4  \n",
       "316   348    17   349   0.000000e+00   547.0  \n",
       "317    72  3112  3163   3.820000e-18    68.2  \n",
       "318   141    51   177   8.400000e-33   109.0  \n",
       "319    76    27    95   2.330000e-19    70.5  \n",
       "320   571     1   576   0.000000e+00  1080.0  \n",
       "321    57    34    86   7.370000e-18    65.1  \n",
       "322    81   118   175   2.450000e-16    62.8  \n",
       "323    86  3097  3163   1.140000e-18    70.1  \n",
       "324    80  1062  1123   1.640000e-14    57.8  \n",
       "325    58    52   105   1.430000e-17    65.1  \n",
       "326    55  3112  3162   1.990000e-14    56.6  \n",
       "327    56   308   362   8.520000e-20    71.6  \n",
       "328    82  3112  3163   8.350000e-16    61.6  \n",
       "329    82  3112  3163   7.650000e-17    64.7  \n",
       "330    33  3110  3143   1.010000e-09    42.0  \n",
       "331    55    36    86   4.620000e-19    68.6  \n",
       "332    56   307   362   1.930000e-20    73.6  \n",
       "333    82    53   105   1.740000e-18    68.9  \n",
       "334    56   308   362   9.210000e-20    71.6  \n",
       "335   770     1   770   0.000000e+00  1608.0  \n",
       "336    56   308   362   4.310000e-21    75.5  \n",
       "337   120   230   337   7.270000e-24    85.5  \n",
       "338    82  1063  1123   4.640000e-12    51.2  \n",
       "339   191  1062  1123   4.500000e-02    25.0  \n",
       "340  2944     1  2942   0.000000e+00  3939.0  \n",
       "\n",
       "[341 rows x 12 columns]"
      ]
     },
     "execution_count": 56,
     "metadata": {},
     "output_type": "execute_result"
    }
   ],
   "source": [
    "p_train_df"
   ]
  },
  {
   "cell_type": "code",
   "execution_count": 57,
   "metadata": {},
   "outputs": [
    {
     "data": {
      "text/html": [
       "<div>\n",
       "<style scoped>\n",
       "    .dataframe tbody tr th:only-of-type {\n",
       "        vertical-align: middle;\n",
       "    }\n",
       "\n",
       "    .dataframe tbody tr th {\n",
       "        vertical-align: top;\n",
       "    }\n",
       "\n",
       "    .dataframe thead th {\n",
       "        text-align: right;\n",
       "    }\n",
       "</style>\n",
       "<table border=\"1\" class=\"dataframe\">\n",
       "  <thead>\n",
       "    <tr style=\"text-align: right;\">\n",
       "      <th></th>\n",
       "      <th>0</th>\n",
       "      <th>1</th>\n",
       "      <th>2</th>\n",
       "      <th>3</th>\n",
       "      <th>4</th>\n",
       "      <th>5</th>\n",
       "      <th>6</th>\n",
       "      <th>7</th>\n",
       "      <th>8</th>\n",
       "      <th>9</th>\n",
       "      <th>10</th>\n",
       "      <th>11</th>\n",
       "    </tr>\n",
       "  </thead>\n",
       "  <tbody>\n",
       "    <tr>\n",
       "      <th>0</th>\n",
       "      <td>sp|Q8TF65|GIPC2_HUMAN</td>\n",
       "      <td>sp|P12111|CO6A3_HUMAN</td>\n",
       "      <td>30.769</td>\n",
       "      <td>26</td>\n",
       "      <td>18</td>\n",
       "      <td>0</td>\n",
       "      <td>56</td>\n",
       "      <td>81</td>\n",
       "      <td>1448</td>\n",
       "      <td>1473</td>\n",
       "      <td>0.700</td>\n",
       "      <td>22.3</td>\n",
       "    </tr>\n",
       "    <tr>\n",
       "      <th>1</th>\n",
       "      <td>sp|A8MT69|CENPX_HUMAN</td>\n",
       "      <td>sp|P12111|CO6A3_HUMAN</td>\n",
       "      <td>41.176</td>\n",
       "      <td>17</td>\n",
       "      <td>10</td>\n",
       "      <td>0</td>\n",
       "      <td>6</td>\n",
       "      <td>22</td>\n",
       "      <td>180</td>\n",
       "      <td>196</td>\n",
       "      <td>5.300</td>\n",
       "      <td>16.9</td>\n",
       "    </tr>\n",
       "    <tr>\n",
       "      <th>2</th>\n",
       "      <td>sp|Q70IA6|MOB2_HUMAN</td>\n",
       "      <td>sp|P12111|CO6A3_HUMAN</td>\n",
       "      <td>31.579</td>\n",
       "      <td>57</td>\n",
       "      <td>36</td>\n",
       "      <td>2</td>\n",
       "      <td>23</td>\n",
       "      <td>76</td>\n",
       "      <td>1754</td>\n",
       "      <td>1810</td>\n",
       "      <td>1.600</td>\n",
       "      <td>20.8</td>\n",
       "    </tr>\n",
       "    <tr>\n",
       "      <th>3</th>\n",
       "      <td>sp|Q96MY7|F161B_HUMAN</td>\n",
       "      <td>sp|Q02388|CO7A1_HUMAN</td>\n",
       "      <td>22.917</td>\n",
       "      <td>48</td>\n",
       "      <td>37</td>\n",
       "      <td>0</td>\n",
       "      <td>65</td>\n",
       "      <td>112</td>\n",
       "      <td>1171</td>\n",
       "      <td>1218</td>\n",
       "      <td>0.068</td>\n",
       "      <td>26.6</td>\n",
       "    </tr>\n",
       "    <tr>\n",
       "      <th>4</th>\n",
       "      <td>sp|Q9NVX2|NLE1_HUMAN</td>\n",
       "      <td>sp|O95428|PPN_HUMAN</td>\n",
       "      <td>41.176</td>\n",
       "      <td>34</td>\n",
       "      <td>15</td>\n",
       "      <td>1</td>\n",
       "      <td>225</td>\n",
       "      <td>258</td>\n",
       "      <td>151</td>\n",
       "      <td>179</td>\n",
       "      <td>0.200</td>\n",
       "      <td>24.6</td>\n",
       "    </tr>\n",
       "    <tr>\n",
       "      <th>5</th>\n",
       "      <td>sp|Q9NXV6|CARF_HUMAN</td>\n",
       "      <td>sp|P12111|CO6A3_HUMAN</td>\n",
       "      <td>24.194</td>\n",
       "      <td>186</td>\n",
       "      <td>121</td>\n",
       "      <td>7</td>\n",
       "      <td>248</td>\n",
       "      <td>425</td>\n",
       "      <td>122</td>\n",
       "      <td>295</td>\n",
       "      <td>0.270</td>\n",
       "      <td>24.6</td>\n",
       "    </tr>\n",
       "    <tr>\n",
       "      <th>6</th>\n",
       "      <td>sp|Q96J66|ABCCB_HUMAN</td>\n",
       "      <td>sp|P12111|CO6A3_HUMAN</td>\n",
       "      <td>24.272</td>\n",
       "      <td>103</td>\n",
       "      <td>65</td>\n",
       "      <td>5</td>\n",
       "      <td>1</td>\n",
       "      <td>90</td>\n",
       "      <td>2269</td>\n",
       "      <td>2371</td>\n",
       "      <td>0.640</td>\n",
       "      <td>24.6</td>\n",
       "    </tr>\n",
       "    <tr>\n",
       "      <th>7</th>\n",
       "      <td>sp|Q96BM1|ANKR9_HUMAN</td>\n",
       "      <td>sp|Q02388|CO7A1_HUMAN</td>\n",
       "      <td>27.778</td>\n",
       "      <td>72</td>\n",
       "      <td>49</td>\n",
       "      <td>2</td>\n",
       "      <td>77</td>\n",
       "      <td>148</td>\n",
       "      <td>844</td>\n",
       "      <td>912</td>\n",
       "      <td>1.200</td>\n",
       "      <td>21.6</td>\n",
       "    </tr>\n",
       "    <tr>\n",
       "      <th>8</th>\n",
       "      <td>sp|P60411|KR109_HUMAN</td>\n",
       "      <td>sp|Q2UY09|COSA1_HUMAN</td>\n",
       "      <td>34.783</td>\n",
       "      <td>23</td>\n",
       "      <td>15</td>\n",
       "      <td>0</td>\n",
       "      <td>45</td>\n",
       "      <td>67</td>\n",
       "      <td>1059</td>\n",
       "      <td>1081</td>\n",
       "      <td>8.200</td>\n",
       "      <td>18.5</td>\n",
       "    </tr>\n",
       "    <tr>\n",
       "      <th>9</th>\n",
       "      <td>sp|P07510|ACHG_HUMAN</td>\n",
       "      <td>sp|Q02388|CO7A1_HUMAN</td>\n",
       "      <td>63.636</td>\n",
       "      <td>11</td>\n",
       "      <td>4</td>\n",
       "      <td>0</td>\n",
       "      <td>501</td>\n",
       "      <td>511</td>\n",
       "      <td>1577</td>\n",
       "      <td>1587</td>\n",
       "      <td>2.000</td>\n",
       "      <td>21.6</td>\n",
       "    </tr>\n",
       "    <tr>\n",
       "      <th>10</th>\n",
       "      <td>sp|Q12849|GRSF1_HUMAN</td>\n",
       "      <td>sp|O95428|PPN_HUMAN</td>\n",
       "      <td>34.615</td>\n",
       "      <td>26</td>\n",
       "      <td>17</td>\n",
       "      <td>0</td>\n",
       "      <td>297</td>\n",
       "      <td>322</td>\n",
       "      <td>1236</td>\n",
       "      <td>1261</td>\n",
       "      <td>0.480</td>\n",
       "      <td>23.5</td>\n",
       "    </tr>\n",
       "    <tr>\n",
       "      <th>11</th>\n",
       "      <td>sp|Q6UWW8|EST3_HUMAN</td>\n",
       "      <td>sp|P05067|A4_HUMAN</td>\n",
       "      <td>29.730</td>\n",
       "      <td>74</td>\n",
       "      <td>36</td>\n",
       "      <td>4</td>\n",
       "      <td>484</td>\n",
       "      <td>547</td>\n",
       "      <td>445</td>\n",
       "      <td>512</td>\n",
       "      <td>2.800</td>\n",
       "      <td>21.2</td>\n",
       "    </tr>\n",
       "    <tr>\n",
       "      <th>12</th>\n",
       "      <td>sp|P54851|EMP2_HUMAN</td>\n",
       "      <td>sp|P12111|CO6A3_HUMAN</td>\n",
       "      <td>45.000</td>\n",
       "      <td>20</td>\n",
       "      <td>11</td>\n",
       "      <td>0</td>\n",
       "      <td>16</td>\n",
       "      <td>35</td>\n",
       "      <td>36</td>\n",
       "      <td>55</td>\n",
       "      <td>0.290</td>\n",
       "      <td>22.3</td>\n",
       "    </tr>\n",
       "    <tr>\n",
       "      <th>13</th>\n",
       "      <td>sp|Q70Z53|F10C1_HUMAN</td>\n",
       "      <td>sp|Q06481|APLP2_HUMAN</td>\n",
       "      <td>37.931</td>\n",
       "      <td>29</td>\n",
       "      <td>18</td>\n",
       "      <td>0</td>\n",
       "      <td>226</td>\n",
       "      <td>254</td>\n",
       "      <td>398</td>\n",
       "      <td>426</td>\n",
       "      <td>0.670</td>\n",
       "      <td>22.3</td>\n",
       "    </tr>\n",
       "    <tr>\n",
       "      <th>14</th>\n",
       "      <td>sp|Q99607|ELF4_HUMAN</td>\n",
       "      <td>sp|O95428|PPN_HUMAN</td>\n",
       "      <td>29.167</td>\n",
       "      <td>48</td>\n",
       "      <td>34</td>\n",
       "      <td>0</td>\n",
       "      <td>598</td>\n",
       "      <td>645</td>\n",
       "      <td>807</td>\n",
       "      <td>854</td>\n",
       "      <td>2.800</td>\n",
       "      <td>21.6</td>\n",
       "    </tr>\n",
       "    <tr>\n",
       "      <th>15</th>\n",
       "      <td>sp|Q9Y3D9|RT23_HUMAN</td>\n",
       "      <td>sp|O43278|SPIT1_HUMAN</td>\n",
       "      <td>23.529</td>\n",
       "      <td>17</td>\n",
       "      <td>13</td>\n",
       "      <td>0</td>\n",
       "      <td>93</td>\n",
       "      <td>109</td>\n",
       "      <td>366</td>\n",
       "      <td>382</td>\n",
       "      <td>6.300</td>\n",
       "      <td>18.1</td>\n",
       "    </tr>\n",
       "    <tr>\n",
       "      <th>16</th>\n",
       "      <td>sp|Q8N128|F177A_HUMAN</td>\n",
       "      <td>sp|P49223|SPIT3_HUMAN</td>\n",
       "      <td>38.462</td>\n",
       "      <td>26</td>\n",
       "      <td>11</td>\n",
       "      <td>2</td>\n",
       "      <td>82</td>\n",
       "      <td>102</td>\n",
       "      <td>29</td>\n",
       "      <td>54</td>\n",
       "      <td>2.300</td>\n",
       "      <td>18.9</td>\n",
       "    </tr>\n",
       "    <tr>\n",
       "      <th>17</th>\n",
       "      <td>sp|Q9BZD3|GCOM2_HUMAN</td>\n",
       "      <td>sp|Q2UY09|COSA1_HUMAN</td>\n",
       "      <td>30.233</td>\n",
       "      <td>43</td>\n",
       "      <td>28</td>\n",
       "      <td>2</td>\n",
       "      <td>203</td>\n",
       "      <td>244</td>\n",
       "      <td>552</td>\n",
       "      <td>593</td>\n",
       "      <td>2.800</td>\n",
       "      <td>20.4</td>\n",
       "    </tr>\n",
       "    <tr>\n",
       "      <th>18</th>\n",
       "      <td>sp|Q8WWF6|DNJB3_HUMAN</td>\n",
       "      <td>sp|P12111|CO6A3_HUMAN</td>\n",
       "      <td>45.455</td>\n",
       "      <td>22</td>\n",
       "      <td>10</td>\n",
       "      <td>1</td>\n",
       "      <td>124</td>\n",
       "      <td>143</td>\n",
       "      <td>3146</td>\n",
       "      <td>3167</td>\n",
       "      <td>0.580</td>\n",
       "      <td>21.2</td>\n",
       "    </tr>\n",
       "    <tr>\n",
       "      <th>19</th>\n",
       "      <td>sp|Q9NR80|ARHG4_HUMAN</td>\n",
       "      <td>sp|Q8IUA0|WFDC8_HUMAN</td>\n",
       "      <td>20.896</td>\n",
       "      <td>67</td>\n",
       "      <td>49</td>\n",
       "      <td>1</td>\n",
       "      <td>405</td>\n",
       "      <td>467</td>\n",
       "      <td>72</td>\n",
       "      <td>138</td>\n",
       "      <td>1.900</td>\n",
       "      <td>21.6</td>\n",
       "    </tr>\n",
       "    <tr>\n",
       "      <th>20</th>\n",
       "      <td>sp|P09467|F16P1_HUMAN</td>\n",
       "      <td>sp|Q8IUA0|WFDC8_HUMAN</td>\n",
       "      <td>25.000</td>\n",
       "      <td>68</td>\n",
       "      <td>45</td>\n",
       "      <td>3</td>\n",
       "      <td>94</td>\n",
       "      <td>159</td>\n",
       "      <td>38</td>\n",
       "      <td>101</td>\n",
       "      <td>8.200</td>\n",
       "      <td>18.5</td>\n",
       "    </tr>\n",
       "    <tr>\n",
       "      <th>21</th>\n",
       "      <td>sp|Q9BU89|DOHH_HUMAN</td>\n",
       "      <td>sp|P05067|A4_HUMAN</td>\n",
       "      <td>42.105</td>\n",
       "      <td>19</td>\n",
       "      <td>11</td>\n",
       "      <td>0</td>\n",
       "      <td>14</td>\n",
       "      <td>32</td>\n",
       "      <td>517</td>\n",
       "      <td>535</td>\n",
       "      <td>2.800</td>\n",
       "      <td>20.0</td>\n",
       "    </tr>\n",
       "    <tr>\n",
       "      <th>22</th>\n",
       "      <td>sp|P61923|COPZ1_HUMAN</td>\n",
       "      <td>sp|P12111|CO6A3_HUMAN</td>\n",
       "      <td>29.412</td>\n",
       "      <td>17</td>\n",
       "      <td>12</td>\n",
       "      <td>0</td>\n",
       "      <td>24</td>\n",
       "      <td>40</td>\n",
       "      <td>491</td>\n",
       "      <td>507</td>\n",
       "      <td>10.000</td>\n",
       "      <td>17.3</td>\n",
       "    </tr>\n",
       "    <tr>\n",
       "      <th>23</th>\n",
       "      <td>sp|Q96M60|F227B_HUMAN</td>\n",
       "      <td>sp|P02760|AMBP_HUMAN</td>\n",
       "      <td>38.710</td>\n",
       "      <td>31</td>\n",
       "      <td>15</td>\n",
       "      <td>2</td>\n",
       "      <td>104</td>\n",
       "      <td>132</td>\n",
       "      <td>85</td>\n",
       "      <td>113</td>\n",
       "      <td>1.300</td>\n",
       "      <td>21.9</td>\n",
       "    </tr>\n",
       "    <tr>\n",
       "      <th>24</th>\n",
       "      <td>sp|Q8TDL5|BPIB1_HUMAN</td>\n",
       "      <td>sp|O95428|PPN_HUMAN</td>\n",
       "      <td>26.471</td>\n",
       "      <td>102</td>\n",
       "      <td>64</td>\n",
       "      <td>3</td>\n",
       "      <td>222</td>\n",
       "      <td>318</td>\n",
       "      <td>949</td>\n",
       "      <td>1044</td>\n",
       "      <td>0.096</td>\n",
       "      <td>25.8</td>\n",
       "    </tr>\n",
       "    <tr>\n",
       "      <th>25</th>\n",
       "      <td>sp|Q96QD9|UIF_HUMAN</td>\n",
       "      <td>sp|P02760|AMBP_HUMAN</td>\n",
       "      <td>21.250</td>\n",
       "      <td>80</td>\n",
       "      <td>53</td>\n",
       "      <td>3</td>\n",
       "      <td>30</td>\n",
       "      <td>102</td>\n",
       "      <td>123</td>\n",
       "      <td>199</td>\n",
       "      <td>0.240</td>\n",
       "      <td>23.5</td>\n",
       "    </tr>\n",
       "    <tr>\n",
       "      <th>26</th>\n",
       "      <td>sp|Q99683|M3K5_HUMAN</td>\n",
       "      <td>sp|O95428|PPN_HUMAN</td>\n",
       "      <td>21.429</td>\n",
       "      <td>56</td>\n",
       "      <td>38</td>\n",
       "      <td>1</td>\n",
       "      <td>1058</td>\n",
       "      <td>1107</td>\n",
       "      <td>1045</td>\n",
       "      <td>1100</td>\n",
       "      <td>5.900</td>\n",
       "      <td>21.6</td>\n",
       "    </tr>\n",
       "    <tr>\n",
       "      <th>27</th>\n",
       "      <td>sp|O75493|CAH11_HUMAN</td>\n",
       "      <td>sp|P12111|CO6A3_HUMAN</td>\n",
       "      <td>26.923</td>\n",
       "      <td>26</td>\n",
       "      <td>19</td>\n",
       "      <td>0</td>\n",
       "      <td>214</td>\n",
       "      <td>239</td>\n",
       "      <td>1688</td>\n",
       "      <td>1713</td>\n",
       "      <td>1.300</td>\n",
       "      <td>21.6</td>\n",
       "    </tr>\n",
       "    <tr>\n",
       "      <th>28</th>\n",
       "      <td>sp|Q10469|MGAT2_HUMAN</td>\n",
       "      <td>sp|Q9BQY6|WFDC6_HUMAN</td>\n",
       "      <td>50.000</td>\n",
       "      <td>10</td>\n",
       "      <td>5</td>\n",
       "      <td>0</td>\n",
       "      <td>191</td>\n",
       "      <td>200</td>\n",
       "      <td>49</td>\n",
       "      <td>58</td>\n",
       "      <td>2.300</td>\n",
       "      <td>20.4</td>\n",
       "    </tr>\n",
       "    <tr>\n",
       "      <th>29</th>\n",
       "      <td>sp|Q8N144|CXD3_HUMAN</td>\n",
       "      <td>sp|P12111|CO6A3_HUMAN</td>\n",
       "      <td>40.000</td>\n",
       "      <td>15</td>\n",
       "      <td>9</td>\n",
       "      <td>0</td>\n",
       "      <td>240</td>\n",
       "      <td>254</td>\n",
       "      <td>1622</td>\n",
       "      <td>1636</td>\n",
       "      <td>1.400</td>\n",
       "      <td>21.2</td>\n",
       "    </tr>\n",
       "    <tr>\n",
       "      <th>...</th>\n",
       "      <td>...</td>\n",
       "      <td>...</td>\n",
       "      <td>...</td>\n",
       "      <td>...</td>\n",
       "      <td>...</td>\n",
       "      <td>...</td>\n",
       "      <td>...</td>\n",
       "      <td>...</td>\n",
       "      <td>...</td>\n",
       "      <td>...</td>\n",
       "      <td>...</td>\n",
       "      <td>...</td>\n",
       "    </tr>\n",
       "    <tr>\n",
       "      <th>9968</th>\n",
       "      <td>sp|Q6P531|GGT6_HUMAN</td>\n",
       "      <td>sp|P12111|CO6A3_HUMAN</td>\n",
       "      <td>32.727</td>\n",
       "      <td>55</td>\n",
       "      <td>36</td>\n",
       "      <td>1</td>\n",
       "      <td>168</td>\n",
       "      <td>221</td>\n",
       "      <td>777</td>\n",
       "      <td>831</td>\n",
       "      <td>2.400</td>\n",
       "      <td>21.2</td>\n",
       "    </tr>\n",
       "    <tr>\n",
       "      <th>9969</th>\n",
       "      <td>sp|Q02641|CACB1_HUMAN</td>\n",
       "      <td>sp|Q2UY09|COSA1_HUMAN</td>\n",
       "      <td>22.105</td>\n",
       "      <td>95</td>\n",
       "      <td>57</td>\n",
       "      <td>3</td>\n",
       "      <td>316</td>\n",
       "      <td>399</td>\n",
       "      <td>153</td>\n",
       "      <td>241</td>\n",
       "      <td>4.300</td>\n",
       "      <td>20.8</td>\n",
       "    </tr>\n",
       "    <tr>\n",
       "      <th>9970</th>\n",
       "      <td>sp|A8MTY7|KRA97_HUMAN</td>\n",
       "      <td>sp|O95428|PPN_HUMAN</td>\n",
       "      <td>43.750</td>\n",
       "      <td>16</td>\n",
       "      <td>9</td>\n",
       "      <td>0</td>\n",
       "      <td>20</td>\n",
       "      <td>35</td>\n",
       "      <td>526</td>\n",
       "      <td>541</td>\n",
       "      <td>14.000</td>\n",
       "      <td>16.9</td>\n",
       "    </tr>\n",
       "    <tr>\n",
       "      <th>9971</th>\n",
       "      <td>sp|P16562|CRIS2_HUMAN</td>\n",
       "      <td>sp|O43278|SPIT1_HUMAN</td>\n",
       "      <td>33.333</td>\n",
       "      <td>54</td>\n",
       "      <td>34</td>\n",
       "      <td>2</td>\n",
       "      <td>171</td>\n",
       "      <td>224</td>\n",
       "      <td>319</td>\n",
       "      <td>370</td>\n",
       "      <td>0.320</td>\n",
       "      <td>22.7</td>\n",
       "    </tr>\n",
       "    <tr>\n",
       "      <th>9972</th>\n",
       "      <td>sp|P33076|C2TA_HUMAN</td>\n",
       "      <td>sp|Q8TEU8|WFKN2_HUMAN</td>\n",
       "      <td>41.379</td>\n",
       "      <td>29</td>\n",
       "      <td>15</td>\n",
       "      <td>1</td>\n",
       "      <td>256</td>\n",
       "      <td>284</td>\n",
       "      <td>177</td>\n",
       "      <td>203</td>\n",
       "      <td>2.400</td>\n",
       "      <td>22.3</td>\n",
       "    </tr>\n",
       "    <tr>\n",
       "      <th>9973</th>\n",
       "      <td>sp|Q7L5Y1|ENOF1_HUMAN</td>\n",
       "      <td>sp|Q6UDR6|SPIT4_HUMAN</td>\n",
       "      <td>32.000</td>\n",
       "      <td>25</td>\n",
       "      <td>17</td>\n",
       "      <td>0</td>\n",
       "      <td>65</td>\n",
       "      <td>89</td>\n",
       "      <td>14</td>\n",
       "      <td>38</td>\n",
       "      <td>3.600</td>\n",
       "      <td>19.6</td>\n",
       "    </tr>\n",
       "    <tr>\n",
       "      <th>9974</th>\n",
       "      <td>sp|Q05586|NMDZ1_HUMAN</td>\n",
       "      <td>sp|O95428|PPN_HUMAN</td>\n",
       "      <td>20.930</td>\n",
       "      <td>86</td>\n",
       "      <td>59</td>\n",
       "      <td>2</td>\n",
       "      <td>253</td>\n",
       "      <td>330</td>\n",
       "      <td>1173</td>\n",
       "      <td>1257</td>\n",
       "      <td>3.800</td>\n",
       "      <td>21.6</td>\n",
       "    </tr>\n",
       "    <tr>\n",
       "      <th>9975</th>\n",
       "      <td>sp|A8MXT2|MAGBH_HUMAN</td>\n",
       "      <td>sp|O95428|PPN_HUMAN</td>\n",
       "      <td>33.333</td>\n",
       "      <td>24</td>\n",
       "      <td>16</td>\n",
       "      <td>0</td>\n",
       "      <td>231</td>\n",
       "      <td>254</td>\n",
       "      <td>129</td>\n",
       "      <td>152</td>\n",
       "      <td>3.800</td>\n",
       "      <td>20.0</td>\n",
       "    </tr>\n",
       "    <tr>\n",
       "      <th>9976</th>\n",
       "      <td>sp|Q6MZM0|HPHL1_HUMAN</td>\n",
       "      <td>sp|O95428|PPN_HUMAN</td>\n",
       "      <td>23.684</td>\n",
       "      <td>76</td>\n",
       "      <td>54</td>\n",
       "      <td>1</td>\n",
       "      <td>669</td>\n",
       "      <td>740</td>\n",
       "      <td>599</td>\n",
       "      <td>674</td>\n",
       "      <td>1.300</td>\n",
       "      <td>23.5</td>\n",
       "    </tr>\n",
       "    <tr>\n",
       "      <th>9977</th>\n",
       "      <td>sp|A2A2V5|SRTM1_HUMAN</td>\n",
       "      <td>sp|P05067|A4_HUMAN</td>\n",
       "      <td>33.333</td>\n",
       "      <td>36</td>\n",
       "      <td>20</td>\n",
       "      <td>1</td>\n",
       "      <td>1</td>\n",
       "      <td>32</td>\n",
       "      <td>581</td>\n",
       "      <td>616</td>\n",
       "      <td>16.000</td>\n",
       "      <td>16.2</td>\n",
       "    </tr>\n",
       "    <tr>\n",
       "      <th>9978</th>\n",
       "      <td>sp|Q53FE4|CD017_HUMAN</td>\n",
       "      <td>sp|P12111|CO6A3_HUMAN</td>\n",
       "      <td>45.455</td>\n",
       "      <td>22</td>\n",
       "      <td>12</td>\n",
       "      <td>0</td>\n",
       "      <td>232</td>\n",
       "      <td>253</td>\n",
       "      <td>1608</td>\n",
       "      <td>1629</td>\n",
       "      <td>0.280</td>\n",
       "      <td>23.9</td>\n",
       "    </tr>\n",
       "    <tr>\n",
       "      <th>9979</th>\n",
       "      <td>sp|Q9H9E1|ANRA2_HUMAN</td>\n",
       "      <td>sp|Q02388|CO7A1_HUMAN</td>\n",
       "      <td>39.130</td>\n",
       "      <td>23</td>\n",
       "      <td>14</td>\n",
       "      <td>0</td>\n",
       "      <td>107</td>\n",
       "      <td>129</td>\n",
       "      <td>1158</td>\n",
       "      <td>1180</td>\n",
       "      <td>2.500</td>\n",
       "      <td>20.4</td>\n",
       "    </tr>\n",
       "    <tr>\n",
       "      <th>9980</th>\n",
       "      <td>sp|Q3B7J2|GFOD2_HUMAN</td>\n",
       "      <td>sp|P12111|CO6A3_HUMAN</td>\n",
       "      <td>26.000</td>\n",
       "      <td>100</td>\n",
       "      <td>56</td>\n",
       "      <td>5</td>\n",
       "      <td>11</td>\n",
       "      <td>106</td>\n",
       "      <td>1714</td>\n",
       "      <td>1799</td>\n",
       "      <td>6.000</td>\n",
       "      <td>19.6</td>\n",
       "    </tr>\n",
       "    <tr>\n",
       "      <th>9981</th>\n",
       "      <td>sp|P20674|COX5A_HUMAN</td>\n",
       "      <td>sp|Q8TEU8|WFKN2_HUMAN</td>\n",
       "      <td>40.909</td>\n",
       "      <td>22</td>\n",
       "      <td>13</td>\n",
       "      <td>0</td>\n",
       "      <td>57</td>\n",
       "      <td>78</td>\n",
       "      <td>151</td>\n",
       "      <td>172</td>\n",
       "      <td>0.550</td>\n",
       "      <td>21.2</td>\n",
       "    </tr>\n",
       "    <tr>\n",
       "      <th>9982</th>\n",
       "      <td>sp|Q2QL34|MP17L_HUMAN</td>\n",
       "      <td>sp|O95428|PPN_HUMAN</td>\n",
       "      <td>50.000</td>\n",
       "      <td>12</td>\n",
       "      <td>6</td>\n",
       "      <td>0</td>\n",
       "      <td>11</td>\n",
       "      <td>22</td>\n",
       "      <td>846</td>\n",
       "      <td>857</td>\n",
       "      <td>2.900</td>\n",
       "      <td>19.2</td>\n",
       "    </tr>\n",
       "    <tr>\n",
       "      <th>9983</th>\n",
       "      <td>sp|Q9HD15|SRA1_HUMAN</td>\n",
       "      <td>sp|Q02388|CO7A1_HUMAN</td>\n",
       "      <td>34.211</td>\n",
       "      <td>38</td>\n",
       "      <td>15</td>\n",
       "      <td>1</td>\n",
       "      <td>57</td>\n",
       "      <td>94</td>\n",
       "      <td>1451</td>\n",
       "      <td>1478</td>\n",
       "      <td>1.500</td>\n",
       "      <td>20.8</td>\n",
       "    </tr>\n",
       "    <tr>\n",
       "      <th>9984</th>\n",
       "      <td>sp|Q70Z44|5HT3D_HUMAN</td>\n",
       "      <td>sp|P12111|CO6A3_HUMAN</td>\n",
       "      <td>34.615</td>\n",
       "      <td>26</td>\n",
       "      <td>15</td>\n",
       "      <td>1</td>\n",
       "      <td>356</td>\n",
       "      <td>379</td>\n",
       "      <td>2031</td>\n",
       "      <td>2056</td>\n",
       "      <td>1.000</td>\n",
       "      <td>22.3</td>\n",
       "    </tr>\n",
       "    <tr>\n",
       "      <th>9985</th>\n",
       "      <td>sp|A8MUP2|CSKMT_HUMAN</td>\n",
       "      <td>sp|Q02388|CO7A1_HUMAN</td>\n",
       "      <td>40.909</td>\n",
       "      <td>22</td>\n",
       "      <td>13</td>\n",
       "      <td>0</td>\n",
       "      <td>126</td>\n",
       "      <td>147</td>\n",
       "      <td>1044</td>\n",
       "      <td>1065</td>\n",
       "      <td>3.100</td>\n",
       "      <td>19.6</td>\n",
       "    </tr>\n",
       "    <tr>\n",
       "      <th>9986</th>\n",
       "      <td>sp|Q92624|APBP2_HUMAN</td>\n",
       "      <td>sp|P12111|CO6A3_HUMAN</td>\n",
       "      <td>23.188</td>\n",
       "      <td>138</td>\n",
       "      <td>90</td>\n",
       "      <td>6</td>\n",
       "      <td>18</td>\n",
       "      <td>148</td>\n",
       "      <td>1640</td>\n",
       "      <td>1768</td>\n",
       "      <td>0.710</td>\n",
       "      <td>23.1</td>\n",
       "    </tr>\n",
       "    <tr>\n",
       "      <th>9987</th>\n",
       "      <td>sp|P50458|LHX2_HUMAN</td>\n",
       "      <td>sp|P12111|CO6A3_HUMAN</td>\n",
       "      <td>30.645</td>\n",
       "      <td>62</td>\n",
       "      <td>40</td>\n",
       "      <td>2</td>\n",
       "      <td>314</td>\n",
       "      <td>372</td>\n",
       "      <td>2633</td>\n",
       "      <td>2694</td>\n",
       "      <td>0.600</td>\n",
       "      <td>22.7</td>\n",
       "    </tr>\n",
       "    <tr>\n",
       "      <th>9988</th>\n",
       "      <td>sp|O15514|RPB4_HUMAN</td>\n",
       "      <td>sp|P05067|A4_HUMAN</td>\n",
       "      <td>30.882</td>\n",
       "      <td>68</td>\n",
       "      <td>25</td>\n",
       "      <td>4</td>\n",
       "      <td>87</td>\n",
       "      <td>140</td>\n",
       "      <td>565</td>\n",
       "      <td>624</td>\n",
       "      <td>1.900</td>\n",
       "      <td>19.2</td>\n",
       "    </tr>\n",
       "    <tr>\n",
       "      <th>9989</th>\n",
       "      <td>sp|O94989|ARHGF_HUMAN</td>\n",
       "      <td>sp|Q02388|CO7A1_HUMAN</td>\n",
       "      <td>29.070</td>\n",
       "      <td>86</td>\n",
       "      <td>46</td>\n",
       "      <td>4</td>\n",
       "      <td>112</td>\n",
       "      <td>188</td>\n",
       "      <td>2283</td>\n",
       "      <td>2362</td>\n",
       "      <td>3.700</td>\n",
       "      <td>21.6</td>\n",
       "    </tr>\n",
       "    <tr>\n",
       "      <th>9990</th>\n",
       "      <td>sp|P02042|HBD_HUMAN</td>\n",
       "      <td>sp|Q2UY09|COSA1_HUMAN</td>\n",
       "      <td>54.545</td>\n",
       "      <td>11</td>\n",
       "      <td>5</td>\n",
       "      <td>0</td>\n",
       "      <td>99</td>\n",
       "      <td>109</td>\n",
       "      <td>809</td>\n",
       "      <td>819</td>\n",
       "      <td>2.700</td>\n",
       "      <td>18.9</td>\n",
       "    </tr>\n",
       "    <tr>\n",
       "      <th>9991</th>\n",
       "      <td>sp|Q16740|CLPP_HUMAN</td>\n",
       "      <td>sp|Q02388|CO7A1_HUMAN</td>\n",
       "      <td>22.222</td>\n",
       "      <td>90</td>\n",
       "      <td>51</td>\n",
       "      <td>4</td>\n",
       "      <td>81</td>\n",
       "      <td>160</td>\n",
       "      <td>26</td>\n",
       "      <td>106</td>\n",
       "      <td>1.200</td>\n",
       "      <td>21.2</td>\n",
       "    </tr>\n",
       "    <tr>\n",
       "      <th>9992</th>\n",
       "      <td>sp|Q6ZMV7|LEKR1_HUMAN</td>\n",
       "      <td>sp|Q02388|CO7A1_HUMAN</td>\n",
       "      <td>32.258</td>\n",
       "      <td>31</td>\n",
       "      <td>21</td>\n",
       "      <td>0</td>\n",
       "      <td>358</td>\n",
       "      <td>388</td>\n",
       "      <td>2771</td>\n",
       "      <td>2801</td>\n",
       "      <td>0.920</td>\n",
       "      <td>22.3</td>\n",
       "    </tr>\n",
       "    <tr>\n",
       "      <th>9993</th>\n",
       "      <td>sp|P55318|FOXA3_HUMAN</td>\n",
       "      <td>sp|P12111|CO6A3_HUMAN</td>\n",
       "      <td>26.190</td>\n",
       "      <td>84</td>\n",
       "      <td>51</td>\n",
       "      <td>2</td>\n",
       "      <td>47</td>\n",
       "      <td>119</td>\n",
       "      <td>2266</td>\n",
       "      <td>2349</td>\n",
       "      <td>0.084</td>\n",
       "      <td>25.4</td>\n",
       "    </tr>\n",
       "    <tr>\n",
       "      <th>9994</th>\n",
       "      <td>sp|P05230|FGF1_HUMAN</td>\n",
       "      <td>sp|P12111|CO6A3_HUMAN</td>\n",
       "      <td>22.807</td>\n",
       "      <td>57</td>\n",
       "      <td>36</td>\n",
       "      <td>1</td>\n",
       "      <td>22</td>\n",
       "      <td>78</td>\n",
       "      <td>1740</td>\n",
       "      <td>1788</td>\n",
       "      <td>9.700</td>\n",
       "      <td>17.3</td>\n",
       "    </tr>\n",
       "    <tr>\n",
       "      <th>9995</th>\n",
       "      <td>sp|P07320|CRGD_HUMAN</td>\n",
       "      <td>sp|Q02388|CO7A1_HUMAN</td>\n",
       "      <td>46.154</td>\n",
       "      <td>13</td>\n",
       "      <td>7</td>\n",
       "      <td>0</td>\n",
       "      <td>143</td>\n",
       "      <td>155</td>\n",
       "      <td>458</td>\n",
       "      <td>470</td>\n",
       "      <td>2.800</td>\n",
       "      <td>19.2</td>\n",
       "    </tr>\n",
       "    <tr>\n",
       "      <th>9996</th>\n",
       "      <td>sp|P19075|TSN8_HUMAN</td>\n",
       "      <td>sp|O43291|SPIT2_HUMAN</td>\n",
       "      <td>32.653</td>\n",
       "      <td>49</td>\n",
       "      <td>26</td>\n",
       "      <td>2</td>\n",
       "      <td>84</td>\n",
       "      <td>128</td>\n",
       "      <td>207</td>\n",
       "      <td>252</td>\n",
       "      <td>0.110</td>\n",
       "      <td>23.9</td>\n",
       "    </tr>\n",
       "    <tr>\n",
       "      <th>9997</th>\n",
       "      <td>sp|O94903|PLPHP_HUMAN</td>\n",
       "      <td>sp|Q96NZ8|WFKN1_HUMAN</td>\n",
       "      <td>57.143</td>\n",
       "      <td>21</td>\n",
       "      <td>6</td>\n",
       "      <td>1</td>\n",
       "      <td>22</td>\n",
       "      <td>39</td>\n",
       "      <td>345</td>\n",
       "      <td>365</td>\n",
       "      <td>0.470</td>\n",
       "      <td>22.3</td>\n",
       "    </tr>\n",
       "  </tbody>\n",
       "</table>\n",
       "<p>9998 rows × 12 columns</p>\n",
       "</div>"
      ],
      "text/plain": [
       "                         0                      1       2    3    4   5   \\\n",
       "0     sp|Q8TF65|GIPC2_HUMAN  sp|P12111|CO6A3_HUMAN  30.769   26   18   0   \n",
       "1     sp|A8MT69|CENPX_HUMAN  sp|P12111|CO6A3_HUMAN  41.176   17   10   0   \n",
       "2      sp|Q70IA6|MOB2_HUMAN  sp|P12111|CO6A3_HUMAN  31.579   57   36   2   \n",
       "3     sp|Q96MY7|F161B_HUMAN  sp|Q02388|CO7A1_HUMAN  22.917   48   37   0   \n",
       "4      sp|Q9NVX2|NLE1_HUMAN    sp|O95428|PPN_HUMAN  41.176   34   15   1   \n",
       "5      sp|Q9NXV6|CARF_HUMAN  sp|P12111|CO6A3_HUMAN  24.194  186  121   7   \n",
       "6     sp|Q96J66|ABCCB_HUMAN  sp|P12111|CO6A3_HUMAN  24.272  103   65   5   \n",
       "7     sp|Q96BM1|ANKR9_HUMAN  sp|Q02388|CO7A1_HUMAN  27.778   72   49   2   \n",
       "8     sp|P60411|KR109_HUMAN  sp|Q2UY09|COSA1_HUMAN  34.783   23   15   0   \n",
       "9      sp|P07510|ACHG_HUMAN  sp|Q02388|CO7A1_HUMAN  63.636   11    4   0   \n",
       "10    sp|Q12849|GRSF1_HUMAN    sp|O95428|PPN_HUMAN  34.615   26   17   0   \n",
       "11     sp|Q6UWW8|EST3_HUMAN     sp|P05067|A4_HUMAN  29.730   74   36   4   \n",
       "12     sp|P54851|EMP2_HUMAN  sp|P12111|CO6A3_HUMAN  45.000   20   11   0   \n",
       "13    sp|Q70Z53|F10C1_HUMAN  sp|Q06481|APLP2_HUMAN  37.931   29   18   0   \n",
       "14     sp|Q99607|ELF4_HUMAN    sp|O95428|PPN_HUMAN  29.167   48   34   0   \n",
       "15     sp|Q9Y3D9|RT23_HUMAN  sp|O43278|SPIT1_HUMAN  23.529   17   13   0   \n",
       "16    sp|Q8N128|F177A_HUMAN  sp|P49223|SPIT3_HUMAN  38.462   26   11   2   \n",
       "17    sp|Q9BZD3|GCOM2_HUMAN  sp|Q2UY09|COSA1_HUMAN  30.233   43   28   2   \n",
       "18    sp|Q8WWF6|DNJB3_HUMAN  sp|P12111|CO6A3_HUMAN  45.455   22   10   1   \n",
       "19    sp|Q9NR80|ARHG4_HUMAN  sp|Q8IUA0|WFDC8_HUMAN  20.896   67   49   1   \n",
       "20    sp|P09467|F16P1_HUMAN  sp|Q8IUA0|WFDC8_HUMAN  25.000   68   45   3   \n",
       "21     sp|Q9BU89|DOHH_HUMAN     sp|P05067|A4_HUMAN  42.105   19   11   0   \n",
       "22    sp|P61923|COPZ1_HUMAN  sp|P12111|CO6A3_HUMAN  29.412   17   12   0   \n",
       "23    sp|Q96M60|F227B_HUMAN   sp|P02760|AMBP_HUMAN  38.710   31   15   2   \n",
       "24    sp|Q8TDL5|BPIB1_HUMAN    sp|O95428|PPN_HUMAN  26.471  102   64   3   \n",
       "25      sp|Q96QD9|UIF_HUMAN   sp|P02760|AMBP_HUMAN  21.250   80   53   3   \n",
       "26     sp|Q99683|M3K5_HUMAN    sp|O95428|PPN_HUMAN  21.429   56   38   1   \n",
       "27    sp|O75493|CAH11_HUMAN  sp|P12111|CO6A3_HUMAN  26.923   26   19   0   \n",
       "28    sp|Q10469|MGAT2_HUMAN  sp|Q9BQY6|WFDC6_HUMAN  50.000   10    5   0   \n",
       "29     sp|Q8N144|CXD3_HUMAN  sp|P12111|CO6A3_HUMAN  40.000   15    9   0   \n",
       "...                     ...                    ...     ...  ...  ...  ..   \n",
       "9968   sp|Q6P531|GGT6_HUMAN  sp|P12111|CO6A3_HUMAN  32.727   55   36   1   \n",
       "9969  sp|Q02641|CACB1_HUMAN  sp|Q2UY09|COSA1_HUMAN  22.105   95   57   3   \n",
       "9970  sp|A8MTY7|KRA97_HUMAN    sp|O95428|PPN_HUMAN  43.750   16    9   0   \n",
       "9971  sp|P16562|CRIS2_HUMAN  sp|O43278|SPIT1_HUMAN  33.333   54   34   2   \n",
       "9972   sp|P33076|C2TA_HUMAN  sp|Q8TEU8|WFKN2_HUMAN  41.379   29   15   1   \n",
       "9973  sp|Q7L5Y1|ENOF1_HUMAN  sp|Q6UDR6|SPIT4_HUMAN  32.000   25   17   0   \n",
       "9974  sp|Q05586|NMDZ1_HUMAN    sp|O95428|PPN_HUMAN  20.930   86   59   2   \n",
       "9975  sp|A8MXT2|MAGBH_HUMAN    sp|O95428|PPN_HUMAN  33.333   24   16   0   \n",
       "9976  sp|Q6MZM0|HPHL1_HUMAN    sp|O95428|PPN_HUMAN  23.684   76   54   1   \n",
       "9977  sp|A2A2V5|SRTM1_HUMAN     sp|P05067|A4_HUMAN  33.333   36   20   1   \n",
       "9978  sp|Q53FE4|CD017_HUMAN  sp|P12111|CO6A3_HUMAN  45.455   22   12   0   \n",
       "9979  sp|Q9H9E1|ANRA2_HUMAN  sp|Q02388|CO7A1_HUMAN  39.130   23   14   0   \n",
       "9980  sp|Q3B7J2|GFOD2_HUMAN  sp|P12111|CO6A3_HUMAN  26.000  100   56   5   \n",
       "9981  sp|P20674|COX5A_HUMAN  sp|Q8TEU8|WFKN2_HUMAN  40.909   22   13   0   \n",
       "9982  sp|Q2QL34|MP17L_HUMAN    sp|O95428|PPN_HUMAN  50.000   12    6   0   \n",
       "9983   sp|Q9HD15|SRA1_HUMAN  sp|Q02388|CO7A1_HUMAN  34.211   38   15   1   \n",
       "9984  sp|Q70Z44|5HT3D_HUMAN  sp|P12111|CO6A3_HUMAN  34.615   26   15   1   \n",
       "9985  sp|A8MUP2|CSKMT_HUMAN  sp|Q02388|CO7A1_HUMAN  40.909   22   13   0   \n",
       "9986  sp|Q92624|APBP2_HUMAN  sp|P12111|CO6A3_HUMAN  23.188  138   90   6   \n",
       "9987   sp|P50458|LHX2_HUMAN  sp|P12111|CO6A3_HUMAN  30.645   62   40   2   \n",
       "9988   sp|O15514|RPB4_HUMAN     sp|P05067|A4_HUMAN  30.882   68   25   4   \n",
       "9989  sp|O94989|ARHGF_HUMAN  sp|Q02388|CO7A1_HUMAN  29.070   86   46   4   \n",
       "9990    sp|P02042|HBD_HUMAN  sp|Q2UY09|COSA1_HUMAN  54.545   11    5   0   \n",
       "9991   sp|Q16740|CLPP_HUMAN  sp|Q02388|CO7A1_HUMAN  22.222   90   51   4   \n",
       "9992  sp|Q6ZMV7|LEKR1_HUMAN  sp|Q02388|CO7A1_HUMAN  32.258   31   21   0   \n",
       "9993  sp|P55318|FOXA3_HUMAN  sp|P12111|CO6A3_HUMAN  26.190   84   51   2   \n",
       "9994   sp|P05230|FGF1_HUMAN  sp|P12111|CO6A3_HUMAN  22.807   57   36   1   \n",
       "9995   sp|P07320|CRGD_HUMAN  sp|Q02388|CO7A1_HUMAN  46.154   13    7   0   \n",
       "9996   sp|P19075|TSN8_HUMAN  sp|O43291|SPIT2_HUMAN  32.653   49   26   2   \n",
       "9997  sp|O94903|PLPHP_HUMAN  sp|Q96NZ8|WFKN1_HUMAN  57.143   21    6   1   \n",
       "\n",
       "        6     7     8     9       10    11  \n",
       "0       56    81  1448  1473   0.700  22.3  \n",
       "1        6    22   180   196   5.300  16.9  \n",
       "2       23    76  1754  1810   1.600  20.8  \n",
       "3       65   112  1171  1218   0.068  26.6  \n",
       "4      225   258   151   179   0.200  24.6  \n",
       "5      248   425   122   295   0.270  24.6  \n",
       "6        1    90  2269  2371   0.640  24.6  \n",
       "7       77   148   844   912   1.200  21.6  \n",
       "8       45    67  1059  1081   8.200  18.5  \n",
       "9      501   511  1577  1587   2.000  21.6  \n",
       "10     297   322  1236  1261   0.480  23.5  \n",
       "11     484   547   445   512   2.800  21.2  \n",
       "12      16    35    36    55   0.290  22.3  \n",
       "13     226   254   398   426   0.670  22.3  \n",
       "14     598   645   807   854   2.800  21.6  \n",
       "15      93   109   366   382   6.300  18.1  \n",
       "16      82   102    29    54   2.300  18.9  \n",
       "17     203   244   552   593   2.800  20.4  \n",
       "18     124   143  3146  3167   0.580  21.2  \n",
       "19     405   467    72   138   1.900  21.6  \n",
       "20      94   159    38   101   8.200  18.5  \n",
       "21      14    32   517   535   2.800  20.0  \n",
       "22      24    40   491   507  10.000  17.3  \n",
       "23     104   132    85   113   1.300  21.9  \n",
       "24     222   318   949  1044   0.096  25.8  \n",
       "25      30   102   123   199   0.240  23.5  \n",
       "26    1058  1107  1045  1100   5.900  21.6  \n",
       "27     214   239  1688  1713   1.300  21.6  \n",
       "28     191   200    49    58   2.300  20.4  \n",
       "29     240   254  1622  1636   1.400  21.2  \n",
       "...    ...   ...   ...   ...     ...   ...  \n",
       "9968   168   221   777   831   2.400  21.2  \n",
       "9969   316   399   153   241   4.300  20.8  \n",
       "9970    20    35   526   541  14.000  16.9  \n",
       "9971   171   224   319   370   0.320  22.7  \n",
       "9972   256   284   177   203   2.400  22.3  \n",
       "9973    65    89    14    38   3.600  19.6  \n",
       "9974   253   330  1173  1257   3.800  21.6  \n",
       "9975   231   254   129   152   3.800  20.0  \n",
       "9976   669   740   599   674   1.300  23.5  \n",
       "9977     1    32   581   616  16.000  16.2  \n",
       "9978   232   253  1608  1629   0.280  23.9  \n",
       "9979   107   129  1158  1180   2.500  20.4  \n",
       "9980    11   106  1714  1799   6.000  19.6  \n",
       "9981    57    78   151   172   0.550  21.2  \n",
       "9982    11    22   846   857   2.900  19.2  \n",
       "9983    57    94  1451  1478   1.500  20.8  \n",
       "9984   356   379  2031  2056   1.000  22.3  \n",
       "9985   126   147  1044  1065   3.100  19.6  \n",
       "9986    18   148  1640  1768   0.710  23.1  \n",
       "9987   314   372  2633  2694   0.600  22.7  \n",
       "9988    87   140   565   624   1.900  19.2  \n",
       "9989   112   188  2283  2362   3.700  21.6  \n",
       "9990    99   109   809   819   2.700  18.9  \n",
       "9991    81   160    26   106   1.200  21.2  \n",
       "9992   358   388  2771  2801   0.920  22.3  \n",
       "9993    47   119  2266  2349   0.084  25.4  \n",
       "9994    22    78  1740  1788   9.700  17.3  \n",
       "9995   143   155   458   470   2.800  19.2  \n",
       "9996    84   128   207   252   0.110  23.9  \n",
       "9997    22    39   345   365   0.470  22.3  \n",
       "\n",
       "[9998 rows x 12 columns]"
      ]
     },
     "execution_count": 57,
     "metadata": {},
     "output_type": "execute_result"
    }
   ],
   "source": [
    "n_train_df"
   ]
  },
  {
   "cell_type": "markdown",
   "metadata": {},
   "source": [
    "Now check again the **total number of positives** and the **total number negatives**"
   ]
  },
  {
   "cell_type": "code",
   "execution_count": 37,
   "metadata": {},
   "outputs": [
    {
     "name": "stdout",
     "output_type": "stream",
     "text": [
      "     341\n",
      "     171\n"
     ]
    }
   ],
   "source": [
    "# total number of positives:\n",
    "!cat NotHuman_PF00014.fasta |grep '>' |wc -l\n",
    "!cat NotHuman_PF00014_Training.fasta |grep '>' |wc -l"
   ]
  },
  {
   "cell_type": "code",
   "execution_count": 39,
   "metadata": {},
   "outputs": [
    {
     "name": "stdout",
     "output_type": "stream",
     "text": [
      "   10000\n"
     ]
    }
   ],
   "source": [
    "# total number of negatives\n",
    "!cat Human_NotPF00014_Training.fasta |grep '>' |wc -l"
   ]
  },
  {
   "cell_type": "markdown",
   "metadata": {},
   "source": [
    "BLAST **only** returns the **number of positives** not the number of negatives. We used a threashold of the e-value of 1000 - but 2 sequences from the negative set did not find any match. \n",
    "\n",
    "Not sure what Saul means by this part;\n",
    "\"For our purposes, I can just add a number of values **equal to the difference** between the **number of query sequences** and the **lenght of the array** containing the unique sequences that blast produced. These values are for sure higher than the threshold I used in the BLAST search, 1000. So I can use 1000 as a value to add. There is no need to do it for the whole dataframe. From now on I operate only on the E-values.\n",
    "\n",
    "First I define a function for completing the arrays with the missing values. It takes as arguments the array of values and the number of total sequences in the BLAST query. This is the lenght that I want my array to have.\""
   ]
  },
  {
   "cell_type": "code",
   "execution_count": 48,
   "metadata": {},
   "outputs": [],
   "source": [
    "import numpy as np\n",
    "\n",
    "def blast_complete_array(e_val_arr, tot_expected):\n",
    "    to_be_appended = [1000]*(tot_expected-len(e_val_arr))\n",
    "    completed_arr = np.append(e_val_arr, to_be_appended, axis = 0)\n",
    "    return completed_arr"
   ]
  },
  {
   "cell_type": "markdown",
   "metadata": {},
   "source": [
    "Now he extracts an array containing only the E-values for both positives and negatives and puts it in a numpy array. Pandas starts indexing at 0 thus the evalue column index is now 10 (not 11 as before). ??? He also calls the function for completing seuquences around them - that way there es a complete array to work with. ???"
   ]
  },
  {
   "cell_type": "code",
   "execution_count": 50,
   "metadata": {},
   "outputs": [
    {
     "data": {
      "text/plain": [
       "(341, 9998)"
      ]
     },
     "execution_count": 50,
     "metadata": {},
     "output_type": "execute_result"
    }
   ],
   "source": [
    "p_train_vals = blast_complete_array(np.array(p_train_df[10]), 341)\n",
    "n_train_vals = blast_complete_array(np.array(n_train_df[10]), 1000)\n",
    "\n",
    "len(p_train_vals), len(n_train_vals)"
   ]
  },
  {
   "cell_type": "code",
   "execution_count": 62,
   "metadata": {},
   "outputs": [
    {
     "data": {
      "text/plain": [
       "array([5.59e-016, 5.03e-018, 1.86e-017, 1.17e-016, 6.74e-018, 4.03e-017,\n",
       "       2.91e-019, 5.31e-020, 1.45e-109, 9.76e-017, 5.71e-017, 5.01e-018,\n",
       "       7.83e-017, 1.50e-117, 0.00e+000, 1.29e-018, 1.93e-020, 5.18e-020,\n",
       "       8.61e-017, 2.16e-018, 2.77e-014, 0.00e+000, 2.19e-016, 1.44e-012,\n",
       "       6.23e-017, 5.73e-037, 2.07e-015, 7.83e-017, 7.00e-012, 6.99e-018,\n",
       "       1.57e-017, 1.14e-078, 8.69e-030, 6.20e-016, 3.67e-018, 1.16e-015,\n",
       "       5.98e-019, 2.57e-019, 1.82e-016, 1.46e-018, 4.47e-012, 3.84e-016,\n",
       "       6.47e-008, 4.24e-013, 2.13e-016, 5.01e-018, 2.42e-016, 3.19e-017,\n",
       "       7.99e-017, 9.44e-013, 2.04e-017, 5.35e-016, 2.16e-013, 7.91e-017,\n",
       "       2.16e-018, 2.81e-016, 0.00e+000, 1.85e-013, 1.18e-017, 1.63e-015,\n",
       "       5.04e-015, 7.07e-025, 1.28e-019, 2.98e-016, 5.21e-017, 4.62e-012,\n",
       "       1.83e-018, 6.28e-019, 3.70e-017, 0.00e+000, 1.01e-043, 2.40e-018,\n",
       "       6.96e-010, 8.51e-016, 8.53e-019, 1.84e-018, 0.00e+000, 6.27e-017,\n",
       "       9.83e-017, 4.12e-017, 3.67e-018, 6.48e-016, 2.88e-018, 8.33e-032,\n",
       "       1.21e-018, 2.67e-016, 1.87e-021, 1.03e-018, 5.74e-017, 3.86e-016,\n",
       "       3.61e-015, 1.25e-058, 2.34e-013, 6.64e-017, 5.58e-017, 3.18e-019,\n",
       "       8.08e-018, 7.55e-017, 1.74e-018, 1.46e-018, 1.95e-015, 1.43e-017,\n",
       "       1.80e-015, 1.85e-018, 1.53e-093, 1.32e-017, 0.00e+000, 6.87e-016,\n",
       "       0.00e+000, 2.10e-018, 9.44e-013, 3.68e-018, 1.41e-016, 1.43e-018,\n",
       "       1.96e-077, 1.85e-018, 1.19e-017, 1.82e-019, 9.97e-021, 3.60e-019,\n",
       "       3.37e-016, 0.00e+000, 2.44e-004, 3.08e-124, 8.08e-018, 1.36e-148,\n",
       "       4.12e-017, 9.44e-013, 5.85e-034, 7.91e-017, 4.25e-018, 5.09e-019,\n",
       "       3.05e-014, 2.83e-107, 7.20e-019, 1.18e-017, 7.63e-020, 3.98e-018,\n",
       "       1.16e-019, 2.70e-016, 1.39e-011, 3.81e-019, 5.10e-017, 5.78e-018,\n",
       "       1.60e-017, 3.65e-020, 0.00e+000, 7.48e-021, 1.23e-016, 1.85e-007,\n",
       "       0.00e+000, 3.10e-121, 2.32e-018, 7.03e-019, 2.61e-012, 6.31e-010,\n",
       "       8.06e-013, 2.09e-047, 7.38e-017, 2.18e-016, 3.46e-017, 3.32e-019,\n",
       "       5.36e-017, 3.72e-128, 2.83e-016, 2.12e-016, 2.43e-018, 1.96e-012,\n",
       "       3.13e-018, 4.76e-016, 3.00e-016, 0.00e+000, 5.54e-016, 1.59e-018,\n",
       "       2.82e-018, 5.41e-012, 1.52e-018, 3.05e-017, 6.24e-018, 1.73e-018,\n",
       "       6.44e-014, 4.64e-019, 1.24e-019, 0.00e+000, 1.23e-015, 1.86e-017,\n",
       "       5.03e-018, 7.33e-018, 3.89e-016, 5.09e-019, 1.06e-018, 9.18e-017,\n",
       "       1.90e-016, 2.43e-018, 2.51e-016, 3.06e-015, 6.64e-017, 8.08e-018,\n",
       "       1.28e-016, 1.92e-013, 8.22e-041, 5.74e-017, 4.94e-018, 1.51e-016,\n",
       "       1.92e-015, 1.33e-007, 5.56e-035, 5.74e-016, 1.33e-016, 2.70e-017,\n",
       "       6.97e-018, 8.61e-017, 5.74e-011, 1.92e-019, 3.65e-016, 1.30e-012,\n",
       "       3.61e-020, 3.65e-015, 4.04e-018, 2.34e-012, 7.19e-018, 3.73e-082,\n",
       "       1.96e-077, 0.00e+000, 2.14e-017, 4.51e-018, 7.96e-021, 1.37e-017,\n",
       "       1.09e-020, 2.66e-017, 6.49e-017, 8.85e-017, 1.04e-012, 1.11e-016,\n",
       "       6.76e-017, 6.46e-017, 9.76e-017, 1.38e-014, 9.24e-017, 3.26e-097,\n",
       "       7.77e-031, 1.43e-014, 2.90e-021, 1.85e-018, 7.81e-018, 1.18e-017,\n",
       "       1.17e-016, 3.18e-019, 5.06e-018, 0.00e+000, 1.84e-017, 3.70e-017,\n",
       "       1.60e-018, 4.68e-019, 3.28e-016, 1.06e-016, 1.05e-017, 3.54e-019,\n",
       "       1.40e-018, 4.50e-018, 2.83e-018, 5.82e-017, 8.51e-016, 3.66e-019,\n",
       "       9.51e-011, 6.61e-019, 3.49e-021, 2.10e-073, 1.32e-016, 8.87e-148,\n",
       "       2.30e-019, 3.18e-016, 1.29e-056, 1.23e-014, 2.45e-016, 0.00e+000,\n",
       "       1.83e-012, 0.00e+000, 2.50e-020, 0.00e+000, 3.33e-020, 2.68e-021,\n",
       "       0.00e+000, 7.06e-017, 2.30e-016, 3.72e-016, 1.19e-058, 9.22e-047,\n",
       "       2.34e-012, 1.06e-017, 4.66e-015, 1.25e-017, 1.92e-018, 1.55e-018,\n",
       "       1.02e-090, 4.25e-018, 2.82e-018, 7.06e-017, 0.00e+000, 8.15e-014,\n",
       "       2.56e-016, 1.40e-018, 1.58e-012, 0.00e+000, 2.35e-018, 1.79e-018,\n",
       "       4.50e-018, 1.45e-017, 4.06e-014, 0.00e+000, 8.08e-013, 1.41e-017,\n",
       "       3.21e-019, 3.33e-018, 7.07e-017, 2.05e-018, 0.00e+000, 3.82e-018,\n",
       "       8.40e-033, 2.33e-019, 0.00e+000, 7.37e-018, 2.45e-016, 1.14e-018,\n",
       "       1.64e-014, 1.43e-017, 1.99e-014, 8.52e-020, 8.35e-016, 7.65e-017,\n",
       "       1.01e-009, 4.62e-019, 1.93e-020, 1.74e-018, 9.21e-020, 0.00e+000,\n",
       "       4.31e-021, 7.27e-024, 4.64e-012, 4.50e-002, 0.00e+000])"
      ]
     },
     "execution_count": 62,
     "metadata": {},
     "output_type": "execute_result"
    }
   ],
   "source": [
    "p_train_vals"
   ]
  },
  {
   "cell_type": "code",
   "execution_count": 63,
   "metadata": {},
   "outputs": [
    {
     "data": {
      "text/plain": [
       "array([0.7 , 5.3 , 1.6 , ..., 2.8 , 0.11, 0.47])"
      ]
     },
     "execution_count": 63,
     "metadata": {},
     "output_type": "execute_result"
    }
   ],
   "source": [
    "n_train_vals"
   ]
  },
  {
   "cell_type": "code",
   "execution_count": 66,
   "metadata": {},
   "outputs": [],
   "source": [
    "### Confusion Matrix\n",
    "def get_confusion_mat(thr, p_vals, n_vals):\n",
    "    #Evalueates only tbelow the thresholds since only those are meaningful for blast (above are uncountable).\n",
    "    true_pos_arr = p_vals[p_vals<thr] #np.arr<value returns np.array with [True, False, True, ...]\n",
    "    false_pos_arr = n_vals[n_vals<thr] # using it as and indext of the array itself filters only the values meeting the condition\n",
    "    # the lenght of the array is the number of entries\n",
    "    true_pos = len(true_pos_arr)\n",
    "    false_pos = len(false_pos_arr)\n",
    "    # calculating the remaining class from the differences\n",
    "    tot_p = len(p_vals)\n",
    "    tot_n = len(n_vals)\n",
    "    false_neg = tot_p - true_pos\n",
    "    true_neg = tot_n - false_pos\n",
    "    confusion_mat = np.array([[true_pos, false_pos], [true_neg, false_neg]])\n",
    "    return confusion_mat\n",
    "    "
   ]
  },
  {
   "cell_type": "markdown",
   "metadata": {},
   "source": [
    "He useda mockthreashold of -1 now (where) so that all the proteins will be above it. He expects to have 100% of both false negatives and and of trhue positives. In practice everything will be negative. This is just to test if his function works as expected."
   ]
  },
  {
   "cell_type": "code",
   "execution_count": 67,
   "metadata": {},
   "outputs": [
    {
     "data": {
      "text/plain": [
       "array([[   0,    0],\n",
       "       [9998,  341]])"
      ]
     },
     "execution_count": 67,
     "metadata": {},
     "output_type": "execute_result"
    }
   ],
   "source": [
    "cm_0 = get_confusion_mat(-1, p_train_vals, n_train_vals)\n",
    "cm_0\n",
    "\n",
    "# should be 10000 idk where I lost the other 2"
   ]
  },
  {
   "cell_type": "markdown",
   "metadata": {},
   "source": [
    "Now to get all the true negatives and false positives with a really high threashold;"
   ]
  },
  {
   "cell_type": "code",
   "execution_count": 69,
   "metadata": {},
   "outputs": [
    {
     "data": {
      "text/plain": [
       "array([[ 341, 9998],\n",
       "       [   0,    0]])"
      ]
     },
     "execution_count": 69,
     "metadata": {},
     "output_type": "execute_result"
    }
   ],
   "source": [
    "cm_inf = get_confusion_mat(np.infty, p_train_vals, n_train_vals)\n",
    "cm_inf\n",
    "# again highest val should be 10000"
   ]
  },
  {
   "cell_type": "markdown",
   "metadata": {},
   "source": [
    "## Accuracy \n",
    "Need to define functions that can calculate Accuracy from a Confusion Matrix.\n",
    "\n",
    "the formula:\n",
    "\n",
    "$$\n",
    "ACC = \\frac{TP+TN}{TP+TN+FP+FN}\n",
    "$$"
   ]
  },
  {
   "cell_type": "code",
   "execution_count": 72,
   "metadata": {},
   "outputs": [],
   "source": [
    "def get_ACC(thr, p_vals, n_vals):\n",
    "    confusion_mat = get_confusion_mat(thr, p_vals, n_vals)\n",
    "    t_pos = confusion_mat[0][0]\n",
    "    t_neg = confusion_mat[1][0]\n",
    "    f_pos = confusion_mat[0][1]\n",
    "    f_neg = confusion_mat[1][1]\n",
    "    above_frac = t_pos+t_neg\n",
    "    below_frac = t_pos+t_neg+f_pos+f_neg\n",
    "    ACC = above_frac/below_frac\n",
    "    return ACC"
   ]
  },
  {
   "cell_type": "markdown",
   "metadata": {},
   "source": [
    "## Matthews Correlation Coefficient\n",
    "I want to define functions that can calculate the MCC from a confusion matrix.\n",
    "\n",
    "The formula of the MCC:\n",
    "\n",
    "$$\n",
    "MCC = \\frac{TP*TN-FP*FN}{\\sqrt{(TP+FP)*(TP*FN)*(TN+FP)*(TN+FN)}}\n",
    "$$"
   ]
  },
  {
   "cell_type": "code",
   "execution_count": 74,
   "metadata": {},
   "outputs": [],
   "source": [
    "def get_MCC(thr, p_vals, n_vals):\n",
    "    confusion_mat = get_confusion_mat(thr, p_vals, n_vals)\n",
    "    t_pos = confusion_mat[0][0]\n",
    "    t_neg = confusion_mat[1][0]\n",
    "    f_pos = confusion_mat[0][1]\n",
    "    f_neg = confusion_mat[1][1]\n",
    "    above_frac = t_pos*t_neg-f_pos*f_neg\n",
    "    below_frac = np.sqrt((t_pos+f_pos)*(t_pos+f_neg)*(t_neg+f_pos)*(t_neg+f_neg))\n",
    "    MCC = above_frac/max(below_frac,1) # otherwise I can divide by 0\n",
    "    return MCC"
   ]
  },
  {
   "cell_type": "markdown",
   "metadata": {},
   "source": [
    "## Testing MCC and ACC functions\n",
    "He want to see if the functions he determined work as expected.\n",
    "For making things easier, he wraps both of them in a single function that takes a threshold and the arrays of positives and negatives and prints the confusion matrix, the ACC, and the MCC."
   ]
  },
  {
   "cell_type": "code",
   "execution_count": 75,
   "metadata": {},
   "outputs": [],
   "source": [
    "def get_stats(thr, p_vals, n_vals):\n",
    "    confusion_mat = get_confusion_mat(thr, p_vals, n_vals)\n",
    "    ACC = get_ACC(thr, p_vals, n_vals)\n",
    "    MCC = get_MCC(thr, p_vals, n_vals)\n",
    "    print(\"Confusion matrix:\\n\")\n",
    "    print(confusion_mat, \"\\n\")\n",
    "    print(\"Threshold:\", thr)\n",
    "    print(\"ACC:\", ACC)\n",
    "    print(\"MCC:\", MCC)\n",
    "    return confusion_mat, ACC, MCC"
   ]
  },
  {
   "cell_type": "markdown",
   "metadata": {},
   "source": [
    "He tries now try to compute the staistics for E-value threshold for which he knows what the result should be, so that he can test if his functions work as expected.\n",
    "With a threshold of -1, all the values will be above threshold and so he will have only negatives predicted.\n",
    "He expects 100% true negatives and false negatives.\n",
    "The MCC should be 0."
   ]
  },
  {
   "cell_type": "code",
   "execution_count": 76,
   "metadata": {},
   "outputs": [
    {
     "name": "stdout",
     "output_type": "stream",
     "text": [
      "Confusion matrix:\n",
      "\n",
      "[[   0    0]\n",
      " [9998  341]] \n",
      "\n",
      "Threshold: -1\n",
      "ACC: 0.9670180868555953\n",
      "MCC: 0.0\n"
     ]
    }
   ],
   "source": [
    "get_stats(-1, p_train_vals, n_train_vals)\n",
    "pass # just to avoid the print of the array by jupyter"
   ]
  },
  {
   "cell_type": "markdown",
   "metadata": {},
   "source": [
    "In the same way with a threshold of infinite everithing will be within threshold.\n",
    "I expect 100% true positives and false positives.\n",
    "The MCC should be 0 also in this case."
   ]
  },
  {
   "cell_type": "code",
   "execution_count": 77,
   "metadata": {},
   "outputs": [
    {
     "name": "stdout",
     "output_type": "stream",
     "text": [
      "Confusion matrix:\n",
      "\n",
      "[[ 341 9998]\n",
      " [   0    0]] \n",
      "\n",
      "Threshold: inf\n",
      "ACC: 0.032981913144404684\n",
      "MCC: 0.0\n"
     ]
    }
   ],
   "source": [
    "get_stats(np.infty, p_train_vals, n_train_vals)\n",
    "pass # just to avoid the print of the array by jupyter"
   ]
  },
  {
   "cell_type": "markdown",
   "metadata": {},
   "source": [
    "With a more sensible threshold, like 1e-03, I expect an higher MCC."
   ]
  },
  {
   "cell_type": "code",
   "execution_count": 79,
   "metadata": {},
   "outputs": [
    {
     "name": "stdout",
     "output_type": "stream",
     "text": [
      "Confusion matrix:\n",
      "\n",
      "[[ 340  301]\n",
      " [9697    1]] \n",
      "\n",
      "Threshold: 0.001\n",
      "ACC: 0.9707902118193249\n",
      "MCC: 0.7160985614454912\n"
     ]
    }
   ],
   "source": [
    "get_stats(1e-03, p_train_vals, n_train_vals)\n",
    "pass # just to avoid the print of the array by jupyter"
   ]
  },
  {
   "cell_type": "markdown",
   "metadata": {},
   "source": [
    "# Finding the best E-value threshold\n",
    "We want to find the best E-value threshold for discriminating Kunitz and non-Kunitz proteins.\n",
    "We will use the **MCC as an unbiased measure of performance** of our threshold.\n",
    "Threfore, we want to find the threshold $\\theta^*$ that maximizes the MCC, given the dataset D.\n",
    "\n",
    "$$\n",
    "\\theta^* = argmax_\\theta(|MCC(D, \\theta)|)\n",
    "$$\n",
    "\n",
    "An **MCC of 0** indicates **random predictions**, an **MCC of 1 perfect** predictions and an MCC of -1 perfect reverse predictions (always wrong).\n",
    "Even perfect reverse predictions are ok for him, because he can just take the opposite of what his model says.\n",
    "Threfore he wants to maximise the absolute value of the MCC.\n",
    "A good way to find the best $\\theta$ could be to plot how the MCC varies with respect of $\\theta$.\n",
    "The best $\\theta$ will be the one corresponding to a maximum of this function.\n",
    "We can create a function that tries many of different values of $\\theta$ (i.e., in powers of 10 from $10^{-100}$ to 1) and plots the results on a graph.\n",
    "This is essentially a linear regrssion algorithm.\n",
    "\n",
    "Now he defines a function that does just this.\n",
    "Note that the argumets are the orders of magnitude that will be tried, not the actual thresholds."
   ]
  },
  {
   "cell_type": "code",
   "execution_count": 80,
   "metadata": {},
   "outputs": [],
   "source": [
    "import seaborn as sns; sns.set()\n",
    "import matplotlib.pyplot as plt\n",
    "\n",
    "\n",
    "def plot_MCC(p_vals, n_vals, low_bound=-100, up_bound=100, threshold=None):\n",
    "    MCC_list = []\n",
    "    ACC_list = []\n",
    "    thr_list = list(np.logspace(low_bound, up_bound))\n",
    "    for thr in thr_list:\n",
    "        MCC = get_MCC(thr, p_vals, n_vals)\n",
    "        ACC = get_ACC(thr, p_vals, n_vals)\n",
    "        MCC_list.append(abs(MCC))\n",
    "        ACC_list.append(abs(ACC))\n",
    "    df = pd.DataFrame({\"E-value threshold\": thr_list, \"MCC\": MCC_list, \"ACC\": ACC_list})\n",
    "    sns.lineplot(x=\"E-value threshold\", y=\"MCC\", data=df, label=\"MCC\")\n",
    "    sns.lineplot(x=\"E-value threshold\", y=\"ACC\", data=df, label=\"ACC\").set_xscale('log')\n",
    "    plt.ylabel('')\n",
    "    if threshold:\n",
    "        plt.axvline(threshold, color ='r') # plots a vertical red bar at threshold"
   ]
  },
  {
   "cell_type": "code",
   "execution_count": 81,
   "metadata": {},
   "outputs": [
    {
     "data": {
      "image/png": "[encoded data removed]",
      "text/plain": [
       "<Figure size 432x288 with 1 Axes>"
      ]
     },
     "metadata": {
      "needs_background": "light"
     },
     "output_type": "display_data"
    }
   ],
   "source": [
    "plot_MCC(p_train_vals, n_train_vals)"
   ]
  },
  {
   "cell_type": "code",
   "execution_count": 82,
   "metadata": {},
   "outputs": [
    {
     "data": {
      "image/png": "[encoded data removed]",
      "text/plain": [
       "<Figure size 432x288 with 1 Axes>"
      ]
     },
     "metadata": {
      "needs_background": "light"
     },
     "output_type": "display_data"
    }
   ],
   "source": [
    "plot_MCC(p_train_vals, n_train_vals, -30, 0)"
   ]
  },
  {
   "cell_type": "code",
   "execution_count": 83,
   "metadata": {},
   "outputs": [
    {
     "data": {
      "image/png": "[encoded data removed]",
      "text/plain": [
       "<Figure size 432x288 with 1 Axes>"
      ]
     },
     "metadata": {
      "needs_background": "light"
     },
     "output_type": "display_data"
    }
   ],
   "source": [
    "plot_MCC(p_train_vals, n_train_vals, -12, -6)"
   ]
  },
  {
   "cell_type": "markdown",
   "metadata": {},
   "source": [
    "We can see that the MCC is near-random until 1e-27, then there is a sharp increase followed by a peak and a decrease.\n",
    "We most probably want an MCC around 1e-10.\n",
    "But let's determine it analitycally.\n",
    "\n",
    "We could write down a simple univariate linear regression, but there is a function already available in scipy.\n",
    "I just need to write a cost function in a form which can be used by the minimization algorithm."
   ]
  },
  {
   "cell_type": "code",
   "execution_count": 84,
   "metadata": {},
   "outputs": [],
   "source": [
    "import scipy.optimize as opt\n",
    "\n",
    "def objective_fun_MCC(thr, p_vals, n_vals, mock=None): # mock is needed so that I don't get an error when I pass to it the windowsize parameter (see next)\n",
    "    MCC = get_MCC(thr, p_vals, n_vals)\n",
    "    cost = 1-abs(MCC)\n",
    "    return cost\n",
    "\n",
    "def maximize_MCC(p_vals, n_vals, fun_MCC, window_size=None):\n",
    "    result = opt.minimize_scalar(fun_MCC, args=(p_vals, n_vals, window_size))\n",
    "    optimal_thr = result.x\n",
    "    return optimal_thr"
   ]
  },
  {
   "cell_type": "code",
   "execution_count": 85,
   "metadata": {},
   "outputs": [
    {
     "data": {
      "text/plain": [
       "'1.186242e-03'"
      ]
     },
     "execution_count": 85,
     "metadata": {},
     "output_type": "execute_result"
    }
   ],
   "source": [
    "training_thr = maximize_MCC(p_train_vals, n_train_vals, objective_fun_MCC)\n",
    "\"{:e}\".format(training_thr) # just to print in scientific notation"
   ]
  },
  {
   "cell_type": "code",
   "execution_count": 86,
   "metadata": {},
   "outputs": [
    {
     "data": {
      "image/png": "[encoded data removed]",
      "text/plain": [
       "<Figure size 432x288 with 1 Axes>"
      ]
     },
     "metadata": {
      "needs_background": "light"
     },
     "output_type": "display_data"
    }
   ],
   "source": [
    "plot_MCC(p_train_vals, n_train_vals, -100, 100, training_thr)"
   ]
  },
  {
   "cell_type": "markdown",
   "metadata": {},
   "source": [
    "**This** is NOT what he expected.\n",
    "The function is really bumpy. He is making his algorithm work better by making it smoother with a sliding window.\n"
   ]
  },
  {
   "cell_type": "code",
   "execution_count": 88,
   "metadata": {},
   "outputs": [
    {
     "name": "stderr",
     "output_type": "stream",
     "text": [
      "/anaconda3/lib/python3.7/site-packages/ipykernel_launcher.py:3: RuntimeWarning: divide by zero encountered in log10\n",
      "  This is separate from the ipykernel package so we can avoid doing imports until\n",
      "/anaconda3/lib/python3.7/site-packages/numpy/core/function_base.py:117: RuntimeWarning: invalid value encountered in double_scalars\n",
      "  delta = stop - start\n",
      "/anaconda3/lib/python3.7/site-packages/ipykernel_launcher.py:4: RuntimeWarning: invalid value encountered in less\n",
      "  after removing the cwd from sys.path.\n",
      "/anaconda3/lib/python3.7/site-packages/ipykernel_launcher.py:5: RuntimeWarning: invalid value encountered in less\n",
      "  \"\"\"\n"
     ]
    },
    {
     "data": {
      "text/plain": [
       "'3.553190e-11'"
      ]
     },
     "execution_count": 88,
     "metadata": {},
     "output_type": "execute_result"
    }
   ],
   "source": [
    "def smoot_MCC(thr, p_vals, n_vals, window_size=1):\n",
    "    x = thr\n",
    "    log_x = np.log10(x)\n",
    "    smooth_window = np.logspace(log_x-window_size/2,log_x+window_size/2)\n",
    "    window_res = []\n",
    "    for log_x_w in smooth_window:\n",
    "        window_res.append(get_MCC(log_x_w, p_vals, n_vals))\n",
    "    smooth_fun = -abs(sum(window_res)/len(window_res)) # need to be negative for minimization\n",
    "    return smooth_fun\n",
    "\n",
    "\n",
    "training_thr_smooth = maximize_MCC(p_train_vals, n_train_vals, smoot_MCC, 1) # smoothing with window size of 1\n",
    "\"{:e}\".format(training_thr_smooth) # just to print in scientific notation"
   ]
  },
  {
   "cell_type": "code",
   "execution_count": 89,
   "metadata": {},
   "outputs": [
    {
     "data": {
      "image/png": "[encoded data removed]",
      "text/plain": [
       "<Figure size 432x288 with 1 Axes>"
      ]
     },
     "metadata": {
      "needs_background": "light"
     },
     "output_type": "display_data"
    }
   ],
   "source": [
    "plot_MCC(p_train_vals, n_train_vals, -100, 100, training_thr_smooth)"
   ]
  },
  {
   "cell_type": "code",
   "execution_count": 90,
   "metadata": {},
   "outputs": [
    {
     "data": {
      "image/png": "[encoded data removed]",
      "text/plain": [
       "<Figure size 432x288 with 1 Axes>"
      ]
     },
     "metadata": {
      "needs_background": "light"
     },
     "output_type": "display_data"
    }
   ],
   "source": [
    "plot_MCC(p_train_vals, n_train_vals, -20, 0, training_thr_smooth)"
   ]
  },
  {
   "cell_type": "markdown",
   "metadata": {},
   "source": [
    "Now it is better"
   ]
  },
  {
   "cell_type": "markdown",
   "metadata": {},
   "source": [
    "# Evaluation of the method on the test set\n",
    "To evaluate how good my discrimination method is, I use the threshold of 1.18e-03 on the test set and determine the various statistics.\n",
    "Just for simplicity I wrap all the various parsing operations in one function.\n",
    "\n",
    "First I need to select the top-hits for each sequence also for the negative testing set.\n",
    "The positive set is the same as the positive training set so it is not needed."
   ]
  },
  {
   "cell_type": "code",
   "execution_count": 96,
   "metadata": {},
   "outputs": [],
   "source": [
    "!cat negative_training.bl6|awk \\\n",
    "'{\\\n",
    "query=$1;\\\n",
    "if (!(query in out) || $11 < evalue[query])\\\n",
    "    {evalue[query]=$11; out[query]=$0}\\\n",
    "}\\\n",
    "END{for(key in out){print out[key]}}'\\\n",
    "> negative_testing_topscores.bl6"
   ]
  },
  {
   "cell_type": "markdown",
   "metadata": {},
   "source": [
    "Just for simplicity I wrap all the various parsing operations in one function"
   ]
  },
  {
   "cell_type": "code",
   "execution_count": 94,
   "metadata": {},
   "outputs": [],
   "source": [
    "def get_vals(blast_filepath, fasta_filepath):\n",
    "    df = get_blasttab_df(blast_filepath)\n",
    "    with open(fasta_filepath) as fasta_file:\n",
    "        num_seqs = 0\n",
    "        for line in fasta_file:\n",
    "            if line[0] == \">\":\n",
    "                num_seqs += 1\n",
    "    vals = blast_complete_array(np.array(df[10]),num_seqs)\n",
    "    return vals"
   ]
  },
  {
   "cell_type": "markdown",
   "metadata": {},
   "source": [
    "Finally, let's see what happens!"
   ]
  },
  {
   "cell_type": "code",
   "execution_count": 97,
   "metadata": {},
   "outputs": [
    {
     "name": "stdout",
     "output_type": "stream",
     "text": [
      "Confusion matrix:\n",
      "\n",
      "[[  331   124]\n",
      " [10223    10]] \n",
      "\n",
      "Threshold: 3.553189604039684e-11\n",
      "ACC: 0.9874625748502994\n",
      "MCC: 0.8345561820014149\n"
     ]
    }
   ],
   "source": [
    "n_test_vals = get_vals(\"./negative_testing_topscores.bl6\",\"./Human_NotPF00014_Testing.fasta\")\n",
    "p_test_vals = get_vals(\"./positive_training_test_topscores.bl6\",\"./NotHuman_PF00014.fasta\")\n",
    "get_stats(training_thr_smooth, p_test_vals, n_test_vals)\n",
    "pass # just to avoid the print of the array by jupyter"
   ]
  },
  {
   "cell_type": "code",
   "execution_count": null,
   "metadata": {},
   "outputs": [],
   "source": []
  }
 ],
 "metadata": {
  "kernelspec": {
   "display_name": "Python 3",
   "language": "python",
   "name": "python3"
  },
  "language_info": {
   "codemirror_mode": {
    "name": "ipython",
    "version": 3
   },
   "file_extension": ".py",
   "mimetype": "text/x-python",
   "name": "python",
   "nbconvert_exporter": "python",
   "pygments_lexer": "ipython3",
   "version": "3.7.2"
  }
 },
 "nbformat": 4,
 "nbformat_minor": 2
}
